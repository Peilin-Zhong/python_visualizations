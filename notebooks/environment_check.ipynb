{
 "cells": [
  {
   "cell_type": "code",
   "execution_count": 1,
   "metadata": {},
   "outputs": [
    {
     "name": "stdout",
     "output_type": "stream",
     "text": [
      "C:\\Users\\chris\\.jupyter\\nbconfig\\notebook.json is OK.\n",
      "C:\\Users\\chris\\.jupyter\\nbconfig\\tree.json is OK.\n"
     ]
    }
   ],
   "source": [
    "# check jupyter notebook config\n",
    "\n",
    "import glob\n",
    "import os\n",
    "import json\n",
    "\n",
    "from jupyter_core.paths import jupyter_config_path\n",
    "\n",
    "for d in jupyter_config_path():\n",
    "    for p in glob.glob(os.path.join(d, 'nbconfig', '*.json')):\n",
    "        try:\n",
    "            with open(p, 'r') as f:\n",
    "                json.load(f)\n",
    "            print('{0} is OK.'.format(p))\n",
    "        except json.decoder.JSONDecodeError as err:\n",
    "            print('{0} has a problem:'.format(p), err)"
   ]
  },
  {
   "cell_type": "code",
   "execution_count": null,
   "metadata": {},
   "outputs": [],
   "source": []
  }
 ],
 "metadata": {
  "kernelspec": {
   "display_name": "Python 3",
   "language": "python",
   "name": "python3"
  },
  "language_info": {
   "codemirror_mode": {
    "name": "ipython",
    "version": 3
   },
   "file_extension": ".py",
   "mimetype": "text/x-python",
   "name": "python",
   "nbconvert_exporter": "python",
   "pygments_lexer": "ipython3",
   "version": "3.7.4"
  }
 },
 "nbformat": 4,
 "nbformat_minor": 2
}
