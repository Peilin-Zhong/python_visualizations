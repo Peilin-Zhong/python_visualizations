{
 "cells": [
  {
   "cell_type": "code",
   "execution_count": 3,
   "metadata": {
    "slideshow": {
     "slide_type": "slide"
    }
   },
   "outputs": [
    {
     "data": {
      "text/html": [
       "<style>.container { width:90% !important; }</style>"
      ],
      "text/plain": [
       "<IPython.core.display.HTML object>"
      ]
     },
     "metadata": {},
     "output_type": "display_data"
    }
   ],
   "source": [
    "# notebook formatting\n",
    "from IPython.core.display import display, HTML\n",
    "display(HTML(\"<style>.container { width:90% !important; }</style>\"))"
   ]
  },
  {
   "cell_type": "markdown",
   "metadata": {
    "slideshow": {
     "slide_type": "slide"
    }
   },
   "source": [
    "\n",
    "# Why visualization is important:  *Create Understanding*<br>\n",
    "\n",
    "# Napoleon's March to Moscow\n",
    "\n",
    "<img src=\"./images/minard_google_maps.png\" alt=\"Approximation of Napoleon Russian Campaign\" title=\"European context of Napoleon Russian Campaign\" />\n"
   ]
  },
  {
   "cell_type": "markdown",
   "metadata": {
    "slideshow": {
     "slide_type": "slide"
    }
   },
   "source": [
    "# Charles Minard's Map of the March to Moscow\n",
    "\n",
    "<img src=\"./images/minard.napoleon_russia_1812.png\" alt=\"Charles Joseph Minards map of Napoleon Russian Campaign\" title=\"The Best Statistical Graph ever drawn - Charles Joseph Minards map of Napoleon Russian Campaign\" />"
   ]
  },
  {
   "cell_type": "markdown",
   "metadata": {
    "slideshow": {
     "slide_type": "slide"
    }
   },
   "source": [
    "##  What does this map say to you?\n",
    "\n",
    "<table> <tr> <th style=\"width:600px\"></th> <th></th> </tr> \n",
    "    <tr> \n",
    "        <td><img src=\"./images/minard.napoleon_russia_1812.png\" alt=\"Charles Joseph Minards map of Napoleon Russian Campaign\" title=\"The Best Statistical Graph ever drawn - Charles Joseph Minards map of Napoleon Russian Campaign\" /></td>\n",
    "        <td style=\"text-align:left\"> <strong>- 422,000 vs 10,000<br><br> \n",
    "            - includes evidence/sources<br><br>\n",
    "            - old temperature scale<br><br>\n",
    "            - what are the main causes of losses?<br><br> </strong> </td> \n",
    "    </tr>\n",
    "    <tr>\n",
    "        <td></td>\n",
    "        <td></td>\n",
    "    </tr>\n",
    "    <tr>\n",
    "        <td></td>\n",
    "        <td style=\"text-align:left\"> \n",
    "            <a href=\"https://en.wikipedia.org/wiki/Charles_Joseph_Minard#The_map_of_Napoleon%27s_Russian_campaign\"><strong>link: charles minard - wikipedia</strong></a></td>\n",
    "    </tr>\n",
    "        <tr>\n",
    "            <td></td>\n",
    "            <td style=\"text-align:left\">\n",
    "                <a href=\"https://www.chezvoila.com/blog/minard-map\"><strong>link: information design analysis on this map</strong></a></td></tr>\n",
    "</table>\n"
   ]
  },
  {
   "cell_type": "markdown",
   "metadata": {
    "slideshow": {
     "slide_type": "slide"
    }
   },
   "source": [
    "## Anti-war map that stresses catastrophic human losses\n",
    "\n",
    "\n",
    "## Effectively integrates six datatypes in two dimensions (in 1869!)\n",
    "\n",
    "- number of Napoleon's troops\n",
    "- the distance traveled\n",
    "- temperature; \n",
    "- latitude and longitude\n",
    "- direction of travel\n",
    "- location relative to specific dates"
   ]
  },
  {
   "cell_type": "markdown",
   "metadata": {
    "slideshow": {
     "slide_type": "slide"
    }
   },
   "source": [
    "# Gapminder<br>\n",
    "<a href=\"https://www.youtube.com/watch?v=jbkSRLYSojo\" target=\"_blank\"> <img src=\"./images/hans_rosling_video_screencap.png\"/> </a><br><br>\n",
    "[Hans Rosling Video - Animating Income vs. Life Expectancy](https://www.youtube.com/watch?v=jbkSRLYSojo)\n",
    "[Gapminder - Income vs. Life Expectancy](https://www.gapminder.org/tools/#$chart-type=bubbles)"
   ]
  },
  {
   "cell_type": "markdown",
   "metadata": {
    "slideshow": {
     "slide_type": "slide"
    }
   },
   "source": [
    "# Changes in Arctic Sea Ice<br>\n",
    "[Arctic Sea Ice Volume and Extent - Kevin Plunk / Twitter](https://twitter.com/kevpluck/status/1183014848403333128)<br><br>\n",
    "<a href=\"https://twitter.com/kevpluck/status/1183014848403333128\" target=\"_blank\"> <img src=\"./images/arctic_sea_ice_volume_vs_extent_screencap.png\"/> </a>"
   ]
  },
  {
   "cell_type": "markdown",
   "metadata": {},
   "source": [
    "# Challenge Accepted - US Political Alignment in 2019<br>\n",
    "[Challenge Accepted - Karim Douïeb / Twitter](https://twitter.com/karim_douieb/status/1181695687005745153)<br><br>\n",
    "<a href=\"https://twitter.com/karim_douieb/status/1181695687005745153\" target=\"_blank\"> <img src=\"./images/political_alignment_karim_douïeb_screencap.png\"/> \n"
   ]
  },
  {
   "cell_type": "markdown",
   "metadata": {
    "slideshow": {
     "slide_type": "subslide"
    }
   },
   "source": [
    "# New York Times - The Rich Really Pay Lower Taxes<br>\n",
    "<strong>Credit - New York Times by By David Leonhardt</strong><br><br>\n",
    "[Original Article - The Rich Really Pay Lower Taxes by David Leonhardt](https://www.nytimes.com/interactive/2019/10/06/opinion/income-tax-rate-wealthy.html)\n",
    "\n",
    "[Animated Video by author - David Leonhardt](https://twitter.com/i/status/1181004566088814594)"
   ]
  },
  {
   "cell_type": "markdown",
   "metadata": {
    "slideshow": {
     "slide_type": "subslide"
    }
   },
   "source": [
    "# Challenge Accepted!  Current US Political Alignment\n",
    "\n",
    "<strong>Credit - Karim Douieb in d3.js on Obervable HQ</strong><br><br>\n",
    "[twitter - karim_douieb](https://twitter.com/karim_douieb/status/1181695687005745153)\n",
    "\n",
    "[Original Live Code on Observable HQ - great resource!](https://observablehq.com/@karimdouieb/try-to-impeach-this-challenge-accepted)"
   ]
  },
  {
   "cell_type": "markdown",
   "metadata": {
    "slideshow": {
     "slide_type": "slide"
    }
   },
   "source": [
    "# Nightingale\n",
    "\n",
    "<img src=\"./images/Data+Visualization+Society+logo+2019-05-transparent.png\"/><br><br>\n",
    "[Journal of the Data Visualization Society](https://www.datavisualizationsociety.com/)<br><br>\n",
    "[Nightingale - Medium Blog](https://medium.com/nightingale)\n"
   ]
  },
  {
   "cell_type": "code",
   "execution_count": null,
   "metadata": {},
   "outputs": [],
   "source": []
  }
 ],
 "metadata": {
  "celltoolbar": "Slideshow",
  "kernelspec": {
   "display_name": "Python 3",
   "language": "python",
   "name": "python3"
  },
  "language_info": {
   "codemirror_mode": {
    "name": "ipython",
    "version": 3
   },
   "file_extension": ".py",
   "mimetype": "text/x-python",
   "name": "python",
   "nbconvert_exporter": "python",
   "pygments_lexer": "ipython3",
   "version": "3.7.4"
  }
 },
 "nbformat": 4,
 "nbformat_minor": 2
}
