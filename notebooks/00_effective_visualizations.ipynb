{
 "cells": [
  {
   "cell_type": "markdown",
   "metadata": {
    "slideshow": {
     "slide_type": "slide"
    }
   },
   "source": [
    "# Effective Visualizations\n",
    "<br>\n"
   ]
  },
  {
   "cell_type": "markdown",
   "metadata": {
    "ExecuteTime": {
     "end_time": "2019-10-08T18:56:41.647407Z",
     "start_time": "2019-10-08T18:56:41.643406Z"
    },
    "slideshow": {
     "slide_type": "slide"
    }
   },
   "source": [
    "### About Me...\n",
    "* Chris Brousseau\n",
    "* @surfaceowl\n",
    "* chris@surfaceowl.com\n",
    "\n",
    "\n",
    "### What I do...\n",
    "* Founder: Surface Owl\n",
    "* Data Scientist\n",
    "* Python Development\n",
    "* PyBay Diversity & Inclusion Chair\n",
    "* Recovering Consultant\n",
    "* All around good guy\n"
   ]
  },
  {
   "cell_type": "markdown",
   "metadata": {
    "slideshow": {
     "slide_type": "slide"
    }
   },
   "source": [
    "# Agenda\n",
    "\n",
    "1- Understand why effective visualizations are important\n",
    "\n",
    "2- Learn about the grammar of graphics & how to choose the right visual approach\n",
    "\n",
    "3- Learn about the python visualization universe\n",
    "\n",
    "4- Foundation - learn about matplotlib, understand core pitfalls + ways to make it better, do some live coding\n",
    "\n",
    "5- Future - Learn about bokeh, work with interactive visualizations\n"
   ]
  },
  {
   "cell_type": "markdown",
   "metadata": {
    "slideshow": {
     "slide_type": "slide"
    }
   },
   "source": [
    "# 1- Understand why effective visualizations are important\n"
   ]
  },
  {
   "cell_type": "code",
   "execution_count": 15,
   "metadata": {
    "ExecuteTime": {
     "end_time": "2019-10-08T18:28:38.368505Z",
     "start_time": "2019-10-08T18:28:38.358508Z"
    },
    "slideshow": {
     "slide_type": "fragment"
    }
   },
   "outputs": [],
   "source": [
    "# fix RISE scollbar missing\n",
    "from traitlets.config.manager import BaseJSONConfigManager\n",
    "path = \"C:\\\\Users\\\\chris\\\\.jupyter\\\\nbconfig\"\n",
    "cm = BaseJSONConfigManager(config_dir=path)\n",
    "\n",
    "cm.update(\"livereveal\", {\n",
    "              \"scroll\": True,\n",
    "});\n",
    "\n",
    "# also check jupyter Cell menu/Toggle Scrolling"
   ]
  },
  {
   "cell_type": "code",
   "execution_count": 16,
   "metadata": {
    "ExecuteTime": {
     "end_time": "2019-10-08T18:28:38.357506Z",
     "start_time": "2019-10-08T18:28:37.038507Z"
    },
    "slideshow": {
     "slide_type": "slide"
    }
   },
   "outputs": [
    {
     "data": {
      "text/html": [
       "<style>.container { width:90% !important; }</style>"
      ],
      "text/plain": [
       "<IPython.core.display.HTML object>"
      ]
     },
     "metadata": {},
     "output_type": "display_data"
    }
   ],
   "source": [
    "# imports\n",
    "import os\n",
    "import random\n",
    "\n",
    "# math\n",
    "import pandas as pd\n",
    "import numpy as np\n",
    "from sklearn.linear_model import LinearRegression\n",
    "\n",
    "# visualization - imports and setting\n",
    "from matplotlib import pyplot as plt\n",
    "from matplotlib.pyplot import figure\n",
    "%matplotlib inline\n",
    "\n",
    "# notebook formatting\n",
    "from IPython.core.display import display, HTML\n",
    "display(HTML(\"<style>.container { width:90% !important; }</style>\"))"
   ]
  },
  {
   "cell_type": "markdown",
   "metadata": {
    "slideshow": {
     "slide_type": "slide"
    }
   },
   "source": [
    "# Why Visualizations?  -> A picture is worth a thousand words\n",
    "- communicate information + story to <b> accomplish a goal</b>\n",
    "\n",
    "\n",
    "- goal can be:\n",
    "   - create understanding\n",
    "   - convice someone to take action\n",
    "\n",
    "- Graphics provide super efficient compression of data\n",
    "\n",
    "- [what makes a good visualization?  source: information is beautiful](https://informationisbeautiful.net/visualizations/what-makes-a-good-data-visualization/)\n",
    "\n",
    "- People have powerful ability of visual perception - let's help them use it\n"
   ]
  },
  {
   "cell_type": "markdown",
   "metadata": {
    "slideshow": {
     "slide_type": "slide"
    }
   },
   "source": [
    "\n",
    "# Why visualization is important:  *Create Understanding*<br>\n",
    "\n",
    "# Napoleon's March to Moscow\n",
    "\n",
    "<img src=\"./images/minard_google_maps.png\" alt=\"Approximation of Napoleon Russian Campaign\" title=\"European context of Napoleon Russian Campaign\" />\n"
   ]
  },
  {
   "cell_type": "markdown",
   "metadata": {
    "slideshow": {
     "slide_type": "subslide"
    }
   },
   "source": [
    "# Charles Minard's Map of the March to Moscow\n",
    "\n",
    "<img src=\"./images/minard.napoleon_russia_1812.png\" alt=\"Charles Joseph Minards map of Napoleon Russian Campaign\" title=\"The Best Statistical Graph ever drawn - Charles Joseph Minards map of Napoleon Russian Campaign\" />"
   ]
  },
  {
   "cell_type": "code",
   "execution_count": 17,
   "metadata": {
    "ExecuteTime": {
     "end_time": "2019-10-08T18:28:38.373507Z",
     "start_time": "2019-10-08T18:28:38.369504Z"
    },
    "slideshow": {
     "slide_type": "subslide"
    }
   },
   "outputs": [
    {
     "data": {
      "text/html": [
       "<style>\n",
       "table {float:left}\n",
       "</style>\n"
      ],
      "text/plain": [
       "<IPython.core.display.HTML object>"
      ]
     },
     "metadata": {},
     "output_type": "display_data"
    }
   ],
   "source": [
    "%%html\n",
    "<style>\n",
    "table {float:left}\n",
    "</style>"
   ]
  },
  {
   "cell_type": "markdown",
   "metadata": {
    "slideshow": {
     "slide_type": "subslide"
    }
   },
   "source": [
    "##  What does this map say to you?\n",
    "\n",
    "<table> <tr> <th style=\"width:600px\"></th> <th></th> </tr> \n",
    "    <tr> \n",
    "        <td><img src=\"./images/minard.napoleon_russia_1812.png\" alt=\"Charles Joseph Minards map of Napoleon Russian Campaign\" title=\"The Best Statistical Graph ever drawn - Charles Joseph Minards map of Napoleon Russian Campaign\" /></td>\n",
    "        <td style=\"text-align:left\"> <strong>- 422,000 vs 10,000<br><br> \n",
    "            - includes evidence/sources<br><br>\n",
    "            - old temperature scale<br><br>\n",
    "            - what are the main causes of losses?<br><br> </strong> </td> \n",
    "    </tr>\n",
    "    <tr>\n",
    "        <td></td>\n",
    "        <td></td>\n",
    "    </tr>\n",
    "    <tr>\n",
    "        <td></td>\n",
    "        <td style=\"text-align:left\"> \n",
    "            <a href=\"https://en.wikipedia.org/wiki/Charles_Joseph_Minard#The_map_of_Napoleon%27s_Russian_campaign\"><strong>link: charles minard - wikipedia</strong></a></td>\n",
    "    </tr>\n",
    "        <tr>\n",
    "            <td></td>\n",
    "            <td style=\"text-align:left\">\n",
    "                <a href=\"https://www.chezvoila.com/blog/minard-map\"><strong>link: information design analysis on this map</strong></a></td></tr>\n",
    "</table>\n"
   ]
  },
  {
   "cell_type": "markdown",
   "metadata": {
    "slideshow": {
     "slide_type": "subslide"
    }
   },
   "source": [
    "## Anti-war map that stresses catestrophic human losses\n",
    "\n",
    "\n",
    "## Effectively integrates six datatypes in two dimensions (in 1869!)\n",
    "\n",
    "- number of Napoleon's troops\n",
    "- the distance traveled\n",
    "- temperature; \n",
    "- latitude and longitude\n",
    "- direction of travel\n",
    "- location relative to specific dates"
   ]
  },
  {
   "cell_type": "markdown",
   "metadata": {
    "slideshow": {
     "slide_type": "slide"
    }
   },
   "source": [
    "## Why visualization is important:  *Convince people to Take Action*<br>\n",
    "\n",
    "# Challenger Disaster\n",
    "\n",
    "<table> <tr> <th style=\"width:600px\"></th> <th></th> </tr> \n",
    "    <tr> \n",
    "        <td><img src=\"./images/challenger.photo.1110px-Challenger_explosion.jpg\" alt=\"Space Shuttle Challenger Disaster - 28 Jan 1986\" title=\"Space Shuttle Challenger Disaster\" /></td>\n",
    "        <td style=\"text-align:left\"> <strong>- All seven crew members died<br><br> \n",
    "            - five NASA astronauts, one payload specialist, and a civilian school teacher<br><br><br><br> \n",
    "            - caused by the failure of O-ring seals in right solid rocket booster<br><br>\n",
    "            - O-ring seals were NOT designed for unusually cold conditions at launch<br><br> \n",
    "            - Flames got past O-ring seals and hit the liquid hydrogen fuel tank<br><br><br><br> \n",
    "            - Organizational culture and decision-making processes were key contributing factors to the accident<br><br>\n",
    "            - NASA managers disregarded NO-LAUNCH warnings from engineers<br><br><br><br><br><br>  \n",
    "            - <i>...but the warnings were confusing</i><br><br></strong> </td> \n",
    "    </tr>\n",
    "    <tr>\n",
    "        <td></td>\n",
    "        <td></td>\n",
    "    </tr>\n",
    "    <tr>\n",
    "        <td></td>\n",
    "        <td style=\"text-align:left\"> \n",
    "            <a href=\"https://en.wikipedia.org/wiki/Space_Shuttle_Challenger_disaster\"><strong>link: challenger disaster - wikipedia</strong></a></td>\n",
    "    </tr>\n",
    "        <tr>\n",
    "        <td></td>\n",
    "        <td style=\"text-align:left\"> \n",
    "            <a href=\"https://forum.nasaspaceflight.com/index.php?PHPSESSID=n2pbop2fh60010n76lmcnh4po7&action=dlattach;topic=8535.0;attach=25186\"><strong>link: Rogers Commission Report</strong></a></td>\n",
    "    </tr>\n",
    "        <tr>\n",
    "    </tr>\n",
    "        <tr>\n",
    "        <td></td>\n",
    "        <td style=\"text-align:left\"> \n",
    "            <a href=\"hhttps://en.wikipedia.org/wiki/Rogers_Commission_Report\"><strong>link: tldr - wikipedia page on Rogers Commission Report</strong></a></td>\n",
    "    </tr>\n",
    "        <tr>\n",
    "            <td></td>\n",
    "            <td style=\"text-align:left\">\n",
    "                <a href=\"https://www.vice.com/en_us/article/kbb3qz/could-better-data-design-have-prevented-challenger\"><strong>link: presentation obscured lack of data</strong></a></td></tr>\n",
    "</table>"
   ]
  },
  {
   "cell_type": "markdown",
   "metadata": {
    "slideshow": {
     "slide_type": "subslide"
    }
   },
   "source": [
    "# why were the warnings confusing?\n",
    "\n",
    "\n",
    "# [13 pages of data like this...](https://history.nasa.gov/rogersrep/v4part6.htm#1)\n",
    "\n",
    "<table> \n",
    "    <tr> \n",
    "        <th></th> \n",
    "        <th></th> \n",
    "        <th></th> \n",
    "    </tr> \n",
    "    <tr> \n",
    "        <td><img src=\"./images/challenger_main_no_launch_chart_srm_field_joints.jpg\" alt=\"Challenger - Engineer Warning -SRM Field Joints\" title=\"No Launch - SRM Field Joints\" /></td>\n",
    "        <td><img src=\"./images/challenger_main_no_launch_chart.booster_damage.v5p896.jpg\" alt=\"Challenger - Engineer Warning - History of O-Ring Damage\" title=\"History of O-Ring Damages\" /></td>\n",
    "        <td><img src=\"./images/challenger_main_no_launch_oring_temp_vs_damage.jpg\" alt=\"Challenger - Engineer Warning - O-Ring Damage vs Temp\" title=\"O-Ring Damage vs Temp\" /></td>\n",
    "        <th></th> \n",
    "    </tr>\n",
    "</table>\n",
    "\n",
    "\n",
    "[original source](https://history.nasa.gov/rogersrep/v4part6.htm#1)"
   ]
  },
  {
   "cell_type": "markdown",
   "metadata": {
    "slideshow": {
     "slide_type": "subslide"
    }
   },
   "source": [
    "# these pages\n",
    "\n",
    "## - Defined the framework for the launch/no-launch decision\n",
    "\n",
    "\n",
    "## - Omitted 22 launches with temperature vs o-ring damage\n",
    "\n",
    "\n",
    "## - Obscured a crucial lack of data\n",
    "\n",
    "\n",
    "## - Were just not compelling\n"
   ]
  },
  {
   "cell_type": "markdown",
   "metadata": {
    "slideshow": {
     "slide_type": "subslide"
    }
   },
   "source": [
    "# There must be a better way\n",
    "\n",
    "\n",
    "[Envisioning Information - Edward Tufte](https://www.edwardtufte.com/tufte/books_ei)\n",
    "\n",
    "\n",
    "\n",
    "### Distills Challenger data from Roberts Report & Makes a compelling visualization\n",
    "\n",
    "\n",
    "### Let's replicate that in pandas & matplotlib\n"
   ]
  },
  {
   "cell_type": "code",
   "execution_count": 39,
   "metadata": {
    "ExecuteTime": {
     "end_time": "2019-10-08T18:28:38.399505Z",
     "start_time": "2019-10-08T18:28:38.376507Z"
    },
    "slideshow": {
     "slide_type": "subslide"
    }
   },
   "outputs": [
    {
     "data": {
      "text/html": [
       "<div>\n",
       "<style scoped>\n",
       "    .dataframe tbody tr th:only-of-type {\n",
       "        vertical-align: middle;\n",
       "    }\n",
       "\n",
       "    .dataframe tbody tr th {\n",
       "        vertical-align: top;\n",
       "    }\n",
       "\n",
       "    .dataframe thead th {\n",
       "        text-align: right;\n",
       "    }\n",
       "</style>\n",
       "<table border=\"1\" class=\"dataframe\">\n",
       "  <thead>\n",
       "    <tr style=\"text-align: right;\">\n",
       "      <th></th>\n",
       "      <th>Flight</th>\n",
       "      <th>Date</th>\n",
       "      <th>Temperature °F</th>\n",
       "      <th>Erosion incidents</th>\n",
       "      <th>Blow-by incidents</th>\n",
       "      <th>Damage index</th>\n",
       "      <th>Comments</th>\n",
       "    </tr>\n",
       "  </thead>\n",
       "  <tbody>\n",
       "    <tr>\n",
       "      <td>0</td>\n",
       "      <td>51-C</td>\n",
       "      <td>01.24.85</td>\n",
       "      <td>53</td>\n",
       "      <td>3.0</td>\n",
       "      <td>2.0</td>\n",
       "      <td>11</td>\n",
       "      <td>Most erosion any flight; blow-by; back-up ring...</td>\n",
       "    </tr>\n",
       "    <tr>\n",
       "      <td>1</td>\n",
       "      <td>41-B</td>\n",
       "      <td>02.03.84</td>\n",
       "      <td>57</td>\n",
       "      <td>1.0</td>\n",
       "      <td>NaN</td>\n",
       "      <td>4</td>\n",
       "      <td>Deep, extensive erosion</td>\n",
       "    </tr>\n",
       "    <tr>\n",
       "      <td>2</td>\n",
       "      <td>61-C</td>\n",
       "      <td>01.12.86</td>\n",
       "      <td>58</td>\n",
       "      <td>1.0</td>\n",
       "      <td>NaN</td>\n",
       "      <td>4</td>\n",
       "      <td>O-ring erosion on launch two weeks before Chal...</td>\n",
       "    </tr>\n",
       "    <tr>\n",
       "      <td>3</td>\n",
       "      <td>41-C</td>\n",
       "      <td>04.06.84</td>\n",
       "      <td>63</td>\n",
       "      <td>1.0</td>\n",
       "      <td>NaN</td>\n",
       "      <td>2</td>\n",
       "      <td>O-rings showed signs of heating, but no damage.</td>\n",
       "    </tr>\n",
       "    <tr>\n",
       "      <td>4</td>\n",
       "      <td>1</td>\n",
       "      <td>04.12.81</td>\n",
       "      <td>66</td>\n",
       "      <td>NaN</td>\n",
       "      <td>NaN</td>\n",
       "      <td>0</td>\n",
       "      <td>NaN</td>\n",
       "    </tr>\n",
       "    <tr>\n",
       "      <td>5</td>\n",
       "      <td>6</td>\n",
       "      <td>04.04.83</td>\n",
       "      <td>67</td>\n",
       "      <td>NaN</td>\n",
       "      <td>NaN</td>\n",
       "      <td>0</td>\n",
       "      <td>NaN</td>\n",
       "    </tr>\n",
       "    <tr>\n",
       "      <td>6</td>\n",
       "      <td>51-A</td>\n",
       "      <td>11.08.84</td>\n",
       "      <td>67</td>\n",
       "      <td>NaN</td>\n",
       "      <td>NaN</td>\n",
       "      <td>0</td>\n",
       "      <td>NaN</td>\n",
       "    </tr>\n",
       "    <tr>\n",
       "      <td>7</td>\n",
       "      <td>51-D</td>\n",
       "      <td>04.12.85</td>\n",
       "      <td>67</td>\n",
       "      <td>NaN</td>\n",
       "      <td>NaN</td>\n",
       "      <td>0</td>\n",
       "      <td>NaN</td>\n",
       "    </tr>\n",
       "    <tr>\n",
       "      <td>8</td>\n",
       "      <td>5</td>\n",
       "      <td>11.11.82</td>\n",
       "      <td>68</td>\n",
       "      <td>NaN</td>\n",
       "      <td>NaN</td>\n",
       "      <td>0</td>\n",
       "      <td>NaN</td>\n",
       "    </tr>\n",
       "    <tr>\n",
       "      <td>9</td>\n",
       "      <td>3</td>\n",
       "      <td>03.22.82</td>\n",
       "      <td>69</td>\n",
       "      <td>NaN</td>\n",
       "      <td>NaN</td>\n",
       "      <td>0</td>\n",
       "      <td>NaN</td>\n",
       "    </tr>\n",
       "  </tbody>\n",
       "</table>\n",
       "</div>"
      ],
      "text/plain": [
       "  Flight      Date  Temperature °F  Erosion incidents  Blow-by incidents  \\\n",
       "0   51-C  01.24.85              53                3.0                2.0   \n",
       "1   41-B  02.03.84              57                1.0                NaN   \n",
       "2   61-C  01.12.86              58                1.0                NaN   \n",
       "3   41-C  04.06.84              63                1.0                NaN   \n",
       "4      1  04.12.81              66                NaN                NaN   \n",
       "5      6  04.04.83              67                NaN                NaN   \n",
       "6   51-A  11.08.84              67                NaN                NaN   \n",
       "7   51-D  04.12.85              67                NaN                NaN   \n",
       "8      5  11.11.82              68                NaN                NaN   \n",
       "9      3  03.22.82              69                NaN                NaN   \n",
       "\n",
       "   Damage index                                           Comments  \n",
       "0            11  Most erosion any flight; blow-by; back-up ring...  \n",
       "1             4                            Deep, extensive erosion  \n",
       "2             4  O-ring erosion on launch two weeks before Chal...  \n",
       "3             2    O-rings showed signs of heating, but no damage.  \n",
       "4             0                                                NaN  \n",
       "5             0                                                NaN  \n",
       "6             0                                                NaN  \n",
       "7             0                                                NaN  \n",
       "8             0                                                NaN  \n",
       "9             0                                                NaN  "
      ]
     },
     "metadata": {},
     "output_type": "display_data"
    },
    {
     "name": "stdout",
     "output_type": "stream",
     "text": [
      "\n",
      "\n",
      "...then do some cleanup, which we'll skip\n",
      "\n"
     ]
    }
   ],
   "source": [
    "import pandas as pd\n",
    "df = pd.read_csv(\"./images/challenger_o-ring_damage_data.csv\", encoding=\"ISO-8859–1\")\n",
    "\n",
    "display(df.head(10))\n",
    "\n",
    "print(\"\\n\\n...then do some cleanup, which we'll skip\\n\")"
   ]
  },
  {
   "cell_type": "code",
   "execution_count": 19,
   "metadata": {
    "ExecuteTime": {
     "end_time": "2019-10-08T18:28:38.433508Z",
     "start_time": "2019-10-08T18:28:38.400504Z"
    },
    "slideshow": {
     "slide_type": "skip"
    }
   },
   "outputs": [
    {
     "data": {
      "text/html": [
       "<div>\n",
       "<style scoped>\n",
       "    .dataframe tbody tr th:only-of-type {\n",
       "        vertical-align: middle;\n",
       "    }\n",
       "\n",
       "    .dataframe tbody tr th {\n",
       "        vertical-align: top;\n",
       "    }\n",
       "\n",
       "    .dataframe thead th {\n",
       "        text-align: right;\n",
       "    }\n",
       "</style>\n",
       "<table border=\"1\" class=\"dataframe\">\n",
       "  <thead>\n",
       "    <tr style=\"text-align: right;\">\n",
       "      <th></th>\n",
       "      <th>Flight</th>\n",
       "      <th>Date</th>\n",
       "      <th>Temperature °F</th>\n",
       "      <th>Erosion incidents</th>\n",
       "      <th>Blow-by incidents</th>\n",
       "      <th>Damage index</th>\n",
       "      <th>Comments</th>\n",
       "    </tr>\n",
       "  </thead>\n",
       "  <tbody>\n",
       "    <tr>\n",
       "      <td>0</td>\n",
       "      <td>51-C</td>\n",
       "      <td>1985-01-24</td>\n",
       "      <td>53</td>\n",
       "      <td>3</td>\n",
       "      <td>2</td>\n",
       "      <td>11</td>\n",
       "      <td>Most erosion any flight; blow-by; back-up ring...</td>\n",
       "    </tr>\n",
       "    <tr>\n",
       "      <td>1</td>\n",
       "      <td>41-B</td>\n",
       "      <td>1984-02-03</td>\n",
       "      <td>57</td>\n",
       "      <td>1</td>\n",
       "      <td>0</td>\n",
       "      <td>4</td>\n",
       "      <td>Deep, extensive erosion</td>\n",
       "    </tr>\n",
       "    <tr>\n",
       "      <td>2</td>\n",
       "      <td>61-C</td>\n",
       "      <td>1986-01-12</td>\n",
       "      <td>58</td>\n",
       "      <td>1</td>\n",
       "      <td>0</td>\n",
       "      <td>4</td>\n",
       "      <td>O-ring erosion on launch two weeks before Chal...</td>\n",
       "    </tr>\n",
       "    <tr>\n",
       "      <td>3</td>\n",
       "      <td>41-C</td>\n",
       "      <td>1984-04-06</td>\n",
       "      <td>63</td>\n",
       "      <td>1</td>\n",
       "      <td>0</td>\n",
       "      <td>2</td>\n",
       "      <td>O-rings showed signs of heating, but no damage.</td>\n",
       "    </tr>\n",
       "    <tr>\n",
       "      <td>4</td>\n",
       "      <td>1</td>\n",
       "      <td>1981-04-12</td>\n",
       "      <td>66</td>\n",
       "      <td>0</td>\n",
       "      <td>0</td>\n",
       "      <td>0</td>\n",
       "      <td>no comment listed</td>\n",
       "    </tr>\n",
       "    <tr>\n",
       "      <td>5</td>\n",
       "      <td>6</td>\n",
       "      <td>1983-04-04</td>\n",
       "      <td>67</td>\n",
       "      <td>0</td>\n",
       "      <td>0</td>\n",
       "      <td>0</td>\n",
       "      <td>no comment listed</td>\n",
       "    </tr>\n",
       "    <tr>\n",
       "      <td>6</td>\n",
       "      <td>51-A</td>\n",
       "      <td>1984-11-08</td>\n",
       "      <td>67</td>\n",
       "      <td>0</td>\n",
       "      <td>0</td>\n",
       "      <td>0</td>\n",
       "      <td>no comment listed</td>\n",
       "    </tr>\n",
       "    <tr>\n",
       "      <td>7</td>\n",
       "      <td>51-D</td>\n",
       "      <td>1985-04-12</td>\n",
       "      <td>67</td>\n",
       "      <td>0</td>\n",
       "      <td>0</td>\n",
       "      <td>0</td>\n",
       "      <td>no comment listed</td>\n",
       "    </tr>\n",
       "    <tr>\n",
       "      <td>8</td>\n",
       "      <td>5</td>\n",
       "      <td>1982-11-11</td>\n",
       "      <td>68</td>\n",
       "      <td>0</td>\n",
       "      <td>0</td>\n",
       "      <td>0</td>\n",
       "      <td>no comment listed</td>\n",
       "    </tr>\n",
       "    <tr>\n",
       "      <td>9</td>\n",
       "      <td>3</td>\n",
       "      <td>1982-03-22</td>\n",
       "      <td>69</td>\n",
       "      <td>0</td>\n",
       "      <td>0</td>\n",
       "      <td>0</td>\n",
       "      <td>no comment listed</td>\n",
       "    </tr>\n",
       "  </tbody>\n",
       "</table>\n",
       "</div>"
      ],
      "text/plain": [
       "  Flight       Date  Temperature °F  Erosion incidents  Blow-by incidents  \\\n",
       "0   51-C 1985-01-24              53                  3                  2   \n",
       "1   41-B 1984-02-03              57                  1                  0   \n",
       "2   61-C 1986-01-12              58                  1                  0   \n",
       "3   41-C 1984-04-06              63                  1                  0   \n",
       "4      1 1981-04-12              66                  0                  0   \n",
       "5      6 1983-04-04              67                  0                  0   \n",
       "6   51-A 1984-11-08              67                  0                  0   \n",
       "7   51-D 1985-04-12              67                  0                  0   \n",
       "8      5 1982-11-11              68                  0                  0   \n",
       "9      3 1982-03-22              69                  0                  0   \n",
       "\n",
       "   Damage index                                           Comments  \n",
       "0            11  Most erosion any flight; blow-by; back-up ring...  \n",
       "1             4                            Deep, extensive erosion  \n",
       "2             4  O-ring erosion on launch two weeks before Chal...  \n",
       "3             2    O-rings showed signs of heating, but no damage.  \n",
       "4             0                                  no comment listed  \n",
       "5             0                                  no comment listed  \n",
       "6             0                                  no comment listed  \n",
       "7             0                                  no comment listed  \n",
       "8             0                                  no comment listed  \n",
       "9             0                                  no comment listed  "
      ]
     },
     "execution_count": 19,
     "metadata": {},
     "output_type": "execute_result"
    }
   ],
   "source": [
    "df[\"Date\"] =  pd.to_datetime(df[\"Date\"].str.replace(\".\",\" \"))\n",
    "# df[\"Date\"] =  pd.to_datetime(df[\"Date\"], format='%d.%m.%y')\n",
    "\n",
    "df[[\"Erosion incidents\", \"Blow-by incidents\"]] = df[[\"Erosion incidents\", \"Blow-by incidents\"]].fillna(axis=1, value=0)\n",
    "df[[\"Temperature °F\", \"Erosion incidents\", \"Blow-by incidents\", \"Damage index\"]] = df[[\"Temperature °F\", \"Erosion incidents\", \"Blow-by incidents\", \"Damage index\"]].apply(pd.to_numeric).astype('int')\n",
    "\n",
    "df[[\"Flight\", \"Comments\"]] = df[[\"Flight\", \"Comments\"]].astype('category')\n",
    "df[\"Comments\"] = df[\"Comments\"].cat.add_categories(\"no comment listed\")\n",
    "df[[\"Comments\"]] = df[[\"Comments\"]].fillna(\"no comment listed\")\n",
    "\n",
    "df.head(10)"
   ]
  },
  {
   "cell_type": "code",
   "execution_count": 43,
   "metadata": {
    "ExecuteTime": {
     "end_time": "2019-10-08T18:28:38.447508Z",
     "start_time": "2019-10-08T18:28:38.435510Z"
    },
    "slideshow": {
     "slide_type": "slide"
    }
   },
   "outputs": [
    {
     "data": {
      "text/html": [
       "<div>\n",
       "<style scoped>\n",
       "    .dataframe tbody tr th:only-of-type {\n",
       "        vertical-align: middle;\n",
       "    }\n",
       "\n",
       "    .dataframe tbody tr th {\n",
       "        vertical-align: top;\n",
       "    }\n",
       "\n",
       "    .dataframe thead th {\n",
       "        text-align: right;\n",
       "    }\n",
       "</style>\n",
       "<table border=\"1\" class=\"dataframe\">\n",
       "  <thead>\n",
       "    <tr style=\"text-align: right;\">\n",
       "      <th></th>\n",
       "      <th>Flight</th>\n",
       "      <th>Date</th>\n",
       "      <th>Temperature °F</th>\n",
       "      <th>Erosion incidents</th>\n",
       "      <th>Blow-by incidents</th>\n",
       "      <th>Damage index</th>\n",
       "      <th>Comments</th>\n",
       "    </tr>\n",
       "  </thead>\n",
       "  <tbody>\n",
       "    <tr>\n",
       "      <td>0</td>\n",
       "      <td>51-C</td>\n",
       "      <td>01.24.85</td>\n",
       "      <td>53</td>\n",
       "      <td>3.0</td>\n",
       "      <td>2.0</td>\n",
       "      <td>11</td>\n",
       "      <td>Most erosion any flight; blow-by; back-up ring...</td>\n",
       "    </tr>\n",
       "    <tr>\n",
       "      <td>1</td>\n",
       "      <td>41-B</td>\n",
       "      <td>02.03.84</td>\n",
       "      <td>57</td>\n",
       "      <td>1.0</td>\n",
       "      <td>NaN</td>\n",
       "      <td>4</td>\n",
       "      <td>Deep, extensive erosion</td>\n",
       "    </tr>\n",
       "    <tr>\n",
       "      <td>2</td>\n",
       "      <td>61-C</td>\n",
       "      <td>01.12.86</td>\n",
       "      <td>58</td>\n",
       "      <td>1.0</td>\n",
       "      <td>NaN</td>\n",
       "      <td>4</td>\n",
       "      <td>O-ring erosion on launch two weeks before Chal...</td>\n",
       "    </tr>\n",
       "    <tr>\n",
       "      <td>3</td>\n",
       "      <td>41-C</td>\n",
       "      <td>04.06.84</td>\n",
       "      <td>63</td>\n",
       "      <td>1.0</td>\n",
       "      <td>NaN</td>\n",
       "      <td>2</td>\n",
       "      <td>O-rings showed signs of heating, but no damage.</td>\n",
       "    </tr>\n",
       "    <tr>\n",
       "      <td>4</td>\n",
       "      <td>1</td>\n",
       "      <td>04.12.81</td>\n",
       "      <td>66</td>\n",
       "      <td>NaN</td>\n",
       "      <td>NaN</td>\n",
       "      <td>0</td>\n",
       "      <td>NaN</td>\n",
       "    </tr>\n",
       "    <tr>\n",
       "      <td>5</td>\n",
       "      <td>6</td>\n",
       "      <td>04.04.83</td>\n",
       "      <td>67</td>\n",
       "      <td>NaN</td>\n",
       "      <td>NaN</td>\n",
       "      <td>0</td>\n",
       "      <td>NaN</td>\n",
       "    </tr>\n",
       "    <tr>\n",
       "      <td>6</td>\n",
       "      <td>51-A</td>\n",
       "      <td>11.08.84</td>\n",
       "      <td>67</td>\n",
       "      <td>NaN</td>\n",
       "      <td>NaN</td>\n",
       "      <td>0</td>\n",
       "      <td>NaN</td>\n",
       "    </tr>\n",
       "    <tr>\n",
       "      <td>7</td>\n",
       "      <td>51-D</td>\n",
       "      <td>04.12.85</td>\n",
       "      <td>67</td>\n",
       "      <td>NaN</td>\n",
       "      <td>NaN</td>\n",
       "      <td>0</td>\n",
       "      <td>NaN</td>\n",
       "    </tr>\n",
       "    <tr>\n",
       "      <td>8</td>\n",
       "      <td>5</td>\n",
       "      <td>11.11.82</td>\n",
       "      <td>68</td>\n",
       "      <td>NaN</td>\n",
       "      <td>NaN</td>\n",
       "      <td>0</td>\n",
       "      <td>NaN</td>\n",
       "    </tr>\n",
       "    <tr>\n",
       "      <td>9</td>\n",
       "      <td>3</td>\n",
       "      <td>03.22.82</td>\n",
       "      <td>69</td>\n",
       "      <td>NaN</td>\n",
       "      <td>NaN</td>\n",
       "      <td>0</td>\n",
       "      <td>NaN</td>\n",
       "    </tr>\n",
       "  </tbody>\n",
       "</table>\n",
       "</div>"
      ],
      "text/plain": [
       "  Flight      Date  Temperature °F  Erosion incidents  Blow-by incidents  \\\n",
       "0   51-C  01.24.85              53                3.0                2.0   \n",
       "1   41-B  02.03.84              57                1.0                NaN   \n",
       "2   61-C  01.12.86              58                1.0                NaN   \n",
       "3   41-C  04.06.84              63                1.0                NaN   \n",
       "4      1  04.12.81              66                NaN                NaN   \n",
       "5      6  04.04.83              67                NaN                NaN   \n",
       "6   51-A  11.08.84              67                NaN                NaN   \n",
       "7   51-D  04.12.85              67                NaN                NaN   \n",
       "8      5  11.11.82              68                NaN                NaN   \n",
       "9      3  03.22.82              69                NaN                NaN   \n",
       "\n",
       "   Damage index                                           Comments  \n",
       "0            11  Most erosion any flight; blow-by; back-up ring...  \n",
       "1             4                            Deep, extensive erosion  \n",
       "2             4  O-ring erosion on launch two weeks before Chal...  \n",
       "3             2    O-rings showed signs of heating, but no damage.  \n",
       "4             0                                                NaN  \n",
       "5             0                                                NaN  \n",
       "6             0                                                NaN  \n",
       "7             0                                                NaN  \n",
       "8             0                                                NaN  \n",
       "9             0                                                NaN  "
      ]
     },
     "execution_count": 43,
     "metadata": {},
     "output_type": "execute_result"
    }
   ],
   "source": [
    "# sort temperature values to use as X axis, so we can plot results\n",
    "df = df.sort_values(\"Temperature °F\")\n",
    "df.head(10)"
   ]
  },
  {
   "cell_type": "code",
   "execution_count": 44,
   "metadata": {
    "ExecuteTime": {
     "end_time": "2019-10-08T18:28:38.452505Z",
     "start_time": "2019-10-08T18:28:38.448509Z"
    },
    "slideshow": {
     "slide_type": "subslide"
    }
   },
   "outputs": [],
   "source": [
    "model = LinearRegression()\n",
    "\n",
    "# add linear regression\n",
    "X = df.loc[:, \"Temperature °F\"].values.reshape(-1, 1) # get values & convert to a numpy array  FAILS intermittently, while iloc works consistently\n",
    "Y = df.loc[:, \"Damage index\"].values.reshape(-1, 1)  # get values and convert into 1 column numpy array\n",
    "# X = df.iloc[:, 2].values.reshape(-1, 1)  # another way to do this using iloc\n",
    "# Y = df.iloc[:, 5].values.reshape(-1, 1)  # ibid"
   ]
  },
  {
   "cell_type": "code",
   "execution_count": 45,
   "metadata": {
    "ExecuteTime": {
     "end_time": "2019-10-08T18:28:38.459504Z",
     "start_time": "2019-10-08T18:28:38.453506Z"
    },
    "slideshow": {
     "slide_type": "subslide"
    }
   },
   "outputs": [],
   "source": [
    "# run regression\n",
    "linear_regressor = LinearRegression()  # create object for the class\n",
    "linear_regressor.fit(X, Y)  # perform linear regression\n",
    "Y_pred = linear_regressor.predict(X)  # make predictions"
   ]
  },
  {
   "cell_type": "code",
   "execution_count": 46,
   "metadata": {
    "ExecuteTime": {
     "end_time": "2019-10-08T18:28:38.644505Z",
     "start_time": "2019-10-08T18:28:38.460505Z"
    },
    "slideshow": {
     "slide_type": "subslide"
    }
   },
   "outputs": [
    {
     "data": {
      "image/png": "[encoded data removed]",
      "text/plain": [
       "<Figure size 1440x576 with 1 Axes>"
      ]
     },
     "metadata": {
      "needs_background": "light"
     },
     "output_type": "display_data"
    }
   ],
   "source": [
    "plt.figure(figsize=(20,8))\n",
    "plt.scatter(X, Y, color=\"green\")\n",
    "plt.plot(X, Y_pred, color=\"green\", linewidth=2)\n",
    "plt.title(\"Challenger O-ring Damage as a Function of Temperature\")\n",
    "plt.xlabel(\"Temperature °F\")\n",
    "plt.ylabel(\"Damage index\")\n",
    "plt.show()"
   ]
  },
  {
   "cell_type": "code",
   "execution_count": 47,
   "metadata": {
    "ExecuteTime": {
     "end_time": "2019-10-08T18:28:38.648505Z",
     "start_time": "2019-10-08T18:28:38.645505Z"
    },
    "slideshow": {
     "slide_type": "subslide"
    }
   },
   "outputs": [],
   "source": [
    "Z = [x for x in range(20, 53)]\n",
    "Z = np.asarray(Z).reshape(-1, 1)\n",
    "Z_pred = linear_regressor.predict(Z)  # make predictions"
   ]
  },
  {
   "cell_type": "code",
   "execution_count": 48,
   "metadata": {
    "ExecuteTime": {
     "end_time": "2019-10-08T18:28:38.657505Z",
     "start_time": "2019-10-08T18:28:38.650508Z"
    },
    "slideshow": {
     "slide_type": "subslide"
    }
   },
   "outputs": [],
   "source": [
    "prior_launch_temp_min = df.iloc[:, 2].min().round(1)\n",
    "prior_damage_avg = df.loc[:, \"Damage index\"].mean().round(1)\n",
    "\n",
    "challenger_launch_temp = 36\n",
    "challenger_launch_temp_np = np.asarray(challenger_launch_temp).reshape(-1, 1)\n",
    "challenger_damage_predicted = round(linear_regressor.predict(challenger_launch_temp_np)[0][0],1)\n",
    "\n",
    "# print(\"prior_damage_avg\", prior_damage_avg)\n",
    "# print(\"prior_launch_temp_min\", prior_launch_temp_min)\n",
    "# print(\"challenger_launch_temp\", challenger_launch_temp)\n",
    "# print(\"challenger_damage_predicted\", challenger_damage_predicted)"
   ]
  },
  {
   "cell_type": "code",
   "execution_count": 52,
   "metadata": {
    "ExecuteTime": {
     "end_time": "2019-10-08T18:28:38.836506Z",
     "start_time": "2019-10-08T18:28:38.658507Z"
    },
    "scrolled": false,
    "slideshow": {
     "slide_type": "subslide"
    }
   },
   "outputs": [
    {
     "data": {
      "image/png": "[encoded data removed]",
      "text/plain": [
       "<Figure size 1440x576 with 1 Axes>"
      ]
     },
     "metadata": {
      "needs_background": "light"
     },
     "output_type": "display_data"
    }
   ],
   "source": [
    "def plot_history():\n",
    "    plt.figure(figsize=(20,8))\n",
    "    plt.title(\"Challenger O-ring Damage as a Function of Temperature\")\n",
    "    plt.xlabel(\"Temperature °F\")\n",
    "    plt.ylabel(\"Damage index\")\n",
    "    plt.xlim(20, 85)\n",
    "    plt.ylim(-2, 15)\n",
    "    plt.scatter(X, Y, color=\"green\")\n",
    "    plt.plot(X, Y_pred, color='green', linewidth=2)                 # plot known history\n",
    "    \n",
    "    return True\n",
    "\n",
    "\n",
    "def plot_key_temps():\n",
    "    # highlight key temperatures\n",
    "    plt.axvline(53, color=\"green\", linestyle=\":\", linewidth=2)\n",
    "    plt.axvline(36, color=\"grey\", linestyle=\":\")\n",
    " \n",
    "    return True\n",
    "\n",
    "def plot_predicted_damage():\n",
    "    plt.plot(Z, Z_pred, color='red', linestyle=\"--\", linewidth=2)   # plot predicted damage\n",
    "    \n",
    "    return True\n",
    "\n",
    "\n",
    "def plot_highlights():\n",
    "    plt.axhline(df.loc[:, \"Damage index\"].mean(), color=\"green\", linestyle=\"dotted\", linewidth=2)\n",
    "    plt.axhline(challenger_damage_predicted, color=\"red\", linestyle=\"--\", linewidth=2)\n",
    "\n",
    "    # add some labels to hammer it home\n",
    "    plt.text(54, 2, f\"{prior_damage_avg} AVERAGE Damage for Prior Launches\")\n",
    "    plt.text(37, 10, f\"{challenger_damage_predicted} PREDICTED Damage at 36°F\")\n",
    "\n",
    "    # ++ live damage ratio note\n",
    "    \n",
    "    return True\n",
    "\n",
    "plot_history()\n",
    "plot_key_temps()\n",
    "plot_predicted_damage()\n",
    "plot_highlights()\n",
    "\n",
    "plt.show()"
   ]
  },
  {
   "cell_type": "code",
   "execution_count": 37,
   "metadata": {
    "ExecuteTime": {
     "end_time": "2019-10-08T18:28:39.025508Z",
     "start_time": "2019-10-08T18:28:38.837505Z"
    },
    "slideshow": {
     "slide_type": "subslide"
    }
   },
   "outputs": [
    {
     "data": {
      "image/png": "[encoded data removed]",
      "text/plain": [
       "<Figure size 1440x576 with 1 Axes>"
      ]
     },
     "metadata": {
      "needs_background": "light"
     },
     "output_type": "display_data"
    }
   ],
   "source": [
    "plt.figure(figsize=(20,8))\n",
    "plt.title(\"Challenger O-ring Damage as a Function of Temperature\")\n",
    "plt.xlabel(\"Temperature °F\")\n",
    "plt.ylabel(\"Damage index\")\n",
    "plt.xlim(20, 85)\n",
    "plt.ylim(-2, 15)\n",
    "plt.scatter(X, Y, color=\"green\")\n",
    "plt.plot(X, Y_pred, color='green', linewidth=2)                 # plot known history\n",
    "\n",
    "plt.plot(Z, Z_pred, color='red', linestyle=\"--\", linewidth=2)   # plot predicted damage\n",
    "\n",
    "# highlight key thresholds\n",
    "plt.axvline(36, color=\"grey\", linestyle=\":\")\n",
    "plt.axvline(53, color=\"green\", linestyle=\":\", linewidth=2)\n",
    "plt.axhline(df.loc[:, \"Damage index\"].mean(), color=\"green\", linestyle=\"dotted\", linewidth=2)\n",
    "plt.axhline(challenger_damage_predicted, color=\"red\", linestyle=\"--\", linewidth=2)\n",
    "\n",
    "# add some labels to hammer it home\n",
    "plt.text(54, 2, f\"{prior_damage_avg} AVERAGE Damage at LOWEST PRIOR TEMP OF 53°F\")\n",
    "plt.text(37, 10, f\"{challenger_damage_predicted} PREDICTED Damage at 36°F\")\n",
    "\n",
    "\n",
    "plt.show()"
   ]
  },
  {
   "cell_type": "markdown",
   "metadata": {
    "slideshow": {
     "slide_type": "subslide"
    }
   },
   "source": [
    "# Why is visualization important?   *Numbers don't always show important facts* <br>\n",
    "\n",
    "# Witness Anscome's Quartet:\n",
    "\n",
    "<img src=\"./images/anscombe's_quartet_3.svg_wikipedia.png\" width=600 /><br>\n",
    "<strong><italic>credit: Wikipedia<strong><italic><br>\n",
    "<strong>[Pure witchcraft from:  Anscome's Quartet & Datasaurus](https://www.autodeskresearch.com/publications/samestats)</strong><br>\n",
    "<strong>[Python/Seaborm page to generate and plot your own](https://seaborn.pydata.org/examples/anscombes_quartet.html)<br>"
   ]
  },
  {
   "cell_type": "markdown",
   "metadata": {
    "slideshow": {
     "slide_type": "slide"
    }
   },
   "source": [
    "# 2- Learn about the grammar of graphics and how to choose the right visual approach"
   ]
  },
  {
   "cell_type": "markdown",
   "metadata": {
    "slideshow": {
     "slide_type": "subslide"
    }
   },
   "source": [
    "# Grammar of Graphics\n",
    "\n",
    "- A structured framework that tells us how to construct graphics in a layered approach<br>\n",
    "- From Leland Wilkinson's book of the same name<br>\n",
    "- Drove creation of ggplot (R) and plotnine (python)<br><br>\n",
    "<img src=\"./images/grammar_graphics_pyramid_1 mcLnnVdHNg-ikDbHJfHDNA.png\" width=70% />\n",
    "\n",
    "<strong>- resources to check out:</strong><br>\n",
    "https://towardsdatascience.com/murdering-a-legendary-data-story-what-can-we-learn-from-a-grammar-of-graphics-ad6ca42f5e30<br>\n",
    "https://www.slideshare.net/kesarifms/grammar-of-graphics-the-secret-sauce-of-powerful-data-stories<br>\n"
   ]
  },
  {
   "cell_type": "markdown",
   "metadata": {
    "slideshow": {
     "slide_type": "subslide"
    }
   },
   "source": [
    "# Find the graphic you need = objective + data you have\n",
    "<a href=\"https://www.data-to-viz.com/\" target=\"_blank\"> <img src=\"./images/data_to_vis_screencap.png\" title=\"Data to Vis Website\" alt=\"Data to Vis Website\"/></a><br><br>\n",
    "[Data-to-Viz site - free, interactive tool](https://www.data-to-viz.com/)"
   ]
  },
  {
   "cell_type": "markdown",
   "metadata": {
    "slideshow": {
     "slide_type": "slide"
    }
   },
   "source": [
    "# 3- Get a snapshot of the python visualization universe\n",
    "\n",
    "- [PyVis landscape overview](https://pyviz.org/overviews/index.html)<br><br>\n",
    "- [PyCon 2017 - Pythons Visualization Landscape by Jake VanderPlas](https://speakerdeck.com/jakevdp/pythons-visualization-landscape-pycon-2017)<br><br>"
   ]
  },
  {
   "cell_type": "code",
   "execution_count": 53,
   "metadata": {
    "slideshow": {
     "slide_type": "subslide"
    }
   },
   "outputs": [
    {
     "data": {
      "text/plain": [
       "None"
      ]
     },
     "metadata": {},
     "output_type": "display_data"
    },
    {
     "data": {
      "application/vnd.jupyter.widget-view+json": {
       "model_id": "df47db174a034a6983ceb1c0d8412b7f",
       "version_major": 2,
       "version_minor": 0
      },
      "text/plain": [
       "Button(description='Swap image', style=ButtonStyle())"
      ]
     },
     "metadata": {},
     "output_type": "display_data"
    },
    {
     "data": {
      "application/vnd.jupyter.widget-view+json": {
       "model_id": "c7b24912cd5e4e3ab87902a344908af0",
       "version_major": 2,
       "version_minor": 0
      },
      "text/plain": [
       "Output()"
      ]
     },
     "metadata": {},
     "output_type": "display_data"
    },
    {
     "data": {
      "application/vnd.jupyter.widget-view+json": {
       "model_id": "8ee53a1f677f408195aa0d75f6286d5e",
       "version_major": 2,
       "version_minor": 0
      },
      "text/plain": [
       "Image(value=b'\\x89PNG\\r\\n\\x1a\\n\\x00\\x00\\x00\\rIHDR\\x00\\x00\\x0b\\xe8\\x00\\x00\\x05\\xc5\\x08\\x06\\x00\\x00\\x00/\\x82\\x16…"
      ]
     },
     "metadata": {},
     "output_type": "display_data"
    }
   ],
   "source": [
    "# Focus of this talk\n",
    "from itertools import cycle\n",
    "import ipywidgets as widgets\n",
    "from IPython.display import display\n",
    "from IPython.display import clear_output\n",
    "\n",
    "# create list of images to rotate through\n",
    "image_set = ['./images/pyvis_landscape_overview_2019_landscape-talk_highlights.png', \"./images/pyvis_landscape_overview_2019_landscape-colors.png\"]\n",
    "images = [widgets.Image(value=open(name, \"rb\").read()) for name in image_set]\n",
    "imagecycle = cycle(images)  # iterator of images\n",
    "\n",
    "button = widgets.Button(description=\"Swap image\")\n",
    "output = widgets.Output()\n",
    "display(button,widgets.Image(value=open(\"./images/pyvis_landscape_overview_2019_landscape-colors.png\", \"rb\").read()))\n",
    "\n",
    "def on_button_clicked(b):\n",
    "    display(clear_output())\n",
    "    display(button, output)\n",
    "    display(next(imagecycle))\n",
    "\n",
    "button.on_click(on_button_clicked)"
   ]
  },
  {
   "cell_type": "markdown",
   "metadata": {
    "slideshow": {
     "slide_type": "subslide"
    }
   },
   "source": [
    "# Audience Question - can you also touch on plotly and dash with pros/cons\n",
    "\n",
    "\n",
    "[Data viz comparison matrix](http://www.pythongrids.org/grids/g/data-visualization/)<br>\n",
    "[Datavis - why so many libraries](https://www.anaconda.com/python-data-visualization-2018-why-so-many-libraries/)\n",
    "\n",
    "<table>\n",
    "    <tr>\n",
    "        <th style=\"text-align:right\" width=\"200px\"> <i></i></th>\n",
    "        <th style=\"text-align:left\" width=\"200px\"><b>Matplotlib</b></th>\n",
    "        <th style=\"text-align:left\" width=\"200px\"><b>Bokeh</b></th> \n",
    "        <th style=\"text-align:left\" width=\"200px\"><b>Plotly</b></th> \n",
    "    </tr>\n",
    "    <tr>\n",
    "        <td style=\"text-align:right\"><i>release year</i></td>\n",
    "        <td style=\"text-align:left\">2003</td>\n",
    "        <td style=\"text-align:left\">2013</td> \n",
    "        <td style=\"text-align:left\">2013</td> \n",
    "    </tr>\n",
    "    <tr>\n",
    "        <td style=\"text-align:right\"><i>framework - front end</i></td>\n",
    "        <td style=\"text-align:left\">matplotlib</td>\n",
    "        <td style=\"text-align:left\">Javascript</td> \n",
    "        <td style=\"text-align:left\">Javascript</td> \n",
    "    </tr>\n",
    "    <tr>\n",
    "        <td style=\"text-align:right\"><i>backend</i></td>\n",
    "        <td style=\"text-align:left\">many renderers<br></td>\n",
    "        <td style=\"text-align:left\">Tornado<br></td> \n",
    "        <td style=\"text-align:left\">Flask<br></td> \n",
    "    </tr>\n",
    "    <tr>\n",
    "        <td style=\"text-align:right\"><i>Dashboard Framework</i></td>\n",
    "        <td style=\"text-align:left\">None</td>\n",
    "        <td style=\"text-align:left\">Panel</td> \n",
    "        <td style=\"text-align:left\">Dash</td> \n",
    "    </tr>\n",
    "    <tr>\n",
    "        <td style=\"text-align:right\"><i>Supporting Libraries</i></td>\n",
    "        <td style=\"text-align:left\">Seaborn</td>\n",
    "        <td style=\"text-align:left\">None</td> \n",
    "        <td style=\"text-align:left\">Plotly<br>Express<br>Cufflinks</td> \n",
    "    </tr>\n",
    "    <tr>\n",
    "        <td style=\"text-align:right\"><i>Corporate Sponsor</i></td>\n",
    "        <td style=\"text-align:left\">None</td>\n",
    "        <td style=\"text-align:left\">Anaconda</td> \n",
    "        <td style=\"text-align:left\">Plotly - the company</td> \n",
    "    </tr>\n",
    "    <tr>\n",
    "        <td style=\"text-align:right\"><i>Maybe you didn't know</i></td>\n",
    "        <td style=\"text-align:left\">Oldest visualization library</td>\n",
    "        <td style=\"text-align:left\">Intelligent Errors - similar attributes are...</td> \n",
    "        <td style=\"text-align:left\">Used to require plotly account, but now does not - run offline!<br><br> has supporting gui (Chart Studio)</td> \n",
    "    </tr>\n",
    "    <tr>\n",
    "        <td></td>\n",
    "        <td></td>\n",
    "        <td></td>\n",
    "        <td></td>\n",
    "    </tr>\n",
    "    <tr>\n",
    "        <td style=\"text-align:right\"><i>Pandas API</i></td>\n",
    "        <td style=\"text-align:left\">Yes</td>\n",
    "        <td style=\"text-align:left\">Yes</td> \n",
    "        <td style=\"text-align:left\">Yes</td> \n",
    "    </tr>\n",
    "    <tr>\n",
    "        <td style=\"text-align:right\"><i>Jupyter Notebook</i></td>\n",
    "        <td style=\"text-align:left\">Yes</td>\n",
    "        <td style=\"text-align:left\">Yes</td> \n",
    "        <td style=\"text-align:left\">Yes</td> \n",
    "    </tr>\n",
    "    <tr>\n",
    "        <td style=\"text-align:right\"><i>JupyterLab</i></td>\n",
    "        <td style=\"text-align:left\">Yes</td>\n",
    "        <td style=\"text-align:left\">Yes</td> \n",
    "        <td style=\"text-align:left\">Yes</td> \n",
    "    </tr>\n",
    "    <tr>\n",
    "        <td style=\"text-align:right\"><strong><i>Awesome library you should try</i></strong></td>\n",
    "        <td style=\"text-align:left\"><strong>Yes</strong></td>\n",
    "        <td style=\"text-align:left\"><strong>Yes</strong></td> \n",
    "        <td style=\"text-align:left\"><strong>Yes</strong></td> \n",
    "    </tr>\n",
    "</table>\n"
   ]
  },
  {
   "cell_type": "markdown",
   "metadata": {
    "slideshow": {
     "slide_type": "subslide"
    }
   },
   "source": [
    "# What have we learned so far?\n",
    "\n",
    "0 - People have very strong visual perception\n",
    "\n",
    "1- Images effectively distilling insight\n",
    "\n",
    "2- Images provide insights that pure numbers/tables do not\n",
    "\n",
    "3- Graphics have a grammar similar to writing\n",
    "\n",
    "4- Python has a lot of visualization libraries\n"
   ]
  },
  {
   "cell_type": "markdown",
   "metadata": {
    "slideshow": {
     "slide_type": "subslide"
    }
   },
   "source": [
    "# [link to our next chapter - matplotlib](http://localhost:8888/notebooks/notebooks/01_matplotlib_chapter.ipynb)"
   ]
  },
  {
   "cell_type": "code",
   "execution_count": null,
   "metadata": {},
   "outputs": [],
   "source": []
  }
 ],
 "metadata": {
  "celltoolbar": "Slideshow",
  "kernelspec": {
   "display_name": "Python 3",
   "language": "python",
   "name": "python3"
  },
  "language_info": {
   "codemirror_mode": {
    "name": "ipython",
    "version": 3
   },
   "file_extension": ".py",
   "mimetype": "text/x-python",
   "name": "python",
   "nbconvert_exporter": "python",
   "pygments_lexer": "ipython3",
   "version": "3.7.4"
  }
 },
 "nbformat": 4,
 "nbformat_minor": 2
}
