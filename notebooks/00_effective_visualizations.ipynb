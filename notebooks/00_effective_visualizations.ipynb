{
 "cells": [
  {
   "cell_type": "code",
   "execution_count": 1,
   "metadata": {
    "ExecuteTime": {
     "end_time": "2019-11-14T19:38:39.407501Z",
     "start_time": "2019-11-14T19:38:38.225505Z"
    },
    "slideshow": {
     "slide_type": "slide"
    }
   },
   "outputs": [
    {
     "data": {
      "text/html": [
       "<style>.container { width:90% !important; }</style>"
      ],
      "text/plain": [
       "<IPython.core.display.HTML object>"
      ]
     },
     "metadata": {},
     "output_type": "display_data"
    },
    {
     "name": "stderr",
     "output_type": "stream",
     "text": [
      "Enabling notebook extension splitcell/splitcell...\n",
      "      - Validating: ok\n"
     ]
    }
   ],
   "source": [
    "# setup notebook\n",
    "# notebook formatting\n",
    "from IPython.core.display import display, HTML\n",
    "display(HTML(\"<style>.container { width:90% !important; }</style>\"))\n",
    "\n",
    "# pretty print all cell's output and not just the last one\n",
    "from IPython.core.interactiveshell import InteractiveShell\n",
    "InteractiveShell.ast_node_interactivity = \"all\"\n",
    "\n",
    "# enable split cells in notebook\n",
    "# if not installed:  pip install jupyter_contrib_nbextensions; then repeat this cmd\n",
    "!jupyter nbextension enable splitcell/splitcell  \n",
    "\n",
    "# fix RISE scollbar missing\n",
    "# if RISE scroll not working fix path to match your jupyter nbconfig, uncomment below and run\n",
    "# from traitlets.config.manager import BaseJSONConfigManager\n",
    "# path = \"~\\user\\.jupyter\\nbconfig\"\n",
    "# cm = BaseJSONConfigManager(config_dir=path)\n",
    "\n",
    "# cm.update(\"livereveal\", {\n",
    "#              \"scroll\": True,\n",
    "# });\n",
    "\n",
    "# imports\n",
    "import os\n",
    "import random\n",
    "\n",
    "# math\n",
    "import pandas as pd\n",
    "import numpy as np\n",
    "from sklearn.linear_model import LinearRegression\n",
    "\n",
    "# visualization - imports and setting\n",
    "from matplotlib import pyplot as plt\n",
    "from matplotlib.pyplot import figure\n",
    "%matplotlib inline"
   ]
  },
  {
   "cell_type": "markdown",
   "metadata": {
    "slideshow": {
     "slide_type": "slide"
    }
   },
   "source": [
    "# Effective Visualizations\n",
    "<table>\n",
    "    <th style=\"float:center; width:100%\"></th>\n",
    "  <tr>\n",
    "      <td><img src=\"./images/minard.napoleon_russia_1812.png\" width=500 alt=\"Approximation of Napoleon Russian Campaign\" title=\"European context of Napoleon Russian Campaign\" style=\"float:center; width:100%\"/></td>\n",
    "  </tr>\n",
    "</table>\n"
   ]
  },
  {
   "cell_type": "markdown",
   "metadata": {
    "ExecuteTime": {
     "end_time": "2019-10-08T18:56:41.647407Z",
     "start_time": "2019-10-08T18:56:41.643406Z"
    },
    "slideshow": {
     "slide_type": "slide"
    }
   },
   "source": [
    "### About Me...\n",
    "* Chris Brousseau\n",
    "* @surfaceowl\n",
    "* chris@surfaceowl.com\n",
    "\n",
    "\n",
    "### What I do...\n",
    "* Founder: Surface Owl\n",
    "* Data Scientist\n",
    "* Python Development\n",
    "* PyBay Diversity & Inclusion Chair\n",
    "* Recovering Consultant\n"
   ]
  },
  {
   "cell_type": "markdown",
   "metadata": {
    "slideshow": {
     "slide_type": "slide"
    }
   },
   "source": [
    "# Agenda\n",
    "\n",
    "1- Understand why effective visualizations are important\n",
    "\n",
    "2- Learn how to choose the right visual approach\n",
    "\n",
    "3- Learn about the python visualization universe\n",
    "\n",
    "4- Foundation - matplotlib\n",
    "\n",
    "5- Future - bokeh\n"
   ]
  },
  {
   "cell_type": "code",
   "execution_count": 2,
   "metadata": {
    "ExecuteTime": {
     "end_time": "2019-11-14T19:38:39.413504Z",
     "start_time": "2019-11-14T19:38:39.408503Z"
    },
    "slideshow": {
     "slide_type": "skip"
    }
   },
   "outputs": [
    {
     "data": {
      "text/html": [
       "<style>\n",
       "style=\"vertical-align: text-top\";\n",
       "table {float:left}\n",
       "</style>\n"
      ],
      "text/plain": [
       "<IPython.core.display.HTML object>"
      ]
     },
     "metadata": {},
     "output_type": "display_data"
    }
   ],
   "source": [
    "%%html\n",
    "<style>\n",
    "style=\"vertical-align: text-top\";\n",
    "table {float:left}\n",
    "</style>"
   ]
  },
  {
   "cell_type": "markdown",
   "metadata": {
    "slideshow": {
     "slide_type": "slide"
    }
   },
   "source": [
    "# 1- Understand why effective visualizations are important\n"
   ]
  },
  {
   "cell_type": "markdown",
   "metadata": {
    "slideshow": {
     "slide_type": "slide"
    }
   },
   "source": [
    "# Why Visualizations?<br>\n",
    "- communicate information + story to <b> accomplish a goal</b>\n",
    "- goal can be:\n",
    "   - create understanding\n",
    "   - convice someone to take action\n",
    "\n",
    "- Graphics provide super efficient compression of data\n",
    "\n",
    "- [what makes a good visualization?  source: information is beautiful](https://informationisbeautiful.net/visualizations/what-makes-a-good-data-visualization/)\n",
    "\n",
    "- People have powerful ability of visual perception - let's help them use it\n"
   ]
  },
  {
   "cell_type": "markdown",
   "metadata": {
    "slideshow": {
     "slide_type": "subslide"
    }
   },
   "source": [
    "\n",
    "# Why visualization is important:  *Create Understanding*<br>\n",
    "# Charles Minard's Map of the March to Moscow\n",
    "\n",
    "<img src=\"./images/minard.napoleon_russia_1812.png\" alt=\"Charles Joseph Minards map of Napoleon Russian Campaign\" title=\"The Best Statistical Graph ever drawn - Charles Joseph Minards map of Napoleon Russian Campaign\" />"
   ]
  },
  {
   "cell_type": "code",
   "execution_count": 3,
   "metadata": {
    "ExecuteTime": {
     "end_time": "2019-11-14T19:38:39.662503Z",
     "start_time": "2019-11-14T19:38:39.414504Z"
    },
    "slideshow": {
     "slide_type": "skip"
    }
   },
   "outputs": [
    {
     "name": "stdout",
     "output_type": "stream",
     "text": [
      "\n",
      "\n",
      "Supporting Data:\n",
      "\n",
      "Temperature data in:\n",
      "°re:  [-26.0, -30.0, -24.0, -20.0, -11.0, -21.0, -9.0, 0.0]\n",
      "°c:   [-32.0, -38.0, -30.0, -25.0, -14.0, -26.0, -11.0, 0.0]\n",
      "°f:   [-26.0, -36.0, -22.0, -13.0, 7.0, -15.0, 12.0, 32.0] \n",
      "\n",
      "Total # of days marching back from Moscow:  44\n"
     ]
    },
    {
     "data": {
      "image/png": "[encoded data removed]",
      "text/plain": [
       "<Figure size 2160x576 with 1 Axes>"
      ]
     },
     "metadata": {
      "needs_background": "light"
     },
     "output_type": "display_data"
    }
   ],
   "source": [
    "# Minard's chart uses a different temperature scaled called the Réaumur scale\n",
    "# water freeze @ 0°, boils at 80°\n",
    "# https://en.wikipedia.org/wiki/R%C3%A9aumur_scale\n",
    "# what are these temperatures in scales we are more familiar with (°F, °C)?\n",
    "import datetime as dt\n",
    "import matplotlib.dates as mdates\n",
    "from pandas.plotting import register_matplotlib_converters\n",
    "register_matplotlib_converters()\n",
    "\n",
    "# get data for chart, format dates for matplotlib; \n",
    "# data source:  https://www.cs.uic.edu/~wilkinson/TheGrammarOfGraphics/minard.txt\n",
    "dates = ['12/7/1812', '12/6/1812', '12/1/1812', '11/28/1812', '11/21/1812', '11/14/1812', '11/9/1812', '10/24/1812']\n",
    "dates = [dt.datetime.strptime(date,'%m/%d/%Y').date() for date in dates]\n",
    "total_days_from_moscow = (dates[0] - dates[-1]).days  # total # of days on chart\n",
    "\n",
    "\n",
    "# temp data - temps in °Re\n",
    "temps_re = [-26.0, -30.0, -24.0, -20.0, -11.0, -21.0, -9.0, 0.0]\n",
    "\n",
    "# conversion to Celcius and Fahrenheit\n",
    "def re_to_c(temp_re):\n",
    "    return round(temp_re * (5/4), 0)\n",
    "\n",
    "def re_to_f(temp_re):\n",
    "    return round((temp_re * 9/4) + 32, 0)\n",
    "\n",
    "temps_c = [re_to_c(temp) for temp in temps_re]\n",
    "temps_f = [re_to_f(temp) for temp in temps_re]\n",
    "\n",
    "print(\"\\n\\nSupporting Data:\\n\\nTemperature data in:\")\n",
    "print(\"°re: \", temps_re)\n",
    "print(\"°c:  \", temps_c)\n",
    "print(\"°f:  \", temps_f, \"\\n\")\n",
    "print(\"Total # of days marching back from Moscow: \", total_days_from_moscow)\n",
    "\n",
    "# setup chart\n",
    "plt.figure(figsize=(30,8));\n",
    "plt.xlim(dates[0], dates[-1])  # reverse x axis to matches Minard's chart\n",
    "plt.xticks(dates, dates, rotation=25)\n",
    "plt.title(\"March to Moscow - Comparison of Temperatures across three Temperature scales\")\n",
    "plt.xlabel(\"Date\")\n",
    "plt.ylabel(\"Normalized Temperature Scale°\")\n",
    "plt.plot(dates, temps_re, color=\"black\", linestyle=\"dotted\")\n",
    "plt.plot(dates, temps_c, color=\"darkred\")\n",
    "plt.plot(dates, temps_f,color=\"darkblue\")\n",
    "plt.text(dates[-1], 2, \"  Re freezing point (0°)\", fontsize=12, fontstyle=\"italic\", color=\"black\")\n",
    "plt.text(dates[-1], -2, \"  C freezing point (0°)\", fontsize=12, fontstyle=\"italic\", color=\"black\")\n",
    "plt.text(dates[-1], 32, \"  F freezing point (32°)\", fontsize=12, fontstyle=\"italic\", color=\"darkblue\")\n",
    "plt.legend((\"°Réaumur\", \"°Celcius\", \"°Fahrenheit\"))\n",
    "plt.show();\n"
   ]
  },
  {
   "cell_type": "code",
   "execution_count": 4,
   "metadata": {
    "ExecuteTime": {
     "end_time": "2019-11-14T19:38:39.667503Z",
     "start_time": "2019-11-14T19:38:39.663505Z"
    },
    "hide_input": false,
    "slideshow": {
     "slide_type": "slide"
    }
   },
   "outputs": [
    {
     "data": {
      "text/html": [
       "<!DOCTYPE html>\n",
       "<html>\n",
       "<head>\n",
       "<style>\n",
       "img.challenger {\n",
       "  height: auto%;\n",
       "  width: 90%;\n",
       "}\n",
       "</style>\n",
       "\n",
       "<p style=\"font-weight:bold; font-size:185%;\">Why is visualization important?  <i>Convince people to Take Action</i></p><br>\n",
       "\n",
       "</head>\n",
       "<body>\n",
       "\n",
       "<table> <tr> <th style=\"width:50%\"></th> <th></th> </tr> \n",
       "    <tr> \n",
       "        <td><a href=\"https://en.wikipedia.org/wiki/Space_Shuttle_Challenger_disaster\"><img class=\"challenger\" src=\"./images/challenger.photo.1110px-Challenger_explosion.jpg\" alt=\"Space Shuttle Challenger Disaster - 28 Jan 1986\" title=\"Space Shuttle Challenger Disaster\"/></a></td>\n",
       "        <td style=\"vertical-align:top; text-align:left; font-size: 160%\"> <strong>\n",
       "            <b>Challenger Disaster - 28 Jan 1986</b><br><br>\n",
       "            - All seven crew members died<br><br> \n",
       "            - five NASA astronauts, one payload specialist, and a civilian school teacher<br><br>\n",
       "            - caused by the failure of O-ring seals in right solid rocket booster<br><br>\n",
       "            - NASA managers disregarded NO-LAUNCH warnings from engineers<br><br><br>  \n",
       "            - <i>...but the warnings were confusing</i><br><br></strong> </td> \n",
       "    </tr>\n",
       "    <tr>\n",
       "        <td></td>\n",
       "        <td></td>\n",
       "    </tr>\n",
       "    <tr >\n",
       "            <td>\n",
       "            </td>\n",
       "        <td style=\"text-align:left; font-size: 120%\"> \n",
       "            <a href=\"https://en.wikipedia.org/wiki/Space_Shuttle_Challenger_disaster\"><strong>link: challenger disaster - wikipedia</strong></a></td>\n",
       "        <td> \n",
       "    </tr >\n",
       "    <tr>\n",
       "            <td>\n",
       "            </td>\n",
       "            <td style=\"text-align:left; font-size: 120%\"> \n",
       "            <a href=\"https://forum.nasaspaceflight.com/index.php?PHPSESSID=n2pbop2fh60010n76lmcnh4po7&action=dlattach;topic=8535.0;attach=25186\"><strong>link: Rogers Commission Report</strong></a>\n",
       "        </td>\n",
       "\n",
       "    </tr>\n",
       "    <tr>\n",
       "        <td>\n",
       "        </td>\n",
       "        <td style=\"text-align:left; font-size: 120%\"> <br>\n",
       "            <a href=\"https://en.wikipedia.org/wiki/Rogers_Commission_Report\"><strong>link: tldr - wikipedia page on Rogers Commission Report</strong></a>\n",
       "        </td>\n",
       "    </tr>\n",
       "        <tr>\n",
       "            <td>\n",
       "            </td>\n",
       "            <td style=\"text-align:left; font-size: 120%\">\n",
       "                <a href=\"https://www.vice.com/en_us/article/kbb3qz/could-better-data-design-have-prevented-challenger\"><strong>link: presentation obscured lack of data</strong></a>\n",
       "            </td>\n",
       "        </tr>\n",
       "</table>\n",
       "</body>\n",
       "</html>\n"
      ],
      "text/plain": [
       "<IPython.core.display.HTML object>"
      ]
     },
     "metadata": {},
     "output_type": "display_data"
    }
   ],
   "source": [
    "%%html\n",
    "<!DOCTYPE html>\n",
    "<html>\n",
    "<head>\n",
    "<style>\n",
    "img.challenger {\n",
    "  height: auto%;\n",
    "  width: 90%;\n",
    "}\n",
    "</style>\n",
    "\n",
    "<p style=\"font-weight:bold; font-size:185%;\">Why is visualization important?  <i>Convince people to Take Action</i></p><br>\n",
    "\n",
    "</head>\n",
    "<body>\n",
    "\n",
    "<table> <tr> <th style=\"width:50%\"></th> <th></th> </tr> \n",
    "    <tr> \n",
    "        <td><a href=\"https://en.wikipedia.org/wiki/Space_Shuttle_Challenger_disaster\"><img class=\"challenger\" src=\"./images/challenger.photo.1110px-Challenger_explosion.jpg\" alt=\"Space Shuttle Challenger Disaster - 28 Jan 1986\" title=\"Space Shuttle Challenger Disaster\"/></a></td>\n",
    "        <td style=\"vertical-align:top; text-align:left; font-size: 160%\"> <strong>\n",
    "            <b>Challenger Disaster - 28 Jan 1986</b><br><br>\n",
    "            - All seven crew members died<br><br> \n",
    "            - five NASA astronauts, one payload specialist, and a civilian school teacher<br><br>\n",
    "            - caused by the failure of O-ring seals in right solid rocket booster<br><br>\n",
    "            - NASA managers disregarded NO-LAUNCH warnings from engineers<br><br><br>  \n",
    "            - <i>...but the warnings were confusing</i><br><br></strong> </td> \n",
    "    </tr>\n",
    "    <tr>\n",
    "        <td></td>\n",
    "        <td></td>\n",
    "    </tr>\n",
    "    <tr >\n",
    "            <td>\n",
    "            </td>\n",
    "        <td style=\"text-align:left; font-size: 120%\"> \n",
    "            <a href=\"https://en.wikipedia.org/wiki/Space_Shuttle_Challenger_disaster\"><strong>link: challenger disaster - wikipedia</strong></a></td>\n",
    "        <td> \n",
    "    </tr >\n",
    "    <tr>\n",
    "            <td>\n",
    "            </td>\n",
    "            <td style=\"text-align:left; font-size: 120%\"> \n",
    "            <a href=\"https://forum.nasaspaceflight.com/index.php?PHPSESSID=n2pbop2fh60010n76lmcnh4po7&action=dlattach;topic=8535.0;attach=25186\"><strong>link: Rogers Commission Report</strong></a>\n",
    "        </td>\n",
    "\n",
    "    </tr>\n",
    "    <tr>\n",
    "        <td>\n",
    "        </td>\n",
    "        <td style=\"text-align:left; font-size: 120%\"> <br>\n",
    "            <a href=\"https://en.wikipedia.org/wiki/Rogers_Commission_Report\"><strong>link: tldr - wikipedia page on Rogers Commission Report</strong></a>\n",
    "        </td>\n",
    "    </tr>\n",
    "        <tr>\n",
    "            <td>\n",
    "            </td>\n",
    "            <td style=\"text-align:left; font-size: 120%\">\n",
    "                <a href=\"https://www.vice.com/en_us/article/kbb3qz/could-better-data-design-have-prevented-challenger\"><strong>link: presentation obscured lack of data</strong></a>\n",
    "            </td>\n",
    "        </tr>\n",
    "</table>\n",
    "</body>\n",
    "</html>\n"
   ]
  },
  {
   "cell_type": "markdown",
   "metadata": {
    "hide_input": true
   },
   "source": [
    "# What happened?<br>\n",
    "\n",
    "<table style=\"width:100%\"> \n",
    "    <tr> \n",
    "        <th style=\"width:50%\"></th> <th></th> \n",
    "    </tr>\n",
    "    <tr>\n",
    "        <td style=\"vertical-align:top; text-align:left; font-weight:bold; font-size: 150%\">\n",
    "            - Problem was with a booster rocket <br><br><br><br>\n",
    "            - Rockets built in sections, O-rings used to seal joints  <br><br><br><br>\n",
    "            - O-rings NOT designed for unusually cold temps <br><br><br><br>\n",
    "            - Temperature was cold - so O-rings were not flexible<br><br><br><br> \n",
    "            - O-rings did not stop flames -- Flames hit the liquid hydrogen fuel tank<br><br><br><br> \n",
    "            - Org culture + decision-making processes were key factors to the accident<br><br><br><br>\n",
    "            - <a href=\"https://upload.wikimedia.org/wikipedia/commons/4/4f/ChallengerSimple.png\"><strong>link: step-by-step graphic</strong></a><br><br><br><br>\n",
    "        </td>\n",
    "        <td>\n",
    "            <a href=\"https://en.wikipedia.org/wiki/Space_Shuttle_Challenger_disaster\"><img src=\"./images/challenger_launch_plume_wikimedia.jpg\" alt=\"Plume from Booster\" title=\"Plume from Booster\" /></a>\n",
    "        </td>\n",
    "    </tr>\n",
    "    <td></td>\n",
    "</table>\n",
    "\n",
    "\n",
    "- [credit: Wikipedia](https://en.wikipedia.org/wiki/Space_Shuttle_Challenger_disaster)"
   ]
  },
  {
   "cell_type": "markdown",
   "metadata": {
    "slideshow": {
     "slide_type": "subslide"
    }
   },
   "source": [
    "# why were the warnings confusing?\n",
    "\n",
    "\n",
    "## [13 pages of data like this...](https://history.nasa.gov/rogersrep/v4part6.htm#1)\n",
    "\n",
    "<table> \n",
    "    <tr> \n",
    "        <th></th> \n",
    "        <th></th> \n",
    "        <th></th> \n",
    "    </tr> \n",
    "    <tr> \n",
    "        <td><img src=\"./images/challenger_main_no_launch_chart_srm_field_joints.jpg\" alt=\"Challenger - Engineer Warning -SRM Field Joints\" title=\"No Launch - SRM Field Joints\" /></td>\n",
    "        <td><img src=\"./images/challenger_main_no_launch_chart.booster_damage.v5p896.jpg\" alt=\"Challenger - Engineer Warning - History of O-Ring Damage\" title=\"History of O-Ring Damages\" /></td>\n",
    "        <td><img src=\"./images/challenger_main_no_launch_oring_temp_vs_damage.jpg\" alt=\"Challenger - Engineer Warning - O-Ring Damage vs Temp\" title=\"O-Ring Damage vs Temp\" /></td>\n",
    "        <th></th> \n",
    "    </tr>\n",
    "</table><br>\n",
    "\n",
    "- [credit: NASA original source](https://history.nasa.gov/rogersrep/v4part6.htm#1)"
   ]
  },
  {
   "cell_type": "markdown",
   "metadata": {
    "slideshow": {
     "slide_type": "subslide"
    }
   },
   "source": [
    "# these pages\n",
    "\n",
    "## - Defined the framework for the launch/no-launch decision\n",
    "\n",
    "\n",
    "## - Omitted 22 launches with temperature vs o-ring damage\n",
    "\n",
    "\n",
    "## - Obscured a crucial lack of data\n",
    "\n",
    "\n",
    "## - Were just not compelling to decision makers\n"
   ]
  },
  {
   "cell_type": "markdown",
   "metadata": {
    "slideshow": {
     "slide_type": "subslide"
    }
   },
   "source": [
    "# ...There must be a better way\n",
    "\n",
    "\n",
    "[Envisioning Information - Edward Tufte](https://www.edwardtufte.com/tufte/books_ei)\n",
    "\n",
    "\n",
    "\n",
    "### Distills Challenger data from Roberts Report & Makes a compelling visualization\n",
    "\n",
    "\n",
    "### Let's replicate that in pandas & matplotlib\n"
   ]
  },
  {
   "cell_type": "code",
   "execution_count": 5,
   "metadata": {
    "ExecuteTime": {
     "end_time": "2019-11-14T19:38:39.685502Z",
     "start_time": "2019-11-14T19:38:39.668504Z"
    },
    "slideshow": {
     "slide_type": "subslide"
    }
   },
   "outputs": [
    {
     "data": {
      "text/html": [
       "<div>\n",
       "<style scoped>\n",
       "    .dataframe tbody tr th:only-of-type {\n",
       "        vertical-align: middle;\n",
       "    }\n",
       "\n",
       "    .dataframe tbody tr th {\n",
       "        vertical-align: top;\n",
       "    }\n",
       "\n",
       "    .dataframe thead th {\n",
       "        text-align: right;\n",
       "    }\n",
       "</style>\n",
       "<table border=\"1\" class=\"dataframe\">\n",
       "  <thead>\n",
       "    <tr style=\"text-align: right;\">\n",
       "      <th></th>\n",
       "      <th>Flight</th>\n",
       "      <th>Date</th>\n",
       "      <th>Temperature °F</th>\n",
       "      <th>Erosion incidents</th>\n",
       "      <th>Blow-by incidents</th>\n",
       "      <th>Damage index</th>\n",
       "      <th>Comments</th>\n",
       "    </tr>\n",
       "  </thead>\n",
       "  <tbody>\n",
       "    <tr>\n",
       "      <th>0</th>\n",
       "      <td>51-C</td>\n",
       "      <td>01.24.85</td>\n",
       "      <td>53</td>\n",
       "      <td>3.0</td>\n",
       "      <td>2.0</td>\n",
       "      <td>11</td>\n",
       "      <td>Most erosion any flight; blow-by; back-up ring...</td>\n",
       "    </tr>\n",
       "    <tr>\n",
       "      <th>1</th>\n",
       "      <td>41-B</td>\n",
       "      <td>02.03.84</td>\n",
       "      <td>57</td>\n",
       "      <td>1.0</td>\n",
       "      <td>NaN</td>\n",
       "      <td>4</td>\n",
       "      <td>Deep, extensive erosion</td>\n",
       "    </tr>\n",
       "    <tr>\n",
       "      <th>2</th>\n",
       "      <td>61-C</td>\n",
       "      <td>01.12.86</td>\n",
       "      <td>58</td>\n",
       "      <td>1.0</td>\n",
       "      <td>NaN</td>\n",
       "      <td>4</td>\n",
       "      <td>O-ring erosion on launch two weeks before Chal...</td>\n",
       "    </tr>\n",
       "    <tr>\n",
       "      <th>3</th>\n",
       "      <td>41-C</td>\n",
       "      <td>04.06.84</td>\n",
       "      <td>63</td>\n",
       "      <td>1.0</td>\n",
       "      <td>NaN</td>\n",
       "      <td>2</td>\n",
       "      <td>O-rings showed signs of heating, but no damage.</td>\n",
       "    </tr>\n",
       "    <tr>\n",
       "      <th>4</th>\n",
       "      <td>1</td>\n",
       "      <td>04.12.81</td>\n",
       "      <td>66</td>\n",
       "      <td>NaN</td>\n",
       "      <td>NaN</td>\n",
       "      <td>0</td>\n",
       "      <td>NaN</td>\n",
       "    </tr>\n",
       "    <tr>\n",
       "      <th>5</th>\n",
       "      <td>6</td>\n",
       "      <td>04.04.83</td>\n",
       "      <td>67</td>\n",
       "      <td>NaN</td>\n",
       "      <td>NaN</td>\n",
       "      <td>0</td>\n",
       "      <td>NaN</td>\n",
       "    </tr>\n",
       "    <tr>\n",
       "      <th>6</th>\n",
       "      <td>51-A</td>\n",
       "      <td>11.08.84</td>\n",
       "      <td>67</td>\n",
       "      <td>NaN</td>\n",
       "      <td>NaN</td>\n",
       "      <td>0</td>\n",
       "      <td>NaN</td>\n",
       "    </tr>\n",
       "    <tr>\n",
       "      <th>7</th>\n",
       "      <td>51-D</td>\n",
       "      <td>04.12.85</td>\n",
       "      <td>67</td>\n",
       "      <td>NaN</td>\n",
       "      <td>NaN</td>\n",
       "      <td>0</td>\n",
       "      <td>NaN</td>\n",
       "    </tr>\n",
       "    <tr>\n",
       "      <th>8</th>\n",
       "      <td>5</td>\n",
       "      <td>11.11.82</td>\n",
       "      <td>68</td>\n",
       "      <td>NaN</td>\n",
       "      <td>NaN</td>\n",
       "      <td>0</td>\n",
       "      <td>NaN</td>\n",
       "    </tr>\n",
       "    <tr>\n",
       "      <th>9</th>\n",
       "      <td>3</td>\n",
       "      <td>03.22.82</td>\n",
       "      <td>69</td>\n",
       "      <td>NaN</td>\n",
       "      <td>NaN</td>\n",
       "      <td>0</td>\n",
       "      <td>NaN</td>\n",
       "    </tr>\n",
       "  </tbody>\n",
       "</table>\n",
       "</div>"
      ],
      "text/plain": [
       "  Flight      Date  Temperature °F  Erosion incidents  Blow-by incidents  \\\n",
       "0   51-C  01.24.85              53                3.0                2.0   \n",
       "1   41-B  02.03.84              57                1.0                NaN   \n",
       "2   61-C  01.12.86              58                1.0                NaN   \n",
       "3   41-C  04.06.84              63                1.0                NaN   \n",
       "4      1  04.12.81              66                NaN                NaN   \n",
       "5      6  04.04.83              67                NaN                NaN   \n",
       "6   51-A  11.08.84              67                NaN                NaN   \n",
       "7   51-D  04.12.85              67                NaN                NaN   \n",
       "8      5  11.11.82              68                NaN                NaN   \n",
       "9      3  03.22.82              69                NaN                NaN   \n",
       "\n",
       "   Damage index                                           Comments  \n",
       "0            11  Most erosion any flight; blow-by; back-up ring...  \n",
       "1             4                            Deep, extensive erosion  \n",
       "2             4  O-ring erosion on launch two weeks before Chal...  \n",
       "3             2    O-rings showed signs of heating, but no damage.  \n",
       "4             0                                                NaN  \n",
       "5             0                                                NaN  \n",
       "6             0                                                NaN  \n",
       "7             0                                                NaN  \n",
       "8             0                                                NaN  \n",
       "9             0                                                NaN  "
      ]
     },
     "metadata": {},
     "output_type": "display_data"
    },
    {
     "name": "stdout",
     "output_type": "stream",
     "text": [
      "\n",
      "\n",
      "...then do some cleanup, which we'll skip\n",
      "\n"
     ]
    }
   ],
   "source": [
    "import pandas as pd\n",
    "df = pd.read_csv(\"./images/challenger_o-ring_damage_data.csv\", encoding=\"ISO-8859–1\")\n",
    "\n",
    "display(df.head(10))\n",
    "\n",
    "print(\"\\n\\n...then do some cleanup, which we'll skip\\n\")"
   ]
  },
  {
   "cell_type": "code",
   "execution_count": 6,
   "metadata": {
    "ExecuteTime": {
     "end_time": "2019-11-14T19:38:39.711505Z",
     "start_time": "2019-11-14T19:38:39.687502Z"
    },
    "slideshow": {
     "slide_type": "skip"
    }
   },
   "outputs": [
    {
     "data": {
      "text/html": [
       "<div>\n",
       "<style scoped>\n",
       "    .dataframe tbody tr th:only-of-type {\n",
       "        vertical-align: middle;\n",
       "    }\n",
       "\n",
       "    .dataframe tbody tr th {\n",
       "        vertical-align: top;\n",
       "    }\n",
       "\n",
       "    .dataframe thead th {\n",
       "        text-align: right;\n",
       "    }\n",
       "</style>\n",
       "<table border=\"1\" class=\"dataframe\">\n",
       "  <thead>\n",
       "    <tr style=\"text-align: right;\">\n",
       "      <th></th>\n",
       "      <th>Flight</th>\n",
       "      <th>Date</th>\n",
       "      <th>Temperature °F</th>\n",
       "      <th>Erosion incidents</th>\n",
       "      <th>Blow-by incidents</th>\n",
       "      <th>Damage index</th>\n",
       "      <th>Comments</th>\n",
       "    </tr>\n",
       "  </thead>\n",
       "  <tbody>\n",
       "    <tr>\n",
       "      <th>0</th>\n",
       "      <td>51-C</td>\n",
       "      <td>1985-01-24</td>\n",
       "      <td>53</td>\n",
       "      <td>3</td>\n",
       "      <td>2</td>\n",
       "      <td>11</td>\n",
       "      <td>Most erosion any flight; blow-by; back-up ring...</td>\n",
       "    </tr>\n",
       "    <tr>\n",
       "      <th>1</th>\n",
       "      <td>41-B</td>\n",
       "      <td>1984-02-03</td>\n",
       "      <td>57</td>\n",
       "      <td>1</td>\n",
       "      <td>0</td>\n",
       "      <td>4</td>\n",
       "      <td>Deep, extensive erosion</td>\n",
       "    </tr>\n",
       "    <tr>\n",
       "      <th>2</th>\n",
       "      <td>61-C</td>\n",
       "      <td>1986-01-12</td>\n",
       "      <td>58</td>\n",
       "      <td>1</td>\n",
       "      <td>0</td>\n",
       "      <td>4</td>\n",
       "      <td>O-ring erosion on launch two weeks before Chal...</td>\n",
       "    </tr>\n",
       "    <tr>\n",
       "      <th>3</th>\n",
       "      <td>41-C</td>\n",
       "      <td>1984-04-06</td>\n",
       "      <td>63</td>\n",
       "      <td>1</td>\n",
       "      <td>0</td>\n",
       "      <td>2</td>\n",
       "      <td>O-rings showed signs of heating, but no damage.</td>\n",
       "    </tr>\n",
       "    <tr>\n",
       "      <th>4</th>\n",
       "      <td>1</td>\n",
       "      <td>1981-04-12</td>\n",
       "      <td>66</td>\n",
       "      <td>0</td>\n",
       "      <td>0</td>\n",
       "      <td>0</td>\n",
       "      <td>no comment listed</td>\n",
       "    </tr>\n",
       "    <tr>\n",
       "      <th>5</th>\n",
       "      <td>6</td>\n",
       "      <td>1983-04-04</td>\n",
       "      <td>67</td>\n",
       "      <td>0</td>\n",
       "      <td>0</td>\n",
       "      <td>0</td>\n",
       "      <td>no comment listed</td>\n",
       "    </tr>\n",
       "    <tr>\n",
       "      <th>6</th>\n",
       "      <td>51-A</td>\n",
       "      <td>1984-11-08</td>\n",
       "      <td>67</td>\n",
       "      <td>0</td>\n",
       "      <td>0</td>\n",
       "      <td>0</td>\n",
       "      <td>no comment listed</td>\n",
       "    </tr>\n",
       "    <tr>\n",
       "      <th>7</th>\n",
       "      <td>51-D</td>\n",
       "      <td>1985-04-12</td>\n",
       "      <td>67</td>\n",
       "      <td>0</td>\n",
       "      <td>0</td>\n",
       "      <td>0</td>\n",
       "      <td>no comment listed</td>\n",
       "    </tr>\n",
       "    <tr>\n",
       "      <th>8</th>\n",
       "      <td>5</td>\n",
       "      <td>1982-11-11</td>\n",
       "      <td>68</td>\n",
       "      <td>0</td>\n",
       "      <td>0</td>\n",
       "      <td>0</td>\n",
       "      <td>no comment listed</td>\n",
       "    </tr>\n",
       "    <tr>\n",
       "      <th>9</th>\n",
       "      <td>3</td>\n",
       "      <td>1982-03-22</td>\n",
       "      <td>69</td>\n",
       "      <td>0</td>\n",
       "      <td>0</td>\n",
       "      <td>0</td>\n",
       "      <td>no comment listed</td>\n",
       "    </tr>\n",
       "  </tbody>\n",
       "</table>\n",
       "</div>"
      ],
      "text/plain": [
       "  Flight       Date  Temperature °F  Erosion incidents  Blow-by incidents  \\\n",
       "0   51-C 1985-01-24              53                  3                  2   \n",
       "1   41-B 1984-02-03              57                  1                  0   \n",
       "2   61-C 1986-01-12              58                  1                  0   \n",
       "3   41-C 1984-04-06              63                  1                  0   \n",
       "4      1 1981-04-12              66                  0                  0   \n",
       "5      6 1983-04-04              67                  0                  0   \n",
       "6   51-A 1984-11-08              67                  0                  0   \n",
       "7   51-D 1985-04-12              67                  0                  0   \n",
       "8      5 1982-11-11              68                  0                  0   \n",
       "9      3 1982-03-22              69                  0                  0   \n",
       "\n",
       "   Damage index                                           Comments  \n",
       "0            11  Most erosion any flight; blow-by; back-up ring...  \n",
       "1             4                            Deep, extensive erosion  \n",
       "2             4  O-ring erosion on launch two weeks before Chal...  \n",
       "3             2    O-rings showed signs of heating, but no damage.  \n",
       "4             0                                  no comment listed  \n",
       "5             0                                  no comment listed  \n",
       "6             0                                  no comment listed  \n",
       "7             0                                  no comment listed  \n",
       "8             0                                  no comment listed  \n",
       "9             0                                  no comment listed  "
      ]
     },
     "execution_count": 6,
     "metadata": {},
     "output_type": "execute_result"
    }
   ],
   "source": [
    "df[\"Date\"] =  pd.to_datetime(df[\"Date\"].str.replace(\".\",\" \"))\n",
    "# df[\"Date\"] =  pd.to_datetime(df[\"Date\"], format='%d.%m.%y')\n",
    "\n",
    "df[[\"Erosion incidents\", \"Blow-by incidents\"]] = df[[\"Erosion incidents\", \"Blow-by incidents\"]].fillna(axis=1, value=0)\n",
    "df[[\"Temperature °F\", \"Erosion incidents\", \"Blow-by incidents\", \"Damage index\"]] = df[[\"Temperature °F\", \"Erosion incidents\", \"Blow-by incidents\", \"Damage index\"]].apply(pd.to_numeric).astype('int')\n",
    "\n",
    "df[[\"Flight\", \"Comments\"]] = df[[\"Flight\", \"Comments\"]].astype('category')\n",
    "df[\"Comments\"] = df[\"Comments\"].cat.add_categories(\"no comment listed\")\n",
    "df[[\"Comments\"]] = df[[\"Comments\"]].fillna(\"no comment listed\")\n",
    "\n",
    "df.head(10)"
   ]
  },
  {
   "cell_type": "code",
   "execution_count": 7,
   "metadata": {
    "ExecuteTime": {
     "end_time": "2019-11-14T19:38:39.722503Z",
     "start_time": "2019-11-14T19:38:39.712504Z"
    },
    "slideshow": {
     "slide_type": "slide"
    }
   },
   "outputs": [
    {
     "data": {
      "text/html": [
       "<div>\n",
       "<style scoped>\n",
       "    .dataframe tbody tr th:only-of-type {\n",
       "        vertical-align: middle;\n",
       "    }\n",
       "\n",
       "    .dataframe tbody tr th {\n",
       "        vertical-align: top;\n",
       "    }\n",
       "\n",
       "    .dataframe thead th {\n",
       "        text-align: right;\n",
       "    }\n",
       "</style>\n",
       "<table border=\"1\" class=\"dataframe\">\n",
       "  <thead>\n",
       "    <tr style=\"text-align: right;\">\n",
       "      <th></th>\n",
       "      <th>Flight</th>\n",
       "      <th>Date</th>\n",
       "      <th>Temperature °F</th>\n",
       "      <th>Erosion incidents</th>\n",
       "      <th>Blow-by incidents</th>\n",
       "      <th>Damage index</th>\n",
       "      <th>Comments</th>\n",
       "    </tr>\n",
       "  </thead>\n",
       "  <tbody>\n",
       "    <tr>\n",
       "      <th>0</th>\n",
       "      <td>51-C</td>\n",
       "      <td>1985-01-24</td>\n",
       "      <td>53</td>\n",
       "      <td>3</td>\n",
       "      <td>2</td>\n",
       "      <td>11</td>\n",
       "      <td>Most erosion any flight; blow-by; back-up ring...</td>\n",
       "    </tr>\n",
       "    <tr>\n",
       "      <th>1</th>\n",
       "      <td>41-B</td>\n",
       "      <td>1984-02-03</td>\n",
       "      <td>57</td>\n",
       "      <td>1</td>\n",
       "      <td>0</td>\n",
       "      <td>4</td>\n",
       "      <td>Deep, extensive erosion</td>\n",
       "    </tr>\n",
       "    <tr>\n",
       "      <th>2</th>\n",
       "      <td>61-C</td>\n",
       "      <td>1986-01-12</td>\n",
       "      <td>58</td>\n",
       "      <td>1</td>\n",
       "      <td>0</td>\n",
       "      <td>4</td>\n",
       "      <td>O-ring erosion on launch two weeks before Chal...</td>\n",
       "    </tr>\n",
       "    <tr>\n",
       "      <th>3</th>\n",
       "      <td>41-C</td>\n",
       "      <td>1984-04-06</td>\n",
       "      <td>63</td>\n",
       "      <td>1</td>\n",
       "      <td>0</td>\n",
       "      <td>2</td>\n",
       "      <td>O-rings showed signs of heating, but no damage.</td>\n",
       "    </tr>\n",
       "    <tr>\n",
       "      <th>4</th>\n",
       "      <td>1</td>\n",
       "      <td>1981-04-12</td>\n",
       "      <td>66</td>\n",
       "      <td>0</td>\n",
       "      <td>0</td>\n",
       "      <td>0</td>\n",
       "      <td>no comment listed</td>\n",
       "    </tr>\n",
       "    <tr>\n",
       "      <th>5</th>\n",
       "      <td>6</td>\n",
       "      <td>1983-04-04</td>\n",
       "      <td>67</td>\n",
       "      <td>0</td>\n",
       "      <td>0</td>\n",
       "      <td>0</td>\n",
       "      <td>no comment listed</td>\n",
       "    </tr>\n",
       "    <tr>\n",
       "      <th>6</th>\n",
       "      <td>51-A</td>\n",
       "      <td>1984-11-08</td>\n",
       "      <td>67</td>\n",
       "      <td>0</td>\n",
       "      <td>0</td>\n",
       "      <td>0</td>\n",
       "      <td>no comment listed</td>\n",
       "    </tr>\n",
       "    <tr>\n",
       "      <th>7</th>\n",
       "      <td>51-D</td>\n",
       "      <td>1985-04-12</td>\n",
       "      <td>67</td>\n",
       "      <td>0</td>\n",
       "      <td>0</td>\n",
       "      <td>0</td>\n",
       "      <td>no comment listed</td>\n",
       "    </tr>\n",
       "    <tr>\n",
       "      <th>8</th>\n",
       "      <td>5</td>\n",
       "      <td>1982-11-11</td>\n",
       "      <td>68</td>\n",
       "      <td>0</td>\n",
       "      <td>0</td>\n",
       "      <td>0</td>\n",
       "      <td>no comment listed</td>\n",
       "    </tr>\n",
       "    <tr>\n",
       "      <th>9</th>\n",
       "      <td>3</td>\n",
       "      <td>1982-03-22</td>\n",
       "      <td>69</td>\n",
       "      <td>0</td>\n",
       "      <td>0</td>\n",
       "      <td>0</td>\n",
       "      <td>no comment listed</td>\n",
       "    </tr>\n",
       "  </tbody>\n",
       "</table>\n",
       "</div>"
      ],
      "text/plain": [
       "  Flight       Date  Temperature °F  Erosion incidents  Blow-by incidents  \\\n",
       "0   51-C 1985-01-24              53                  3                  2   \n",
       "1   41-B 1984-02-03              57                  1                  0   \n",
       "2   61-C 1986-01-12              58                  1                  0   \n",
       "3   41-C 1984-04-06              63                  1                  0   \n",
       "4      1 1981-04-12              66                  0                  0   \n",
       "5      6 1983-04-04              67                  0                  0   \n",
       "6   51-A 1984-11-08              67                  0                  0   \n",
       "7   51-D 1985-04-12              67                  0                  0   \n",
       "8      5 1982-11-11              68                  0                  0   \n",
       "9      3 1982-03-22              69                  0                  0   \n",
       "\n",
       "   Damage index                                           Comments  \n",
       "0            11  Most erosion any flight; blow-by; back-up ring...  \n",
       "1             4                            Deep, extensive erosion  \n",
       "2             4  O-ring erosion on launch two weeks before Chal...  \n",
       "3             2    O-rings showed signs of heating, but no damage.  \n",
       "4             0                                  no comment listed  \n",
       "5             0                                  no comment listed  \n",
       "6             0                                  no comment listed  \n",
       "7             0                                  no comment listed  \n",
       "8             0                                  no comment listed  \n",
       "9             0                                  no comment listed  "
      ]
     },
     "execution_count": 7,
     "metadata": {},
     "output_type": "execute_result"
    }
   ],
   "source": [
    "# sort temperature values to use as X axis, so we can plot results\n",
    "df = df.sort_values(\"Temperature °F\")\n",
    "df.head(10)"
   ]
  },
  {
   "cell_type": "code",
   "execution_count": 8,
   "metadata": {
    "ExecuteTime": {
     "end_time": "2019-11-14T19:38:39.730506Z",
     "start_time": "2019-11-14T19:38:39.723504Z"
    },
    "slideshow": {
     "slide_type": "subslide"
    }
   },
   "outputs": [
    {
     "data": {
      "text/plain": [
       "LinearRegression(copy_X=True, fit_intercept=True, n_jobs=None, normalize=False)"
      ]
     },
     "execution_count": 8,
     "metadata": {},
     "output_type": "execute_result"
    }
   ],
   "source": [
    "model = LinearRegression()\n",
    "\n",
    "# add linear regression\n",
    "# X = df.loc[:, \"Temperature °F\"].values.reshape(-1, 1) # get values & convert to a numpy array  FAILS intermittently, while iloc works consistently\n",
    "# Y = df.loc[:, \"Damage index\"].values.reshape(-1, 1)  # get values and convert into 1 column numpy array\n",
    "X = df.iloc[:, 2].values.reshape(-1, 1)  # another way to do this using iloc\n",
    "Y = df.iloc[:, 5].values.reshape(-1, 1)  # ibid\n",
    "\n",
    "# run regression\n",
    "linear_regressor = LinearRegression()  # create object for the class\n",
    "linear_regressor.fit(X, Y)  # perform linear regression\n",
    "Y_pred = linear_regressor.predict(X)  # make predictions"
   ]
  },
  {
   "cell_type": "code",
   "execution_count": 9,
   "metadata": {
    "ExecuteTime": {
     "end_time": "2019-11-14T19:38:39.892501Z",
     "start_time": "2019-11-14T19:38:39.731503Z"
    },
    "slideshow": {
     "slide_type": "subslide"
    }
   },
   "outputs": [
    {
     "data": {
      "text/plain": [
       "<Figure size 1440x576 with 0 Axes>"
      ]
     },
     "execution_count": 9,
     "metadata": {},
     "output_type": "execute_result"
    },
    {
     "data": {
      "text/plain": [
       "<matplotlib.collections.PathCollection at 0x2145fd2ecc8>"
      ]
     },
     "execution_count": 9,
     "metadata": {},
     "output_type": "execute_result"
    },
    {
     "data": {
      "text/plain": [
       "[<matplotlib.lines.Line2D at 0x2145fc770c8>]"
      ]
     },
     "execution_count": 9,
     "metadata": {},
     "output_type": "execute_result"
    },
    {
     "data": {
      "text/plain": [
       "Text(0.5, 1.0, 'Challenger STS-51-L:  O-ring Damage vs Temperature')"
      ]
     },
     "execution_count": 9,
     "metadata": {},
     "output_type": "execute_result"
    },
    {
     "data": {
      "text/plain": [
       "Text(0.5, 0, 'Temperature °F')"
      ]
     },
     "execution_count": 9,
     "metadata": {},
     "output_type": "execute_result"
    },
    {
     "data": {
      "text/plain": [
       "Text(0, 0.5, 'Damage index')"
      ]
     },
     "execution_count": 9,
     "metadata": {},
     "output_type": "execute_result"
    },
    {
     "data": {
      "image/png": "[encoded data removed]",
      "text/plain": [
       "<Figure size 1440x576 with 1 Axes>"
      ]
     },
     "metadata": {
      "needs_background": "light"
     },
     "output_type": "display_data"
    }
   ],
   "source": [
    "plt.figure(figsize=(20,8))\n",
    "plt.scatter(X, Y, color=\"green\")\n",
    "plt.plot(X, Y_pred, color=\"green\", linewidth=2)\n",
    "plt.title(\"Challenger STS-51-L:  O-ring Damage vs Temperature\", fontsize=20)\n",
    "plt.tick_params(axis='both', which='major', labelsize=16)\n",
    "plt.xlabel(\"Temperature °F\", fontsize=20)\n",
    "plt.ylabel(\"Damage index\", fontsize=20)\n",
    "plt.show()"
   ]
  },
  {
   "cell_type": "code",
   "execution_count": 10,
   "metadata": {
    "ExecuteTime": {
     "end_time": "2019-11-14T19:38:39.898503Z",
     "start_time": "2019-11-14T19:38:39.893504Z"
    },
    "slideshow": {
     "slide_type": "subslide"
    }
   },
   "outputs": [],
   "source": [
    "# generate array of lower temps -- below temps of previous launches\n",
    "Z = [x for x in range(20, 53)]\n",
    "Z = np.asarray(Z).reshape(-1, 1)\n",
    "Z_pred = linear_regressor.predict(Z)  # make predictions\n",
    "\n",
    "# note some helpful datapoints\n",
    "prior_launch_temp_min = df.iloc[:, 2].min().round(1)\n",
    "challenger_launch_temp = 36\n",
    "prior_damage_avg = df.loc[:, \"Damage index\"].mean().round(1)  # using historic data\n",
    "\n",
    "# predict damage for temperature at time of launch\n",
    "challenger_launch_temp_np = np.asarray(challenger_launch_temp).reshape(-1, 1)\n",
    "challenger_damage_predicted = round(linear_regressor.predict(challenger_launch_temp_np)[0][0],1)\n"
   ]
  },
  {
   "cell_type": "code",
   "execution_count": 11,
   "metadata": {
    "ExecuteTime": {
     "end_time": "2019-11-14T19:38:40.081501Z",
     "start_time": "2019-11-14T19:38:39.899502Z"
    },
    "scrolled": false,
    "slideshow": {
     "slide_type": "subslide"
    }
   },
   "outputs": [
    {
     "data": {
      "text/plain": [
       "True"
      ]
     },
     "execution_count": 11,
     "metadata": {},
     "output_type": "execute_result"
    },
    {
     "data": {
      "text/plain": [
       "True"
      ]
     },
     "execution_count": 11,
     "metadata": {},
     "output_type": "execute_result"
    },
    {
     "data": {
      "text/plain": [
       "True"
      ]
     },
     "execution_count": 11,
     "metadata": {},
     "output_type": "execute_result"
    },
    {
     "data": {
      "text/plain": [
       "True"
      ]
     },
     "execution_count": 11,
     "metadata": {},
     "output_type": "execute_result"
    },
    {
     "data": {
      "image/png": "[encoded data removed]",
      "text/plain": [
       "<Figure size 1440x576 with 1 Axes>"
      ]
     },
     "metadata": {
      "needs_background": "light"
     },
     "output_type": "display_data"
    }
   ],
   "source": [
    "# create plot; use functions so we can build up graph step by step\n",
    "\n",
    "def plot_history():\n",
    "    plt.figure(figsize=(20,8))\n",
    "    plt.title(\"Challenger O-ring Damage as a Function of Temperature\", fontsize=20)\n",
    "    plt.tick_params(axis='both', which='major', labelsize=16)\n",
    "    plt.xlabel(\"Temperature °F\", fontsize=20)\n",
    "    plt.ylabel(\"Damage index\", fontsize=20)\n",
    "    plt.xlim(20, 85)\n",
    "    plt.ylim(-2, 15)\n",
    "    plt.scatter(X, Y, color=\"green\")\n",
    "    plt.plot(X, Y_pred, color='green', linewidth=2)                 # plot known history\n",
    "    \n",
    "    return True\n",
    "\n",
    "\n",
    "def plot_key_temps():\n",
    "    # highlight key temperatures\n",
    "    plt.axvline(53, color=\"green\", linestyle=\":\", linewidth=2)\n",
    "    plt.axvline(36, color=\"grey\", linestyle=\":\")\n",
    " \n",
    "    return True\n",
    "\n",
    "def plot_predicted_damage():\n",
    "    plt.plot(Z, Z_pred, color='red', linestyle=\"--\", linewidth=2)   # plot predicted damage\n",
    "    \n",
    "    return True\n",
    "\n",
    "\n",
    "def plot_highlights():\n",
    "    plt.axhline(df.loc[:, \"Damage index\"].mean(), color=\"green\", linestyle=\"dotted\", linewidth=2)\n",
    "    plt.axhline(challenger_damage_predicted, color=\"red\", linestyle=\"--\", linewidth=2)\n",
    "\n",
    "    # add some labels to hammer it home\n",
    "    plt.text(36, 0.6, f\"{prior_damage_avg} AVERAGE Damage for Prior Launches\", fontsize=20)\n",
    "    plt.text(36, 10, f\"{challenger_damage_predicted} PREDICTED Damage at 36°F\", fontsize=20)\n",
    "\n",
    "    # ++ live damage ratio note\n",
    "    \n",
    "    return True\n",
    "\n",
    "# uncomment lines below through discussion\n",
    "plot_history()\n",
    "plot_key_temps()\n",
    "plot_predicted_damage()\n",
    "plot_highlights()\n",
    "\n",
    "plt.show()"
   ]
  },
  {
   "cell_type": "code",
   "execution_count": 12,
   "metadata": {
    "ExecuteTime": {
     "end_time": "2019-11-14T19:38:40.265502Z",
     "start_time": "2019-11-14T19:38:40.082502Z"
    },
    "slideshow": {
     "slide_type": "subslide"
    }
   },
   "outputs": [
    {
     "data": {
      "image/png": "[encoded data removed]",
      "text/plain": [
       "<Figure size 1440x576 with 1 Axes>"
      ]
     },
     "metadata": {
      "needs_background": "light"
     },
     "output_type": "display_data"
    }
   ],
   "source": [
    "# reference slide:  same slide as previous - with everything in one shot\n",
    "plt.figure(figsize=(20,8))\n",
    "plt.title(\"Challenger O-ring Damage as a Function of Temperature\", fontsize=20)\n",
    "plt.tick_params(axis='both', which='major', labelsize=16)\n",
    "plt.xlabel(\"Temperature °F\", fontsize=20)\n",
    "plt.ylabel(\"Damage index\", fontsize=20)\n",
    "plt.xlim(20, 85)\n",
    "plt.ylim(-2, 15)\n",
    "plt.scatter(X, Y, color=\"green\")\n",
    "plt.plot(X, Y_pred, color='green', linewidth=2)                 # plot known history\n",
    "plt.plot(Z, Z_pred, color='red', linestyle=\"--\", linewidth=2)   # plot predicted damage\n",
    "\n",
    "# highlight key thresholds\n",
    "plt.axvline(36, color=\"grey\", linestyle=\":\")\n",
    "plt.axvline(53, color=\"green\", linestyle=\":\", linewidth=2)\n",
    "plt.axhline(df.loc[:, \"Damage index\"].mean(), color=\"green\", linestyle=\"dotted\", linewidth=2)\n",
    "plt.axhline(challenger_damage_predicted, color=\"red\", linestyle=\"--\", linewidth=2)\n",
    "\n",
    "# add some labels to hammer it home\n",
    "plt.text(22, 1.75, f\"{prior_damage_avg} AVG Damage at LOWEST PRIOR TEMP OF 53°F\", fontsize=16)\n",
    "plt.text(37, 9.75, f\"{challenger_damage_predicted} PREDICTED Damage at 36°F\", fontsize=16)\n",
    "\n",
    "\n",
    "plt.show();"
   ]
  },
  {
   "cell_type": "markdown",
   "metadata": {
    "slideshow": {
     "slide_type": "slide"
    }
   },
   "source": [
    "# Why is visualization important?   *Numbers don't always show important facts* <br>\n",
    "\n",
    "## Witness Anscome's Quartet:"
   ]
  },
  {
   "cell_type": "code",
   "execution_count": 13,
   "metadata": {
    "ExecuteTime": {
     "end_time": "2019-11-14T19:38:40.992527Z",
     "start_time": "2019-11-14T19:38:40.266503Z"
    },
    "cell_style": "split",
    "slideshow": {
     "slide_type": "subslide"
    }
   },
   "outputs": [
    {
     "data": {
      "text/plain": [
       "<seaborn.axisgrid.FacetGrid at 0x214608961c8>"
      ]
     },
     "execution_count": 13,
     "metadata": {},
     "output_type": "execute_result"
    },
    {
     "name": "stdout",
     "output_type": "stream",
     "text": [
      "\n",
      "Credit:  https://seaborn.pydata.org/examples/anscombes_quartet.html\n"
     ]
    },
    {
     "data": {
      "image/png": "[encoded data removed]",
      "text/plain": [
       "<Figure size 576x576 with 4 Axes>"
      ]
     },
     "metadata": {},
     "output_type": "display_data"
    }
   ],
   "source": [
    "np.warnings.filterwarnings('ignore')\n",
    "import seaborn as sns\n",
    "sns.set(style=\"ticks\")\n",
    "\n",
    "# Load the example dataset for Anscombe's quartet\n",
    "df = sns.load_dataset(\"anscombe\")\n",
    "\n",
    "# Show the results of a linear regression within each dataset\n",
    "sns.lmplot(x=\"x\", y=\"y\", col=\"dataset\", hue=\"dataset\", data=df,\n",
    "           col_wrap=2, ci=None, palette=\"muted\", height=4,\n",
    "           scatter_kws={\"s\": 50, \"alpha\": 1})\n",
    "\n",
    "print(\"\\nCredit:  https://seaborn.pydata.org/examples/anscombes_quartet.html\")"
   ]
  },
  {
   "cell_type": "code",
   "execution_count": 14,
   "metadata": {
    "ExecuteTime": {
     "end_time": "2019-11-14T19:38:41.016527Z",
     "start_time": "2019-11-14T19:38:40.993528Z"
    },
    "cell_style": "split",
    "slideshow": {
     "slide_type": "fragment"
    }
   },
   "outputs": [
    {
     "name": "stdout",
     "output_type": "stream",
     "text": [
      "Mean of each dataset in df\n"
     ]
    },
    {
     "data": {
      "text/html": [
       "<div>\n",
       "<style scoped>\n",
       "    .dataframe tbody tr th:only-of-type {\n",
       "        vertical-align: middle;\n",
       "    }\n",
       "\n",
       "    .dataframe tbody tr th {\n",
       "        vertical-align: top;\n",
       "    }\n",
       "\n",
       "    .dataframe thead th {\n",
       "        text-align: right;\n",
       "    }\n",
       "</style>\n",
       "<table border=\"1\" class=\"dataframe\">\n",
       "  <thead>\n",
       "    <tr style=\"text-align: right;\">\n",
       "      <th></th>\n",
       "      <th>x</th>\n",
       "      <th>y</th>\n",
       "    </tr>\n",
       "    <tr>\n",
       "      <th>dataset</th>\n",
       "      <th></th>\n",
       "      <th></th>\n",
       "    </tr>\n",
       "  </thead>\n",
       "  <tbody>\n",
       "    <tr>\n",
       "      <th>I</th>\n",
       "      <td>9.0</td>\n",
       "      <td>7.500909</td>\n",
       "    </tr>\n",
       "    <tr>\n",
       "      <th>II</th>\n",
       "      <td>9.0</td>\n",
       "      <td>7.500909</td>\n",
       "    </tr>\n",
       "    <tr>\n",
       "      <th>III</th>\n",
       "      <td>9.0</td>\n",
       "      <td>7.500000</td>\n",
       "    </tr>\n",
       "    <tr>\n",
       "      <th>IV</th>\n",
       "      <td>9.0</td>\n",
       "      <td>7.500909</td>\n",
       "    </tr>\n",
       "  </tbody>\n",
       "</table>\n",
       "</div>"
      ],
      "text/plain": [
       "           x         y\n",
       "dataset               \n",
       "I        9.0  7.500909\n",
       "II       9.0  7.500909\n",
       "III      9.0  7.500000\n",
       "IV       9.0  7.500909"
      ]
     },
     "metadata": {},
     "output_type": "display_data"
    },
    {
     "name": "stdout",
     "output_type": "stream",
     "text": [
      "\n",
      "\n",
      "Covariance - measures how changes are associated between variables\n"
     ]
    },
    {
     "data": {
      "text/html": [
       "<div>\n",
       "<style scoped>\n",
       "    .dataframe tbody tr th:only-of-type {\n",
       "        vertical-align: middle;\n",
       "    }\n",
       "\n",
       "    .dataframe tbody tr th {\n",
       "        vertical-align: top;\n",
       "    }\n",
       "\n",
       "    .dataframe thead th {\n",
       "        text-align: right;\n",
       "    }\n",
       "</style>\n",
       "<table border=\"1\" class=\"dataframe\">\n",
       "  <thead>\n",
       "    <tr style=\"text-align: right;\">\n",
       "      <th></th>\n",
       "      <th></th>\n",
       "      <th>x</th>\n",
       "      <th>y</th>\n",
       "    </tr>\n",
       "    <tr>\n",
       "      <th>dataset</th>\n",
       "      <th></th>\n",
       "      <th></th>\n",
       "      <th></th>\n",
       "    </tr>\n",
       "  </thead>\n",
       "  <tbody>\n",
       "    <tr>\n",
       "      <th rowspan=\"2\" valign=\"top\">I</th>\n",
       "      <th>x</th>\n",
       "      <td>11.0</td>\n",
       "      <td>5.5</td>\n",
       "    </tr>\n",
       "    <tr>\n",
       "      <th>y</th>\n",
       "      <td>5.5</td>\n",
       "      <td>4.1</td>\n",
       "    </tr>\n",
       "    <tr>\n",
       "      <th rowspan=\"2\" valign=\"top\">II</th>\n",
       "      <th>x</th>\n",
       "      <td>11.0</td>\n",
       "      <td>5.5</td>\n",
       "    </tr>\n",
       "    <tr>\n",
       "      <th>y</th>\n",
       "      <td>5.5</td>\n",
       "      <td>4.1</td>\n",
       "    </tr>\n",
       "    <tr>\n",
       "      <th rowspan=\"2\" valign=\"top\">III</th>\n",
       "      <th>x</th>\n",
       "      <td>11.0</td>\n",
       "      <td>5.5</td>\n",
       "    </tr>\n",
       "    <tr>\n",
       "      <th>y</th>\n",
       "      <td>5.5</td>\n",
       "      <td>4.1</td>\n",
       "    </tr>\n",
       "    <tr>\n",
       "      <th rowspan=\"2\" valign=\"top\">IV</th>\n",
       "      <th>x</th>\n",
       "      <td>11.0</td>\n",
       "      <td>5.5</td>\n",
       "    </tr>\n",
       "    <tr>\n",
       "      <th>y</th>\n",
       "      <td>5.5</td>\n",
       "      <td>4.1</td>\n",
       "    </tr>\n",
       "  </tbody>\n",
       "</table>\n",
       "</div>"
      ],
      "text/plain": [
       "              x    y\n",
       "dataset             \n",
       "I       x  11.0  5.5\n",
       "        y   5.5  4.1\n",
       "II      x  11.0  5.5\n",
       "        y   5.5  4.1\n",
       "III     x  11.0  5.5\n",
       "        y   5.5  4.1\n",
       "IV      x  11.0  5.5\n",
       "        y   5.5  4.1"
      ]
     },
     "metadata": {},
     "output_type": "display_data"
    }
   ],
   "source": [
    "print(\"Mean of each dataset in df\")\n",
    "display(df.groupby([\"dataset\"]).mean())\n",
    "\n",
    "print(\"\\n\\nCovariance - measures how changes are associated between variables\")\n",
    "display(df.groupby([\"dataset\"]).cov().round(1))\n",
    "\n",
    "# print(\"\\n\\nCorrelation Coeffient (normalized Covariance)\")\n",
    "# display(df.groupby([\"dataset\"]).cov().round(1))"
   ]
  },
  {
   "cell_type": "markdown",
   "metadata": {
    "slideshow": {
     "slide_type": "subslide"
    }
   },
   "source": [
    "<img src=\"./images/anscombe's_quartet_3.svg_wikipedia.png\" width=60% /><br>\n",
    "<strong><italic>credit: Wikipedia<strong><italic><br>\n",
    "<strong>[Pure witchcraft from:  Anscome's Quartet & Datasaurus](https://www.autodeskresearch.com/publications/samestats)</strong><br><br>\n",
    "<strong>[Python/Seaborm page to generate and plot your own](https://seaborn.pydata.org/examples/anscombes_quartet.html)<br>"
   ]
  },
  {
   "cell_type": "markdown",
   "metadata": {
    "slideshow": {
     "slide_type": "slide"
    }
   },
   "source": [
    "# 2- Learn about the grammar of graphics and how to choose the right visual approach"
   ]
  },
  {
   "cell_type": "markdown",
   "metadata": {
    "slideshow": {
     "slide_type": "subslide"
    }
   },
   "source": [
    "# Grammar of Graphics\n",
    "\n",
    "- A structured framework that tells us how to construct graphics in a layered approach<br>\n",
    "- From Leland Wilkinson's book of the same name<br>\n",
    "- Drove creation of ggplot (R) and plotnine (python)<br><br>\n",
    "<img src=\"./images/grammar_graphics_pyramid_1 mcLnnVdHNg-ikDbHJfHDNA.png\" width=70% />\n",
    "\n",
    "<strong>- resources to check out:</strong><br>\n",
    "https://towardsdatascience.com/murdering-a-legendary-data-story-what-can-we-learn-from-a-grammar-of-graphics-ad6ca42f5e30<br>\n",
    "https://www.slideshare.net/kesarifms/grammar-of-graphics-the-secret-sauce-of-powerful-data-stories<br>\n"
   ]
  },
  {
   "cell_type": "markdown",
   "metadata": {
    "slideshow": {
     "slide_type": "subslide"
    }
   },
   "source": [
    "# Find the graphic you need = objective + data you have\n",
    "<a href=\"https://www.data-to-viz.com/\" target=\"_blank\"> <img src=\"./images/data_to_vis_screencap.png\" title=\"Data to Vis Website\" alt=\"Data to Vis Website\"/></a><br><br>\n",
    "[Data-to-Viz site - free, interactive tool](https://www.data-to-viz.com/)"
   ]
  },
  {
   "cell_type": "markdown",
   "metadata": {
    "slideshow": {
     "slide_type": "slide"
    }
   },
   "source": [
    "# Quiz"
   ]
  },
  {
   "cell_type": "markdown",
   "metadata": {
    "slideshow": {
     "slide_type": "slide"
    }
   },
   "source": [
    "# 3- Get a snapshot of the python visualization universe\n",
    "\n",
    "- [PyVis landscape overview](https://pyviz.org/overviews/index.html)<br><br>\n",
    "- [PyCon 2017 - Pythons Visualization Landscape by Jake VanderPlas](https://speakerdeck.com/jakevdp/pythons-visualization-landscape-pycon-2017)<br><br>"
   ]
  },
  {
   "cell_type": "code",
   "execution_count": 15,
   "metadata": {
    "ExecuteTime": {
     "end_time": "2019-11-14T19:38:41.047530Z",
     "start_time": "2019-11-14T19:38:41.017528Z"
    },
    "slideshow": {
     "slide_type": "subslide"
    }
   },
   "outputs": [
    {
     "data": {
      "application/vnd.jupyter.widget-view+json": {
       "model_id": "d424b35258d14bb5b8fa979a36354b6d",
       "version_major": 2,
       "version_minor": 0
      },
      "text/plain": [
       "Button(description='Swap image', style=ButtonStyle())"
      ]
     },
     "metadata": {},
     "output_type": "display_data"
    },
    {
     "data": {
      "application/vnd.jupyter.widget-view+json": {
       "model_id": "22839e81a62a41e59c1437c752658dc4",
       "version_major": 2,
       "version_minor": 0
      },
      "text/plain": [
       "Image(value=b'\\x89PNG\\r\\n\\x1a\\n\\x00\\x00\\x00\\rIHDR\\x00\\x00\\x0b\\xe8\\x00\\x00\\x05\\xc5\\x08\\x06\\x00\\x00\\x00/\\x82\\x16…"
      ]
     },
     "metadata": {},
     "output_type": "display_data"
    }
   ],
   "source": [
    "# Focus of this talk\n",
    "from itertools import cycle\n",
    "import ipywidgets as widgets\n",
    "from IPython.display import display\n",
    "from IPython.display import clear_output\n",
    "\n",
    "# create list of images to rotate through\n",
    "image_set = [\"./images/pyvis_landscape_overview_2019_landscape-talk_highlights.png\", \"./images/pyvis_landscape_overview_2019_landscape-colors.png\"]\n",
    "\n",
    "\n",
    "images = [widgets.Image(value=open(name, \"rb\").read()) for name in image_set]\n",
    "imagecycle = cycle(images)  # iterator of images\n",
    "\n",
    "button = widgets.Button(description=\"Swap image\")\n",
    "output = widgets.Output()\n",
    "display(button,widgets.Image(value=open(\"./images/pyvis_landscape_overview_2019_landscape-colors.png\", \"rb\").read()))\n",
    "\n",
    "def on_button_clicked(b):\n",
    "    display(clear_output())\n",
    "    display(button, output)\n",
    "    display(next(imagecycle))\n",
    "\n",
    "button.on_click(on_button_clicked)"
   ]
  },
  {
   "cell_type": "markdown",
   "metadata": {
    "slideshow": {
     "slide_type": "subslide"
    }
   },
   "source": [
    "# Audience Question - can you also touch on plotly and dash with pros/cons\n",
    "\n",
    "\n",
    "[Data viz comparison matrix](http://www.pythongrids.org/grids/g/data-visualization/)<br>\n",
    "[Datavis - why so many libraries](https://www.anaconda.com/python-data-visualization-2018-why-so-many-libraries/)\n",
    "\n",
    "<table>\n",
    "    <tr style=\"vertical-align: top\">\n",
    "        <th style=\"vertical-align:top; text-align:right; font-size: 150%\" width=\"200px\"> <i></i></th>\n",
    "        <th style=\"vertical-align:top; text-align:left; font-size: 150%\" width=\"200px\"><b>Matplotlib</b></th>\n",
    "        <th style=\"vertical-align:top; text-align:left; font-size: 150%\" width=\"200px\"><b>Bokeh</b></th> \n",
    "        <th style=\"vertical-align:top; text-align:left; font-size: 150%\" width=\"200px\"><b>Plotly</b></th> \n",
    "    </tr>\n",
    "    <tr>\n",
    "        <td style=\"vertical-align:top; text-align:right; font-size: 150%\"><i>release year</i></td>\n",
    "        <td style=\"vertical-align:top; text-align:left; font-size: 150%\">2003</td>\n",
    "        <td style=\"vertical-align:top; text-align:left; font-size: 150%\">2013</td> \n",
    "        <td style=\"vertical-align:top; text-align:left; font-size: 150%\">2013</td> \n",
    "    </tr>\n",
    "    <tr>\n",
    "        <td style=\"vertical-align:top; text-align:right; font-size: 150%\"><i>framework - front end</i></td>\n",
    "        <td style=\"vertical-align:top; text-align:left; font-size: 150%\">matplotlib</td>\n",
    "        <td style=\"vertical-align:top; text-align:left; font-size: 150%\">Javascript</td> \n",
    "        <td style=\"vertical-align:top; text-align:left; font-size: 150%\">Javascript</td> \n",
    "    </tr>\n",
    "    <tr>\n",
    "        <td style=\"vertical-align:top; text-align:right; font-size: 150%\"><i>backend</i></td>\n",
    "        <td style=\"vertical-align:top; text-align:left; font-size: 150%\">many renderers<br></td>\n",
    "        <td style=\"vertical-align:top; text-align:left; font-size: 150%\">Tornado<br></td> \n",
    "        <td style=\"vertical-align:top; text-align:left; font-size: 150%\">Flask<br></td> \n",
    "    </tr>\n",
    "    <tr>\n",
    "        <td style=\"vertical-align:top; text-align:right; font-size: 150%\"><i>Dashboard Framework</i></td>\n",
    "        <td style=\"vertical-align:top; text-align:left; font-size: 150%\">None</td>\n",
    "        <td style=\"vertical-align:top; text-align:left; font-size: 150%\">Panel</td> \n",
    "        <td style=\"vertical-align:top; text-align:left; font-size: 150%\">Panel<br>Dash</td> \n",
    "    </tr>\n",
    "    <tr>\n",
    "        <td style=\"vertical-align:top; text-align:right; font-size: 150%\"><i>Supporting Libraries</i></td>\n",
    "        <td style=\"vertical-align:top; text-align:left; font-size: 150%\">Seaborn</td>\n",
    "        <td style=\"vertical-align:top; text-align:left; font-size: 150%\">Batteries Included</td> \n",
    "        <td style=\"vertical-align:top; text-align:left; font-size: 150%\">Plotly<br>Express<br>Cufflinks</td> \n",
    "    </tr>\n",
    "    <tr>\n",
    "        <td style=\"vertical-align:top; text-align:right; font-size: 150%\"><i>Corporate Sponsor</i></td>\n",
    "        <td style=\"vertical-align:top; text-align:left; font-size: 150%\">None</td>\n",
    "        <td style=\"vertical-align:top; text-align:left; font-size: 150%\">Anaconda</td> \n",
    "        <td style=\"tvertical-align:top; text-align:left; font-size: 150%\">Plotly - the company</td> \n",
    "    </tr>\n",
    "    <tr style=\"vertical-align: top\">\n",
    "        <td style=\"vertical-align:top; text-align:right; font-size: 150%\"><i>Maybe you didn't know</i></td>\n",
    "        <td style=\"vertical-align:top; text-align:left; font-size: 150%\">Oldest visualization library</td>\n",
    "        <td style=\"vertical-align:top; text-align:left; font-size: 150%\">Intelligent Errors - similar attributes are {some suggestions...}</td> \n",
    "        <td style=\"vertical-align:top; text-align:left; font-size: 150%\">Used to require plotly account, but now does not - run offline!<br><br> has supporting gui (Chart Studio)</td> \n",
    "    </tr>\n",
    "    <tr>\n",
    "        <td></td>\n",
    "        <td></td>\n",
    "        <td></td>\n",
    "        <td></td>\n",
    "    </tr>\n",
    "    <tr>\n",
    "        <td style=\"text-align:right; font-size: 150%\"><i>Pandas API</i></td>\n",
    "        <td style=\"text-align:left; font-size: 150%\">Yes</td>\n",
    "        <td style=\"text-align:left; font-size: 150%\">Yes</td> \n",
    "        <td style=\"text-align:left; font-size: 150%\">Yes</td> \n",
    "    </tr>\n",
    "    <tr>\n",
    "        <td style=\"text-align:right; font-size: 150%\"><i>Jupyter Notebook</i></td>\n",
    "        <td style=\"text-align:left; font-size: 150%\">Yes</td>\n",
    "        <td style=\"text-align:left; font-size: 150%\">Yes</td> \n",
    "        <td style=\"text-align:left; font-size: 150%\">Yes</td> \n",
    "    </tr>\n",
    "    <tr>\n",
    "        <td style=\"text-align:right; font-size: 150%\"><i>JupyterLab</i></td>\n",
    "        <td style=\"text-align:left; font-size: 150%\">Yes</td>\n",
    "        <td style=\"text-align:left; font-size: 150%\">Yes</td> \n",
    "        <td style=\"text-align:left; font-size: 150%\">Yes</td> \n",
    "    </tr>\n",
    "    <tr>\n",
    "        <td style=\"text-align:right; font-size: 150%\"><strong><i>Awesome library you should try</i></strong></td>\n",
    "        <td style=\"text-align:left; font-size: 150%\"><strong>Yes</strong></td>\n",
    "        <td style=\"text-align:left; font-size: 150%\"><strong>Yes</strong></td> \n",
    "        <td style=\"text-align:left; font-size: 150%\"><strong>Yes</strong></td> \n",
    "    </tr>\n",
    "</table>\n"
   ]
  },
  {
   "cell_type": "markdown",
   "metadata": {
    "slideshow": {
     "slide_type": "subslide"
    }
   },
   "source": [
    "# What have we learned so far?\n",
    "\n",
    "0 - People have very strong visual perception\n",
    "\n",
    "1- Images effectively distilling insight\n",
    "\n",
    "2- Images provide insights that pure numbers/tables do not\n",
    "\n",
    "3- Graphics have a grammar similar to writing\n",
    "\n",
    "4- Python has a lot of visualization libraries\n"
   ]
  },
  {
   "cell_type": "markdown",
   "metadata": {
    "slideshow": {
     "slide_type": "subslide"
    }
   },
   "source": [
    "# [link to our next chapter - matplotlib](http://localhost:8888/notebooks/notebooks/01_matplotlib_chapter.ipynb)"
   ]
  },
  {
   "cell_type": "code",
   "execution_count": null,
   "metadata": {},
   "outputs": [],
   "source": []
  }
 ],
 "metadata": {
  "celltoolbar": "Slideshow",
  "kernelspec": {
   "display_name": "Python 3",
   "language": "python",
   "name": "python3"
  },
  "language_info": {
   "codemirror_mode": {
    "name": "ipython",
    "version": 3
   },
   "file_extension": ".py",
   "mimetype": "text/x-python",
   "name": "python",
   "nbconvert_exporter": "python",
   "pygments_lexer": "ipython3",
   "version": "3.7.4"
  },
  "pycharm": {
   "stem_cell": {
    "cell_type": "raw",
    "metadata": {
     "collapsed": false
    },
    "source": []
   }
  }
 },
 "nbformat": 4,
 "nbformat_minor": 2
}
