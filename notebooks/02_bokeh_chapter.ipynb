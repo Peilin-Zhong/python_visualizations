{
 "cells": [
  {
   "cell_type": "code",
   "execution_count": 9,
   "metadata": {
    "slideshow": {
     "slide_type": "slide"
    }
   },
   "outputs": [
    {
     "data": {
      "text/html": [
       "<style>.container { width:90% !important; }</style>"
      ],
      "text/plain": [
       "<IPython.core.display.HTML object>"
      ]
     },
     "metadata": {},
     "output_type": "display_data"
    },
    {
     "data": {
      "text/plain": [
       "{'scroll': True}"
      ]
     },
     "execution_count": 9,
     "metadata": {},
     "output_type": "execute_result"
    }
   ],
   "source": [
    "# setup notebook\n",
    "# notebook formatting\n",
    "from IPython.core.display import display, HTML\n",
    "display(HTML(\"<style>.container { width:90% !important; }</style>\"))\n",
    "\n",
    "# fix RISE scollbar missing\n",
    "from traitlets.config.manager import BaseJSONConfigManager\n",
    "path = \"C:\\\\Users\\\\chris\\\\.jupyter\\\\nbconfig\"\n",
    "cm = BaseJSONConfigManager(config_dir=path)\n",
    "\n",
    "cm.update(\"livereveal\", {\n",
    "              \"scroll\": True,\n",
    "})\n",
    "\n",
    "# also check jupyter Cell menu/Toggle Scrolling\n",
    "\n"
   ]
  },
  {
   "cell_type": "code",
   "execution_count": 2,
   "metadata": {},
   "outputs": [
    {
     "data": {
      "text/html": [
       "\n",
       "    <div class=\"bk-root\">\n",
       "        <a href=\"https://bokeh.pydata.org\" target=\"_blank\" class=\"bk-logo bk-logo-small bk-logo-notebook\"></a>\n",
       "        <span id=\"1001\">Loading BokehJS ...</span>\n",
       "    </div>"
      ]
     },
     "metadata": {},
     "output_type": "display_data"
    },
    {
     "data": {
      "application/javascript": [
       "\n",
       "(function(root) {\n",
       "  function now() {\n",
       "    return new Date();\n",
       "  }\n",
       "\n",
       "  var force = true;\n",
       "\n",
       "  if (typeof root._bokeh_onload_callbacks === \"undefined\" || force === true) {\n",
       "    root._bokeh_onload_callbacks = [];\n",
       "    root._bokeh_is_loading = undefined;\n",
       "  }\n",
       "\n",
       "  var JS_MIME_TYPE = 'application/javascript';\n",
       "  var HTML_MIME_TYPE = 'text/html';\n",
       "  var EXEC_MIME_TYPE = 'application/vnd.bokehjs_exec.v0+json';\n",
       "  var CLASS_NAME = 'output_bokeh rendered_html';\n",
       "\n",
       "  /**\n",
       "   * Render data to the DOM node\n",
       "   */\n",
       "  function render(props, node) {\n",
       "    var script = document.createElement(\"script\");\n",
       "    node.appendChild(script);\n",
       "  }\n",
       "\n",
       "  /**\n",
       "   * Handle when an output is cleared or removed\n",
       "   */\n",
       "  function handleClearOutput(event, handle) {\n",
       "    var cell = handle.cell;\n",
       "\n",
       "    var id = cell.output_area._bokeh_element_id;\n",
       "    var server_id = cell.output_area._bokeh_server_id;\n",
       "    // Clean up Bokeh references\n",
       "    if (id != null && id in Bokeh.index) {\n",
       "      Bokeh.index[id].model.document.clear();\n",
       "      delete Bokeh.index[id];\n",
       "    }\n",
       "\n",
       "    if (server_id !== undefined) {\n",
       "      // Clean up Bokeh references\n",
       "      var cmd = \"from bokeh.io.state import curstate; print(curstate().uuid_to_server['\" + server_id + \"'].get_sessions()[0].document.roots[0]._id)\";\n",
       "      cell.notebook.kernel.execute(cmd, {\n",
       "        iopub: {\n",
       "          output: function(msg) {\n",
       "            var id = msg.content.text.trim();\n",
       "            if (id in Bokeh.index) {\n",
       "              Bokeh.index[id].model.document.clear();\n",
       "              delete Bokeh.index[id];\n",
       "            }\n",
       "          }\n",
       "        }\n",
       "      });\n",
       "      // Destroy server and session\n",
       "      var cmd = \"import bokeh.io.notebook as ion; ion.destroy_server('\" + server_id + \"')\";\n",
       "      cell.notebook.kernel.execute(cmd);\n",
       "    }\n",
       "  }\n",
       "\n",
       "  /**\n",
       "   * Handle when a new output is added\n",
       "   */\n",
       "  function handleAddOutput(event, handle) {\n",
       "    var output_area = handle.output_area;\n",
       "    var output = handle.output;\n",
       "\n",
       "    // limit handleAddOutput to display_data with EXEC_MIME_TYPE content only\n",
       "    if ((output.output_type != \"display_data\") || (!output.data.hasOwnProperty(EXEC_MIME_TYPE))) {\n",
       "      return\n",
       "    }\n",
       "\n",
       "    var toinsert = output_area.element.find(\".\" + CLASS_NAME.split(' ')[0]);\n",
       "\n",
       "    if (output.metadata[EXEC_MIME_TYPE][\"id\"] !== undefined) {\n",
       "      toinsert[toinsert.length - 1].firstChild.textContent = output.data[JS_MIME_TYPE];\n",
       "      // store reference to embed id on output_area\n",
       "      output_area._bokeh_element_id = output.metadata[EXEC_MIME_TYPE][\"id\"];\n",
       "    }\n",
       "    if (output.metadata[EXEC_MIME_TYPE][\"server_id\"] !== undefined) {\n",
       "      var bk_div = document.createElement(\"div\");\n",
       "      bk_div.innerHTML = output.data[HTML_MIME_TYPE];\n",
       "      var script_attrs = bk_div.children[0].attributes;\n",
       "      for (var i = 0; i < script_attrs.length; i++) {\n",
       "        toinsert[toinsert.length - 1].firstChild.setAttribute(script_attrs[i].name, script_attrs[i].value);\n",
       "      }\n",
       "      // store reference to server id on output_area\n",
       "      output_area._bokeh_server_id = output.metadata[EXEC_MIME_TYPE][\"server_id\"];\n",
       "    }\n",
       "  }\n",
       "\n",
       "  function register_renderer(events, OutputArea) {\n",
       "\n",
       "    function append_mime(data, metadata, element) {\n",
       "      // create a DOM node to render to\n",
       "      var toinsert = this.create_output_subarea(\n",
       "        metadata,\n",
       "        CLASS_NAME,\n",
       "        EXEC_MIME_TYPE\n",
       "      );\n",
       "      this.keyboard_manager.register_events(toinsert);\n",
       "      // Render to node\n",
       "      var props = {data: data, metadata: metadata[EXEC_MIME_TYPE]};\n",
       "      render(props, toinsert[toinsert.length - 1]);\n",
       "      element.append(toinsert);\n",
       "      return toinsert\n",
       "    }\n",
       "\n",
       "    /* Handle when an output is cleared or removed */\n",
       "    events.on('clear_output.CodeCell', handleClearOutput);\n",
       "    events.on('delete.Cell', handleClearOutput);\n",
       "\n",
       "    /* Handle when a new output is added */\n",
       "    events.on('output_added.OutputArea', handleAddOutput);\n",
       "\n",
       "    /**\n",
       "     * Register the mime type and append_mime function with output_area\n",
       "     */\n",
       "    OutputArea.prototype.register_mime_type(EXEC_MIME_TYPE, append_mime, {\n",
       "      /* Is output safe? */\n",
       "      safe: true,\n",
       "      /* Index of renderer in `output_area.display_order` */\n",
       "      index: 0\n",
       "    });\n",
       "  }\n",
       "\n",
       "  // register the mime type if in Jupyter Notebook environment and previously unregistered\n",
       "  if (root.Jupyter !== undefined) {\n",
       "    var events = require('base/js/events');\n",
       "    var OutputArea = require('notebook/js/outputarea').OutputArea;\n",
       "\n",
       "    if (OutputArea.prototype.mime_types().indexOf(EXEC_MIME_TYPE) == -1) {\n",
       "      register_renderer(events, OutputArea);\n",
       "    }\n",
       "  }\n",
       "\n",
       "  \n",
       "  if (typeof (root._bokeh_timeout) === \"undefined\" || force === true) {\n",
       "    root._bokeh_timeout = Date.now() + 5000;\n",
       "    root._bokeh_failed_load = false;\n",
       "  }\n",
       "\n",
       "  var NB_LOAD_WARNING = {'data': {'text/html':\n",
       "     \"<div style='background-color: #fdd'>\\n\"+\n",
       "     \"<p>\\n\"+\n",
       "     \"BokehJS does not appear to have successfully loaded. If loading BokehJS from CDN, this \\n\"+\n",
       "     \"may be due to a slow or bad network connection. Possible fixes:\\n\"+\n",
       "     \"</p>\\n\"+\n",
       "     \"<ul>\\n\"+\n",
       "     \"<li>re-rerun `output_notebook()` to attempt to load from CDN again, or</li>\\n\"+\n",
       "     \"<li>use INLINE resources instead, as so:</li>\\n\"+\n",
       "     \"</ul>\\n\"+\n",
       "     \"<code>\\n\"+\n",
       "     \"from bokeh.resources import INLINE\\n\"+\n",
       "     \"output_notebook(resources=INLINE)\\n\"+\n",
       "     \"</code>\\n\"+\n",
       "     \"</div>\"}};\n",
       "\n",
       "  function display_loaded() {\n",
       "    var el = document.getElementById(\"1001\");\n",
       "    if (el != null) {\n",
       "      el.textContent = \"BokehJS is loading...\";\n",
       "    }\n",
       "    if (root.Bokeh !== undefined) {\n",
       "      if (el != null) {\n",
       "        el.textContent = \"BokehJS \" + root.Bokeh.version + \" successfully loaded.\";\n",
       "      }\n",
       "    } else if (Date.now() < root._bokeh_timeout) {\n",
       "      setTimeout(display_loaded, 100)\n",
       "    }\n",
       "  }\n",
       "\n",
       "\n",
       "  function run_callbacks() {\n",
       "    try {\n",
       "      root._bokeh_onload_callbacks.forEach(function(callback) {\n",
       "        if (callback != null)\n",
       "          callback();\n",
       "      });\n",
       "    } finally {\n",
       "      delete root._bokeh_onload_callbacks\n",
       "    }\n",
       "    console.debug(\"Bokeh: all callbacks have finished\");\n",
       "  }\n",
       "\n",
       "  function load_libs(css_urls, js_urls, callback) {\n",
       "    if (css_urls == null) css_urls = [];\n",
       "    if (js_urls == null) js_urls = [];\n",
       "\n",
       "    root._bokeh_onload_callbacks.push(callback);\n",
       "    if (root._bokeh_is_loading > 0) {\n",
       "      console.debug(\"Bokeh: BokehJS is being loaded, scheduling callback at\", now());\n",
       "      return null;\n",
       "    }\n",
       "    if (js_urls == null || js_urls.length === 0) {\n",
       "      run_callbacks();\n",
       "      return null;\n",
       "    }\n",
       "    console.debug(\"Bokeh: BokehJS not loaded, scheduling load and callback at\", now());\n",
       "    root._bokeh_is_loading = css_urls.length + js_urls.length;\n",
       "\n",
       "    function on_load() {\n",
       "      root._bokeh_is_loading--;\n",
       "      if (root._bokeh_is_loading === 0) {\n",
       "        console.debug(\"Bokeh: all BokehJS libraries/stylesheets loaded\");\n",
       "        run_callbacks()\n",
       "      }\n",
       "    }\n",
       "\n",
       "    function on_error() {\n",
       "      console.error(\"failed to load \" + url);\n",
       "    }\n",
       "\n",
       "    for (var i = 0; i < css_urls.length; i++) {\n",
       "      var url = css_urls[i];\n",
       "      const element = document.createElement(\"link\");\n",
       "      element.onload = on_load;\n",
       "      element.onerror = on_error;\n",
       "      element.rel = \"stylesheet\";\n",
       "      element.type = \"text/css\";\n",
       "      element.href = url;\n",
       "      console.debug(\"Bokeh: injecting link tag for BokehJS stylesheet: \", url);\n",
       "      document.body.appendChild(element);\n",
       "    }\n",
       "\n",
       "    for (var i = 0; i < js_urls.length; i++) {\n",
       "      var url = js_urls[i];\n",
       "      var element = document.createElement('script');\n",
       "      element.onload = on_load;\n",
       "      element.onerror = on_error;\n",
       "      element.async = false;\n",
       "      element.src = url;\n",
       "      console.debug(\"Bokeh: injecting script tag for BokehJS library: \", url);\n",
       "      document.head.appendChild(element);\n",
       "    }\n",
       "  };var element = document.getElementById(\"1001\");\n",
       "  if (element == null) {\n",
       "    console.error(\"Bokeh: ERROR: autoload.js configured with elementid '1001' but no matching script tag was found. \")\n",
       "    return false;\n",
       "  }\n",
       "\n",
       "  function inject_raw_css(css) {\n",
       "    const element = document.createElement(\"style\");\n",
       "    element.appendChild(document.createTextNode(css));\n",
       "    document.body.appendChild(element);\n",
       "  }\n",
       "\n",
       "  var js_urls = [\"https://cdn.pydata.org/bokeh/release/bokeh-1.3.4.min.js\", \"https://cdn.pydata.org/bokeh/release/bokeh-widgets-1.3.4.min.js\", \"https://cdn.pydata.org/bokeh/release/bokeh-tables-1.3.4.min.js\", \"https://cdn.pydata.org/bokeh/release/bokeh-gl-1.3.4.min.js\"];\n",
       "  var css_urls = [];\n",
       "\n",
       "  var inline_js = [\n",
       "    function(Bokeh) {\n",
       "      Bokeh.set_log_level(\"info\");\n",
       "    },\n",
       "    \n",
       "    function(Bokeh) {\n",
       "      \n",
       "    },\n",
       "    function(Bokeh) {} // ensure no trailing comma for IE\n",
       "  ];\n",
       "\n",
       "  function run_inline_js() {\n",
       "    \n",
       "    if ((root.Bokeh !== undefined) || (force === true)) {\n",
       "      for (var i = 0; i < inline_js.length; i++) {\n",
       "        inline_js[i].call(root, root.Bokeh);\n",
       "      }if (force === true) {\n",
       "        display_loaded();\n",
       "      }} else if (Date.now() < root._bokeh_timeout) {\n",
       "      setTimeout(run_inline_js, 100);\n",
       "    } else if (!root._bokeh_failed_load) {\n",
       "      console.log(\"Bokeh: BokehJS failed to load within specified timeout.\");\n",
       "      root._bokeh_failed_load = true;\n",
       "    } else if (force !== true) {\n",
       "      var cell = $(document.getElementById(\"1001\")).parents('.cell').data().cell;\n",
       "      cell.output_area.append_execute_result(NB_LOAD_WARNING)\n",
       "    }\n",
       "\n",
       "  }\n",
       "\n",
       "  if (root._bokeh_is_loading === 0) {\n",
       "    console.debug(\"Bokeh: BokehJS loaded, going straight to plotting\");\n",
       "    run_inline_js();\n",
       "  } else {\n",
       "    load_libs(css_urls, js_urls, function() {\n",
       "      console.debug(\"Bokeh: BokehJS plotting callback run at\", now());\n",
       "      run_inline_js();\n",
       "    });\n",
       "  }\n",
       "}(window));"
      ],
      "application/vnd.bokehjs_load.v0+json": "\n(function(root) {\n  function now() {\n    return new Date();\n  }\n\n  var force = true;\n\n  if (typeof root._bokeh_onload_callbacks === \"undefined\" || force === true) {\n    root._bokeh_onload_callbacks = [];\n    root._bokeh_is_loading = undefined;\n  }\n\n  \n\n  \n  if (typeof (root._bokeh_timeout) === \"undefined\" || force === true) {\n    root._bokeh_timeout = Date.now() + 5000;\n    root._bokeh_failed_load = false;\n  }\n\n  var NB_LOAD_WARNING = {'data': {'text/html':\n     \"<div style='background-color: #fdd'>\\n\"+\n     \"<p>\\n\"+\n     \"BokehJS does not appear to have successfully loaded. If loading BokehJS from CDN, this \\n\"+\n     \"may be due to a slow or bad network connection. Possible fixes:\\n\"+\n     \"</p>\\n\"+\n     \"<ul>\\n\"+\n     \"<li>re-rerun `output_notebook()` to attempt to load from CDN again, or</li>\\n\"+\n     \"<li>use INLINE resources instead, as so:</li>\\n\"+\n     \"</ul>\\n\"+\n     \"<code>\\n\"+\n     \"from bokeh.resources import INLINE\\n\"+\n     \"output_notebook(resources=INLINE)\\n\"+\n     \"</code>\\n\"+\n     \"</div>\"}};\n\n  function display_loaded() {\n    var el = document.getElementById(\"1001\");\n    if (el != null) {\n      el.textContent = \"BokehJS is loading...\";\n    }\n    if (root.Bokeh !== undefined) {\n      if (el != null) {\n        el.textContent = \"BokehJS \" + root.Bokeh.version + \" successfully loaded.\";\n      }\n    } else if (Date.now() < root._bokeh_timeout) {\n      setTimeout(display_loaded, 100)\n    }\n  }\n\n\n  function run_callbacks() {\n    try {\n      root._bokeh_onload_callbacks.forEach(function(callback) {\n        if (callback != null)\n          callback();\n      });\n    } finally {\n      delete root._bokeh_onload_callbacks\n    }\n    console.debug(\"Bokeh: all callbacks have finished\");\n  }\n\n  function load_libs(css_urls, js_urls, callback) {\n    if (css_urls == null) css_urls = [];\n    if (js_urls == null) js_urls = [];\n\n    root._bokeh_onload_callbacks.push(callback);\n    if (root._bokeh_is_loading > 0) {\n      console.debug(\"Bokeh: BokehJS is being loaded, scheduling callback at\", now());\n      return null;\n    }\n    if (js_urls == null || js_urls.length === 0) {\n      run_callbacks();\n      return null;\n    }\n    console.debug(\"Bokeh: BokehJS not loaded, scheduling load and callback at\", now());\n    root._bokeh_is_loading = css_urls.length + js_urls.length;\n\n    function on_load() {\n      root._bokeh_is_loading--;\n      if (root._bokeh_is_loading === 0) {\n        console.debug(\"Bokeh: all BokehJS libraries/stylesheets loaded\");\n        run_callbacks()\n      }\n    }\n\n    function on_error() {\n      console.error(\"failed to load \" + url);\n    }\n\n    for (var i = 0; i < css_urls.length; i++) {\n      var url = css_urls[i];\n      const element = document.createElement(\"link\");\n      element.onload = on_load;\n      element.onerror = on_error;\n      element.rel = \"stylesheet\";\n      element.type = \"text/css\";\n      element.href = url;\n      console.debug(\"Bokeh: injecting link tag for BokehJS stylesheet: \", url);\n      document.body.appendChild(element);\n    }\n\n    for (var i = 0; i < js_urls.length; i++) {\n      var url = js_urls[i];\n      var element = document.createElement('script');\n      element.onload = on_load;\n      element.onerror = on_error;\n      element.async = false;\n      element.src = url;\n      console.debug(\"Bokeh: injecting script tag for BokehJS library: \", url);\n      document.head.appendChild(element);\n    }\n  };var element = document.getElementById(\"1001\");\n  if (element == null) {\n    console.error(\"Bokeh: ERROR: autoload.js configured with elementid '1001' but no matching script tag was found. \")\n    return false;\n  }\n\n  function inject_raw_css(css) {\n    const element = document.createElement(\"style\");\n    element.appendChild(document.createTextNode(css));\n    document.body.appendChild(element);\n  }\n\n  var js_urls = [\"https://cdn.pydata.org/bokeh/release/bokeh-1.3.4.min.js\", \"https://cdn.pydata.org/bokeh/release/bokeh-widgets-1.3.4.min.js\", \"https://cdn.pydata.org/bokeh/release/bokeh-tables-1.3.4.min.js\", \"https://cdn.pydata.org/bokeh/release/bokeh-gl-1.3.4.min.js\"];\n  var css_urls = [];\n\n  var inline_js = [\n    function(Bokeh) {\n      Bokeh.set_log_level(\"info\");\n    },\n    \n    function(Bokeh) {\n      \n    },\n    function(Bokeh) {} // ensure no trailing comma for IE\n  ];\n\n  function run_inline_js() {\n    \n    if ((root.Bokeh !== undefined) || (force === true)) {\n      for (var i = 0; i < inline_js.length; i++) {\n        inline_js[i].call(root, root.Bokeh);\n      }if (force === true) {\n        display_loaded();\n      }} else if (Date.now() < root._bokeh_timeout) {\n      setTimeout(run_inline_js, 100);\n    } else if (!root._bokeh_failed_load) {\n      console.log(\"Bokeh: BokehJS failed to load within specified timeout.\");\n      root._bokeh_failed_load = true;\n    } else if (force !== true) {\n      var cell = $(document.getElementById(\"1001\")).parents('.cell').data().cell;\n      cell.output_area.append_execute_result(NB_LOAD_WARNING)\n    }\n\n  }\n\n  if (root._bokeh_is_loading === 0) {\n    console.debug(\"Bokeh: BokehJS loaded, going straight to plotting\");\n    run_inline_js();\n  } else {\n    load_libs(css_urls, js_urls, function() {\n      console.debug(\"Bokeh: BokehJS plotting callback run at\", now());\n      run_inline_js();\n    });\n  }\n}(window));"
     },
     "metadata": {},
     "output_type": "display_data"
    }
   ],
   "source": [
    "# imports\n",
    "import os\n",
    "import numpy as np\n",
    "import random\n",
    "\n",
    "import bokeh\n",
    "from bokeh.layouts import gridplot\n",
    "from bokeh.plotting import output_notebook\n",
    "output_notebook() # set default; alternative is output_file()"
   ]
  },
  {
   "cell_type": "markdown",
   "metadata": {
    "slideshow": {
     "slide_type": "slide"
    }
   },
   "source": [
    "# Meaning of Bokeh\n",
    "- Japanese word **“bokeh”** used in photography to describe *blurring of the out-of-focus parts of an image.*<br><br>\n",
    "<img src=\"https://p2.piqsels.com/preview/926/415/630/wheat-ear-dry-harvest.jpg\" height=200 style=\"float:center\"> <br><br>\n",
    "<strong>[James Drury example - Flickr](https://www.flickr.com/photos/james_drury/15923166238/)</strong><br><br>\n",
    "- How do you pronounce this crazy word?\n",
    "  - bouquet\n",
    "  - bok-ah\n",
    "  - **both are fine**"
   ]
  },
  {
   "cell_type": "markdown",
   "metadata": {
    "ExecuteTime": {
     "end_time": "2019-10-11T21:42:23.073871Z",
     "start_time": "2019-10-11T21:42:23.069870Z"
    },
    "slideshow": {
     "slide_type": "slide"
    }
   },
   "source": [
    "# Bokeh\n",
    "- [bokeh homepage](https://bokeh.pydata.org/en/latest/index.html)<br>\n",
    "- python library \n",
    "- focused on interactive visualization\n",
    "- targets browsers for presentation <br>\n",
    "- goals: elegant, concise, designed for large/streaming data\n"
   ]
  },
  {
   "cell_type": "markdown",
   "metadata": {
    "ExecuteTime": {
     "end_time": "2019-10-11T21:42:23.077873Z",
     "start_time": "2019-10-11T21:42:22.428Z"
    },
    "slideshow": {
     "slide_type": "slide"
    }
   },
   "source": [
    "# Two modes\n",
    "- client based\n",
    "- server\n",
    "\n",
    "- Bokeh uses Python to create high level objects (plots, subplots, lines, etc).\n",
    "- ...and then renders everything in Javascript\n",
    "- ...for the browser to display\n",
    "\n",
    "<strong>workflow:</strong><br>\n",
    "data --> python --> Bokeh --> Bokeh ColumnDataSource--> BokehJS --> Javascript -->Browser --> your eyes\n"
   ]
  },
  {
   "cell_type": "markdown",
   "metadata": {
    "slideshow": {
     "slide_type": "slide"
    }
   },
   "source": [
    "# Bokeh Code"
   ]
  },
  {
   "cell_type": "markdown",
   "metadata": {
    "ExecuteTime": {
     "end_time": "2019-10-11T21:42:23.080869Z",
     "start_time": "2019-10-11T21:42:22.431Z"
    },
    "slideshow": {
     "slide_type": "subslide"
    }
   },
   "source": [
    "# five ways to interact using Bokeh\n",
    "- Configuring the toolbar\n",
    "- Selecting data points\n",
    "- Adding hover actions\n",
    "- Linking subplots and selections\n",
    "- Highlighting data using the legend<br>\n",
    "\n",
    "## also can interact with ipywidgets"
   ]
  },
  {
   "cell_type": "markdown",
   "metadata": {
    "slideshow": {
     "slide_type": "subslide"
    }
   },
   "source": [
    "# Example 1 - basic charts and interactions"
   ]
  },
  {
   "cell_type": "code",
   "execution_count": 30,
   "metadata": {
    "ExecuteTime": {
     "end_time": "2019-10-11T21:44:18.541868Z",
     "start_time": "2019-10-11T21:44:18.503873Z"
    },
    "slideshow": {
     "slide_type": "subslide"
    }
   },
   "outputs": [
    {
     "data": {
      "text/html": [
       "\n",
       "\n",
       "\n",
       "\n",
       "\n",
       "\n",
       "  <div class=\"bk-root\" id=\"c17d6d66-2ca3-481e-96a3-6da97c8b8b3c\" data-root-id=\"5234\"></div>\n"
      ]
     },
     "metadata": {},
     "output_type": "display_data"
    },
    {
     "data": {
      "application/javascript": [
       "(function(root) {\n",
       "  function embed_document(root) {\n",
       "    \n",
       "  var docs_json = {\"3d89655e-a024-45f1-96c4-9d6100c0fdf7\":{\"roots\":{\"references\":[{\"attributes\":{\"below\":[{\"id\":\"5245\",\"type\":\"LinearAxis\"}],\"center\":[{\"id\":\"5249\",\"type\":\"Grid\"},{\"id\":\"5254\",\"type\":\"Grid\"}],\"left\":[{\"id\":\"5250\",\"type\":\"LinearAxis\"}],\"renderers\":[{\"id\":\"5271\",\"type\":\"GlyphRenderer\"}],\"title\":{\"id\":\"5235\",\"type\":\"Title\"},\"toolbar\":{\"id\":\"5261\",\"type\":\"Toolbar\"},\"x_range\":{\"id\":\"5237\",\"type\":\"DataRange1d\"},\"x_scale\":{\"id\":\"5241\",\"type\":\"LinearScale\"},\"y_range\":{\"id\":\"5239\",\"type\":\"DataRange1d\"},\"y_scale\":{\"id\":\"5243\",\"type\":\"LinearScale\"}},\"id\":\"5234\",\"subtype\":\"Figure\",\"type\":\"Plot\"},{\"attributes\":{\"callback\":null},\"id\":\"5239\",\"type\":\"DataRange1d\"},{\"attributes\":{},\"id\":\"5346\",\"type\":\"BasicTickFormatter\"},{\"attributes\":{\"bottom_units\":\"screen\",\"fill_alpha\":{\"value\":0.5},\"fill_color\":{\"value\":\"lightgrey\"},\"left_units\":\"screen\",\"level\":\"overlay\",\"line_alpha\":{\"value\":1.0},\"line_color\":{\"value\":\"black\"},\"line_dash\":[4,4],\"line_width\":{\"value\":2},\"render_mode\":\"css\",\"right_units\":\"screen\",\"top_units\":\"screen\"},\"id\":\"5349\",\"type\":\"BoxAnnotation\"},{\"attributes\":{\"ticker\":{\"id\":\"5246\",\"type\":\"BasicTicker\"}},\"id\":\"5249\",\"type\":\"Grid\"},{\"attributes\":{\"active_drag\":\"auto\",\"active_inspect\":\"auto\",\"active_multi\":null,\"active_scroll\":\"auto\",\"active_tap\":\"auto\",\"tools\":[{\"id\":\"5255\",\"type\":\"PanTool\"},{\"id\":\"5256\",\"type\":\"WheelZoomTool\"},{\"id\":\"5257\",\"type\":\"BoxZoomTool\"},{\"id\":\"5258\",\"type\":\"SaveTool\"},{\"id\":\"5259\",\"type\":\"ResetTool\"},{\"id\":\"5260\",\"type\":\"HelpTool\"}]},\"id\":\"5261\",\"type\":\"Toolbar\"},{\"attributes\":{},\"id\":\"5246\",\"type\":\"BasicTicker\"},{\"attributes\":{\"callback\":null,\"data\":{\"x\":[0,1,2,3,4,5,6,7,8,9,10],\"y\":[9,8,7,5,4,6,8,3,2,0,1]},\"selected\":{\"id\":\"5350\",\"type\":\"Selection\"},\"selection_policy\":{\"id\":\"5351\",\"type\":\"UnionRenderers\"}},\"id\":\"5268\",\"type\":\"ColumnDataSource\"},{\"attributes\":{\"dimension\":1,\"ticker\":{\"id\":\"5251\",\"type\":\"BasicTicker\"}},\"id\":\"5254\",\"type\":\"Grid\"},{\"attributes\":{\"text\":\"simple line chart\"},\"id\":\"5235\",\"type\":\"Title\"},{\"attributes\":{\"line_color\":\"#1f77b4\",\"line_width\":2,\"x\":{\"field\":\"x\"},\"y\":{\"field\":\"y\"}},\"id\":\"5269\",\"type\":\"Line\"},{\"attributes\":{\"axis_label\":\"x axis!\",\"axis_label_text_font_size\":{\"value\":\"18pt\"},\"formatter\":{\"id\":\"5348\",\"type\":\"BasicTickFormatter\"},\"ticker\":{\"id\":\"5246\",\"type\":\"BasicTicker\"}},\"id\":\"5245\",\"type\":\"LinearAxis\"},{\"attributes\":{\"callback\":null},\"id\":\"5237\",\"type\":\"DataRange1d\"},{\"attributes\":{},\"id\":\"5258\",\"type\":\"SaveTool\"},{\"attributes\":{},\"id\":\"5348\",\"type\":\"BasicTickFormatter\"},{\"attributes\":{},\"id\":\"5260\",\"type\":\"HelpTool\"},{\"attributes\":{},\"id\":\"5243\",\"type\":\"LinearScale\"},{\"attributes\":{},\"id\":\"5251\",\"type\":\"BasicTicker\"},{\"attributes\":{\"source\":{\"id\":\"5268\",\"type\":\"ColumnDataSource\"}},\"id\":\"5272\",\"type\":\"CDSView\"},{\"attributes\":{},\"id\":\"5241\",\"type\":\"LinearScale\"},{\"attributes\":{\"line_alpha\":0.1,\"line_color\":\"#1f77b4\",\"line_width\":2,\"x\":{\"field\":\"x\"},\"y\":{\"field\":\"y\"}},\"id\":\"5270\",\"type\":\"Line\"},{\"attributes\":{\"axis_label\":\"y_axis\",\"axis_label_text_font_size\":{\"value\":\"18pt\"},\"formatter\":{\"id\":\"5346\",\"type\":\"BasicTickFormatter\"},\"ticker\":{\"id\":\"5251\",\"type\":\"BasicTicker\"}},\"id\":\"5250\",\"type\":\"LinearAxis\"},{\"attributes\":{},\"id\":\"5255\",\"type\":\"PanTool\"},{\"attributes\":{},\"id\":\"5350\",\"type\":\"Selection\"},{\"attributes\":{},\"id\":\"5351\",\"type\":\"UnionRenderers\"},{\"attributes\":{\"data_source\":{\"id\":\"5268\",\"type\":\"ColumnDataSource\"},\"glyph\":{\"id\":\"5269\",\"type\":\"Line\"},\"hover_glyph\":null,\"muted_glyph\":null,\"nonselection_glyph\":{\"id\":\"5270\",\"type\":\"Line\"},\"selection_glyph\":null,\"view\":{\"id\":\"5272\",\"type\":\"CDSView\"}},\"id\":\"5271\",\"type\":\"GlyphRenderer\"},{\"attributes\":{\"overlay\":{\"id\":\"5349\",\"type\":\"BoxAnnotation\"}},\"id\":\"5257\",\"type\":\"BoxZoomTool\"},{\"attributes\":{},\"id\":\"5256\",\"type\":\"WheelZoomTool\"},{\"attributes\":{},\"id\":\"5259\",\"type\":\"ResetTool\"}],\"root_ids\":[\"5234\"]},\"title\":\"Bokeh Application\",\"version\":\"1.3.4\"}};\n",
       "  var render_items = [{\"docid\":\"3d89655e-a024-45f1-96c4-9d6100c0fdf7\",\"roots\":{\"5234\":\"c17d6d66-2ca3-481e-96a3-6da97c8b8b3c\"}}];\n",
       "  root.Bokeh.embed.embed_items_notebook(docs_json, render_items);\n",
       "\n",
       "  }\n",
       "  if (root.Bokeh !== undefined) {\n",
       "    embed_document(root);\n",
       "  } else {\n",
       "    var attempts = 0;\n",
       "    var timer = setInterval(function(root) {\n",
       "      if (root.Bokeh !== undefined) {\n",
       "        embed_document(root);\n",
       "        clearInterval(timer);\n",
       "      }\n",
       "      attempts++;\n",
       "      if (attempts > 100) {\n",
       "        console.log(\"Bokeh: ERROR: Unable to run BokehJS code because BokehJS library is missing\");\n",
       "        clearInterval(timer);\n",
       "      }\n",
       "    }, 10, root)\n",
       "  }\n",
       "})(window);"
      ],
      "application/vnd.bokehjs_exec.v0+json": ""
     },
     "metadata": {
      "application/vnd.bokehjs_exec.v0+json": {
       "id": "5234"
      }
     },
     "output_type": "display_data"
    }
   ],
   "source": [
    "from bokeh.plotting import figure, output_notebook, show\n",
    "\n",
    "x = [x for x in range(0, 11)]\n",
    "y = [9, 8, 7, 5, 4, 6, 8, 3, 2, 0, 1]\n",
    "\n",
    "chart = figure(title=\"simple line chart\", \n",
    "               x_axis_label=\"x axis!\", y_axis_label=\"y_axis\",\n",
    "               toolbar_location=\"right\")\n",
    "\n",
    "chart.xaxis.axis_label_text_font_size = \"18pt\"\n",
    "chart.yaxis.axis_label_text_font_size = \"18pt\"\n",
    "\n",
    "chart.line(x, y, line_width=2)\n",
    "\n",
    "show(chart)\n",
    "\n",
    "# review interactive tools"
   ]
  },
  {
   "cell_type": "code",
   "execution_count": 31,
   "metadata": {
    "ExecuteTime": {
     "end_time": "2019-10-11T21:44:18.566867Z",
     "start_time": "2019-10-11T21:44:18.542869Z"
    },
    "slideshow": {
     "slide_type": "subslide"
    }
   },
   "outputs": [
    {
     "data": {
      "text/html": [
       "\n",
       "\n",
       "\n",
       "\n",
       "\n",
       "\n",
       "  <div class=\"bk-root\" id=\"5744d59d-250d-4f43-94ae-eaf62d52899f\" data-root-id=\"5234\"></div>\n"
      ]
     },
     "metadata": {},
     "output_type": "display_data"
    },
    {
     "data": {
      "application/javascript": [
       "(function(root) {\n",
       "  function embed_document(root) {\n",
       "    \n",
       "  var docs_json = {\"1ec726f0-9cee-4281-991c-a3c092f81a5f\":{\"roots\":{\"references\":[{\"attributes\":{\"below\":[{\"id\":\"5245\",\"type\":\"LinearAxis\"}],\"center\":[{\"id\":\"5249\",\"type\":\"Grid\"},{\"id\":\"5254\",\"type\":\"Grid\"},{\"id\":\"5482\",\"type\":\"BoxAnnotation\"}],\"left\":[{\"id\":\"5250\",\"type\":\"LinearAxis\"}],\"renderers\":[{\"id\":\"5271\",\"type\":\"GlyphRenderer\"}],\"title\":{\"id\":\"5235\",\"type\":\"Title\"},\"toolbar\":{\"id\":\"5261\",\"type\":\"Toolbar\"},\"x_range\":{\"id\":\"5237\",\"type\":\"DataRange1d\"},\"x_scale\":{\"id\":\"5241\",\"type\":\"LinearScale\"},\"y_range\":{\"id\":\"5239\",\"type\":\"DataRange1d\"},\"y_scale\":{\"id\":\"5243\",\"type\":\"LinearScale\"}},\"id\":\"5234\",\"subtype\":\"Figure\",\"type\":\"Plot\"},{\"attributes\":{\"callback\":null},\"id\":\"5239\",\"type\":\"DataRange1d\"},{\"attributes\":{},\"id\":\"5346\",\"type\":\"BasicTickFormatter\"},{\"attributes\":{\"bottom_units\":\"screen\",\"fill_alpha\":{\"value\":0.5},\"fill_color\":{\"value\":\"lightgrey\"},\"left_units\":\"screen\",\"level\":\"overlay\",\"line_alpha\":{\"value\":1.0},\"line_color\":{\"value\":\"black\"},\"line_dash\":[4,4],\"line_width\":{\"value\":2},\"render_mode\":\"css\",\"right_units\":\"screen\",\"top_units\":\"screen\"},\"id\":\"5349\",\"type\":\"BoxAnnotation\"},{\"attributes\":{\"ticker\":{\"id\":\"5246\",\"type\":\"BasicTicker\"}},\"id\":\"5249\",\"type\":\"Grid\"},{\"attributes\":{\"active_drag\":\"auto\",\"active_inspect\":\"auto\",\"active_multi\":null,\"active_scroll\":\"auto\",\"active_tap\":\"auto\",\"tools\":[{\"id\":\"5255\",\"type\":\"PanTool\"},{\"id\":\"5256\",\"type\":\"WheelZoomTool\"},{\"id\":\"5257\",\"type\":\"BoxZoomTool\"},{\"id\":\"5258\",\"type\":\"SaveTool\"},{\"id\":\"5259\",\"type\":\"ResetTool\"},{\"id\":\"5260\",\"type\":\"HelpTool\"},{\"id\":\"5400\",\"type\":\"LassoSelectTool\"}]},\"id\":\"5261\",\"type\":\"Toolbar\"},{\"attributes\":{},\"id\":\"5246\",\"type\":\"BasicTicker\"},{\"attributes\":{\"callback\":null,\"data\":{\"x\":[0,1,2,3,4,5,6,7,8,9,10],\"y\":[9,8,7,5,4,6,8,3,2,0,1]},\"selected\":{\"id\":\"5350\",\"type\":\"Selection\"},\"selection_policy\":{\"id\":\"5351\",\"type\":\"UnionRenderers\"}},\"id\":\"5268\",\"type\":\"ColumnDataSource\"},{\"attributes\":{\"fill_alpha\":{\"value\":0.5},\"fill_color\":{\"value\":\"lightgrey\"},\"level\":\"overlay\",\"line_alpha\":{\"value\":1.0},\"line_color\":{\"value\":\"black\"},\"line_dash\":[4,4],\"line_width\":{\"value\":2},\"xs_units\":\"screen\",\"ys_units\":\"screen\"},\"id\":\"5479\",\"type\":\"PolyAnnotation\"},{\"attributes\":{\"dimension\":1,\"ticker\":{\"id\":\"5251\",\"type\":\"BasicTicker\"}},\"id\":\"5254\",\"type\":\"Grid\"},{\"attributes\":{\"callback\":null,\"overlay\":{\"id\":\"5479\",\"type\":\"PolyAnnotation\"}},\"id\":\"5400\",\"type\":\"LassoSelectTool\"},{\"attributes\":{\"bottom\":1.6,\"fill_alpha\":{\"value\":0.1},\"fill_color\":{\"value\":\"green\"},\"top\":4.2},\"id\":\"5482\",\"type\":\"BoxAnnotation\"},{\"attributes\":{\"text\":\"simple line chart\"},\"id\":\"5235\",\"type\":\"Title\"},{\"attributes\":{\"line_color\":\"#1f77b4\",\"line_width\":2,\"x\":{\"field\":\"x\"},\"y\":{\"field\":\"y\"}},\"id\":\"5269\",\"type\":\"Line\"},{\"attributes\":{\"axis_label\":\"x axis!\",\"axis_label_text_font_size\":{\"value\":\"18pt\"},\"formatter\":{\"id\":\"5348\",\"type\":\"BasicTickFormatter\"},\"ticker\":{\"id\":\"5246\",\"type\":\"BasicTicker\"}},\"id\":\"5245\",\"type\":\"LinearAxis\"},{\"attributes\":{\"callback\":null},\"id\":\"5237\",\"type\":\"DataRange1d\"},{\"attributes\":{},\"id\":\"5258\",\"type\":\"SaveTool\"},{\"attributes\":{},\"id\":\"5348\",\"type\":\"BasicTickFormatter\"},{\"attributes\":{},\"id\":\"5260\",\"type\":\"HelpTool\"},{\"attributes\":{},\"id\":\"5243\",\"type\":\"LinearScale\"},{\"attributes\":{},\"id\":\"5251\",\"type\":\"BasicTicker\"},{\"attributes\":{\"source\":{\"id\":\"5268\",\"type\":\"ColumnDataSource\"}},\"id\":\"5272\",\"type\":\"CDSView\"},{\"attributes\":{},\"id\":\"5241\",\"type\":\"LinearScale\"},{\"attributes\":{\"line_alpha\":0.1,\"line_color\":\"#1f77b4\",\"line_width\":2,\"x\":{\"field\":\"x\"},\"y\":{\"field\":\"y\"}},\"id\":\"5270\",\"type\":\"Line\"},{\"attributes\":{\"axis_label\":\"y_axis\",\"axis_label_text_font_size\":{\"value\":\"18pt\"},\"formatter\":{\"id\":\"5346\",\"type\":\"BasicTickFormatter\"},\"ticker\":{\"id\":\"5251\",\"type\":\"BasicTicker\"}},\"id\":\"5250\",\"type\":\"LinearAxis\"},{\"attributes\":{},\"id\":\"5255\",\"type\":\"PanTool\"},{\"attributes\":{},\"id\":\"5350\",\"type\":\"Selection\"},{\"attributes\":{},\"id\":\"5351\",\"type\":\"UnionRenderers\"},{\"attributes\":{\"data_source\":{\"id\":\"5268\",\"type\":\"ColumnDataSource\"},\"glyph\":{\"id\":\"5269\",\"type\":\"Line\"},\"hover_glyph\":null,\"muted_glyph\":null,\"nonselection_glyph\":{\"id\":\"5270\",\"type\":\"Line\"},\"selection_glyph\":null,\"view\":{\"id\":\"5272\",\"type\":\"CDSView\"}},\"id\":\"5271\",\"type\":\"GlyphRenderer\"},{\"attributes\":{\"overlay\":{\"id\":\"5349\",\"type\":\"BoxAnnotation\"}},\"id\":\"5257\",\"type\":\"BoxZoomTool\"},{\"attributes\":{},\"id\":\"5256\",\"type\":\"WheelZoomTool\"},{\"attributes\":{},\"id\":\"5259\",\"type\":\"ResetTool\"}],\"root_ids\":[\"5234\"]},\"title\":\"Bokeh Application\",\"version\":\"1.3.4\"}};\n",
       "  var render_items = [{\"docid\":\"1ec726f0-9cee-4281-991c-a3c092f81a5f\",\"roots\":{\"5234\":\"5744d59d-250d-4f43-94ae-eaf62d52899f\"}}];\n",
       "  root.Bokeh.embed.embed_items_notebook(docs_json, render_items);\n",
       "\n",
       "  }\n",
       "  if (root.Bokeh !== undefined) {\n",
       "    embed_document(root);\n",
       "  } else {\n",
       "    var attempts = 0;\n",
       "    var timer = setInterval(function(root) {\n",
       "      if (root.Bokeh !== undefined) {\n",
       "        embed_document(root);\n",
       "        clearInterval(timer);\n",
       "      }\n",
       "      attempts++;\n",
       "      if (attempts > 100) {\n",
       "        console.log(\"Bokeh: ERROR: Unable to run BokehJS code because BokehJS library is missing\");\n",
       "        clearInterval(timer);\n",
       "      }\n",
       "    }, 10, root)\n",
       "  }\n",
       "})(window);"
      ],
      "application/vnd.bokehjs_exec.v0+json": ""
     },
     "metadata": {
      "application/vnd.bokehjs_exec.v0+json": {
       "id": "5234"
      }
     },
     "output_type": "display_data"
    }
   ],
   "source": [
    "# adding tools and annotations\n",
    "\n",
    "from bokeh.models import LassoSelectTool\n",
    "from bokeh.models import BoxAnnotation\n",
    "\n",
    "chart.add_tools(LassoSelectTool())\n",
    "low_box = BoxAnnotation(top=4.2, bottom=1.6, fill_alpha=0.1, fill_color='green')\n",
    "chart.add_layout(low_box)\n",
    "\n",
    "show(chart)"
   ]
  },
  {
   "cell_type": "code",
   "execution_count": 5,
   "metadata": {
    "slideshow": {
     "slide_type": "slide"
    }
   },
   "outputs": [],
   "source": [
    "# Example 2 - interaction with ipywidgets"
   ]
  },
  {
   "cell_type": "code",
   "execution_count": 32,
   "metadata": {
    "ExecuteTime": {
     "end_time": "2019-10-11T21:44:18.583867Z",
     "start_time": "2019-10-11T21:44:18.567867Z"
    },
    "slideshow": {
     "slide_type": "subslide"
    }
   },
   "outputs": [
    {
     "data": {
      "text/html": [
       "\n",
       "    <div class=\"bk-root\">\n",
       "        <a href=\"https://bokeh.pydata.org\" target=\"_blank\" class=\"bk-logo bk-logo-small bk-logo-notebook\"></a>\n",
       "        <span id=\"5617\">Loading BokehJS ...</span>\n",
       "    </div>"
      ]
     },
     "metadata": {},
     "output_type": "display_data"
    },
    {
     "data": {
      "application/javascript": [
       "\n",
       "(function(root) {\n",
       "  function now() {\n",
       "    return new Date();\n",
       "  }\n",
       "\n",
       "  var force = true;\n",
       "\n",
       "  if (typeof root._bokeh_onload_callbacks === \"undefined\" || force === true) {\n",
       "    root._bokeh_onload_callbacks = [];\n",
       "    root._bokeh_is_loading = undefined;\n",
       "  }\n",
       "\n",
       "  var JS_MIME_TYPE = 'application/javascript';\n",
       "  var HTML_MIME_TYPE = 'text/html';\n",
       "  var EXEC_MIME_TYPE = 'application/vnd.bokehjs_exec.v0+json';\n",
       "  var CLASS_NAME = 'output_bokeh rendered_html';\n",
       "\n",
       "  /**\n",
       "   * Render data to the DOM node\n",
       "   */\n",
       "  function render(props, node) {\n",
       "    var script = document.createElement(\"script\");\n",
       "    node.appendChild(script);\n",
       "  }\n",
       "\n",
       "  /**\n",
       "   * Handle when an output is cleared or removed\n",
       "   */\n",
       "  function handleClearOutput(event, handle) {\n",
       "    var cell = handle.cell;\n",
       "\n",
       "    var id = cell.output_area._bokeh_element_id;\n",
       "    var server_id = cell.output_area._bokeh_server_id;\n",
       "    // Clean up Bokeh references\n",
       "    if (id != null && id in Bokeh.index) {\n",
       "      Bokeh.index[id].model.document.clear();\n",
       "      delete Bokeh.index[id];\n",
       "    }\n",
       "\n",
       "    if (server_id !== undefined) {\n",
       "      // Clean up Bokeh references\n",
       "      var cmd = \"from bokeh.io.state import curstate; print(curstate().uuid_to_server['\" + server_id + \"'].get_sessions()[0].document.roots[0]._id)\";\n",
       "      cell.notebook.kernel.execute(cmd, {\n",
       "        iopub: {\n",
       "          output: function(msg) {\n",
       "            var id = msg.content.text.trim();\n",
       "            if (id in Bokeh.index) {\n",
       "              Bokeh.index[id].model.document.clear();\n",
       "              delete Bokeh.index[id];\n",
       "            }\n",
       "          }\n",
       "        }\n",
       "      });\n",
       "      // Destroy server and session\n",
       "      var cmd = \"import bokeh.io.notebook as ion; ion.destroy_server('\" + server_id + \"')\";\n",
       "      cell.notebook.kernel.execute(cmd);\n",
       "    }\n",
       "  }\n",
       "\n",
       "  /**\n",
       "   * Handle when a new output is added\n",
       "   */\n",
       "  function handleAddOutput(event, handle) {\n",
       "    var output_area = handle.output_area;\n",
       "    var output = handle.output;\n",
       "\n",
       "    // limit handleAddOutput to display_data with EXEC_MIME_TYPE content only\n",
       "    if ((output.output_type != \"display_data\") || (!output.data.hasOwnProperty(EXEC_MIME_TYPE))) {\n",
       "      return\n",
       "    }\n",
       "\n",
       "    var toinsert = output_area.element.find(\".\" + CLASS_NAME.split(' ')[0]);\n",
       "\n",
       "    if (output.metadata[EXEC_MIME_TYPE][\"id\"] !== undefined) {\n",
       "      toinsert[toinsert.length - 1].firstChild.textContent = output.data[JS_MIME_TYPE];\n",
       "      // store reference to embed id on output_area\n",
       "      output_area._bokeh_element_id = output.metadata[EXEC_MIME_TYPE][\"id\"];\n",
       "    }\n",
       "    if (output.metadata[EXEC_MIME_TYPE][\"server_id\"] !== undefined) {\n",
       "      var bk_div = document.createElement(\"div\");\n",
       "      bk_div.innerHTML = output.data[HTML_MIME_TYPE];\n",
       "      var script_attrs = bk_div.children[0].attributes;\n",
       "      for (var i = 0; i < script_attrs.length; i++) {\n",
       "        toinsert[toinsert.length - 1].firstChild.setAttribute(script_attrs[i].name, script_attrs[i].value);\n",
       "      }\n",
       "      // store reference to server id on output_area\n",
       "      output_area._bokeh_server_id = output.metadata[EXEC_MIME_TYPE][\"server_id\"];\n",
       "    }\n",
       "  }\n",
       "\n",
       "  function register_renderer(events, OutputArea) {\n",
       "\n",
       "    function append_mime(data, metadata, element) {\n",
       "      // create a DOM node to render to\n",
       "      var toinsert = this.create_output_subarea(\n",
       "        metadata,\n",
       "        CLASS_NAME,\n",
       "        EXEC_MIME_TYPE\n",
       "      );\n",
       "      this.keyboard_manager.register_events(toinsert);\n",
       "      // Render to node\n",
       "      var props = {data: data, metadata: metadata[EXEC_MIME_TYPE]};\n",
       "      render(props, toinsert[toinsert.length - 1]);\n",
       "      element.append(toinsert);\n",
       "      return toinsert\n",
       "    }\n",
       "\n",
       "    /* Handle when an output is cleared or removed */\n",
       "    events.on('clear_output.CodeCell', handleClearOutput);\n",
       "    events.on('delete.Cell', handleClearOutput);\n",
       "\n",
       "    /* Handle when a new output is added */\n",
       "    events.on('output_added.OutputArea', handleAddOutput);\n",
       "\n",
       "    /**\n",
       "     * Register the mime type and append_mime function with output_area\n",
       "     */\n",
       "    OutputArea.prototype.register_mime_type(EXEC_MIME_TYPE, append_mime, {\n",
       "      /* Is output safe? */\n",
       "      safe: true,\n",
       "      /* Index of renderer in `output_area.display_order` */\n",
       "      index: 0\n",
       "    });\n",
       "  }\n",
       "\n",
       "  // register the mime type if in Jupyter Notebook environment and previously unregistered\n",
       "  if (root.Jupyter !== undefined) {\n",
       "    var events = require('base/js/events');\n",
       "    var OutputArea = require('notebook/js/outputarea').OutputArea;\n",
       "\n",
       "    if (OutputArea.prototype.mime_types().indexOf(EXEC_MIME_TYPE) == -1) {\n",
       "      register_renderer(events, OutputArea);\n",
       "    }\n",
       "  }\n",
       "\n",
       "  \n",
       "  if (typeof (root._bokeh_timeout) === \"undefined\" || force === true) {\n",
       "    root._bokeh_timeout = Date.now() + 5000;\n",
       "    root._bokeh_failed_load = false;\n",
       "  }\n",
       "\n",
       "  var NB_LOAD_WARNING = {'data': {'text/html':\n",
       "     \"<div style='background-color: #fdd'>\\n\"+\n",
       "     \"<p>\\n\"+\n",
       "     \"BokehJS does not appear to have successfully loaded. If loading BokehJS from CDN, this \\n\"+\n",
       "     \"may be due to a slow or bad network connection. Possible fixes:\\n\"+\n",
       "     \"</p>\\n\"+\n",
       "     \"<ul>\\n\"+\n",
       "     \"<li>re-rerun `output_notebook()` to attempt to load from CDN again, or</li>\\n\"+\n",
       "     \"<li>use INLINE resources instead, as so:</li>\\n\"+\n",
       "     \"</ul>\\n\"+\n",
       "     \"<code>\\n\"+\n",
       "     \"from bokeh.resources import INLINE\\n\"+\n",
       "     \"output_notebook(resources=INLINE)\\n\"+\n",
       "     \"</code>\\n\"+\n",
       "     \"</div>\"}};\n",
       "\n",
       "  function display_loaded() {\n",
       "    var el = document.getElementById(\"5617\");\n",
       "    if (el != null) {\n",
       "      el.textContent = \"BokehJS is loading...\";\n",
       "    }\n",
       "    if (root.Bokeh !== undefined) {\n",
       "      if (el != null) {\n",
       "        el.textContent = \"BokehJS \" + root.Bokeh.version + \" successfully loaded.\";\n",
       "      }\n",
       "    } else if (Date.now() < root._bokeh_timeout) {\n",
       "      setTimeout(display_loaded, 100)\n",
       "    }\n",
       "  }\n",
       "\n",
       "\n",
       "  function run_callbacks() {\n",
       "    try {\n",
       "      root._bokeh_onload_callbacks.forEach(function(callback) {\n",
       "        if (callback != null)\n",
       "          callback();\n",
       "      });\n",
       "    } finally {\n",
       "      delete root._bokeh_onload_callbacks\n",
       "    }\n",
       "    console.debug(\"Bokeh: all callbacks have finished\");\n",
       "  }\n",
       "\n",
       "  function load_libs(css_urls, js_urls, callback) {\n",
       "    if (css_urls == null) css_urls = [];\n",
       "    if (js_urls == null) js_urls = [];\n",
       "\n",
       "    root._bokeh_onload_callbacks.push(callback);\n",
       "    if (root._bokeh_is_loading > 0) {\n",
       "      console.debug(\"Bokeh: BokehJS is being loaded, scheduling callback at\", now());\n",
       "      return null;\n",
       "    }\n",
       "    if (js_urls == null || js_urls.length === 0) {\n",
       "      run_callbacks();\n",
       "      return null;\n",
       "    }\n",
       "    console.debug(\"Bokeh: BokehJS not loaded, scheduling load and callback at\", now());\n",
       "    root._bokeh_is_loading = css_urls.length + js_urls.length;\n",
       "\n",
       "    function on_load() {\n",
       "      root._bokeh_is_loading--;\n",
       "      if (root._bokeh_is_loading === 0) {\n",
       "        console.debug(\"Bokeh: all BokehJS libraries/stylesheets loaded\");\n",
       "        run_callbacks()\n",
       "      }\n",
       "    }\n",
       "\n",
       "    function on_error() {\n",
       "      console.error(\"failed to load \" + url);\n",
       "    }\n",
       "\n",
       "    for (var i = 0; i < css_urls.length; i++) {\n",
       "      var url = css_urls[i];\n",
       "      const element = document.createElement(\"link\");\n",
       "      element.onload = on_load;\n",
       "      element.onerror = on_error;\n",
       "      element.rel = \"stylesheet\";\n",
       "      element.type = \"text/css\";\n",
       "      element.href = url;\n",
       "      console.debug(\"Bokeh: injecting link tag for BokehJS stylesheet: \", url);\n",
       "      document.body.appendChild(element);\n",
       "    }\n",
       "\n",
       "    for (var i = 0; i < js_urls.length; i++) {\n",
       "      var url = js_urls[i];\n",
       "      var element = document.createElement('script');\n",
       "      element.onload = on_load;\n",
       "      element.onerror = on_error;\n",
       "      element.async = false;\n",
       "      element.src = url;\n",
       "      console.debug(\"Bokeh: injecting script tag for BokehJS library: \", url);\n",
       "      document.head.appendChild(element);\n",
       "    }\n",
       "  };var element = document.getElementById(\"5617\");\n",
       "  if (element == null) {\n",
       "    console.error(\"Bokeh: ERROR: autoload.js configured with elementid '5617' but no matching script tag was found. \")\n",
       "    return false;\n",
       "  }\n",
       "\n",
       "  function inject_raw_css(css) {\n",
       "    const element = document.createElement(\"style\");\n",
       "    element.appendChild(document.createTextNode(css));\n",
       "    document.body.appendChild(element);\n",
       "  }\n",
       "\n",
       "  var js_urls = [\"https://cdn.pydata.org/bokeh/release/bokeh-1.3.4.min.js\", \"https://cdn.pydata.org/bokeh/release/bokeh-widgets-1.3.4.min.js\", \"https://cdn.pydata.org/bokeh/release/bokeh-tables-1.3.4.min.js\", \"https://cdn.pydata.org/bokeh/release/bokeh-gl-1.3.4.min.js\"];\n",
       "  var css_urls = [];\n",
       "\n",
       "  var inline_js = [\n",
       "    function(Bokeh) {\n",
       "      Bokeh.set_log_level(\"info\");\n",
       "    },\n",
       "    \n",
       "    function(Bokeh) {\n",
       "      \n",
       "    },\n",
       "    function(Bokeh) {} // ensure no trailing comma for IE\n",
       "  ];\n",
       "\n",
       "  function run_inline_js() {\n",
       "    \n",
       "    if ((root.Bokeh !== undefined) || (force === true)) {\n",
       "      for (var i = 0; i < inline_js.length; i++) {\n",
       "        inline_js[i].call(root, root.Bokeh);\n",
       "      }if (force === true) {\n",
       "        display_loaded();\n",
       "      }} else if (Date.now() < root._bokeh_timeout) {\n",
       "      setTimeout(run_inline_js, 100);\n",
       "    } else if (!root._bokeh_failed_load) {\n",
       "      console.log(\"Bokeh: BokehJS failed to load within specified timeout.\");\n",
       "      root._bokeh_failed_load = true;\n",
       "    } else if (force !== true) {\n",
       "      var cell = $(document.getElementById(\"5617\")).parents('.cell').data().cell;\n",
       "      cell.output_area.append_execute_result(NB_LOAD_WARNING)\n",
       "    }\n",
       "\n",
       "  }\n",
       "\n",
       "  if (root._bokeh_is_loading === 0) {\n",
       "    console.debug(\"Bokeh: BokehJS loaded, going straight to plotting\");\n",
       "    run_inline_js();\n",
       "  } else {\n",
       "    load_libs(css_urls, js_urls, function() {\n",
       "      console.debug(\"Bokeh: BokehJS plotting callback run at\", now());\n",
       "      run_inline_js();\n",
       "    });\n",
       "  }\n",
       "}(window));"
      ],
      "application/vnd.bokehjs_load.v0+json": "\n(function(root) {\n  function now() {\n    return new Date();\n  }\n\n  var force = true;\n\n  if (typeof root._bokeh_onload_callbacks === \"undefined\" || force === true) {\n    root._bokeh_onload_callbacks = [];\n    root._bokeh_is_loading = undefined;\n  }\n\n  \n\n  \n  if (typeof (root._bokeh_timeout) === \"undefined\" || force === true) {\n    root._bokeh_timeout = Date.now() + 5000;\n    root._bokeh_failed_load = false;\n  }\n\n  var NB_LOAD_WARNING = {'data': {'text/html':\n     \"<div style='background-color: #fdd'>\\n\"+\n     \"<p>\\n\"+\n     \"BokehJS does not appear to have successfully loaded. If loading BokehJS from CDN, this \\n\"+\n     \"may be due to a slow or bad network connection. Possible fixes:\\n\"+\n     \"</p>\\n\"+\n     \"<ul>\\n\"+\n     \"<li>re-rerun `output_notebook()` to attempt to load from CDN again, or</li>\\n\"+\n     \"<li>use INLINE resources instead, as so:</li>\\n\"+\n     \"</ul>\\n\"+\n     \"<code>\\n\"+\n     \"from bokeh.resources import INLINE\\n\"+\n     \"output_notebook(resources=INLINE)\\n\"+\n     \"</code>\\n\"+\n     \"</div>\"}};\n\n  function display_loaded() {\n    var el = document.getElementById(\"5617\");\n    if (el != null) {\n      el.textContent = \"BokehJS is loading...\";\n    }\n    if (root.Bokeh !== undefined) {\n      if (el != null) {\n        el.textContent = \"BokehJS \" + root.Bokeh.version + \" successfully loaded.\";\n      }\n    } else if (Date.now() < root._bokeh_timeout) {\n      setTimeout(display_loaded, 100)\n    }\n  }\n\n\n  function run_callbacks() {\n    try {\n      root._bokeh_onload_callbacks.forEach(function(callback) {\n        if (callback != null)\n          callback();\n      });\n    } finally {\n      delete root._bokeh_onload_callbacks\n    }\n    console.debug(\"Bokeh: all callbacks have finished\");\n  }\n\n  function load_libs(css_urls, js_urls, callback) {\n    if (css_urls == null) css_urls = [];\n    if (js_urls == null) js_urls = [];\n\n    root._bokeh_onload_callbacks.push(callback);\n    if (root._bokeh_is_loading > 0) {\n      console.debug(\"Bokeh: BokehJS is being loaded, scheduling callback at\", now());\n      return null;\n    }\n    if (js_urls == null || js_urls.length === 0) {\n      run_callbacks();\n      return null;\n    }\n    console.debug(\"Bokeh: BokehJS not loaded, scheduling load and callback at\", now());\n    root._bokeh_is_loading = css_urls.length + js_urls.length;\n\n    function on_load() {\n      root._bokeh_is_loading--;\n      if (root._bokeh_is_loading === 0) {\n        console.debug(\"Bokeh: all BokehJS libraries/stylesheets loaded\");\n        run_callbacks()\n      }\n    }\n\n    function on_error() {\n      console.error(\"failed to load \" + url);\n    }\n\n    for (var i = 0; i < css_urls.length; i++) {\n      var url = css_urls[i];\n      const element = document.createElement(\"link\");\n      element.onload = on_load;\n      element.onerror = on_error;\n      element.rel = \"stylesheet\";\n      element.type = \"text/css\";\n      element.href = url;\n      console.debug(\"Bokeh: injecting link tag for BokehJS stylesheet: \", url);\n      document.body.appendChild(element);\n    }\n\n    for (var i = 0; i < js_urls.length; i++) {\n      var url = js_urls[i];\n      var element = document.createElement('script');\n      element.onload = on_load;\n      element.onerror = on_error;\n      element.async = false;\n      element.src = url;\n      console.debug(\"Bokeh: injecting script tag for BokehJS library: \", url);\n      document.head.appendChild(element);\n    }\n  };var element = document.getElementById(\"5617\");\n  if (element == null) {\n    console.error(\"Bokeh: ERROR: autoload.js configured with elementid '5617' but no matching script tag was found. \")\n    return false;\n  }\n\n  function inject_raw_css(css) {\n    const element = document.createElement(\"style\");\n    element.appendChild(document.createTextNode(css));\n    document.body.appendChild(element);\n  }\n\n  var js_urls = [\"https://cdn.pydata.org/bokeh/release/bokeh-1.3.4.min.js\", \"https://cdn.pydata.org/bokeh/release/bokeh-widgets-1.3.4.min.js\", \"https://cdn.pydata.org/bokeh/release/bokeh-tables-1.3.4.min.js\", \"https://cdn.pydata.org/bokeh/release/bokeh-gl-1.3.4.min.js\"];\n  var css_urls = [];\n\n  var inline_js = [\n    function(Bokeh) {\n      Bokeh.set_log_level(\"info\");\n    },\n    \n    function(Bokeh) {\n      \n    },\n    function(Bokeh) {} // ensure no trailing comma for IE\n  ];\n\n  function run_inline_js() {\n    \n    if ((root.Bokeh !== undefined) || (force === true)) {\n      for (var i = 0; i < inline_js.length; i++) {\n        inline_js[i].call(root, root.Bokeh);\n      }if (force === true) {\n        display_loaded();\n      }} else if (Date.now() < root._bokeh_timeout) {\n      setTimeout(run_inline_js, 100);\n    } else if (!root._bokeh_failed_load) {\n      console.log(\"Bokeh: BokehJS failed to load within specified timeout.\");\n      root._bokeh_failed_load = true;\n    } else if (force !== true) {\n      var cell = $(document.getElementById(\"5617\")).parents('.cell').data().cell;\n      cell.output_area.append_execute_result(NB_LOAD_WARNING)\n    }\n\n  }\n\n  if (root._bokeh_is_loading === 0) {\n    console.debug(\"Bokeh: BokehJS loaded, going straight to plotting\");\n    run_inline_js();\n  } else {\n    load_libs(css_urls, js_urls, function() {\n      console.debug(\"Bokeh: BokehJS plotting callback run at\", now());\n      run_inline_js();\n    });\n  }\n}(window));"
     },
     "metadata": {},
     "output_type": "display_data"
    },
    {
     "data": {
      "application/vnd.jupyter.widget-view+json": {
       "model_id": "71cebfce61194cd18346b744cfff80c9",
       "version_major": 2,
       "version_minor": 0
      },
      "text/plain": [
       "interactive(children=(Dropdown(description='function', options=('sin', 'cos', 'tan'), value='sin'), IntSlider(…"
      ]
     },
     "metadata": {},
     "output_type": "display_data"
    },
    {
     "data": {
      "text/html": [
       "\n",
       "\n",
       "\n",
       "\n",
       "\n",
       "\n",
       "  <div class=\"bk-root\" id=\"4af2d619-ab13-4122-8625-130d3c0f449b\" data-root-id=\"5618\"></div>\n"
      ]
     },
     "metadata": {},
     "output_type": "display_data"
    },
    {
     "data": {
      "application/javascript": [
       "(function(root) {\n",
       "  function embed_document(root) {\n",
       "    \n",
       "  var docs_json = {\"222a1e66-9617-42d7-88b8-119c256c1f32\":{\"roots\":{\"references\":[{\"attributes\":{\"background_fill_color\":{\"value\":\"#efefef\"},\"below\":[{\"id\":\"5629\",\"type\":\"LinearAxis\"}],\"center\":[{\"id\":\"5633\",\"type\":\"Grid\"},{\"id\":\"5638\",\"type\":\"Grid\"}],\"left\":[{\"id\":\"5634\",\"type\":\"LinearAxis\"}],\"plot_height\":300,\"plot_width\":900,\"renderers\":[{\"id\":\"5655\",\"type\":\"GlyphRenderer\"}],\"title\":{\"id\":\"5619\",\"type\":\"Title\"},\"toolbar\":{\"id\":\"5645\",\"type\":\"Toolbar\"},\"x_range\":{\"id\":\"5621\",\"type\":\"DataRange1d\"},\"x_scale\":{\"id\":\"5625\",\"type\":\"LinearScale\"},\"y_range\":{\"id\":\"5623\",\"type\":\"Range1d\"},\"y_scale\":{\"id\":\"5627\",\"type\":\"LinearScale\"}},\"id\":\"5618\",\"subtype\":\"Figure\",\"type\":\"Plot\"},{\"attributes\":{\"data_source\":{\"id\":\"5652\",\"type\":\"ColumnDataSource\"},\"glyph\":{\"id\":\"5653\",\"type\":\"Line\"},\"hover_glyph\":null,\"muted_glyph\":null,\"nonselection_glyph\":{\"id\":\"5654\",\"type\":\"Line\"},\"selection_glyph\":null,\"view\":{\"id\":\"5656\",\"type\":\"CDSView\"}},\"id\":\"5655\",\"type\":\"GlyphRenderer\"},{\"attributes\":{\"overlay\":{\"id\":\"5742\",\"type\":\"BoxAnnotation\"}},\"id\":\"5641\",\"type\":\"BoxZoomTool\"},{\"attributes\":{},\"id\":\"5744\",\"type\":\"UnionRenderers\"},{\"attributes\":{\"formatter\":{\"id\":\"5741\",\"type\":\"BasicTickFormatter\"},\"ticker\":{\"id\":\"5630\",\"type\":\"BasicTicker\"}},\"id\":\"5629\",\"type\":\"LinearAxis\"},{\"attributes\":{},\"id\":\"5739\",\"type\":\"BasicTickFormatter\"},{\"attributes\":{\"dimension\":1,\"ticker\":{\"id\":\"5635\",\"type\":\"BasicTicker\"}},\"id\":\"5638\",\"type\":\"Grid\"},{\"attributes\":{\"source\":{\"id\":\"5652\",\"type\":\"ColumnDataSource\"}},\"id\":\"5656\",\"type\":\"CDSView\"},{\"attributes\":{},\"id\":\"5642\",\"type\":\"SaveTool\"},{\"attributes\":{},\"id\":\"5639\",\"type\":\"PanTool\"},{\"attributes\":{},\"id\":\"5741\",\"type\":\"BasicTickFormatter\"},{\"attributes\":{\"active_drag\":\"auto\",\"active_inspect\":\"auto\",\"active_multi\":null,\"active_scroll\":\"auto\",\"active_tap\":\"auto\",\"tools\":[{\"id\":\"5639\",\"type\":\"PanTool\"},{\"id\":\"5640\",\"type\":\"WheelZoomTool\"},{\"id\":\"5641\",\"type\":\"BoxZoomTool\"},{\"id\":\"5642\",\"type\":\"SaveTool\"},{\"id\":\"5643\",\"type\":\"ResetTool\"},{\"id\":\"5644\",\"type\":\"HelpTool\"}]},\"id\":\"5645\",\"type\":\"Toolbar\"},{\"attributes\":{},\"id\":\"5643\",\"type\":\"ResetTool\"},{\"attributes\":{\"ticker\":{\"id\":\"5630\",\"type\":\"BasicTicker\"}},\"id\":\"5633\",\"type\":\"Grid\"},{\"attributes\":{\"formatter\":{\"id\":\"5739\",\"type\":\"BasicTickFormatter\"},\"ticker\":{\"id\":\"5635\",\"type\":\"BasicTicker\"}},\"id\":\"5634\",\"type\":\"LinearAxis\"},{\"attributes\":{\"line_alpha\":0.8,\"line_color\":\"#8888cc\",\"line_width\":1.5,\"x\":{\"field\":\"x\"},\"y\":{\"field\":\"y\"}},\"id\":\"5653\",\"type\":\"Line\"},{\"attributes\":{},\"id\":\"5625\",\"type\":\"LinearScale\"},{\"attributes\":{},\"id\":\"5635\",\"type\":\"BasicTicker\"},{\"attributes\":{},\"id\":\"5627\",\"type\":\"LinearScale\"},{\"attributes\":{},\"id\":\"5640\",\"type\":\"WheelZoomTool\"},{\"attributes\":{\"bottom_units\":\"screen\",\"fill_alpha\":{\"value\":0.5},\"fill_color\":{\"value\":\"lightgrey\"},\"left_units\":\"screen\",\"level\":\"overlay\",\"line_alpha\":{\"value\":1.0},\"line_color\":{\"value\":\"black\"},\"line_dash\":[4,4],\"line_width\":{\"value\":2},\"render_mode\":\"css\",\"right_units\":\"screen\",\"top_units\":\"screen\"},\"id\":\"5742\",\"type\":\"BoxAnnotation\"},{\"attributes\":{},\"id\":\"5630\",\"type\":\"BasicTicker\"},{\"attributes\":{},\"id\":\"5644\",\"type\":\"HelpTool\"},{\"attributes\":{},\"id\":\"5743\",\"type\":\"Selection\"},{\"attributes\":{\"callback\":null,\"data\":{\"x\":{\"__ndarray__\":\"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\",\"dtype\":\"float64\",\"shape\":[2000]},\"y\":{\"__ndarray__\":\"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\",\"dtype\":\"float64\",\"shape\":[2000]}},\"selected\":{\"id\":\"5743\",\"type\":\"Selection\"},\"selection_policy\":{\"id\":\"5744\",\"type\":\"UnionRenderers\"}},\"id\":\"5652\",\"type\":\"ColumnDataSource\"},{\"attributes\":{\"callback\":null,\"end\":10,\"start\":-10},\"id\":\"5623\",\"type\":\"Range1d\"},{\"attributes\":{\"text\":\"example - simple trig plot\"},\"id\":\"5619\",\"type\":\"Title\"},{\"attributes\":{\"line_alpha\":0.1,\"line_color\":\"#1f77b4\",\"line_width\":1.5,\"x\":{\"field\":\"x\"},\"y\":{\"field\":\"y\"}},\"id\":\"5654\",\"type\":\"Line\"},{\"attributes\":{\"callback\":null},\"id\":\"5621\",\"type\":\"DataRange1d\"}],\"root_ids\":[\"5618\"]},\"title\":\"Bokeh Application\",\"version\":\"1.3.4\"}};\n",
       "  var render_items = [{\"docid\":\"222a1e66-9617-42d7-88b8-119c256c1f32\",\"notebook_comms_target\":\"5745\",\"roots\":{\"5618\":\"4af2d619-ab13-4122-8625-130d3c0f449b\"}}];\n",
       "  root.Bokeh.embed.embed_items_notebook(docs_json, render_items);\n",
       "\n",
       "  }\n",
       "  if (root.Bokeh !== undefined) {\n",
       "    embed_document(root);\n",
       "  } else {\n",
       "    var attempts = 0;\n",
       "    var timer = setInterval(function(root) {\n",
       "      if (root.Bokeh !== undefined) {\n",
       "        embed_document(root);\n",
       "        clearInterval(timer);\n",
       "      }\n",
       "      attempts++;\n",
       "      if (attempts > 100) {\n",
       "        console.log(\"Bokeh: ERROR: Unable to run BokehJS code because BokehJS library is missing\");\n",
       "        clearInterval(timer);\n",
       "      }\n",
       "    }, 10, root)\n",
       "  }\n",
       "})(window);"
      ],
      "application/vnd.bokehjs_exec.v0+json": ""
     },
     "metadata": {
      "application/vnd.bokehjs_exec.v0+json": {
       "id": "5618"
      }
     },
     "output_type": "display_data"
    }
   ],
   "source": [
    "# simple interactivity example - using ipywidgets\n",
    "# credit:  https://github.com/bokeh/bokeh/blob/1.3.4/examples/howto/notebook_comms/Jupyter%20Interactors.ipynb\n",
    "\n",
    "from ipywidgets import interact\n",
    "import numpy as np\n",
    "\n",
    "from bokeh.io import push_notebook, show, output_notebook\n",
    "from bokeh.plotting import figure\n",
    "output_notebook()\n",
    "\n",
    "# define evenly spaced data to plot trig functions\n",
    "x = np.linspace(0, 2*np.pi, 2000)\n",
    "y = np.sin(x)\n",
    "\n",
    "graph_function = figure(title=\"example - simple trig plot\", plot_height=300, plot_width=900, y_range=(-10,10),\n",
    "           background_fill_color='#efefef')\n",
    "r = graph_function.line(x, y, color=\"#8888cc\", line_width=1.5, alpha=0.8)\n",
    "\n",
    "def update(function, freq=10, Amplitude=2, phi=0):\n",
    "    if   function == \"sin\": func = np.sin\n",
    "    elif function == \"cos\": func = np.cos\n",
    "    elif function == \"tan\": func = np.tan\n",
    "    r.data_source.data['y'] = Amplitude * func(freq * x + phi)\n",
    "    push_notebook()\n",
    "\n",
    "interact(update, function=[\"sin\", \"cos\", \"tan\"], freq=(0,500), Amplitude=(1,20), phi=(0, 20, 0.5))\n",
    "show(graph_function, notebook_handle=True);  # handle updates existing plot, only needed in jupyter notebook (not jupyterlab)\n"
   ]
  },
  {
   "cell_type": "markdown",
   "metadata": {
    "slideshow": {
     "slide_type": "slide"
    }
   },
   "source": [
    "# Introducing Bokeh ColumnDataSource object<br>\n",
    "\n",
    "- Bokeh class\n",
    "- Bokeh can plot directly from Pandas DataFrames AND\n",
    "- ColumnDataSource helps maps names of columns to sequences or arrays <br><br>\n",
    "\n",
    "\n",
    "    from bokeh.models import ColumnDataSource\n",
    "\n",
    "    data = {\"x\": [1,2,3,4], \"y\": [11, 22, 33, 44], labels=[\"alpha\", \"bravo\", \"charlie\", \"delta\"]}\n",
    "\n",
    "    source = ColumnDataSource(data,  color=Colorblind)\n",
    "<br>\n",
    "\n",
    "### why use this?\n",
    "- easier to share data + selections between plots and subplots<br>\n",
    "- efficient graphing of streaming - bokeh only sends new data to plots<br>\n",
    "- offloads work to the browser (e.g. colormapping)<br><br>\n",
    "\n",
    "- color examples:  https://docs.bokeh.org/en/latest/docs/reference/palettes.html"
   ]
  },
  {
   "cell_type": "markdown",
   "metadata": {
    "slideshow": {
     "slide_type": "slide"
    }
   },
   "source": [
    "# Example 3 - Saving Data from A Chart\n",
    "\n",
    "WIP"
   ]
  },
  {
   "cell_type": "markdown",
   "metadata": {
    "slideshow": {
     "slide_type": "slide"
    }
   },
   "source": [
    "# Example 4 - Interactive, linked brushing"
   ]
  },
  {
   "cell_type": "code",
   "execution_count": 36,
   "metadata": {
    "scrolled": false,
    "slideshow": {
     "slide_type": "subslide"
    }
   },
   "outputs": [
    {
     "data": {
      "text/html": [
       "\n",
       "\n",
       "\n",
       "\n",
       "\n",
       "\n",
       "  <div class=\"bk-root\" id=\"a3cf1de7-aa2d-4005-a4d6-9d8dbe8228f7\" data-root-id=\"6980\"></div>\n"
      ]
     },
     "metadata": {},
     "output_type": "display_data"
    },
    {
     "data": {
      "application/javascript": [
       "(function(root) {\n",
       "  function embed_document(root) {\n",
       "    \n",
       "  var docs_json = {\"b0c518ac-e514-429c-9c8e-d9d57f175c1a\":{\"roots\":{\"references\":[{\"attributes\":{\"children\":[{\"id\":\"6979\",\"type\":\"ToolbarBox\"},{\"id\":\"6977\",\"type\":\"GridBox\"}]},\"id\":\"6980\",\"type\":\"Column\"},{\"attributes\":{\"toolbar\":{\"id\":\"6978\",\"type\":\"ProxyToolbar\"},\"toolbar_location\":\"above\"},\"id\":\"6979\",\"type\":\"ToolbarBox\"},{\"attributes\":{\"ticker\":{\"id\":\"6869\",\"type\":\"BasicTicker\"}},\"id\":\"6872\",\"type\":\"Grid\"},{\"attributes\":{\"text\":\"Watch First Graph Here\"},\"id\":\"6889\",\"type\":\"Title\"},{\"attributes\":{\"ticker\":{\"id\":\"6900\",\"type\":\"BasicTicker\"}},\"id\":\"6903\",\"type\":\"Grid\"},{\"attributes\":{\"dimension\":1,\"ticker\":{\"id\":\"6905\",\"type\":\"BasicTicker\"}},\"id\":\"6908\",\"type\":\"Grid\"},{\"attributes\":{\"data_source\":{\"id\":\"6855\",\"type\":\"ColumnDataSource\"},\"glyph\":{\"id\":\"6913\",\"type\":\"Circle\"},\"hover_glyph\":null,\"muted_glyph\":null,\"nonselection_glyph\":{\"id\":\"6914\",\"type\":\"Circle\"},\"selection_glyph\":null,\"view\":{\"id\":\"6916\",\"type\":\"CDSView\"}},\"id\":\"6915\",\"type\":\"GlyphRenderer\"},{\"attributes\":{},\"id\":\"6965\",\"type\":\"BasicTickFormatter\"},{\"attributes\":{\"callback\":null,\"data\":{\"x\":[],\"y\":[]},\"selected\":{\"id\":\"6958\",\"type\":\"Selection\"},\"selection_policy\":{\"id\":\"6959\",\"type\":\"UnionRenderers\"}},\"id\":\"6856\",\"type\":\"ColumnDataSource\"},{\"attributes\":{},\"id\":\"6959\",\"type\":\"UnionRenderers\"},{\"attributes\":{\"callback\":null},\"id\":\"6860\",\"type\":\"DataRange1d\"},{\"attributes\":{\"text\":\"Select Here\"},\"id\":\"6858\",\"type\":\"Title\"},{\"attributes\":{\"source\":{\"id\":\"6854\",\"type\":\"ColumnDataSource\"}},\"id\":\"6887\",\"type\":\"CDSView\"},{\"attributes\":{\"fill_alpha\":{\"value\":0.4},\"fill_color\":{\"value\":\"#1f77b4\"},\"line_alpha\":{\"value\":0.4},\"line_color\":{\"value\":\"#1f77b4\"},\"x\":{\"field\":\"x\"},\"y\":{\"field\":\"y\"}},\"id\":\"6884\",\"type\":\"Circle\"},{\"attributes\":{\"below\":[{\"id\":\"6928\",\"type\":\"LinearAxis\"}],\"center\":[{\"id\":\"6932\",\"type\":\"Grid\"},{\"id\":\"6937\",\"type\":\"Grid\"}],\"left\":[{\"id\":\"6933\",\"type\":\"LinearAxis\"}],\"plot_height\":400,\"plot_width\":400,\"renderers\":[{\"id\":\"6944\",\"type\":\"GlyphRenderer\"}],\"title\":{\"id\":\"6918\",\"type\":\"Title\"},\"toolbar\":{\"id\":\"6939\",\"type\":\"Toolbar\"},\"toolbar_location\":null,\"x_range\":{\"id\":\"6920\",\"type\":\"Range1d\"},\"x_scale\":{\"id\":\"6924\",\"type\":\"LinearScale\"},\"y_range\":{\"id\":\"6922\",\"type\":\"Range1d\"},\"y_scale\":{\"id\":\"6926\",\"type\":\"LinearScale\"}},\"id\":\"6917\",\"subtype\":\"Figure\",\"type\":\"Plot\"},{\"attributes\":{},\"id\":\"6869\",\"type\":\"BasicTicker\"},{\"attributes\":{\"source\":{\"id\":\"6856\",\"type\":\"ColumnDataSource\"}},\"id\":\"6945\",\"type\":\"CDSView\"},{\"attributes\":{\"dimension\":1,\"ticker\":{\"id\":\"6934\",\"type\":\"BasicTicker\"}},\"id\":\"6937\",\"type\":\"Grid\"},{\"attributes\":{},\"id\":\"6905\",\"type\":\"BasicTicker\"},{\"attributes\":{\"source\":{\"id\":\"6855\",\"type\":\"ColumnDataSource\"}},\"id\":\"6916\",\"type\":\"CDSView\"},{\"attributes\":{},\"id\":\"6971\",\"type\":\"BasicTickFormatter\"},{\"attributes\":{},\"id\":\"6866\",\"type\":\"LinearScale\"},{\"attributes\":{\"callback\":null},\"id\":\"6891\",\"type\":\"Range1d\"},{\"attributes\":{\"callback\":null},\"id\":\"6922\",\"type\":\"Range1d\"},{\"attributes\":{},\"id\":\"6958\",\"type\":\"Selection\"},{\"attributes\":{},\"id\":\"6926\",\"type\":\"LinearScale\"},{\"attributes\":{\"active_drag\":\"auto\",\"active_inspect\":\"auto\",\"active_multi\":null,\"active_scroll\":\"auto\",\"active_tap\":\"auto\",\"tools\":[{\"id\":\"6878\",\"type\":\"LassoSelectTool\"},{\"id\":\"6879\",\"type\":\"ResetTool\"}]},\"id\":\"6880\",\"type\":\"Toolbar\"},{\"attributes\":{\"fill_alpha\":{\"value\":0.1},\"fill_color\":{\"value\":\"#1f77b4\"},\"line_alpha\":{\"value\":0.1},\"line_color\":{\"value\":\"#1f77b4\"},\"x\":{\"field\":\"x\"},\"y\":{\"field\":\"y\"}},\"id\":\"6914\",\"type\":\"Circle\"},{\"attributes\":{\"callback\":null,\"data\":{\"x\":[],\"y\":[]},\"selected\":{\"id\":\"6956\",\"type\":\"Selection\"},\"selection_policy\":{\"id\":\"6957\",\"type\":\"UnionRenderers\"}},\"id\":\"6855\",\"type\":\"ColumnDataSource\"},{\"attributes\":{},\"id\":\"6973\",\"type\":\"BasicTickFormatter\"},{\"attributes\":{\"data_source\":{\"id\":\"6854\",\"type\":\"ColumnDataSource\"},\"glyph\":{\"id\":\"6884\",\"type\":\"Circle\"},\"hover_glyph\":null,\"muted_glyph\":null,\"nonselection_glyph\":{\"id\":\"6885\",\"type\":\"Circle\"},\"selection_glyph\":null,\"view\":{\"id\":\"6887\",\"type\":\"CDSView\"}},\"id\":\"6886\",\"type\":\"GlyphRenderer\"},{\"attributes\":{},\"id\":\"6895\",\"type\":\"LinearScale\"},{\"attributes\":{},\"id\":\"6864\",\"type\":\"LinearScale\"},{\"attributes\":{\"fill_alpha\":{\"value\":0.5},\"fill_color\":{\"value\":\"lightgrey\"},\"level\":\"overlay\",\"line_alpha\":{\"value\":1.0},\"line_color\":{\"value\":\"black\"},\"line_dash\":[4,4],\"line_width\":{\"value\":2},\"xs_units\":\"screen\",\"ys_units\":\"screen\"},\"id\":\"6953\",\"type\":\"PolyAnnotation\"},{\"attributes\":{\"fill_alpha\":{\"value\":0.1},\"fill_color\":{\"value\":\"#1f77b4\"},\"line_alpha\":{\"value\":0.1},\"line_color\":{\"value\":\"#1f77b4\"},\"x\":{\"field\":\"x\"},\"y\":{\"field\":\"y\"}},\"id\":\"6943\",\"type\":\"Circle\"},{\"attributes\":{},\"id\":\"6938\",\"type\":\"SaveTool\"},{\"attributes\":{\"formatter\":{\"id\":\"6965\",\"type\":\"BasicTickFormatter\"},\"ticker\":{\"id\":\"6900\",\"type\":\"BasicTicker\"}},\"id\":\"6899\",\"type\":\"LinearAxis\"},{\"attributes\":{\"dimension\":1,\"ticker\":{\"id\":\"6874\",\"type\":\"BasicTicker\"}},\"id\":\"6877\",\"type\":\"Grid\"},{\"attributes\":{},\"id\":\"6909\",\"type\":\"SaveTool\"},{\"attributes\":{\"ticker\":{\"id\":\"6929\",\"type\":\"BasicTicker\"}},\"id\":\"6932\",\"type\":\"Grid\"},{\"attributes\":{\"callback\":null,\"data\":{\"x\":[0.6446922334639973,0.5410086054240697,0.6234558286030295,0.30037624781426187,0.3756444150694872,0.4995947217525971,0.9684394276054243,0.05386228043166674,0.8166095058918171,0.09240942711707201,0.9969546833155098,0.9248635925090012,0.34870244734160716,0.0011866710556573956,0.34046500951172454,0.07893750712843428,0.023671613816066195,0.14160356915026917,0.5700426812593851,0.6158576941049881,0.0040949042983392525,0.0492316695040983,0.3842198017385442,0.9254486209388667,0.7017422163558742,0.9179376237664459,0.6180055027603887,0.2660826666984154,0.22767047260914441,0.9224256056800884,0.057464280017512914,0.4268683109470556,0.688170676429725,0.26607657531918905,0.08296265964388527,0.21611301073241762,0.7190581792024417,0.7127905496291289,0.09236082093255693,0.7251930318032604,0.6074818008193354,0.6205401827469228,0.6791485586861519,0.1683375023334649,0.11547737900365629,0.8568981750130966,0.5827469242004111,0.9877474810779593,0.4631698743738675,0.9379500904377975,0.31660329825170064,0.6368643603300368,0.8734633643785545,0.14327263343533603,0.7064709424979402,0.5653025320999864,0.3907333036591767,0.3894070351328037,0.9445101596997308,0.3573729153804176,0.33435399884012196,0.1079115804677494,0.8509456659530837,0.05674891794833581,0.23202708511857317,0.9622424012720633,0.39303819736600576,0.6739017219843443,0.91205603453804,0.30331987782229475,0.9766269185653186,0.42186511233412405,0.18136495266648245,0.343690405057019,0.9317935721772926,0.6999717179514157,0.2093674448835382,0.27669323872815366,0.3044606148103549,0.6098530764334623,0.9892030812155812,0.6749721963171388,0.6177313651693772,0.23287399198571934,0.6291867657287106,0.9212588214951017,0.25380182411318974,0.5852244706190489,0.802484579804797,0.139949316937383,0.5845377455007987,0.7814769407663331,0.9795423271563152,0.7679403094063872,0.32283494693299286,0.40673703425704366,0.6106020391929097,0.1278489854620134,0.5359173822397711,0.24393741917198364,0.09565666884905943,0.6503448208779609,0.09053132387939278,0.44832090355191057,0.9271228461110088,0.12062769885662894,0.30613354546431326,0.7021176980238439,0.9287928045373521,0.10521924346692213,0.31603096660003904,0.13588232682929646,0.5133477154234961,0.7220858226647529,0.4374755222421708,0.4377304902039669,0.6615125528586272,0.7530408448044599,0.3530488510949348,0.7184593572180527,0.4594450815424319,0.4460752418944034,0.7671493113531256,0.34416950843138316,0.8384220455988431,0.1287779887031354,0.7513563533855048,0.7458712674772277,0.9176954116658534,0.8805666189913999,0.027235533921107113,0.13823696018880682,0.2354458396480842,0.46666820330187053,0.7785835421203223,0.9951879755159304,0.6177524448063846,0.8054007280792943,0.9206247327921065,0.3284651533622064,0.16081378486724596,0.35156678535542085,0.8925182839960286,0.7468276470293755,0.1903032517841492,0.6508885902314008,0.4564678348468596,0.9413711439848124,0.13193957618064278,0.9271412930827455,0.855738375208638,0.14269919096135297,0.9707737541017538,0.026972361787668042,0.8973979161191358,0.20588855160345332,0.18589744264882235,0.6889269269300248,0.15647838447958562,0.2369573350112163,0.8805632678800436,0.4819673732685965,0.7148097522128684,0.10125799365656818,0.9703482643014145,0.5563724159783302,0.42257550663972554,0.41842043067499535,0.0408918541418426,0.6577592085028683,0.49586877803812857,0.868817490768866,0.6869447622491206,0.021761617703091485,0.27215741896180345,0.47954694926777774,0.572303493923351,0.9298173828663756,0.669218744986513,0.17481262442128254,0.19585539351096715,0.9976977737129115,0.9456124852211876,0.03734720862976493,0.0035146823515932457,0.026514298538846792,0.8151843470090882,0.3057572618529205,0.1315651302010168,0.5790003842475813,0.5455340105235706,0.3045027419149028,0.5329107394176327,0.5295022970114325,0.6940825528605349,0.7621642063279581,0.11843449654714211,0.049634384673293286,0.6753052686155735,0.9771899022936387,0.6951015240799304,0.4907072136984193,0.6579965099034806,0.023823149199268423,0.11506202182418979,0.4437019274800368,0.5035162081455679,0.1652430640637017,0.4207779477011273,0.10486232127699524,0.3199255139768101,0.6643472405780528,0.15855786510898806,0.04987600792286073,0.8559920810757975,0.9477100259186336,0.198137694056,0.5482615996825673,0.30918320478098993,0.48424515670580826,0.91315014872858,0.49059640496718127,0.9892980302239082,0.3010792833911057,0.9290502179216414,0.7565512684211058,0.24955661628645476,0.5682731677685242,0.731466399742579,0.002013871592211114,0.855449244055143,0.1631076846762638,0.9554632206919299,0.5710285528741406,0.85727437380058,0.8635824799943662,0.3620668816496937,0.8130764683649851,0.9503197433379825,0.07667834575371968,0.7209270926379517,0.7674326740927039,0.23350947424887547,0.8010552858822777,0.11545991961940416,0.8353746678057592,0.20346534623070767,0.5386342489945568,0.7695199794232181,0.4061965897634755,0.18763223324163314,0.419801568299799,0.4650380354550342,0.07868142978109882,0.23390297885135014,0.4554154327154192,0.4571217347050408,0.12785622025231613,0.48555389839360585,0.7157883724597849,0.3792230483075898,0.6719149815783023,0.9863084008109648,0.0962885635236872,0.7829237536796319,0.38140579257961815,0.1990290503930202,0.6648513376853958,0.43421605269504115,0.12618419617142507,0.7197978067028933,0.8855076715884287,0.05828737298114006,0.7652558747053335,0.9308361138187238,0.3932860319727919,0.25787646766814265,0.23435375592844798,0.7289545193505769,0.6495075799127868,0.9633490712703688,0.6686880989529314,0.5417690865805252,0.2775447442892197,0.5090484143170098,0.8928578559742502,0.271694671434358,0.09419113643245858,0.1175465738128526,0.8695728240777995,0.02622267928232369,0.7061621968209612,0.5891424733942081,0.9219573423743029,0.031186247110805754,0.8070693865874687,0.7071051469418048,0.1997810195900207,0.7321802209137014,0.7558666172092752,0.7079672627578697,0.35937635167051885,0.41890012391755005,0.7499373134012939,0.48453800278167936,0.35012722061258605,0.21407360317960633,0.6654102495112039,0.14650411810738528,0.7211501904789992,0.5134395270757202,0.42999312838619197,0.43978251480766073,0.6542306968751069,0.33666980942265845,0.8488826751684172,0.5636727761300024,0.4831728738428863,0.41177272005162757,0.31565948186390935,0.706148365966338,0.6599708663445024,0.4870036993918133,0.5128365537078875,0.21261368719069806,0.9656297626869754,0.6277599009449443,0.5392630807317778,0.7024797959259325,0.46683828976566266,0.8029572481320455,0.13260899085116062,0.5756854915490373,0.4977639931658763,0.1952888830536833,0.27696654744410476,0.0065290914233249175,0.36646484302585003,0.3633688544443793,0.4203443734864283,0.855846384616217,0.44155923649614537,0.22982223714229777,0.3615659275757638,0.7857837458281242,0.5854286243589792,0.11108262847447115,0.8954921863516514,0.7972169214867697,0.8839186998585393,0.24443539133708103,0.965652096223999,0.8306587363733063,0.4060488988938441,0.21300752524101585,0.05235514147456599,0.37010754155396075,0.051897601905497304,0.7475060873931858,0.8534385409262407,0.9693873304841222,0.9187701458133997,0.524986477709644,0.4935771360263842,0.8997765770538774,0.07071133375186478,0.4087396714277902,0.4187180124626515,0.9010244949542482,0.7309635214415372,0.3063639570020351,0.5131336200681451,0.9527957447832637,0.29381462731661556,0.11370792977294786,0.07967987129193488,0.705583090884356,0.17101556607146218,0.11546920676198069,0.32357938991893487,0.975633875209895,0.42749591070332205,0.9784933306398012,0.06641512400063188,0.2713331311003726,0.423917829957454,0.7685842219619142,0.7994437124403223,0.5351115200313085,0.43335085557628994,0.36799275256800157,0.95865862078776,0.3799920612585901,0.065356933436157,0.4511071216385846,0.12319297014475916,0.6488136571191374,0.9319446458078396,0.04091036581588403,0.4998974277562058,0.5871942363033413,0.2660423599912839,0.9329465444672318,0.2722809612743715,0.4443271609185758,0.7981227111973984,0.7016151612901776,0.9201285456664889,0.598409065422931,0.49462471634644967,0.3923602057513904,0.79260774572374,0.21192366678894947,0.5597815462232528,0.6974030975539306,0.18544706189100024,0.27811313104782065,0.84650052528859,0.5478419532053169,0.11905549044023711,0.6855040670798437,0.10331982934624895,0.7586081548660506,0.7533137268448908,0.1317415207128203,0.2581662189206403,0.5576635933866735,0.680432532675768,0.22747233456231963,0.07035149984350209,0.23629006671267927,0.22203409742187297,0.9701987638378718,0.7728545798017864,0.9447415515739163,0.9104802570803764,0.8582905770827514,0.8773053114501748,0.6551604415698321,0.13033632107296378,0.7785217969812614,0.18866100365263094,0.03288893323971509,0.18444229936921008,0.9464151306541856,0.9759749290217036,0.49507220143063246,0.7424169313313305,0.3050311686901316,0.698380450928577,0.2094778819881674,0.7948503833505951,0.44144501521212676,0.6767543400254775,0.936757449484899,0.28950698148669984,0.5620607775426143,0.4206989002791979,0.6394675381454865,0.5159085272102051,0.6387856574129326,0.18870240966160046,0.14700693397703812,0.6623261057987012,0.5012939031236381,0.26883560038282417,0.263867685936484,0.823217232106239,0.45711073236629973,0.25990479726149973,0.21464717363015484,0.8841318812578574,0.5924673467894487,0.6000938446196752,0.0017568626941414367,0.7910018630538942,0.49680734757857214,0.9920586627435459,0.3845888433853142,0.026017704267617403,0.327527510326456,0.03942285942403212,0.6210287398922991,0.6577619868173167,0.6766442094100608,0.17435883348725545,0.6665728134175257,0.23941592885186525,0.06271028532460377,0.958889190638796,0.49314175413054817,0.3713504143751486,0.3297329986342643,0.5146785822254305,0.8417308841481332,0.6913589263606728,0.009973019441401054,0.2509755978224696,0.12647782562068177,0.27539446691515845],\"y\":[0.42460603958471943,0.933229478970666,0.8088288484697747,0.41896804403998666,0.6645434493060234,0.5759451875260744,0.2536484516166587,0.679381608595145,0.054276855953987124,0.8476946955279918,0.888616535445372,0.2786640411249921,0.7760092734070805,0.47809104086115406,0.6879851303716997,0.35954627879542167,0.5627534672371834,0.4732157070702149,0.18951559528015582,0.01088125222428915,0.041472465262917035,0.8916205617496528,0.15984899638200112,0.8710107054236812,0.36151892776326067,0.7762991197373201,0.4663783689697112,0.47754815528055217,0.458148523522956,0.41163448420151527,0.9586233700980967,0.16351961934083248,0.5042957253970579,0.810653375624261,0.9204819066962272,0.7021409009326526,0.6776229184414737,0.23900254913584595,0.05652071183062024,0.09359283708021715,0.12079499160148077,0.18637651377151454,0.5276267930837535,0.5680595880498592,0.8018761305371299,0.9339090988510775,0.5290542319722732,0.07068347135666886,0.07510028896225718,0.35666981968412426,0.5359044457623123,0.736600833376961,0.7921396524762183,0.5918673007021538,0.8368754264554346,0.4082399810230699,0.7374478461242677,0.803890085746181,0.49441948403805025,0.08724639682302637,0.9546390568425672,0.6002174463883458,0.10102699866278708,0.15782258055843357,0.5201922568155031,0.29108877840054037,0.8594402769797345,0.5792265358102126,0.46175104372398523,0.7759227005645044,0.22726241787252377,0.40491566857068484,0.9064682769198489,0.9772975784248081,0.26061956824016097,0.06374945342463323,0.6104994709002682,0.7088180467586337,0.5105203526751038,0.06974218995696158,0.73785420974456,0.9334239852713885,0.4726172178426181,0.030503495064208686,0.33634857306572497,0.3053844424744241,0.9148344266760973,0.819740303932864,0.6045833961684208,0.7419650310367853,0.6571602852087636,0.4475700132268722,0.4814261243710146,0.36261611210996625,0.9481037956338,0.9128108819570104,0.3043727650414131,0.5473343149307304,0.8434434819722483,0.5116043269435906,0.3081458405714893,0.7819301498890912,0.6245165589978542,0.42883409966792885,0.07077041981579402,0.12398452587127673,0.6432121411764865,0.42354154231632934,0.038590419687017374,0.6584655670783326,0.24431533213880396,0.36886186526220643,0.9853973510730327,0.6400332821408589,0.5639743952271472,0.24998885736666243,0.29711809622469154,0.06271373260032209,0.5195900755979288,0.8788046486224244,0.61854584878489,0.08915474343529661,0.3462664435157279,0.8829387024239441,0.7691779933394056,0.6126720513857365,0.18684036539169535,0.4997776246509419,0.9256857352745773,0.5780823368878676,0.0672652770751152,0.35850021738636095,0.5541246634010686,0.34044855677445696,0.04873718691432505,0.031560680028040466,0.46308581573107943,0.07322815418315631,0.7665062251651891,0.4282178782535566,0.2638729674653978,0.8725475916418548,0.37252810668006364,0.7852218595896814,0.2395591594567419,0.869207084895053,0.34538864396014834,0.07304856719962383,0.3517881550583386,0.4481847352338538,0.07744051019751996,0.28747927164667597,0.43244746111425714,0.507125598511015,0.46089101079820716,0.3605439432571469,0.9949851942791745,0.18544425636515938,0.06738215942003645,0.9441135964646772,0.7100378056560005,0.10958550682204904,0.07122591549421742,0.7673302074107291,0.3594364861619538,0.42216152718200706,0.0531270305657523,0.5959778791960053,0.716808743349912,0.6094688707664617,0.21763315533006844,0.6927089136599607,0.9475201486735335,0.8441781294730096,0.38691021306111895,0.578319262073492,0.7814658260109125,0.06763139939943175,0.8543415110214716,0.5925658178805198,0.7113392882602317,0.9053307553580293,0.9920914341905788,0.6763524033220901,0.3433104926978825,0.9308183257879774,0.7217799747940654,0.9790367871200618,0.885167474738599,0.448589139457814,0.9994028673886991,0.16544758025977624,0.8658262392685476,0.8447790299444463,0.5225652582067312,0.07755420507488275,0.06091473930522551,0.5216964847109287,0.9294573919688173,0.7058317959220618,0.9344146482956025,0.4101779689773779,0.586975640785051,0.5624493726540973,0.31333566541707214,0.5075713533428661,0.8220424463177401,0.15452648473026598,0.07460699352900702,0.1948677671156288,0.17880459068302312,0.2735452898654397,0.6266330915516807,0.5637529186764536,0.2956540006334799,0.05957084382102218,0.3397302796513214,0.6930829359899847,0.6133886943568052,0.5875366888481173,0.17893435165854388,0.5021977053061409,0.17994306215557898,0.422660590495202,0.6967986808934138,0.6432591420297392,0.22319967906712523,0.3458418851396109,0.8554709735679598,0.8422241365316017,0.28843319284818125,0.27038951390449395,0.3378288744331085,0.32879423191502344,0.6286413445845735,0.6183984460987255,0.7687900991726554,0.4319212118588345,0.5520854207465348,0.8540266892627071,0.37262308475121475,0.9432651798469734,0.09845914085023477,0.479296624038409,0.717326660555978,0.5855219624676065,0.5330191174660636,0.10189193377056305,0.38555357343065577,0.24419285425004444,0.2615964133308265,0.8223219738772599,0.8510317957331284,0.022975343229926004,0.7612678129382997,0.8554817187691348,0.11068413410784028,0.5739566543029642,0.1443116060595716,0.00238384146392967,0.6996774714295285,0.3059287298511628,0.6386240018992476,0.02194332017663181,0.5042216434679918,0.6764315602963622,0.3311001890974755,0.9720519391252787,0.017894486766875883,0.7514843479765628,0.7881428494862792,0.8907261030833861,0.5327359256188459,0.1975255544417882,0.8975543359359988,0.231837999902331,0.5160788348352143,0.5563836941035104,0.7665301851719342,0.4865907152638891,0.14891513966094005,0.5675332196591045,0.7808006595803666,0.759021941685133,0.3908088009017626,0.2187528533976002,0.012010093117852394,0.08969307902855284,0.5436032482472146,0.6812237620715502,0.8113823517592635,0.12236044990268602,0.15103801353792035,0.6097147282980016,0.6689075830472047,0.8857895232296894,0.16886352904738144,0.4500288712197864,0.9418308604374013,0.3677516514988455,0.38600796461525544,0.5632270733676522,0.9231596797118679,0.5344359665776378,0.18396691994001357,0.5866067167577595,0.2975179685175954,0.41368820419696706,0.021026721786047475,0.9349816115036242,0.09650890002213408,0.4916252437059663,0.9539584346287193,0.2854067825337555,0.2615478793893159,0.4530097767558403,0.18642927940075404,0.36526665656555624,0.18124629017528793,0.6712860856857207,0.750593209077013,0.3719354512324795,0.9793233454607707,0.35426721859445076,0.297600333365595,0.17151787149095787,0.86436269918086,0.7194592060874979,0.40999541269372464,0.2634646255520936,0.45655193674404426,0.3537984731882662,0.052722106001969804,0.4120722126642533,0.410474146396401,0.087548015435019,0.47938868932374046,0.992344485842147,0.12600215934671521,0.8995521693052971,0.25339765099287426,0.8980639944168273,0.33395831675724197,0.4768886713928632,0.49580368280613496,0.8938775827290183,0.7891496201488718,0.06117964313879087,0.698226125432943,0.8215325990098695,0.7963656717613947,0.32313430838936374,0.2879883591243031,0.2983161136325232,0.995225624809088,0.382680125308006,0.7272009801771178,0.8354095075249444,0.8275976751442169,0.5078900415059495,0.18155303313746285,0.7862662557773824,0.4768257790336373,0.3722681544196673,0.7451230071442189,0.9504168996602993,0.979395856220973,0.8292271418175912,0.06889558371530002,0.4819917123527051,0.33866280984283914,0.18896795519607656,0.7760326857319978,0.6731175595691646,0.0918395610595596,0.286959173756675,0.08686034349611815,0.1408107499894996,0.13745342961770146,0.30236822607891156,0.4449821829599183,0.5059634313290229,0.3543653895849517,0.240751146523571,0.08632189331825557,0.6806514336939896,0.3619021977317429,0.34241971970471763,0.328634999850799,0.7115687335235537,0.01489264983045624,0.7641690221067482,0.13124011053259355,0.9360448285659376,0.35317316684077826,0.7760380388528354,0.4709316398998368,0.7047606606617683,0.48044956096687697,0.8801868620842932,0.6598385790971925,0.966599141213161,0.14695053189079943,0.7057476069651704,0.24401485189473404,0.06087297665046476,0.7319967102368824,0.31326458670708646,0.6977349720711491,0.8898594354636316,0.9064487810352779,0.8695513687555985,0.5263345925368432,0.9990383460908874,0.8630896662522002,0.8412365382047041,0.054606713178206534,0.04809641981110635,0.025078260214458026,0.9665133083029906,0.38395923843090396,0.33283447901359453,0.9210431467047573,0.6975159526298241,0.7924106572136789,0.5066674756084053,0.44586804533466406,0.9703862747148119,0.3546196258268809,0.8813191784350329,0.968058572686353,0.8258075855622716,0.7938564577901224,0.9051191888270774,0.8923868217846886,0.05316672588256277,0.36196025837868073,0.04167345180347937,0.7239490971898137,0.6067143636294186,0.7885415332318758,0.31514374333158246,0.9089260446477995,0.7082442316102716,0.4489765493103868,0.9720163827166164,0.04339457257375168,0.7406682805705288,0.2638969877876848,0.05581462602134091,0.6751709250094697,0.4127682509154711,0.9225670905514748,0.06162987216909732,0.48778802914054364,0.7187842020438808,0.028047663085119412,0.26065869357217397,0.2143437628127366,0.18226324291442164,0.7544447411874641,0.43444645414690064,0.5579063181138897,0.08406266308219001,0.10157357962455105,0.9362392084644051,0.8953104233435295,0.5659005447753823,0.4432795660608604,0.8489801659172381,0.27437249191942314,0.4069989810312532,0.1438581537596345,0.9843922055155631,0.1706374933183682,0.13661804786495546,0.5689381063604426,0.40498512171582135,0.6909314598643985,0.7445144291909664,0.9386838014442398,0.1409595323971251,0.92783268334583,0.49873631808348595,0.21979545393184985,0.6119236113339287,0.3228857190018679,0.1659105462788425,0.441540046745873,0.08504847483715738,0.02851670548349694,0.9644249699703642,0.015150383171323556,0.9040067811363507,0.7129674135735563,0.20220069868010915,0.9261785641345415,0.09015502803781461,0.4075847748528584,0.8645345896271844]},\"selected\":{\"id\":\"6946\",\"type\":\"Selection\"},\"selection_policy\":{\"id\":\"6955\",\"type\":\"UnionRenderers\"}},\"id\":\"6854\",\"type\":\"ColumnDataSource\"},{\"attributes\":{\"tools\":[{\"id\":\"6878\",\"type\":\"LassoSelectTool\"},{\"id\":\"6879\",\"type\":\"ResetTool\"},{\"id\":\"6909\",\"type\":\"SaveTool\"},{\"id\":\"6938\",\"type\":\"SaveTool\"}]},\"id\":\"6978\",\"type\":\"ProxyToolbar\"},{\"attributes\":{\"callback\":null},\"id\":\"6920\",\"type\":\"Range1d\"},{\"attributes\":{},\"id\":\"6900\",\"type\":\"BasicTicker\"},{\"attributes\":{\"js_property_callbacks\":{\"change:indices\":[{\"id\":\"6947\",\"type\":\"CustomJS\"}]}},\"id\":\"6946\",\"type\":\"Selection\"},{\"attributes\":{},\"id\":\"6955\",\"type\":\"UnionRenderers\"},{\"attributes\":{\"callback\":null,\"overlay\":{\"id\":\"6953\",\"type\":\"PolyAnnotation\"}},\"id\":\"6878\",\"type\":\"LassoSelectTool\"},{\"attributes\":{},\"id\":\"6874\",\"type\":\"BasicTicker\"},{\"attributes\":{\"fill_alpha\":{\"value\":0.1},\"fill_color\":{\"value\":\"#1f77b4\"},\"line_alpha\":{\"value\":0.1},\"line_color\":{\"value\":\"#1f77b4\"},\"x\":{\"field\":\"x\"},\"y\":{\"field\":\"y\"}},\"id\":\"6885\",\"type\":\"Circle\"},{\"attributes\":{\"fill_alpha\":{\"value\":0.3},\"fill_color\":{\"value\":\"firebrick\"},\"line_alpha\":{\"value\":0.3},\"line_color\":{\"value\":\"firebrick\"},\"x\":{\"field\":\"x\"},\"y\":{\"field\":\"y\"}},\"id\":\"6942\",\"type\":\"Circle\"},{\"attributes\":{},\"id\":\"6957\",\"type\":\"UnionRenderers\"},{\"attributes\":{\"args\":{\"s1\":{\"id\":\"6854\",\"type\":\"ColumnDataSource\"},\"s2\":{\"id\":\"6855\",\"type\":\"ColumnDataSource\"},\"s3\":{\"id\":\"6856\",\"type\":\"ColumnDataSource\"}},\"code\":\"\\n        var inds = cb_obj.indices;\\n        var d1 = s1.data;\\n        \\n        // data for 2nd graph\\n        var d2 = s2.data;     \\n        d2['x'] = []\\n        d2['y'] = []     \\n \\n        for (var i = 0; i < inds.length; i++) {\\n            d2['x'].push(d1['x'][inds[i]])\\n            d2['y'].push(d1['y'][inds[i]])\\n        }\\n        \\n        // data for 3rd graph\\n        var d3 = s3.data;\\n        d3['x'] = []\\n        d3['y'] = []\\n        d3['x'] = d1['x'].filter(x => !d2['x'].includes(x));\\n        d3['y'] = d1['y'].filter(y => !d2['y'].includes(y));\\n        \\n        s2.change.emit();\\n        s3.change.emit();\\n    \"},\"id\":\"6947\",\"type\":\"CustomJS\"},{\"attributes\":{},\"id\":\"6897\",\"type\":\"LinearScale\"},{\"attributes\":{\"formatter\":{\"id\":\"6963\",\"type\":\"BasicTickFormatter\"},\"ticker\":{\"id\":\"6905\",\"type\":\"BasicTicker\"}},\"id\":\"6904\",\"type\":\"LinearAxis\"},{\"attributes\":{\"text\":\"Watch Second Mirror Graph Here\"},\"id\":\"6918\",\"type\":\"Title\"},{\"attributes\":{\"formatter\":{\"id\":\"6973\",\"type\":\"BasicTickFormatter\"},\"ticker\":{\"id\":\"6929\",\"type\":\"BasicTicker\"}},\"id\":\"6928\",\"type\":\"LinearAxis\"},{\"attributes\":{\"fill_alpha\":{\"value\":0.6},\"fill_color\":{\"value\":\"forestgreen\"},\"line_alpha\":{\"value\":0.6},\"line_color\":{\"value\":\"forestgreen\"},\"x\":{\"field\":\"x\"},\"y\":{\"field\":\"y\"}},\"id\":\"6913\",\"type\":\"Circle\"},{\"attributes\":{},\"id\":\"6934\",\"type\":\"BasicTicker\"},{\"attributes\":{\"below\":[{\"id\":\"6868\",\"type\":\"LinearAxis\"}],\"center\":[{\"id\":\"6872\",\"type\":\"Grid\"},{\"id\":\"6877\",\"type\":\"Grid\"}],\"left\":[{\"id\":\"6873\",\"type\":\"LinearAxis\"}],\"plot_height\":400,\"plot_width\":400,\"renderers\":[{\"id\":\"6886\",\"type\":\"GlyphRenderer\"}],\"title\":{\"id\":\"6858\",\"type\":\"Title\"},\"toolbar\":{\"id\":\"6880\",\"type\":\"Toolbar\"},\"toolbar_location\":null,\"x_range\":{\"id\":\"6860\",\"type\":\"DataRange1d\"},\"x_scale\":{\"id\":\"6864\",\"type\":\"LinearScale\"},\"y_range\":{\"id\":\"6862\",\"type\":\"DataRange1d\"},\"y_scale\":{\"id\":\"6866\",\"type\":\"LinearScale\"}},\"id\":\"6857\",\"subtype\":\"Figure\",\"type\":\"Plot\"},{\"attributes\":{},\"id\":\"6924\",\"type\":\"LinearScale\"},{\"attributes\":{},\"id\":\"6952\",\"type\":\"BasicTickFormatter\"},{\"attributes\":{\"children\":[[{\"id\":\"6857\",\"subtype\":\"Figure\",\"type\":\"Plot\"},0,0],[{\"id\":\"6888\",\"subtype\":\"Figure\",\"type\":\"Plot\"},0,1],[{\"id\":\"6917\",\"subtype\":\"Figure\",\"type\":\"Plot\"},1,1]]},\"id\":\"6977\",\"type\":\"GridBox\"},{\"attributes\":{},\"id\":\"6963\",\"type\":\"BasicTickFormatter\"},{\"attributes\":{\"formatter\":{\"id\":\"6950\",\"type\":\"BasicTickFormatter\"},\"ticker\":{\"id\":\"6874\",\"type\":\"BasicTicker\"}},\"id\":\"6873\",\"type\":\"LinearAxis\"},{\"attributes\":{\"callback\":null},\"id\":\"6862\",\"type\":\"DataRange1d\"},{\"attributes\":{\"active_drag\":\"auto\",\"active_inspect\":\"auto\",\"active_multi\":null,\"active_scroll\":\"auto\",\"active_tap\":\"auto\",\"tools\":[{\"id\":\"6938\",\"type\":\"SaveTool\"}]},\"id\":\"6939\",\"type\":\"Toolbar\"},{\"attributes\":{},\"id\":\"6929\",\"type\":\"BasicTicker\"},{\"attributes\":{\"formatter\":{\"id\":\"6971\",\"type\":\"BasicTickFormatter\"},\"ticker\":{\"id\":\"6934\",\"type\":\"BasicTicker\"}},\"id\":\"6933\",\"type\":\"LinearAxis\"},{\"attributes\":{},\"id\":\"6956\",\"type\":\"Selection\"},{\"attributes\":{},\"id\":\"6879\",\"type\":\"ResetTool\"},{\"attributes\":{\"formatter\":{\"id\":\"6952\",\"type\":\"BasicTickFormatter\"},\"ticker\":{\"id\":\"6869\",\"type\":\"BasicTicker\"}},\"id\":\"6868\",\"type\":\"LinearAxis\"},{\"attributes\":{\"callback\":null},\"id\":\"6893\",\"type\":\"Range1d\"},{\"attributes\":{\"data_source\":{\"id\":\"6856\",\"type\":\"ColumnDataSource\"},\"glyph\":{\"id\":\"6942\",\"type\":\"Circle\"},\"hover_glyph\":null,\"muted_glyph\":null,\"nonselection_glyph\":{\"id\":\"6943\",\"type\":\"Circle\"},\"selection_glyph\":null,\"view\":{\"id\":\"6945\",\"type\":\"CDSView\"}},\"id\":\"6944\",\"type\":\"GlyphRenderer\"},{\"attributes\":{\"below\":[{\"id\":\"6899\",\"type\":\"LinearAxis\"}],\"center\":[{\"id\":\"6903\",\"type\":\"Grid\"},{\"id\":\"6908\",\"type\":\"Grid\"}],\"left\":[{\"id\":\"6904\",\"type\":\"LinearAxis\"}],\"plot_height\":400,\"plot_width\":400,\"renderers\":[{\"id\":\"6915\",\"type\":\"GlyphRenderer\"}],\"title\":{\"id\":\"6889\",\"type\":\"Title\"},\"toolbar\":{\"id\":\"6910\",\"type\":\"Toolbar\"},\"toolbar_location\":null,\"x_range\":{\"id\":\"6891\",\"type\":\"Range1d\"},\"x_scale\":{\"id\":\"6895\",\"type\":\"LinearScale\"},\"y_range\":{\"id\":\"6893\",\"type\":\"Range1d\"},\"y_scale\":{\"id\":\"6897\",\"type\":\"LinearScale\"}},\"id\":\"6888\",\"subtype\":\"Figure\",\"type\":\"Plot\"},{\"attributes\":{},\"id\":\"6950\",\"type\":\"BasicTickFormatter\"},{\"attributes\":{\"active_drag\":\"auto\",\"active_inspect\":\"auto\",\"active_multi\":null,\"active_scroll\":\"auto\",\"active_tap\":\"auto\",\"tools\":[{\"id\":\"6909\",\"type\":\"SaveTool\"}]},\"id\":\"6910\",\"type\":\"Toolbar\"}],\"root_ids\":[\"6980\"]},\"title\":\"Bokeh Application\",\"version\":\"1.3.4\"}};\n",
       "  var render_items = [{\"docid\":\"b0c518ac-e514-429c-9c8e-d9d57f175c1a\",\"roots\":{\"6980\":\"a3cf1de7-aa2d-4005-a4d6-9d8dbe8228f7\"}}];\n",
       "  root.Bokeh.embed.embed_items_notebook(docs_json, render_items);\n",
       "\n",
       "  }\n",
       "  if (root.Bokeh !== undefined) {\n",
       "    embed_document(root);\n",
       "  } else {\n",
       "    var attempts = 0;\n",
       "    var timer = setInterval(function(root) {\n",
       "      if (root.Bokeh !== undefined) {\n",
       "        embed_document(root);\n",
       "        clearInterval(timer);\n",
       "      }\n",
       "      attempts++;\n",
       "      if (attempts > 100) {\n",
       "        console.log(\"Bokeh: ERROR: Unable to run BokehJS code because BokehJS library is missing\");\n",
       "        clearInterval(timer);\n",
       "      }\n",
       "    }, 10, root)\n",
       "  }\n",
       "})(window);"
      ],
      "application/vnd.bokehjs_exec.v0+json": ""
     },
     "metadata": {
      "application/vnd.bokehjs_exec.v0+json": {
       "id": "6980"
      }
     },
     "output_type": "display_data"
    }
   ],
   "source": [
    "from random import random\n",
    "\n",
    "from bokeh.layouts import row\n",
    "from bokeh.models import CustomJS, ColumnDataSource\n",
    "from bokeh.plotting import figure, output_file, show\n",
    "\n",
    "# output_file(\"callback.html\")\n",
    "\n",
    "x = [random() for x in range(500)]\n",
    "y = [random() for y in range(500)]\n",
    "\n",
    "s1 = ColumnDataSource(data=dict(x=x, y=y))\n",
    "s2 = ColumnDataSource(data=dict(x=[], y=[]))\n",
    "s3 = ColumnDataSource(data=dict(x=[], y=[]))\n",
    "\n",
    "p1 = figure(plot_width=400, plot_height=400, tools=[\"lasso_select\", \"reset\"], title=\"Select Here\")\n",
    "p1.circle('x', 'y', source=s1, alpha=0.4)\n",
    "\n",
    "p2 = figure(plot_width=400, plot_height=400, x_range=(0, 1), y_range=(0, 1),\n",
    "            tools=\"save\", title=\"Watch First Graph Here\")\n",
    "p2.circle('x', 'y', source=s2, color=\"forestgreen\", alpha=0.6)\n",
    "\n",
    "p3 = figure(plot_width=400, plot_height=400, x_range=(0, 1), y_range=(0, 1),\n",
    "            tools=\"save\", title=\"Watch Second Mirror Graph Here\")\n",
    "p3.circle('x', 'y', source=s3, color=\"firebrick\", alpha=0.3)\n",
    "\n",
    "\n",
    "s1.selected.js_on_change('indices', CustomJS(args=dict(s1=s1, s2=s2, s3=s3), code=\"\"\"\n",
    "        var inds = cb_obj.indices;\n",
    "        var d1 = s1.data;\n",
    "        \n",
    "        // data for 2nd graph\n",
    "        var d2 = s2.data;     \n",
    "        d2['x'] = []\n",
    "        d2['y'] = []     \n",
    " \n",
    "        for (var i = 0; i < inds.length; i++) {\n",
    "            d2['x'].push(d1['x'][inds[i]])\n",
    "            d2['y'].push(d1['y'][inds[i]])\n",
    "        }\n",
    "        \n",
    "        // data for 3rd graph\n",
    "        var d3 = s3.data;\n",
    "        d3['x'] = []\n",
    "        d3['y'] = []\n",
    "        d3['x'] = d1['x'].filter(x => !d2['x'].includes(x));\n",
    "        d3['y'] = d1['y'].filter(y => !d2['y'].includes(y));\n",
    "        \n",
    "        s2.change.emit();\n",
    "        s3.change.emit();\n",
    "    \"\"\")\n",
    ")\n",
    "\n",
    "# layout = column(row(p1, p2), p3)\n",
    "# show(layout)\n",
    "\n",
    "grid = gridplot([[p1, p2], [None, p3]])\n",
    "show(grid)"
   ]
  },
  {
   "cell_type": "markdown",
   "metadata": {},
   "source": [
    "# Server Based Plotting\n",
    "\n",
    "### why use a server?\n",
    "- data >> local machine or notebook<br><br>\n",
    "\n",
    "-- create deployable apps<br><br>\n",
    "\n",
    "- need to sync between python and the end user:<br>\n",
    "-- respond to browser events with computations or queries using python<br>\n",
    "-- automatically push updates the UI browser<br>\n",
    "-- streaming (periodic, timeout, and async callbacks)<br><br>\n",
    "\n",
    "- Bokeh's reactive client-server model can trigger server-side code\n",
    "- server supports automatic downsampling"
   ]
  },
  {
   "cell_type": "markdown",
   "metadata": {
    "slideshow": {
     "slide_type": "slide"
    }
   },
   "source": [
    "# [link to Example 4 - working with Streaming Data](http://localhost:8888/notebooks/notebooks/03_bokeh_with_streaming_data.ipynb)"
   ]
  },
  {
   "cell_type": "markdown",
   "metadata": {
    "slideshow": {
     "slide_type": "slide"
    }
   },
   "source": [
    "# bokeh resources\n",
    "\n",
    "[bokeh cheat sheet](https://datacamp-community-prod.s3.amazonaws.com/f9511cf4-abb9-4f52-9663-ea93b29ee4b7)"
   ]
  }
 ],
 "metadata": {
  "celltoolbar": "Slideshow",
  "kernelspec": {
   "display_name": "Python 3",
   "language": "python",
   "name": "python3"
  },
  "language_info": {
   "codemirror_mode": {
    "name": "ipython",
    "version": 3
   },
   "file_extension": ".py",
   "mimetype": "text/x-python",
   "name": "python",
   "nbconvert_exporter": "python",
   "pygments_lexer": "ipython3",
   "version": "3.7.4"
  }
 },
 "nbformat": 4,
 "nbformat_minor": 2
}
