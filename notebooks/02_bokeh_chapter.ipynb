{
 "cells": [
  {
   "cell_type": "code",
   "execution_count": 2,
   "metadata": {
    "slideshow": {
     "slide_type": "slide"
    }
   },
   "outputs": [
    {
     "data": {
      "text/html": [
       "\n",
       "    <div class=\"bk-root\">\n",
       "        <a href=\"https://bokeh.pydata.org\" target=\"_blank\" class=\"bk-logo bk-logo-small bk-logo-notebook\"></a>\n",
       "        <span id=\"1002\">Loading BokehJS ...</span>\n",
       "    </div>"
      ]
     },
     "metadata": {},
     "output_type": "display_data"
    },
    {
     "data": {
      "application/javascript": [
       "\n",
       "(function(root) {\n",
       "  function now() {\n",
       "    return new Date();\n",
       "  }\n",
       "\n",
       "  var force = true;\n",
       "\n",
       "  if (typeof root._bokeh_onload_callbacks === \"undefined\" || force === true) {\n",
       "    root._bokeh_onload_callbacks = [];\n",
       "    root._bokeh_is_loading = undefined;\n",
       "  }\n",
       "\n",
       "  var JS_MIME_TYPE = 'application/javascript';\n",
       "  var HTML_MIME_TYPE = 'text/html';\n",
       "  var EXEC_MIME_TYPE = 'application/vnd.bokehjs_exec.v0+json';\n",
       "  var CLASS_NAME = 'output_bokeh rendered_html';\n",
       "\n",
       "  /**\n",
       "   * Render data to the DOM node\n",
       "   */\n",
       "  function render(props, node) {\n",
       "    var script = document.createElement(\"script\");\n",
       "    node.appendChild(script);\n",
       "  }\n",
       "\n",
       "  /**\n",
       "   * Handle when an output is cleared or removed\n",
       "   */\n",
       "  function handleClearOutput(event, handle) {\n",
       "    var cell = handle.cell;\n",
       "\n",
       "    var id = cell.output_area._bokeh_element_id;\n",
       "    var server_id = cell.output_area._bokeh_server_id;\n",
       "    // Clean up Bokeh references\n",
       "    if (id != null && id in Bokeh.index) {\n",
       "      Bokeh.index[id].model.document.clear();\n",
       "      delete Bokeh.index[id];\n",
       "    }\n",
       "\n",
       "    if (server_id !== undefined) {\n",
       "      // Clean up Bokeh references\n",
       "      var cmd = \"from bokeh.io.state import curstate; print(curstate().uuid_to_server['\" + server_id + \"'].get_sessions()[0].document.roots[0]._id)\";\n",
       "      cell.notebook.kernel.execute(cmd, {\n",
       "        iopub: {\n",
       "          output: function(msg) {\n",
       "            var id = msg.content.text.trim();\n",
       "            if (id in Bokeh.index) {\n",
       "              Bokeh.index[id].model.document.clear();\n",
       "              delete Bokeh.index[id];\n",
       "            }\n",
       "          }\n",
       "        }\n",
       "      });\n",
       "      // Destroy server and session\n",
       "      var cmd = \"import bokeh.io.notebook as ion; ion.destroy_server('\" + server_id + \"')\";\n",
       "      cell.notebook.kernel.execute(cmd);\n",
       "    }\n",
       "  }\n",
       "\n",
       "  /**\n",
       "   * Handle when a new output is added\n",
       "   */\n",
       "  function handleAddOutput(event, handle) {\n",
       "    var output_area = handle.output_area;\n",
       "    var output = handle.output;\n",
       "\n",
       "    // limit handleAddOutput to display_data with EXEC_MIME_TYPE content only\n",
       "    if ((output.output_type != \"display_data\") || (!output.data.hasOwnProperty(EXEC_MIME_TYPE))) {\n",
       "      return\n",
       "    }\n",
       "\n",
       "    var toinsert = output_area.element.find(\".\" + CLASS_NAME.split(' ')[0]);\n",
       "\n",
       "    if (output.metadata[EXEC_MIME_TYPE][\"id\"] !== undefined) {\n",
       "      toinsert[toinsert.length - 1].firstChild.textContent = output.data[JS_MIME_TYPE];\n",
       "      // store reference to embed id on output_area\n",
       "      output_area._bokeh_element_id = output.metadata[EXEC_MIME_TYPE][\"id\"];\n",
       "    }\n",
       "    if (output.metadata[EXEC_MIME_TYPE][\"server_id\"] !== undefined) {\n",
       "      var bk_div = document.createElement(\"div\");\n",
       "      bk_div.innerHTML = output.data[HTML_MIME_TYPE];\n",
       "      var script_attrs = bk_div.children[0].attributes;\n",
       "      for (var i = 0; i < script_attrs.length; i++) {\n",
       "        toinsert[toinsert.length - 1].firstChild.setAttribute(script_attrs[i].name, script_attrs[i].value);\n",
       "      }\n",
       "      // store reference to server id on output_area\n",
       "      output_area._bokeh_server_id = output.metadata[EXEC_MIME_TYPE][\"server_id\"];\n",
       "    }\n",
       "  }\n",
       "\n",
       "  function register_renderer(events, OutputArea) {\n",
       "\n",
       "    function append_mime(data, metadata, element) {\n",
       "      // create a DOM node to render to\n",
       "      var toinsert = this.create_output_subarea(\n",
       "        metadata,\n",
       "        CLASS_NAME,\n",
       "        EXEC_MIME_TYPE\n",
       "      );\n",
       "      this.keyboard_manager.register_events(toinsert);\n",
       "      // Render to node\n",
       "      var props = {data: data, metadata: metadata[EXEC_MIME_TYPE]};\n",
       "      render(props, toinsert[toinsert.length - 1]);\n",
       "      element.append(toinsert);\n",
       "      return toinsert\n",
       "    }\n",
       "\n",
       "    /* Handle when an output is cleared or removed */\n",
       "    events.on('clear_output.CodeCell', handleClearOutput);\n",
       "    events.on('delete.Cell', handleClearOutput);\n",
       "\n",
       "    /* Handle when a new output is added */\n",
       "    events.on('output_added.OutputArea', handleAddOutput);\n",
       "\n",
       "    /**\n",
       "     * Register the mime type and append_mime function with output_area\n",
       "     */\n",
       "    OutputArea.prototype.register_mime_type(EXEC_MIME_TYPE, append_mime, {\n",
       "      /* Is output safe? */\n",
       "      safe: true,\n",
       "      /* Index of renderer in `output_area.display_order` */\n",
       "      index: 0\n",
       "    });\n",
       "  }\n",
       "\n",
       "  // register the mime type if in Jupyter Notebook environment and previously unregistered\n",
       "  if (root.Jupyter !== undefined) {\n",
       "    var events = require('base/js/events');\n",
       "    var OutputArea = require('notebook/js/outputarea').OutputArea;\n",
       "\n",
       "    if (OutputArea.prototype.mime_types().indexOf(EXEC_MIME_TYPE) == -1) {\n",
       "      register_renderer(events, OutputArea);\n",
       "    }\n",
       "  }\n",
       "\n",
       "  \n",
       "  if (typeof (root._bokeh_timeout) === \"undefined\" || force === true) {\n",
       "    root._bokeh_timeout = Date.now() + 5000;\n",
       "    root._bokeh_failed_load = false;\n",
       "  }\n",
       "\n",
       "  var NB_LOAD_WARNING = {'data': {'text/html':\n",
       "     \"<div style='background-color: #fdd'>\\n\"+\n",
       "     \"<p>\\n\"+\n",
       "     \"BokehJS does not appear to have successfully loaded. If loading BokehJS from CDN, this \\n\"+\n",
       "     \"may be due to a slow or bad network connection. Possible fixes:\\n\"+\n",
       "     \"</p>\\n\"+\n",
       "     \"<ul>\\n\"+\n",
       "     \"<li>re-rerun `output_notebook()` to attempt to load from CDN again, or</li>\\n\"+\n",
       "     \"<li>use INLINE resources instead, as so:</li>\\n\"+\n",
       "     \"</ul>\\n\"+\n",
       "     \"<code>\\n\"+\n",
       "     \"from bokeh.resources import INLINE\\n\"+\n",
       "     \"output_notebook(resources=INLINE)\\n\"+\n",
       "     \"</code>\\n\"+\n",
       "     \"</div>\"}};\n",
       "\n",
       "  function display_loaded() {\n",
       "    var el = document.getElementById(\"1002\");\n",
       "    if (el != null) {\n",
       "      el.textContent = \"BokehJS is loading...\";\n",
       "    }\n",
       "    if (root.Bokeh !== undefined) {\n",
       "      if (el != null) {\n",
       "        el.textContent = \"BokehJS \" + root.Bokeh.version + \" successfully loaded.\";\n",
       "      }\n",
       "    } else if (Date.now() < root._bokeh_timeout) {\n",
       "      setTimeout(display_loaded, 100)\n",
       "    }\n",
       "  }\n",
       "\n",
       "\n",
       "  function run_callbacks() {\n",
       "    try {\n",
       "      root._bokeh_onload_callbacks.forEach(function(callback) {\n",
       "        if (callback != null)\n",
       "          callback();\n",
       "      });\n",
       "    } finally {\n",
       "      delete root._bokeh_onload_callbacks\n",
       "    }\n",
       "    console.debug(\"Bokeh: all callbacks have finished\");\n",
       "  }\n",
       "\n",
       "  function load_libs(css_urls, js_urls, callback) {\n",
       "    if (css_urls == null) css_urls = [];\n",
       "    if (js_urls == null) js_urls = [];\n",
       "\n",
       "    root._bokeh_onload_callbacks.push(callback);\n",
       "    if (root._bokeh_is_loading > 0) {\n",
       "      console.debug(\"Bokeh: BokehJS is being loaded, scheduling callback at\", now());\n",
       "      return null;\n",
       "    }\n",
       "    if (js_urls == null || js_urls.length === 0) {\n",
       "      run_callbacks();\n",
       "      return null;\n",
       "    }\n",
       "    console.debug(\"Bokeh: BokehJS not loaded, scheduling load and callback at\", now());\n",
       "    root._bokeh_is_loading = css_urls.length + js_urls.length;\n",
       "\n",
       "    function on_load() {\n",
       "      root._bokeh_is_loading--;\n",
       "      if (root._bokeh_is_loading === 0) {\n",
       "        console.debug(\"Bokeh: all BokehJS libraries/stylesheets loaded\");\n",
       "        run_callbacks()\n",
       "      }\n",
       "    }\n",
       "\n",
       "    function on_error() {\n",
       "      console.error(\"failed to load \" + url);\n",
       "    }\n",
       "\n",
       "    for (var i = 0; i < css_urls.length; i++) {\n",
       "      var url = css_urls[i];\n",
       "      const element = document.createElement(\"link\");\n",
       "      element.onload = on_load;\n",
       "      element.onerror = on_error;\n",
       "      element.rel = \"stylesheet\";\n",
       "      element.type = \"text/css\";\n",
       "      element.href = url;\n",
       "      console.debug(\"Bokeh: injecting link tag for BokehJS stylesheet: \", url);\n",
       "      document.body.appendChild(element);\n",
       "    }\n",
       "\n",
       "    for (var i = 0; i < js_urls.length; i++) {\n",
       "      var url = js_urls[i];\n",
       "      var element = document.createElement('script');\n",
       "      element.onload = on_load;\n",
       "      element.onerror = on_error;\n",
       "      element.async = false;\n",
       "      element.src = url;\n",
       "      console.debug(\"Bokeh: injecting script tag for BokehJS library: \", url);\n",
       "      document.head.appendChild(element);\n",
       "    }\n",
       "  };var element = document.getElementById(\"1002\");\n",
       "  if (element == null) {\n",
       "    console.error(\"Bokeh: ERROR: autoload.js configured with elementid '1002' but no matching script tag was found. \")\n",
       "    return false;\n",
       "  }\n",
       "\n",
       "  function inject_raw_css(css) {\n",
       "    const element = document.createElement(\"style\");\n",
       "    element.appendChild(document.createTextNode(css));\n",
       "    document.body.appendChild(element);\n",
       "  }\n",
       "\n",
       "  var js_urls = [\"https://cdn.pydata.org/bokeh/release/bokeh-1.3.4.min.js\", \"https://cdn.pydata.org/bokeh/release/bokeh-widgets-1.3.4.min.js\", \"https://cdn.pydata.org/bokeh/release/bokeh-tables-1.3.4.min.js\", \"https://cdn.pydata.org/bokeh/release/bokeh-gl-1.3.4.min.js\"];\n",
       "  var css_urls = [];\n",
       "\n",
       "  var inline_js = [\n",
       "    function(Bokeh) {\n",
       "      Bokeh.set_log_level(\"info\");\n",
       "    },\n",
       "    \n",
       "    function(Bokeh) {\n",
       "      \n",
       "    },\n",
       "    function(Bokeh) {} // ensure no trailing comma for IE\n",
       "  ];\n",
       "\n",
       "  function run_inline_js() {\n",
       "    \n",
       "    if ((root.Bokeh !== undefined) || (force === true)) {\n",
       "      for (var i = 0; i < inline_js.length; i++) {\n",
       "        inline_js[i].call(root, root.Bokeh);\n",
       "      }if (force === true) {\n",
       "        display_loaded();\n",
       "      }} else if (Date.now() < root._bokeh_timeout) {\n",
       "      setTimeout(run_inline_js, 100);\n",
       "    } else if (!root._bokeh_failed_load) {\n",
       "      console.log(\"Bokeh: BokehJS failed to load within specified timeout.\");\n",
       "      root._bokeh_failed_load = true;\n",
       "    } else if (force !== true) {\n",
       "      var cell = $(document.getElementById(\"1002\")).parents('.cell').data().cell;\n",
       "      cell.output_area.append_execute_result(NB_LOAD_WARNING)\n",
       "    }\n",
       "\n",
       "  }\n",
       "\n",
       "  if (root._bokeh_is_loading === 0) {\n",
       "    console.debug(\"Bokeh: BokehJS loaded, going straight to plotting\");\n",
       "    run_inline_js();\n",
       "  } else {\n",
       "    load_libs(css_urls, js_urls, function() {\n",
       "      console.debug(\"Bokeh: BokehJS plotting callback run at\", now());\n",
       "      run_inline_js();\n",
       "    });\n",
       "  }\n",
       "}(window));"
      ],
      "application/vnd.bokehjs_load.v0+json": "\n(function(root) {\n  function now() {\n    return new Date();\n  }\n\n  var force = true;\n\n  if (typeof root._bokeh_onload_callbacks === \"undefined\" || force === true) {\n    root._bokeh_onload_callbacks = [];\n    root._bokeh_is_loading = undefined;\n  }\n\n  \n\n  \n  if (typeof (root._bokeh_timeout) === \"undefined\" || force === true) {\n    root._bokeh_timeout = Date.now() + 5000;\n    root._bokeh_failed_load = false;\n  }\n\n  var NB_LOAD_WARNING = {'data': {'text/html':\n     \"<div style='background-color: #fdd'>\\n\"+\n     \"<p>\\n\"+\n     \"BokehJS does not appear to have successfully loaded. If loading BokehJS from CDN, this \\n\"+\n     \"may be due to a slow or bad network connection. Possible fixes:\\n\"+\n     \"</p>\\n\"+\n     \"<ul>\\n\"+\n     \"<li>re-rerun `output_notebook()` to attempt to load from CDN again, or</li>\\n\"+\n     \"<li>use INLINE resources instead, as so:</li>\\n\"+\n     \"</ul>\\n\"+\n     \"<code>\\n\"+\n     \"from bokeh.resources import INLINE\\n\"+\n     \"output_notebook(resources=INLINE)\\n\"+\n     \"</code>\\n\"+\n     \"</div>\"}};\n\n  function display_loaded() {\n    var el = document.getElementById(\"1002\");\n    if (el != null) {\n      el.textContent = \"BokehJS is loading...\";\n    }\n    if (root.Bokeh !== undefined) {\n      if (el != null) {\n        el.textContent = \"BokehJS \" + root.Bokeh.version + \" successfully loaded.\";\n      }\n    } else if (Date.now() < root._bokeh_timeout) {\n      setTimeout(display_loaded, 100)\n    }\n  }\n\n\n  function run_callbacks() {\n    try {\n      root._bokeh_onload_callbacks.forEach(function(callback) {\n        if (callback != null)\n          callback();\n      });\n    } finally {\n      delete root._bokeh_onload_callbacks\n    }\n    console.debug(\"Bokeh: all callbacks have finished\");\n  }\n\n  function load_libs(css_urls, js_urls, callback) {\n    if (css_urls == null) css_urls = [];\n    if (js_urls == null) js_urls = [];\n\n    root._bokeh_onload_callbacks.push(callback);\n    if (root._bokeh_is_loading > 0) {\n      console.debug(\"Bokeh: BokehJS is being loaded, scheduling callback at\", now());\n      return null;\n    }\n    if (js_urls == null || js_urls.length === 0) {\n      run_callbacks();\n      return null;\n    }\n    console.debug(\"Bokeh: BokehJS not loaded, scheduling load and callback at\", now());\n    root._bokeh_is_loading = css_urls.length + js_urls.length;\n\n    function on_load() {\n      root._bokeh_is_loading--;\n      if (root._bokeh_is_loading === 0) {\n        console.debug(\"Bokeh: all BokehJS libraries/stylesheets loaded\");\n        run_callbacks()\n      }\n    }\n\n    function on_error() {\n      console.error(\"failed to load \" + url);\n    }\n\n    for (var i = 0; i < css_urls.length; i++) {\n      var url = css_urls[i];\n      const element = document.createElement(\"link\");\n      element.onload = on_load;\n      element.onerror = on_error;\n      element.rel = \"stylesheet\";\n      element.type = \"text/css\";\n      element.href = url;\n      console.debug(\"Bokeh: injecting link tag for BokehJS stylesheet: \", url);\n      document.body.appendChild(element);\n    }\n\n    for (var i = 0; i < js_urls.length; i++) {\n      var url = js_urls[i];\n      var element = document.createElement('script');\n      element.onload = on_load;\n      element.onerror = on_error;\n      element.async = false;\n      element.src = url;\n      console.debug(\"Bokeh: injecting script tag for BokehJS library: \", url);\n      document.head.appendChild(element);\n    }\n  };var element = document.getElementById(\"1002\");\n  if (element == null) {\n    console.error(\"Bokeh: ERROR: autoload.js configured with elementid '1002' but no matching script tag was found. \")\n    return false;\n  }\n\n  function inject_raw_css(css) {\n    const element = document.createElement(\"style\");\n    element.appendChild(document.createTextNode(css));\n    document.body.appendChild(element);\n  }\n\n  var js_urls = [\"https://cdn.pydata.org/bokeh/release/bokeh-1.3.4.min.js\", \"https://cdn.pydata.org/bokeh/release/bokeh-widgets-1.3.4.min.js\", \"https://cdn.pydata.org/bokeh/release/bokeh-tables-1.3.4.min.js\", \"https://cdn.pydata.org/bokeh/release/bokeh-gl-1.3.4.min.js\"];\n  var css_urls = [];\n\n  var inline_js = [\n    function(Bokeh) {\n      Bokeh.set_log_level(\"info\");\n    },\n    \n    function(Bokeh) {\n      \n    },\n    function(Bokeh) {} // ensure no trailing comma for IE\n  ];\n\n  function run_inline_js() {\n    \n    if ((root.Bokeh !== undefined) || (force === true)) {\n      for (var i = 0; i < inline_js.length; i++) {\n        inline_js[i].call(root, root.Bokeh);\n      }if (force === true) {\n        display_loaded();\n      }} else if (Date.now() < root._bokeh_timeout) {\n      setTimeout(run_inline_js, 100);\n    } else if (!root._bokeh_failed_load) {\n      console.log(\"Bokeh: BokehJS failed to load within specified timeout.\");\n      root._bokeh_failed_load = true;\n    } else if (force !== true) {\n      var cell = $(document.getElementById(\"1002\")).parents('.cell').data().cell;\n      cell.output_area.append_execute_result(NB_LOAD_WARNING)\n    }\n\n  }\n\n  if (root._bokeh_is_loading === 0) {\n    console.debug(\"Bokeh: BokehJS loaded, going straight to plotting\");\n    run_inline_js();\n  } else {\n    load_libs(css_urls, js_urls, function() {\n      console.debug(\"Bokeh: BokehJS plotting callback run at\", now());\n      run_inline_js();\n    });\n  }\n}(window));"
     },
     "metadata": {},
     "output_type": "display_data"
    },
    {
     "data": {
      "text/html": [
       "<style>.container { width:90% !important; }</style>"
      ],
      "text/plain": [
       "<IPython.core.display.HTML object>"
      ]
     },
     "metadata": {},
     "output_type": "display_data"
    }
   ],
   "source": [
    "# setup notebook\n",
    "# imports\n",
    "import os\n",
    "import numpy as np\n",
    "import random\n",
    "\n",
    "import bokeh\n",
    "from bokeh.layouts import gridplot\n",
    "from bokeh.plotting import output_notebook\n",
    "output_notebook() # set default; alternative is output_file()\n",
    "\n",
    "\n",
    "# notebook formatting\n",
    "from IPython.core.display import display, HTML\n",
    "display(HTML(\"<style>.container { width:90% !important; }</style>\"))\n",
    "\n",
    "# fix RISE scollbar missing\n",
    "from traitlets.config.manager import BaseJSONConfigManager\n",
    "path = \"C:\\\\Users\\\\chris\\\\.jupyter\\\\nbconfig\"\n",
    "cm = BaseJSONConfigManager(config_dir=path)\n",
    "\n",
    "cm.update(\"livereveal\", {\n",
    "              \"scroll\": True,\n",
    "});\n",
    "\n",
    "# also check jupyter Cell menu/Toggle Scrolling\n"
   ]
  },
  {
   "cell_type": "markdown",
   "metadata": {
    "slideshow": {
     "slide_type": "slide"
    }
   },
   "source": [
    "# Meaning of Bokeh\n",
    "- Japanese word **“bokeh”** used in photography to describe *blurring of the out-of-focus parts of an image.*<br><br>\n",
    "<img src=\"https://p2.piqsels.com/preview/926/415/630/wheat-ear-dry-harvest.jpg\" height=200 style=\"float:center\"> <br><br>\n",
    "<strong>[James Drury example - Flickr](https://www.flickr.com/photos/james_drury/15923166238/)</strong><br><br>\n",
    "- How do you pronounce this crazy word?\n",
    "  - bouquet\n",
    "  - bok-ah\n",
    "  - **both are fine**"
   ]
  },
  {
   "cell_type": "markdown",
   "metadata": {
    "ExecuteTime": {
     "end_time": "2019-10-11T21:42:23.073871Z",
     "start_time": "2019-10-11T21:42:23.069870Z"
    },
    "slideshow": {
     "slide_type": "slide"
    }
   },
   "source": [
    "# Bokeh\n",
    "- [bokeh homepage](https://bokeh.pydata.org/en/latest/index.html)<br>\n",
    "- python library \n",
    "- focused on interactive visualization\n",
    "- targets browsers for presentation <br>\n",
    "- goals: elegant, concise, designed for large/streaming data\n"
   ]
  },
  {
   "cell_type": "markdown",
   "metadata": {
    "ExecuteTime": {
     "end_time": "2019-10-11T21:42:23.077873Z",
     "start_time": "2019-10-11T21:42:22.428Z"
    },
    "slideshow": {
     "slide_type": "slide"
    }
   },
   "source": [
    "# Two modes\n",
    "- client based\n",
    "- server\n",
    "\n",
    "- Bokeh uses Python to create high level objects (plots, subplots, lines, etc).\n",
    "- ...and then renders everything in Javascript\n",
    "- ...for the browser to display\n",
    "\n",
    "<strong>workflow:</strong><br>\n",
    "data --> python --> Bokeh --> Bokeh ColumnDataSource--> BokehJS --> Javascript -->Browser --> your eyes\n"
   ]
  },
  {
   "cell_type": "markdown",
   "metadata": {
    "slideshow": {
     "slide_type": "slide"
    }
   },
   "source": [
    "# Bokeh Code"
   ]
  },
  {
   "cell_type": "markdown",
   "metadata": {
    "ExecuteTime": {
     "end_time": "2019-10-11T21:42:23.080869Z",
     "start_time": "2019-10-11T21:42:22.431Z"
    },
    "slideshow": {
     "slide_type": "subslide"
    }
   },
   "source": [
    "# five ways to interact using Bokeh\n",
    "- Configuring the toolbar\n",
    "- Selecting data points\n",
    "- Adding hover actions\n",
    "- Linking subplots and selections\n",
    "- Highlighting data using the legend<br>\n",
    "\n",
    "## also can interact with ipywidgets"
   ]
  },
  {
   "cell_type": "markdown",
   "metadata": {
    "slideshow": {
     "slide_type": "subslide"
    }
   },
   "source": [
    "# Example 1 - basic charts and interactions"
   ]
  },
  {
   "cell_type": "code",
   "execution_count": 8,
   "metadata": {
    "ExecuteTime": {
     "end_time": "2019-10-11T21:44:18.541868Z",
     "start_time": "2019-10-11T21:44:18.503873Z"
    },
    "slideshow": {
     "slide_type": "subslide"
    }
   },
   "outputs": [
    {
     "data": {
      "text/html": [
       "\n",
       "\n",
       "\n",
       "\n",
       "\n",
       "\n",
       "  <div class=\"bk-root\" id=\"0473e60d-ab06-4dd8-bbf6-142d819ac09a\" data-root-id=\"1580\"></div>\n"
      ]
     },
     "metadata": {},
     "output_type": "display_data"
    },
    {
     "data": {
      "application/javascript": [
       "(function(root) {\n",
       "  function embed_document(root) {\n",
       "    \n",
       "  var docs_json = {\"917d84f8-34f0-46c8-b789-6349e5f9a3d4\":{\"roots\":{\"references\":[{\"attributes\":{\"below\":[{\"id\":\"1591\",\"type\":\"LinearAxis\"}],\"center\":[{\"id\":\"1595\",\"type\":\"Grid\"},{\"id\":\"1600\",\"type\":\"Grid\"}],\"left\":[{\"id\":\"1596\",\"type\":\"LinearAxis\"}],\"renderers\":[{\"id\":\"1617\",\"type\":\"GlyphRenderer\"}],\"title\":{\"id\":\"1581\",\"type\":\"Title\"},\"toolbar\":{\"id\":\"1607\",\"type\":\"Toolbar\"},\"x_range\":{\"id\":\"1583\",\"type\":\"DataRange1d\"},\"x_scale\":{\"id\":\"1587\",\"type\":\"LinearScale\"},\"y_range\":{\"id\":\"1585\",\"type\":\"DataRange1d\"},\"y_scale\":{\"id\":\"1589\",\"type\":\"LinearScale\"}},\"id\":\"1580\",\"subtype\":\"Figure\",\"type\":\"Plot\"},{\"attributes\":{},\"id\":\"1605\",\"type\":\"ResetTool\"},{\"attributes\":{\"line_color\":\"#1f77b4\",\"line_width\":2,\"x\":{\"field\":\"x\"},\"y\":{\"field\":\"y\"}},\"id\":\"1615\",\"type\":\"Line\"},{\"attributes\":{},\"id\":\"1665\",\"type\":\"UnionRenderers\"},{\"attributes\":{\"overlay\":{\"id\":\"1663\",\"type\":\"BoxAnnotation\"}},\"id\":\"1603\",\"type\":\"BoxZoomTool\"},{\"attributes\":{\"callback\":null},\"id\":\"1585\",\"type\":\"DataRange1d\"},{\"attributes\":{\"source\":{\"id\":\"1614\",\"type\":\"ColumnDataSource\"}},\"id\":\"1618\",\"type\":\"CDSView\"},{\"attributes\":{},\"id\":\"1601\",\"type\":\"PanTool\"},{\"attributes\":{},\"id\":\"1602\",\"type\":\"WheelZoomTool\"},{\"attributes\":{\"data_source\":{\"id\":\"1614\",\"type\":\"ColumnDataSource\"},\"glyph\":{\"id\":\"1615\",\"type\":\"Line\"},\"hover_glyph\":null,\"muted_glyph\":null,\"nonselection_glyph\":{\"id\":\"1616\",\"type\":\"Line\"},\"selection_glyph\":null,\"view\":{\"id\":\"1618\",\"type\":\"CDSView\"}},\"id\":\"1617\",\"type\":\"GlyphRenderer\"},{\"attributes\":{},\"id\":\"1592\",\"type\":\"BasicTicker\"},{\"attributes\":{},\"id\":\"1604\",\"type\":\"SaveTool\"},{\"attributes\":{\"line_alpha\":0.1,\"line_color\":\"#1f77b4\",\"line_width\":2,\"x\":{\"field\":\"x\"},\"y\":{\"field\":\"y\"}},\"id\":\"1616\",\"type\":\"Line\"},{\"attributes\":{\"callback\":null,\"data\":{\"x\":[0,1,2,3,4,5,6,7,8,9,10],\"y\":[9,8,7,5,4,6,8,3,2,0,1]},\"selected\":{\"id\":\"1664\",\"type\":\"Selection\"},\"selection_policy\":{\"id\":\"1665\",\"type\":\"UnionRenderers\"}},\"id\":\"1614\",\"type\":\"ColumnDataSource\"},{\"attributes\":{\"ticker\":{\"id\":\"1592\",\"type\":\"BasicTicker\"}},\"id\":\"1595\",\"type\":\"Grid\"},{\"attributes\":{\"bottom_units\":\"screen\",\"fill_alpha\":{\"value\":0.5},\"fill_color\":{\"value\":\"lightgrey\"},\"left_units\":\"screen\",\"level\":\"overlay\",\"line_alpha\":{\"value\":1.0},\"line_color\":{\"value\":\"black\"},\"line_dash\":[4,4],\"line_width\":{\"value\":2},\"render_mode\":\"css\",\"right_units\":\"screen\",\"top_units\":\"screen\"},\"id\":\"1663\",\"type\":\"BoxAnnotation\"},{\"attributes\":{\"text\":\"simple line chart\"},\"id\":\"1581\",\"type\":\"Title\"},{\"attributes\":{},\"id\":\"1597\",\"type\":\"BasicTicker\"},{\"attributes\":{\"active_drag\":\"auto\",\"active_inspect\":\"auto\",\"active_multi\":null,\"active_scroll\":\"auto\",\"active_tap\":\"auto\",\"tools\":[{\"id\":\"1601\",\"type\":\"PanTool\"},{\"id\":\"1602\",\"type\":\"WheelZoomTool\"},{\"id\":\"1603\",\"type\":\"BoxZoomTool\"},{\"id\":\"1604\",\"type\":\"SaveTool\"},{\"id\":\"1605\",\"type\":\"ResetTool\"},{\"id\":\"1606\",\"type\":\"HelpTool\"}]},\"id\":\"1607\",\"type\":\"Toolbar\"},{\"attributes\":{\"axis_label\":\"y_axis\",\"axis_label_text_font_size\":{\"value\":\"18pt\"},\"formatter\":{\"id\":\"1659\",\"type\":\"BasicTickFormatter\"},\"ticker\":{\"id\":\"1597\",\"type\":\"BasicTicker\"}},\"id\":\"1596\",\"type\":\"LinearAxis\"},{\"attributes\":{},\"id\":\"1587\",\"type\":\"LinearScale\"},{\"attributes\":{},\"id\":\"1659\",\"type\":\"BasicTickFormatter\"},{\"attributes\":{\"axis_label\":\"x axis!\",\"axis_label_text_font_size\":{\"value\":\"18pt\"},\"formatter\":{\"id\":\"1661\",\"type\":\"BasicTickFormatter\"},\"ticker\":{\"id\":\"1592\",\"type\":\"BasicTicker\"}},\"id\":\"1591\",\"type\":\"LinearAxis\"},{\"attributes\":{\"dimension\":1,\"ticker\":{\"id\":\"1597\",\"type\":\"BasicTicker\"}},\"id\":\"1600\",\"type\":\"Grid\"},{\"attributes\":{\"callback\":null},\"id\":\"1583\",\"type\":\"DataRange1d\"},{\"attributes\":{},\"id\":\"1661\",\"type\":\"BasicTickFormatter\"},{\"attributes\":{},\"id\":\"1664\",\"type\":\"Selection\"},{\"attributes\":{},\"id\":\"1589\",\"type\":\"LinearScale\"},{\"attributes\":{},\"id\":\"1606\",\"type\":\"HelpTool\"}],\"root_ids\":[\"1580\"]},\"title\":\"Bokeh Application\",\"version\":\"1.3.4\"}};\n",
       "  var render_items = [{\"docid\":\"917d84f8-34f0-46c8-b789-6349e5f9a3d4\",\"roots\":{\"1580\":\"0473e60d-ab06-4dd8-bbf6-142d819ac09a\"}}];\n",
       "  root.Bokeh.embed.embed_items_notebook(docs_json, render_items);\n",
       "\n",
       "  }\n",
       "  if (root.Bokeh !== undefined) {\n",
       "    embed_document(root);\n",
       "  } else {\n",
       "    var attempts = 0;\n",
       "    var timer = setInterval(function(root) {\n",
       "      if (root.Bokeh !== undefined) {\n",
       "        embed_document(root);\n",
       "        clearInterval(timer);\n",
       "      }\n",
       "      attempts++;\n",
       "      if (attempts > 100) {\n",
       "        console.log(\"Bokeh: ERROR: Unable to run BokehJS code because BokehJS library is missing\");\n",
       "        clearInterval(timer);\n",
       "      }\n",
       "    }, 10, root)\n",
       "  }\n",
       "})(window);"
      ],
      "application/vnd.bokehjs_exec.v0+json": ""
     },
     "metadata": {
      "application/vnd.bokehjs_exec.v0+json": {
       "id": "1580"
      }
     },
     "output_type": "display_data"
    }
   ],
   "source": [
    "from bokeh.plotting import figure, output_notebook, show\n",
    "\n",
    "x = [x for x in range(0, 11)]\n",
    "y = [9, 8, 7, 5, 4, 6, 8, 3, 2, 0, 1]\n",
    "\n",
    "chart = figure(title=\"simple line chart\", \n",
    "               x_axis_label=\"x axis!\", y_axis_label=\"y_axis\",\n",
    "               toolbar_location=\"right\")\n",
    "\n",
    "chart.xaxis.axis_label_text_font_size = \"18pt\"\n",
    "chart.yaxis.axis_label_text_font_size = \"18pt\"\n",
    "\n",
    "chart.line(x, y, line_width=2)\n",
    "\n",
    "show(chart)\n",
    "\n",
    "# review interactive tools"
   ]
  },
  {
   "cell_type": "code",
   "execution_count": 9,
   "metadata": {
    "ExecuteTime": {
     "end_time": "2019-10-11T21:44:18.566867Z",
     "start_time": "2019-10-11T21:44:18.542869Z"
    },
    "slideshow": {
     "slide_type": "subslide"
    }
   },
   "outputs": [
    {
     "data": {
      "text/html": [
       "\n",
       "\n",
       "\n",
       "\n",
       "\n",
       "\n",
       "  <div class=\"bk-root\" id=\"9a428483-ef96-4414-a440-89063a4273dc\" data-root-id=\"1580\"></div>\n"
      ]
     },
     "metadata": {},
     "output_type": "display_data"
    },
    {
     "data": {
      "application/javascript": [
       "(function(root) {\n",
       "  function embed_document(root) {\n",
       "    \n",
       "  var docs_json = {\"0b2491d2-4d47-4112-9a63-69e347cf2e9b\":{\"roots\":{\"references\":[{\"attributes\":{\"below\":[{\"id\":\"1591\",\"type\":\"LinearAxis\"}],\"center\":[{\"id\":\"1595\",\"type\":\"Grid\"},{\"id\":\"1600\",\"type\":\"Grid\"},{\"id\":\"1764\",\"type\":\"BoxAnnotation\"}],\"left\":[{\"id\":\"1596\",\"type\":\"LinearAxis\"}],\"renderers\":[{\"id\":\"1617\",\"type\":\"GlyphRenderer\"}],\"title\":{\"id\":\"1581\",\"type\":\"Title\"},\"toolbar\":{\"id\":\"1607\",\"type\":\"Toolbar\"},\"x_range\":{\"id\":\"1583\",\"type\":\"DataRange1d\"},\"x_scale\":{\"id\":\"1587\",\"type\":\"LinearScale\"},\"y_range\":{\"id\":\"1585\",\"type\":\"DataRange1d\"},\"y_scale\":{\"id\":\"1589\",\"type\":\"LinearScale\"}},\"id\":\"1580\",\"subtype\":\"Figure\",\"type\":\"Plot\"},{\"attributes\":{},\"id\":\"1605\",\"type\":\"ResetTool\"},{\"attributes\":{\"line_color\":\"#1f77b4\",\"line_width\":2,\"x\":{\"field\":\"x\"},\"y\":{\"field\":\"y\"}},\"id\":\"1615\",\"type\":\"Line\"},{\"attributes\":{\"callback\":null,\"overlay\":{\"id\":\"1761\",\"type\":\"PolyAnnotation\"}},\"id\":\"1714\",\"type\":\"LassoSelectTool\"},{\"attributes\":{},\"id\":\"1665\",\"type\":\"UnionRenderers\"},{\"attributes\":{\"overlay\":{\"id\":\"1663\",\"type\":\"BoxAnnotation\"}},\"id\":\"1603\",\"type\":\"BoxZoomTool\"},{\"attributes\":{\"callback\":null},\"id\":\"1585\",\"type\":\"DataRange1d\"},{\"attributes\":{\"fill_alpha\":{\"value\":0.5},\"fill_color\":{\"value\":\"lightgrey\"},\"level\":\"overlay\",\"line_alpha\":{\"value\":1.0},\"line_color\":{\"value\":\"black\"},\"line_dash\":[4,4],\"line_width\":{\"value\":2},\"xs_units\":\"screen\",\"ys_units\":\"screen\"},\"id\":\"1761\",\"type\":\"PolyAnnotation\"},{\"attributes\":{\"source\":{\"id\":\"1614\",\"type\":\"ColumnDataSource\"}},\"id\":\"1618\",\"type\":\"CDSView\"},{\"attributes\":{},\"id\":\"1601\",\"type\":\"PanTool\"},{\"attributes\":{},\"id\":\"1602\",\"type\":\"WheelZoomTool\"},{\"attributes\":{\"data_source\":{\"id\":\"1614\",\"type\":\"ColumnDataSource\"},\"glyph\":{\"id\":\"1615\",\"type\":\"Line\"},\"hover_glyph\":null,\"muted_glyph\":null,\"nonselection_glyph\":{\"id\":\"1616\",\"type\":\"Line\"},\"selection_glyph\":null,\"view\":{\"id\":\"1618\",\"type\":\"CDSView\"}},\"id\":\"1617\",\"type\":\"GlyphRenderer\"},{\"attributes\":{\"bottom\":1.6,\"fill_alpha\":{\"value\":0.1},\"fill_color\":{\"value\":\"green\"},\"top\":4.2},\"id\":\"1764\",\"type\":\"BoxAnnotation\"},{\"attributes\":{},\"id\":\"1592\",\"type\":\"BasicTicker\"},{\"attributes\":{},\"id\":\"1604\",\"type\":\"SaveTool\"},{\"attributes\":{\"line_alpha\":0.1,\"line_color\":\"#1f77b4\",\"line_width\":2,\"x\":{\"field\":\"x\"},\"y\":{\"field\":\"y\"}},\"id\":\"1616\",\"type\":\"Line\"},{\"attributes\":{\"callback\":null,\"data\":{\"x\":[0,1,2,3,4,5,6,7,8,9,10],\"y\":[9,8,7,5,4,6,8,3,2,0,1]},\"selected\":{\"id\":\"1664\",\"type\":\"Selection\"},\"selection_policy\":{\"id\":\"1665\",\"type\":\"UnionRenderers\"}},\"id\":\"1614\",\"type\":\"ColumnDataSource\"},{\"attributes\":{\"ticker\":{\"id\":\"1592\",\"type\":\"BasicTicker\"}},\"id\":\"1595\",\"type\":\"Grid\"},{\"attributes\":{\"bottom_units\":\"screen\",\"fill_alpha\":{\"value\":0.5},\"fill_color\":{\"value\":\"lightgrey\"},\"left_units\":\"screen\",\"level\":\"overlay\",\"line_alpha\":{\"value\":1.0},\"line_color\":{\"value\":\"black\"},\"line_dash\":[4,4],\"line_width\":{\"value\":2},\"render_mode\":\"css\",\"right_units\":\"screen\",\"top_units\":\"screen\"},\"id\":\"1663\",\"type\":\"BoxAnnotation\"},{\"attributes\":{\"text\":\"simple line chart\"},\"id\":\"1581\",\"type\":\"Title\"},{\"attributes\":{},\"id\":\"1597\",\"type\":\"BasicTicker\"},{\"attributes\":{\"active_drag\":\"auto\",\"active_inspect\":\"auto\",\"active_multi\":null,\"active_scroll\":\"auto\",\"active_tap\":\"auto\",\"tools\":[{\"id\":\"1601\",\"type\":\"PanTool\"},{\"id\":\"1602\",\"type\":\"WheelZoomTool\"},{\"id\":\"1603\",\"type\":\"BoxZoomTool\"},{\"id\":\"1604\",\"type\":\"SaveTool\"},{\"id\":\"1605\",\"type\":\"ResetTool\"},{\"id\":\"1606\",\"type\":\"HelpTool\"},{\"id\":\"1714\",\"type\":\"LassoSelectTool\"}]},\"id\":\"1607\",\"type\":\"Toolbar\"},{\"attributes\":{\"axis_label\":\"y_axis\",\"axis_label_text_font_size\":{\"value\":\"18pt\"},\"formatter\":{\"id\":\"1659\",\"type\":\"BasicTickFormatter\"},\"ticker\":{\"id\":\"1597\",\"type\":\"BasicTicker\"}},\"id\":\"1596\",\"type\":\"LinearAxis\"},{\"attributes\":{},\"id\":\"1587\",\"type\":\"LinearScale\"},{\"attributes\":{},\"id\":\"1659\",\"type\":\"BasicTickFormatter\"},{\"attributes\":{\"axis_label\":\"x axis!\",\"axis_label_text_font_size\":{\"value\":\"18pt\"},\"formatter\":{\"id\":\"1661\",\"type\":\"BasicTickFormatter\"},\"ticker\":{\"id\":\"1592\",\"type\":\"BasicTicker\"}},\"id\":\"1591\",\"type\":\"LinearAxis\"},{\"attributes\":{\"dimension\":1,\"ticker\":{\"id\":\"1597\",\"type\":\"BasicTicker\"}},\"id\":\"1600\",\"type\":\"Grid\"},{\"attributes\":{\"callback\":null},\"id\":\"1583\",\"type\":\"DataRange1d\"},{\"attributes\":{},\"id\":\"1661\",\"type\":\"BasicTickFormatter\"},{\"attributes\":{},\"id\":\"1664\",\"type\":\"Selection\"},{\"attributes\":{},\"id\":\"1589\",\"type\":\"LinearScale\"},{\"attributes\":{},\"id\":\"1606\",\"type\":\"HelpTool\"}],\"root_ids\":[\"1580\"]},\"title\":\"Bokeh Application\",\"version\":\"1.3.4\"}};\n",
       "  var render_items = [{\"docid\":\"0b2491d2-4d47-4112-9a63-69e347cf2e9b\",\"roots\":{\"1580\":\"9a428483-ef96-4414-a440-89063a4273dc\"}}];\n",
       "  root.Bokeh.embed.embed_items_notebook(docs_json, render_items);\n",
       "\n",
       "  }\n",
       "  if (root.Bokeh !== undefined) {\n",
       "    embed_document(root);\n",
       "  } else {\n",
       "    var attempts = 0;\n",
       "    var timer = setInterval(function(root) {\n",
       "      if (root.Bokeh !== undefined) {\n",
       "        embed_document(root);\n",
       "        clearInterval(timer);\n",
       "      }\n",
       "      attempts++;\n",
       "      if (attempts > 100) {\n",
       "        console.log(\"Bokeh: ERROR: Unable to run BokehJS code because BokehJS library is missing\");\n",
       "        clearInterval(timer);\n",
       "      }\n",
       "    }, 10, root)\n",
       "  }\n",
       "})(window);"
      ],
      "application/vnd.bokehjs_exec.v0+json": ""
     },
     "metadata": {
      "application/vnd.bokehjs_exec.v0+json": {
       "id": "1580"
      }
     },
     "output_type": "display_data"
    }
   ],
   "source": [
    "# adding tools and annotations\n",
    "\n",
    "from bokeh.models import LassoSelectTool\n",
    "from bokeh.models import BoxAnnotation\n",
    "\n",
    "chart.add_tools(LassoSelectTool())\n",
    "low_box = BoxAnnotation(top=4.2, bottom=1.6, fill_alpha=0.1, fill_color='green')\n",
    "chart.add_layout(low_box)\n",
    "\n",
    "show(chart)"
   ]
  },
  {
   "cell_type": "code",
   "execution_count": 5,
   "metadata": {
    "slideshow": {
     "slide_type": "slide"
    }
   },
   "outputs": [],
   "source": [
    "# Example 2 - interaction with ipywidgets"
   ]
  },
  {
   "cell_type": "code",
   "execution_count": 10,
   "metadata": {
    "ExecuteTime": {
     "end_time": "2019-10-11T21:44:18.583867Z",
     "start_time": "2019-10-11T21:44:18.567867Z"
    },
    "slideshow": {
     "slide_type": "subslide"
    }
   },
   "outputs": [
    {
     "data": {
      "text/html": [
       "\n",
       "    <div class=\"bk-root\">\n",
       "        <a href=\"https://bokeh.pydata.org\" target=\"_blank\" class=\"bk-logo bk-logo-small bk-logo-notebook\"></a>\n",
       "        <span id=\"1867\">Loading BokehJS ...</span>\n",
       "    </div>"
      ]
     },
     "metadata": {},
     "output_type": "display_data"
    },
    {
     "data": {
      "application/javascript": [
       "\n",
       "(function(root) {\n",
       "  function now() {\n",
       "    return new Date();\n",
       "  }\n",
       "\n",
       "  var force = true;\n",
       "\n",
       "  if (typeof root._bokeh_onload_callbacks === \"undefined\" || force === true) {\n",
       "    root._bokeh_onload_callbacks = [];\n",
       "    root._bokeh_is_loading = undefined;\n",
       "  }\n",
       "\n",
       "  var JS_MIME_TYPE = 'application/javascript';\n",
       "  var HTML_MIME_TYPE = 'text/html';\n",
       "  var EXEC_MIME_TYPE = 'application/vnd.bokehjs_exec.v0+json';\n",
       "  var CLASS_NAME = 'output_bokeh rendered_html';\n",
       "\n",
       "  /**\n",
       "   * Render data to the DOM node\n",
       "   */\n",
       "  function render(props, node) {\n",
       "    var script = document.createElement(\"script\");\n",
       "    node.appendChild(script);\n",
       "  }\n",
       "\n",
       "  /**\n",
       "   * Handle when an output is cleared or removed\n",
       "   */\n",
       "  function handleClearOutput(event, handle) {\n",
       "    var cell = handle.cell;\n",
       "\n",
       "    var id = cell.output_area._bokeh_element_id;\n",
       "    var server_id = cell.output_area._bokeh_server_id;\n",
       "    // Clean up Bokeh references\n",
       "    if (id != null && id in Bokeh.index) {\n",
       "      Bokeh.index[id].model.document.clear();\n",
       "      delete Bokeh.index[id];\n",
       "    }\n",
       "\n",
       "    if (server_id !== undefined) {\n",
       "      // Clean up Bokeh references\n",
       "      var cmd = \"from bokeh.io.state import curstate; print(curstate().uuid_to_server['\" + server_id + \"'].get_sessions()[0].document.roots[0]._id)\";\n",
       "      cell.notebook.kernel.execute(cmd, {\n",
       "        iopub: {\n",
       "          output: function(msg) {\n",
       "            var id = msg.content.text.trim();\n",
       "            if (id in Bokeh.index) {\n",
       "              Bokeh.index[id].model.document.clear();\n",
       "              delete Bokeh.index[id];\n",
       "            }\n",
       "          }\n",
       "        }\n",
       "      });\n",
       "      // Destroy server and session\n",
       "      var cmd = \"import bokeh.io.notebook as ion; ion.destroy_server('\" + server_id + \"')\";\n",
       "      cell.notebook.kernel.execute(cmd);\n",
       "    }\n",
       "  }\n",
       "\n",
       "  /**\n",
       "   * Handle when a new output is added\n",
       "   */\n",
       "  function handleAddOutput(event, handle) {\n",
       "    var output_area = handle.output_area;\n",
       "    var output = handle.output;\n",
       "\n",
       "    // limit handleAddOutput to display_data with EXEC_MIME_TYPE content only\n",
       "    if ((output.output_type != \"display_data\") || (!output.data.hasOwnProperty(EXEC_MIME_TYPE))) {\n",
       "      return\n",
       "    }\n",
       "\n",
       "    var toinsert = output_area.element.find(\".\" + CLASS_NAME.split(' ')[0]);\n",
       "\n",
       "    if (output.metadata[EXEC_MIME_TYPE][\"id\"] !== undefined) {\n",
       "      toinsert[toinsert.length - 1].firstChild.textContent = output.data[JS_MIME_TYPE];\n",
       "      // store reference to embed id on output_area\n",
       "      output_area._bokeh_element_id = output.metadata[EXEC_MIME_TYPE][\"id\"];\n",
       "    }\n",
       "    if (output.metadata[EXEC_MIME_TYPE][\"server_id\"] !== undefined) {\n",
       "      var bk_div = document.createElement(\"div\");\n",
       "      bk_div.innerHTML = output.data[HTML_MIME_TYPE];\n",
       "      var script_attrs = bk_div.children[0].attributes;\n",
       "      for (var i = 0; i < script_attrs.length; i++) {\n",
       "        toinsert[toinsert.length - 1].firstChild.setAttribute(script_attrs[i].name, script_attrs[i].value);\n",
       "      }\n",
       "      // store reference to server id on output_area\n",
       "      output_area._bokeh_server_id = output.metadata[EXEC_MIME_TYPE][\"server_id\"];\n",
       "    }\n",
       "  }\n",
       "\n",
       "  function register_renderer(events, OutputArea) {\n",
       "\n",
       "    function append_mime(data, metadata, element) {\n",
       "      // create a DOM node to render to\n",
       "      var toinsert = this.create_output_subarea(\n",
       "        metadata,\n",
       "        CLASS_NAME,\n",
       "        EXEC_MIME_TYPE\n",
       "      );\n",
       "      this.keyboard_manager.register_events(toinsert);\n",
       "      // Render to node\n",
       "      var props = {data: data, metadata: metadata[EXEC_MIME_TYPE]};\n",
       "      render(props, toinsert[toinsert.length - 1]);\n",
       "      element.append(toinsert);\n",
       "      return toinsert\n",
       "    }\n",
       "\n",
       "    /* Handle when an output is cleared or removed */\n",
       "    events.on('clear_output.CodeCell', handleClearOutput);\n",
       "    events.on('delete.Cell', handleClearOutput);\n",
       "\n",
       "    /* Handle when a new output is added */\n",
       "    events.on('output_added.OutputArea', handleAddOutput);\n",
       "\n",
       "    /**\n",
       "     * Register the mime type and append_mime function with output_area\n",
       "     */\n",
       "    OutputArea.prototype.register_mime_type(EXEC_MIME_TYPE, append_mime, {\n",
       "      /* Is output safe? */\n",
       "      safe: true,\n",
       "      /* Index of renderer in `output_area.display_order` */\n",
       "      index: 0\n",
       "    });\n",
       "  }\n",
       "\n",
       "  // register the mime type if in Jupyter Notebook environment and previously unregistered\n",
       "  if (root.Jupyter !== undefined) {\n",
       "    var events = require('base/js/events');\n",
       "    var OutputArea = require('notebook/js/outputarea').OutputArea;\n",
       "\n",
       "    if (OutputArea.prototype.mime_types().indexOf(EXEC_MIME_TYPE) == -1) {\n",
       "      register_renderer(events, OutputArea);\n",
       "    }\n",
       "  }\n",
       "\n",
       "  \n",
       "  if (typeof (root._bokeh_timeout) === \"undefined\" || force === true) {\n",
       "    root._bokeh_timeout = Date.now() + 5000;\n",
       "    root._bokeh_failed_load = false;\n",
       "  }\n",
       "\n",
       "  var NB_LOAD_WARNING = {'data': {'text/html':\n",
       "     \"<div style='background-color: #fdd'>\\n\"+\n",
       "     \"<p>\\n\"+\n",
       "     \"BokehJS does not appear to have successfully loaded. If loading BokehJS from CDN, this \\n\"+\n",
       "     \"may be due to a slow or bad network connection. Possible fixes:\\n\"+\n",
       "     \"</p>\\n\"+\n",
       "     \"<ul>\\n\"+\n",
       "     \"<li>re-rerun `output_notebook()` to attempt to load from CDN again, or</li>\\n\"+\n",
       "     \"<li>use INLINE resources instead, as so:</li>\\n\"+\n",
       "     \"</ul>\\n\"+\n",
       "     \"<code>\\n\"+\n",
       "     \"from bokeh.resources import INLINE\\n\"+\n",
       "     \"output_notebook(resources=INLINE)\\n\"+\n",
       "     \"</code>\\n\"+\n",
       "     \"</div>\"}};\n",
       "\n",
       "  function display_loaded() {\n",
       "    var el = document.getElementById(\"1867\");\n",
       "    if (el != null) {\n",
       "      el.textContent = \"BokehJS is loading...\";\n",
       "    }\n",
       "    if (root.Bokeh !== undefined) {\n",
       "      if (el != null) {\n",
       "        el.textContent = \"BokehJS \" + root.Bokeh.version + \" successfully loaded.\";\n",
       "      }\n",
       "    } else if (Date.now() < root._bokeh_timeout) {\n",
       "      setTimeout(display_loaded, 100)\n",
       "    }\n",
       "  }\n",
       "\n",
       "\n",
       "  function run_callbacks() {\n",
       "    try {\n",
       "      root._bokeh_onload_callbacks.forEach(function(callback) {\n",
       "        if (callback != null)\n",
       "          callback();\n",
       "      });\n",
       "    } finally {\n",
       "      delete root._bokeh_onload_callbacks\n",
       "    }\n",
       "    console.debug(\"Bokeh: all callbacks have finished\");\n",
       "  }\n",
       "\n",
       "  function load_libs(css_urls, js_urls, callback) {\n",
       "    if (css_urls == null) css_urls = [];\n",
       "    if (js_urls == null) js_urls = [];\n",
       "\n",
       "    root._bokeh_onload_callbacks.push(callback);\n",
       "    if (root._bokeh_is_loading > 0) {\n",
       "      console.debug(\"Bokeh: BokehJS is being loaded, scheduling callback at\", now());\n",
       "      return null;\n",
       "    }\n",
       "    if (js_urls == null || js_urls.length === 0) {\n",
       "      run_callbacks();\n",
       "      return null;\n",
       "    }\n",
       "    console.debug(\"Bokeh: BokehJS not loaded, scheduling load and callback at\", now());\n",
       "    root._bokeh_is_loading = css_urls.length + js_urls.length;\n",
       "\n",
       "    function on_load() {\n",
       "      root._bokeh_is_loading--;\n",
       "      if (root._bokeh_is_loading === 0) {\n",
       "        console.debug(\"Bokeh: all BokehJS libraries/stylesheets loaded\");\n",
       "        run_callbacks()\n",
       "      }\n",
       "    }\n",
       "\n",
       "    function on_error() {\n",
       "      console.error(\"failed to load \" + url);\n",
       "    }\n",
       "\n",
       "    for (var i = 0; i < css_urls.length; i++) {\n",
       "      var url = css_urls[i];\n",
       "      const element = document.createElement(\"link\");\n",
       "      element.onload = on_load;\n",
       "      element.onerror = on_error;\n",
       "      element.rel = \"stylesheet\";\n",
       "      element.type = \"text/css\";\n",
       "      element.href = url;\n",
       "      console.debug(\"Bokeh: injecting link tag for BokehJS stylesheet: \", url);\n",
       "      document.body.appendChild(element);\n",
       "    }\n",
       "\n",
       "    for (var i = 0; i < js_urls.length; i++) {\n",
       "      var url = js_urls[i];\n",
       "      var element = document.createElement('script');\n",
       "      element.onload = on_load;\n",
       "      element.onerror = on_error;\n",
       "      element.async = false;\n",
       "      element.src = url;\n",
       "      console.debug(\"Bokeh: injecting script tag for BokehJS library: \", url);\n",
       "      document.head.appendChild(element);\n",
       "    }\n",
       "  };var element = document.getElementById(\"1867\");\n",
       "  if (element == null) {\n",
       "    console.error(\"Bokeh: ERROR: autoload.js configured with elementid '1867' but no matching script tag was found. \")\n",
       "    return false;\n",
       "  }\n",
       "\n",
       "  function inject_raw_css(css) {\n",
       "    const element = document.createElement(\"style\");\n",
       "    element.appendChild(document.createTextNode(css));\n",
       "    document.body.appendChild(element);\n",
       "  }\n",
       "\n",
       "  var js_urls = [\"https://cdn.pydata.org/bokeh/release/bokeh-1.3.4.min.js\", \"https://cdn.pydata.org/bokeh/release/bokeh-widgets-1.3.4.min.js\", \"https://cdn.pydata.org/bokeh/release/bokeh-tables-1.3.4.min.js\", \"https://cdn.pydata.org/bokeh/release/bokeh-gl-1.3.4.min.js\"];\n",
       "  var css_urls = [];\n",
       "\n",
       "  var inline_js = [\n",
       "    function(Bokeh) {\n",
       "      Bokeh.set_log_level(\"info\");\n",
       "    },\n",
       "    \n",
       "    function(Bokeh) {\n",
       "      \n",
       "    },\n",
       "    function(Bokeh) {} // ensure no trailing comma for IE\n",
       "  ];\n",
       "\n",
       "  function run_inline_js() {\n",
       "    \n",
       "    if ((root.Bokeh !== undefined) || (force === true)) {\n",
       "      for (var i = 0; i < inline_js.length; i++) {\n",
       "        inline_js[i].call(root, root.Bokeh);\n",
       "      }if (force === true) {\n",
       "        display_loaded();\n",
       "      }} else if (Date.now() < root._bokeh_timeout) {\n",
       "      setTimeout(run_inline_js, 100);\n",
       "    } else if (!root._bokeh_failed_load) {\n",
       "      console.log(\"Bokeh: BokehJS failed to load within specified timeout.\");\n",
       "      root._bokeh_failed_load = true;\n",
       "    } else if (force !== true) {\n",
       "      var cell = $(document.getElementById(\"1867\")).parents('.cell').data().cell;\n",
       "      cell.output_area.append_execute_result(NB_LOAD_WARNING)\n",
       "    }\n",
       "\n",
       "  }\n",
       "\n",
       "  if (root._bokeh_is_loading === 0) {\n",
       "    console.debug(\"Bokeh: BokehJS loaded, going straight to plotting\");\n",
       "    run_inline_js();\n",
       "  } else {\n",
       "    load_libs(css_urls, js_urls, function() {\n",
       "      console.debug(\"Bokeh: BokehJS plotting callback run at\", now());\n",
       "      run_inline_js();\n",
       "    });\n",
       "  }\n",
       "}(window));"
      ],
      "application/vnd.bokehjs_load.v0+json": "\n(function(root) {\n  function now() {\n    return new Date();\n  }\n\n  var force = true;\n\n  if (typeof root._bokeh_onload_callbacks === \"undefined\" || force === true) {\n    root._bokeh_onload_callbacks = [];\n    root._bokeh_is_loading = undefined;\n  }\n\n  \n\n  \n  if (typeof (root._bokeh_timeout) === \"undefined\" || force === true) {\n    root._bokeh_timeout = Date.now() + 5000;\n    root._bokeh_failed_load = false;\n  }\n\n  var NB_LOAD_WARNING = {'data': {'text/html':\n     \"<div style='background-color: #fdd'>\\n\"+\n     \"<p>\\n\"+\n     \"BokehJS does not appear to have successfully loaded. If loading BokehJS from CDN, this \\n\"+\n     \"may be due to a slow or bad network connection. Possible fixes:\\n\"+\n     \"</p>\\n\"+\n     \"<ul>\\n\"+\n     \"<li>re-rerun `output_notebook()` to attempt to load from CDN again, or</li>\\n\"+\n     \"<li>use INLINE resources instead, as so:</li>\\n\"+\n     \"</ul>\\n\"+\n     \"<code>\\n\"+\n     \"from bokeh.resources import INLINE\\n\"+\n     \"output_notebook(resources=INLINE)\\n\"+\n     \"</code>\\n\"+\n     \"</div>\"}};\n\n  function display_loaded() {\n    var el = document.getElementById(\"1867\");\n    if (el != null) {\n      el.textContent = \"BokehJS is loading...\";\n    }\n    if (root.Bokeh !== undefined) {\n      if (el != null) {\n        el.textContent = \"BokehJS \" + root.Bokeh.version + \" successfully loaded.\";\n      }\n    } else if (Date.now() < root._bokeh_timeout) {\n      setTimeout(display_loaded, 100)\n    }\n  }\n\n\n  function run_callbacks() {\n    try {\n      root._bokeh_onload_callbacks.forEach(function(callback) {\n        if (callback != null)\n          callback();\n      });\n    } finally {\n      delete root._bokeh_onload_callbacks\n    }\n    console.debug(\"Bokeh: all callbacks have finished\");\n  }\n\n  function load_libs(css_urls, js_urls, callback) {\n    if (css_urls == null) css_urls = [];\n    if (js_urls == null) js_urls = [];\n\n    root._bokeh_onload_callbacks.push(callback);\n    if (root._bokeh_is_loading > 0) {\n      console.debug(\"Bokeh: BokehJS is being loaded, scheduling callback at\", now());\n      return null;\n    }\n    if (js_urls == null || js_urls.length === 0) {\n      run_callbacks();\n      return null;\n    }\n    console.debug(\"Bokeh: BokehJS not loaded, scheduling load and callback at\", now());\n    root._bokeh_is_loading = css_urls.length + js_urls.length;\n\n    function on_load() {\n      root._bokeh_is_loading--;\n      if (root._bokeh_is_loading === 0) {\n        console.debug(\"Bokeh: all BokehJS libraries/stylesheets loaded\");\n        run_callbacks()\n      }\n    }\n\n    function on_error() {\n      console.error(\"failed to load \" + url);\n    }\n\n    for (var i = 0; i < css_urls.length; i++) {\n      var url = css_urls[i];\n      const element = document.createElement(\"link\");\n      element.onload = on_load;\n      element.onerror = on_error;\n      element.rel = \"stylesheet\";\n      element.type = \"text/css\";\n      element.href = url;\n      console.debug(\"Bokeh: injecting link tag for BokehJS stylesheet: \", url);\n      document.body.appendChild(element);\n    }\n\n    for (var i = 0; i < js_urls.length; i++) {\n      var url = js_urls[i];\n      var element = document.createElement('script');\n      element.onload = on_load;\n      element.onerror = on_error;\n      element.async = false;\n      element.src = url;\n      console.debug(\"Bokeh: injecting script tag for BokehJS library: \", url);\n      document.head.appendChild(element);\n    }\n  };var element = document.getElementById(\"1867\");\n  if (element == null) {\n    console.error(\"Bokeh: ERROR: autoload.js configured with elementid '1867' but no matching script tag was found. \")\n    return false;\n  }\n\n  function inject_raw_css(css) {\n    const element = document.createElement(\"style\");\n    element.appendChild(document.createTextNode(css));\n    document.body.appendChild(element);\n  }\n\n  var js_urls = [\"https://cdn.pydata.org/bokeh/release/bokeh-1.3.4.min.js\", \"https://cdn.pydata.org/bokeh/release/bokeh-widgets-1.3.4.min.js\", \"https://cdn.pydata.org/bokeh/release/bokeh-tables-1.3.4.min.js\", \"https://cdn.pydata.org/bokeh/release/bokeh-gl-1.3.4.min.js\"];\n  var css_urls = [];\n\n  var inline_js = [\n    function(Bokeh) {\n      Bokeh.set_log_level(\"info\");\n    },\n    \n    function(Bokeh) {\n      \n    },\n    function(Bokeh) {} // ensure no trailing comma for IE\n  ];\n\n  function run_inline_js() {\n    \n    if ((root.Bokeh !== undefined) || (force === true)) {\n      for (var i = 0; i < inline_js.length; i++) {\n        inline_js[i].call(root, root.Bokeh);\n      }if (force === true) {\n        display_loaded();\n      }} else if (Date.now() < root._bokeh_timeout) {\n      setTimeout(run_inline_js, 100);\n    } else if (!root._bokeh_failed_load) {\n      console.log(\"Bokeh: BokehJS failed to load within specified timeout.\");\n      root._bokeh_failed_load = true;\n    } else if (force !== true) {\n      var cell = $(document.getElementById(\"1867\")).parents('.cell').data().cell;\n      cell.output_area.append_execute_result(NB_LOAD_WARNING)\n    }\n\n  }\n\n  if (root._bokeh_is_loading === 0) {\n    console.debug(\"Bokeh: BokehJS loaded, going straight to plotting\");\n    run_inline_js();\n  } else {\n    load_libs(css_urls, js_urls, function() {\n      console.debug(\"Bokeh: BokehJS plotting callback run at\", now());\n      run_inline_js();\n    });\n  }\n}(window));"
     },
     "metadata": {},
     "output_type": "display_data"
    },
    {
     "data": {
      "application/vnd.jupyter.widget-view+json": {
       "model_id": "d6bad1d0592649f98c8a20ed2046b250",
       "version_major": 2,
       "version_minor": 0
      },
      "text/plain": [
       "interactive(children=(Dropdown(description='function', options=('sin', 'cos', 'tan'), value='sin'), IntSlider(…"
      ]
     },
     "metadata": {},
     "output_type": "display_data"
    },
    {
     "data": {
      "text/html": [
       "\n",
       "\n",
       "\n",
       "\n",
       "\n",
       "\n",
       "  <div class=\"bk-root\" id=\"9dd4c7ed-4eda-4bfd-a472-cf20951ae54f\" data-root-id=\"1868\"></div>\n"
      ]
     },
     "metadata": {},
     "output_type": "display_data"
    },
    {
     "data": {
      "application/javascript": [
       "(function(root) {\n",
       "  function embed_document(root) {\n",
       "    \n",
       "  var docs_json = {\"6dda349e-dac5-4cb5-972d-c70ce665338b\":{\"roots\":{\"references\":[{\"attributes\":{\"background_fill_color\":{\"value\":\"#efefef\"},\"below\":[{\"id\":\"1879\",\"type\":\"LinearAxis\"}],\"center\":[{\"id\":\"1883\",\"type\":\"Grid\"},{\"id\":\"1888\",\"type\":\"Grid\"}],\"left\":[{\"id\":\"1884\",\"type\":\"LinearAxis\"}],\"plot_height\":300,\"plot_width\":900,\"renderers\":[{\"id\":\"1905\",\"type\":\"GlyphRenderer\"}],\"title\":{\"id\":\"1869\",\"type\":\"Title\"},\"toolbar\":{\"id\":\"1895\",\"type\":\"Toolbar\"},\"x_range\":{\"id\":\"1871\",\"type\":\"DataRange1d\"},\"x_scale\":{\"id\":\"1875\",\"type\":\"LinearScale\"},\"y_range\":{\"id\":\"1873\",\"type\":\"Range1d\"},\"y_scale\":{\"id\":\"1877\",\"type\":\"LinearScale\"}},\"id\":\"1868\",\"subtype\":\"Figure\",\"type\":\"Plot\"},{\"attributes\":{\"data_source\":{\"id\":\"1902\",\"type\":\"ColumnDataSource\"},\"glyph\":{\"id\":\"1903\",\"type\":\"Line\"},\"hover_glyph\":null,\"muted_glyph\":null,\"nonselection_glyph\":{\"id\":\"1904\",\"type\":\"Line\"},\"selection_glyph\":null,\"view\":{\"id\":\"1906\",\"type\":\"CDSView\"}},\"id\":\"1905\",\"type\":\"GlyphRenderer\"},{\"attributes\":{},\"id\":\"1961\",\"type\":\"Selection\"},{\"attributes\":{\"callback\":null,\"end\":10,\"start\":-10},\"id\":\"1873\",\"type\":\"Range1d\"},{\"attributes\":{\"line_alpha\":0.1,\"line_color\":\"#1f77b4\",\"line_width\":1.5,\"x\":{\"field\":\"x\"},\"y\":{\"field\":\"y\"}},\"id\":\"1904\",\"type\":\"Line\"},{\"attributes\":{\"text\":\"example - simple trig plot\"},\"id\":\"1869\",\"type\":\"Title\"},{\"attributes\":{},\"id\":\"1889\",\"type\":\"PanTool\"},{\"attributes\":{},\"id\":\"1880\",\"type\":\"BasicTicker\"},{\"attributes\":{\"bottom_units\":\"screen\",\"fill_alpha\":{\"value\":0.5},\"fill_color\":{\"value\":\"lightgrey\"},\"left_units\":\"screen\",\"level\":\"overlay\",\"line_alpha\":{\"value\":1.0},\"line_color\":{\"value\":\"black\"},\"line_dash\":[4,4],\"line_width\":{\"value\":2},\"render_mode\":\"css\",\"right_units\":\"screen\",\"top_units\":\"screen\"},\"id\":\"1960\",\"type\":\"BoxAnnotation\"},{\"attributes\":{\"callback\":null},\"id\":\"1871\",\"type\":\"DataRange1d\"},{\"attributes\":{\"overlay\":{\"id\":\"1960\",\"type\":\"BoxAnnotation\"}},\"id\":\"1891\",\"type\":\"BoxZoomTool\"},{\"attributes\":{\"formatter\":{\"id\":\"1958\",\"type\":\"BasicTickFormatter\"},\"ticker\":{\"id\":\"1880\",\"type\":\"BasicTicker\"}},\"id\":\"1879\",\"type\":\"LinearAxis\"},{\"attributes\":{},\"id\":\"1890\",\"type\":\"WheelZoomTool\"},{\"attributes\":{\"source\":{\"id\":\"1902\",\"type\":\"ColumnDataSource\"}},\"id\":\"1906\",\"type\":\"CDSView\"},{\"attributes\":{\"callback\":null,\"data\":{\"x\":{\"__ndarray__\":\"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\",\"dtype\":\"float64\",\"shape\":[2000]},\"y\":{\"__ndarray__\":\"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\",\"dtype\":\"float64\",\"shape\":[2000]}},\"selected\":{\"id\":\"1961\",\"type\":\"Selection\"},\"selection_policy\":{\"id\":\"1962\",\"type\":\"UnionRenderers\"}},\"id\":\"1902\",\"type\":\"ColumnDataSource\"},{\"attributes\":{},\"id\":\"1958\",\"type\":\"BasicTickFormatter\"},{\"attributes\":{},\"id\":\"1875\",\"type\":\"LinearScale\"},{\"attributes\":{},\"id\":\"1892\",\"type\":\"SaveTool\"},{\"attributes\":{},\"id\":\"1877\",\"type\":\"LinearScale\"},{\"attributes\":{},\"id\":\"1893\",\"type\":\"ResetTool\"},{\"attributes\":{},\"id\":\"1956\",\"type\":\"BasicTickFormatter\"},{\"attributes\":{\"ticker\":{\"id\":\"1880\",\"type\":\"BasicTicker\"}},\"id\":\"1883\",\"type\":\"Grid\"},{\"attributes\":{},\"id\":\"1962\",\"type\":\"UnionRenderers\"},{\"attributes\":{},\"id\":\"1894\",\"type\":\"HelpTool\"},{\"attributes\":{\"line_alpha\":0.8,\"line_color\":\"#8888cc\",\"line_width\":1.5,\"x\":{\"field\":\"x\"},\"y\":{\"field\":\"y\"}},\"id\":\"1903\",\"type\":\"Line\"},{\"attributes\":{\"dimension\":1,\"ticker\":{\"id\":\"1885\",\"type\":\"BasicTicker\"}},\"id\":\"1888\",\"type\":\"Grid\"},{\"attributes\":{\"formatter\":{\"id\":\"1956\",\"type\":\"BasicTickFormatter\"},\"ticker\":{\"id\":\"1885\",\"type\":\"BasicTicker\"}},\"id\":\"1884\",\"type\":\"LinearAxis\"},{\"attributes\":{\"active_drag\":\"auto\",\"active_inspect\":\"auto\",\"active_multi\":null,\"active_scroll\":\"auto\",\"active_tap\":\"auto\",\"tools\":[{\"id\":\"1889\",\"type\":\"PanTool\"},{\"id\":\"1890\",\"type\":\"WheelZoomTool\"},{\"id\":\"1891\",\"type\":\"BoxZoomTool\"},{\"id\":\"1892\",\"type\":\"SaveTool\"},{\"id\":\"1893\",\"type\":\"ResetTool\"},{\"id\":\"1894\",\"type\":\"HelpTool\"}]},\"id\":\"1895\",\"type\":\"Toolbar\"},{\"attributes\":{},\"id\":\"1885\",\"type\":\"BasicTicker\"}],\"root_ids\":[\"1868\"]},\"title\":\"Bokeh Application\",\"version\":\"1.3.4\"}};\n",
       "  var render_items = [{\"docid\":\"6dda349e-dac5-4cb5-972d-c70ce665338b\",\"notebook_comms_target\":\"1963\",\"roots\":{\"1868\":\"9dd4c7ed-4eda-4bfd-a472-cf20951ae54f\"}}];\n",
       "  root.Bokeh.embed.embed_items_notebook(docs_json, render_items);\n",
       "\n",
       "  }\n",
       "  if (root.Bokeh !== undefined) {\n",
       "    embed_document(root);\n",
       "  } else {\n",
       "    var attempts = 0;\n",
       "    var timer = setInterval(function(root) {\n",
       "      if (root.Bokeh !== undefined) {\n",
       "        embed_document(root);\n",
       "        clearInterval(timer);\n",
       "      }\n",
       "      attempts++;\n",
       "      if (attempts > 100) {\n",
       "        console.log(\"Bokeh: ERROR: Unable to run BokehJS code because BokehJS library is missing\");\n",
       "        clearInterval(timer);\n",
       "      }\n",
       "    }, 10, root)\n",
       "  }\n",
       "})(window);"
      ],
      "application/vnd.bokehjs_exec.v0+json": ""
     },
     "metadata": {
      "application/vnd.bokehjs_exec.v0+json": {
       "id": "1868"
      }
     },
     "output_type": "display_data"
    }
   ],
   "source": [
    "# simple interactivity example - using ipywidgets\n",
    "# credit:  https://github.com/bokeh/bokeh/blob/1.3.4/examples/howto/notebook_comms/Jupyter%20Interactors.ipynb\n",
    "\n",
    "from ipywidgets import interact\n",
    "import numpy as np\n",
    "\n",
    "from bokeh.io import push_notebook, show, output_notebook\n",
    "from bokeh.plotting import figure\n",
    "output_notebook()\n",
    "\n",
    "# define evenly spaced data to plot trig functions\n",
    "x = np.linspace(0, 2*np.pi, 2000)\n",
    "y = np.sin(x)\n",
    "\n",
    "graph_function = figure(title=\"example - simple trig plot\", plot_height=300, plot_width=900, y_range=(-10,10),\n",
    "           background_fill_color='#efefef')\n",
    "r = graph_function.line(x, y, color=\"#8888cc\", line_width=1.5, alpha=0.8)\n",
    "\n",
    "def update(function, freq=10, Amplitude=2, phi=0):\n",
    "    if   function == \"sin\": func = np.sin\n",
    "    elif function == \"cos\": func = np.cos\n",
    "    elif function == \"tan\": func = np.tan\n",
    "    r.data_source.data['y'] = Amplitude * func(freq * x + phi)\n",
    "    push_notebook()\n",
    "\n",
    "interact(update, function=[\"sin\", \"cos\", \"tan\"], freq=(0,500), Amplitude=(1,20), phi=(0, 20, 0.5))\n",
    "show(graph_function, notebook_handle=True);  # handle updates existing plot, only needed in jupyter notebook (not jupyterlab)\n"
   ]
  },
  {
   "cell_type": "markdown",
   "metadata": {
    "slideshow": {
     "slide_type": "slide"
    }
   },
   "source": [
    "# Introducing Bokeh ColumnDataSource object<br>\n",
    "\n",
    "- Bokeh class\n",
    "- Bokeh can plot directly from Pandas DataFrames AND\n",
    "- ColumnDataSource helps maps names of columns to sequences or arrays <br><br>\n",
    "\n",
    "\n",
    "    from bokeh.models import ColumnDataSource\n",
    "\n",
    "    data = {\"x\": [1,2,3,4], \"y\": [11, 22, 33, 44], labels=[\"alpha\", \"bravo\", \"charlie\", \"delta\"]}\n",
    "\n",
    "    source = ColumnDataSource(data,  color=Colorblind)\n",
    "<br>\n",
    "\n",
    "### why use this?\n",
    "- easier to share data + selections between plots and subplots<br>\n",
    "- efficient graphing of streaming - bokeh only sends new data to plots<br>\n",
    "- offloads work to the browser (e.g. colormapping)<br><br>\n",
    "\n",
    "- color examples:  https://docs.bokeh.org/en/latest/docs/reference/palettes.html"
   ]
  },
  {
   "cell_type": "markdown",
   "metadata": {
    "slideshow": {
     "slide_type": "slide"
    }
   },
   "source": [
    "# Example 3 - Saving Data from A Chart\n",
    "\n",
    "*WIP*"
   ]
  },
  {
   "cell_type": "markdown",
   "metadata": {
    "slideshow": {
     "slide_type": "slide"
    }
   },
   "source": [
    "# Example 4 - Interactive, linked brushing"
   ]
  },
  {
   "cell_type": "code",
   "execution_count": 11,
   "metadata": {
    "scrolled": false,
    "slideshow": {
     "slide_type": "subslide"
    }
   },
   "outputs": [
    {
     "data": {
      "text/html": [
       "\n",
       "\n",
       "\n",
       "\n",
       "\n",
       "\n",
       "  <div class=\"bk-root\" id=\"b6df4398-c09c-424d-aa08-43a0d140e340\" data-root-id=\"2182\"></div>\n"
      ]
     },
     "metadata": {},
     "output_type": "display_data"
    },
    {
     "data": {
      "application/javascript": [
       "(function(root) {\n",
       "  function embed_document(root) {\n",
       "    \n",
       "  var docs_json = {\"24eae599-ad09-41f8-8c16-ecf9bd7686b3\":{\"roots\":{\"references\":[{\"attributes\":{\"children\":[{\"id\":\"2181\",\"type\":\"ToolbarBox\"},{\"id\":\"2179\",\"type\":\"GridBox\"}]},\"id\":\"2182\",\"type\":\"Column\"},{\"attributes\":{},\"id\":\"2172\",\"type\":\"BasicTickFormatter\"},{\"attributes\":{\"data_source\":{\"id\":\"2057\",\"type\":\"ColumnDataSource\"},\"glyph\":{\"id\":\"2115\",\"type\":\"Circle\"},\"hover_glyph\":null,\"muted_glyph\":null,\"nonselection_glyph\":{\"id\":\"2116\",\"type\":\"Circle\"},\"selection_glyph\":null,\"view\":{\"id\":\"2118\",\"type\":\"CDSView\"}},\"id\":\"2117\",\"type\":\"GlyphRenderer\"},{\"attributes\":{\"formatter\":{\"id\":\"2172\",\"type\":\"BasicTickFormatter\"},\"ticker\":{\"id\":\"2136\",\"type\":\"BasicTicker\"}},\"id\":\"2135\",\"type\":\"LinearAxis\"},{\"attributes\":{\"active_drag\":\"auto\",\"active_inspect\":\"auto\",\"active_multi\":null,\"active_scroll\":\"auto\",\"active_tap\":\"auto\",\"tools\":[{\"id\":\"2080\",\"type\":\"LassoSelectTool\"},{\"id\":\"2081\",\"type\":\"ResetTool\"}]},\"id\":\"2082\",\"type\":\"Toolbar\"},{\"attributes\":{},\"id\":\"2066\",\"type\":\"LinearScale\"},{\"attributes\":{\"formatter\":{\"id\":\"2174\",\"type\":\"BasicTickFormatter\"},\"ticker\":{\"id\":\"2131\",\"type\":\"BasicTicker\"}},\"id\":\"2130\",\"type\":\"LinearAxis\"},{\"attributes\":{\"fill_alpha\":{\"value\":0.1},\"fill_color\":{\"value\":\"#1f77b4\"},\"line_alpha\":{\"value\":0.1},\"line_color\":{\"value\":\"#1f77b4\"},\"x\":{\"field\":\"x\"},\"y\":{\"field\":\"y\"}},\"id\":\"2145\",\"type\":\"Circle\"},{\"attributes\":{\"below\":[{\"id\":\"2130\",\"type\":\"LinearAxis\"}],\"center\":[{\"id\":\"2134\",\"type\":\"Grid\"},{\"id\":\"2139\",\"type\":\"Grid\"}],\"left\":[{\"id\":\"2135\",\"type\":\"LinearAxis\"}],\"plot_height\":400,\"plot_width\":400,\"renderers\":[{\"id\":\"2146\",\"type\":\"GlyphRenderer\"}],\"title\":{\"id\":\"2120\",\"type\":\"Title\"},\"toolbar\":{\"id\":\"2141\",\"type\":\"Toolbar\"},\"toolbar_location\":null,\"x_range\":{\"id\":\"2122\",\"type\":\"Range1d\"},\"x_scale\":{\"id\":\"2126\",\"type\":\"LinearScale\"},\"y_range\":{\"id\":\"2124\",\"type\":\"Range1d\"},\"y_scale\":{\"id\":\"2128\",\"type\":\"LinearScale\"}},\"id\":\"2119\",\"subtype\":\"Figure\",\"type\":\"Plot\"},{\"attributes\":{},\"id\":\"2136\",\"type\":\"BasicTicker\"},{\"attributes\":{},\"id\":\"2157\",\"type\":\"UnionRenderers\"},{\"attributes\":{\"fill_alpha\":{\"value\":0.1},\"fill_color\":{\"value\":\"#1f77b4\"},\"line_alpha\":{\"value\":0.1},\"line_color\":{\"value\":\"#1f77b4\"},\"x\":{\"field\":\"x\"},\"y\":{\"field\":\"y\"}},\"id\":\"2087\",\"type\":\"Circle\"},{\"attributes\":{\"source\":{\"id\":\"2058\",\"type\":\"ColumnDataSource\"}},\"id\":\"2147\",\"type\":\"CDSView\"},{\"attributes\":{\"text\":\"Watch Second Mirror Graph Here\"},\"id\":\"2120\",\"type\":\"Title\"},{\"attributes\":{\"data_source\":{\"id\":\"2056\",\"type\":\"ColumnDataSource\"},\"glyph\":{\"id\":\"2086\",\"type\":\"Circle\"},\"hover_glyph\":null,\"muted_glyph\":null,\"nonselection_glyph\":{\"id\":\"2087\",\"type\":\"Circle\"},\"selection_glyph\":null,\"view\":{\"id\":\"2089\",\"type\":\"CDSView\"}},\"id\":\"2088\",\"type\":\"GlyphRenderer\"},{\"attributes\":{\"callback\":null,\"overlay\":{\"id\":\"2155\",\"type\":\"PolyAnnotation\"}},\"id\":\"2080\",\"type\":\"LassoSelectTool\"},{\"attributes\":{},\"id\":\"2111\",\"type\":\"SaveTool\"},{\"attributes\":{},\"id\":\"2126\",\"type\":\"LinearScale\"},{\"attributes\":{},\"id\":\"2102\",\"type\":\"BasicTicker\"},{\"attributes\":{\"below\":[{\"id\":\"2101\",\"type\":\"LinearAxis\"}],\"center\":[{\"id\":\"2105\",\"type\":\"Grid\"},{\"id\":\"2110\",\"type\":\"Grid\"}],\"left\":[{\"id\":\"2106\",\"type\":\"LinearAxis\"}],\"plot_height\":400,\"plot_width\":400,\"renderers\":[{\"id\":\"2117\",\"type\":\"GlyphRenderer\"}],\"title\":{\"id\":\"2091\",\"type\":\"Title\"},\"toolbar\":{\"id\":\"2112\",\"type\":\"Toolbar\"},\"toolbar_location\":null,\"x_range\":{\"id\":\"2093\",\"type\":\"Range1d\"},\"x_scale\":{\"id\":\"2097\",\"type\":\"LinearScale\"},\"y_range\":{\"id\":\"2095\",\"type\":\"Range1d\"},\"y_scale\":{\"id\":\"2099\",\"type\":\"LinearScale\"}},\"id\":\"2090\",\"subtype\":\"Figure\",\"type\":\"Plot\"},{\"attributes\":{},\"id\":\"2068\",\"type\":\"LinearScale\"},{\"attributes\":{\"data_source\":{\"id\":\"2058\",\"type\":\"ColumnDataSource\"},\"glyph\":{\"id\":\"2144\",\"type\":\"Circle\"},\"hover_glyph\":null,\"muted_glyph\":null,\"nonselection_glyph\":{\"id\":\"2145\",\"type\":\"Circle\"},\"selection_glyph\":null,\"view\":{\"id\":\"2147\",\"type\":\"CDSView\"}},\"id\":\"2146\",\"type\":\"GlyphRenderer\"},{\"attributes\":{},\"id\":\"2158\",\"type\":\"Selection\"},{\"attributes\":{\"ticker\":{\"id\":\"2071\",\"type\":\"BasicTicker\"}},\"id\":\"2074\",\"type\":\"Grid\"},{\"attributes\":{\"dimension\":1,\"ticker\":{\"id\":\"2076\",\"type\":\"BasicTicker\"}},\"id\":\"2079\",\"type\":\"Grid\"},{\"attributes\":{\"callback\":null},\"id\":\"2124\",\"type\":\"Range1d\"},{\"attributes\":{},\"id\":\"2151\",\"type\":\"BasicTickFormatter\"},{\"attributes\":{\"fill_alpha\":{\"value\":0.5},\"fill_color\":{\"value\":\"lightgrey\"},\"level\":\"overlay\",\"line_alpha\":{\"value\":1.0},\"line_color\":{\"value\":\"black\"},\"line_dash\":[4,4],\"line_width\":{\"value\":2},\"xs_units\":\"screen\",\"ys_units\":\"screen\"},\"id\":\"2155\",\"type\":\"PolyAnnotation\"},{\"attributes\":{},\"id\":\"2107\",\"type\":\"BasicTicker\"},{\"attributes\":{\"callback\":null},\"id\":\"2062\",\"type\":\"DataRange1d\"},{\"attributes\":{},\"id\":\"2153\",\"type\":\"BasicTickFormatter\"},{\"attributes\":{\"formatter\":{\"id\":\"2166\",\"type\":\"BasicTickFormatter\"},\"ticker\":{\"id\":\"2102\",\"type\":\"BasicTicker\"}},\"id\":\"2101\",\"type\":\"LinearAxis\"},{\"attributes\":{\"below\":[{\"id\":\"2070\",\"type\":\"LinearAxis\"}],\"center\":[{\"id\":\"2074\",\"type\":\"Grid\"},{\"id\":\"2079\",\"type\":\"Grid\"}],\"left\":[{\"id\":\"2075\",\"type\":\"LinearAxis\"}],\"plot_height\":400,\"plot_width\":400,\"renderers\":[{\"id\":\"2088\",\"type\":\"GlyphRenderer\"}],\"title\":{\"id\":\"2060\",\"type\":\"Title\"},\"toolbar\":{\"id\":\"2082\",\"type\":\"Toolbar\"},\"toolbar_location\":null,\"x_range\":{\"id\":\"2062\",\"type\":\"DataRange1d\"},\"x_scale\":{\"id\":\"2066\",\"type\":\"LinearScale\"},\"y_range\":{\"id\":\"2064\",\"type\":\"DataRange1d\"},\"y_scale\":{\"id\":\"2068\",\"type\":\"LinearScale\"}},\"id\":\"2059\",\"subtype\":\"Figure\",\"type\":\"Plot\"},{\"attributes\":{\"active_drag\":\"auto\",\"active_inspect\":\"auto\",\"active_multi\":null,\"active_scroll\":\"auto\",\"active_tap\":\"auto\",\"tools\":[{\"id\":\"2111\",\"type\":\"SaveTool\"}]},\"id\":\"2112\",\"type\":\"Toolbar\"},{\"attributes\":{\"dimension\":1,\"ticker\":{\"id\":\"2136\",\"type\":\"BasicTicker\"}},\"id\":\"2139\",\"type\":\"Grid\"},{\"attributes\":{\"source\":{\"id\":\"2056\",\"type\":\"ColumnDataSource\"}},\"id\":\"2089\",\"type\":\"CDSView\"},{\"attributes\":{\"callback\":null},\"id\":\"2095\",\"type\":\"Range1d\"},{\"attributes\":{\"ticker\":{\"id\":\"2102\",\"type\":\"BasicTicker\"}},\"id\":\"2105\",\"type\":\"Grid\"},{\"attributes\":{\"callback\":null},\"id\":\"2064\",\"type\":\"DataRange1d\"},{\"attributes\":{\"formatter\":{\"id\":\"2151\",\"type\":\"BasicTickFormatter\"},\"ticker\":{\"id\":\"2076\",\"type\":\"BasicTicker\"}},\"id\":\"2075\",\"type\":\"LinearAxis\"},{\"attributes\":{},\"id\":\"2097\",\"type\":\"LinearScale\"},{\"attributes\":{\"dimension\":1,\"ticker\":{\"id\":\"2107\",\"type\":\"BasicTicker\"}},\"id\":\"2110\",\"type\":\"Grid\"},{\"attributes\":{\"tools\":[{\"id\":\"2080\",\"type\":\"LassoSelectTool\"},{\"id\":\"2081\",\"type\":\"ResetTool\"},{\"id\":\"2111\",\"type\":\"SaveTool\"},{\"id\":\"2140\",\"type\":\"SaveTool\"}]},\"id\":\"2180\",\"type\":\"ProxyToolbar\"},{\"attributes\":{\"text\":\"Watch First Graph Here\"},\"id\":\"2091\",\"type\":\"Title\"},{\"attributes\":{\"callback\":null,\"data\":{\"x\":[0.19377656336351556,0.9878649358254247,0.9500890402969342,0.7275566405381957,0.9823085812999727,0.5829891168052056,0.09693483371530076,0.5900867075202129,0.9757042069669267,0.37778250050831175,0.7190101745157106,0.5362201242965658,0.39391178194188636,0.5114294739180174,0.7806254898322587,0.9381232253695629,0.1504607596565084,0.37961561633830787,0.9016394964821576,0.5601922184598358,0.06086032681520437,0.8851860173931712,0.054966443214374494,0.7519866476803672,0.9223221246232198,0.46048666530143945,0.9259253675060957,0.2887503916699341,0.16126387758555272,0.5158262211920616,0.25055738886173073,0.09225348226209995,0.0650947387873535,0.47402989709329524,0.6419279949463512,0.08426531858962549,0.14495067815424878,0.9667326710361049,0.9579775849127546,0.777017940200227,0.338463585112608,0.40201542111528266,0.33744949433824434,0.5364240638929033,0.5099620792386507,0.0484503975342635,0.29092596004530547,0.9114643103001994,0.89755067345806,0.23741877076475393,0.4623976594305025,0.24869019773109124,0.09220479267583293,0.8739988648480927,0.09879273186077253,0.6501356576889151,0.503328158941747,0.8596800313537245,0.3889091027100202,0.049635869202503735,0.7296482878910001,0.8533790982644299,0.91195265176992,0.6794461367283967,0.352197438853304,0.1709174962030634,0.14383982932329853,0.8608631681495288,0.3661539848418145,0.3886781973934307,0.321717161479498,0.7274759113611191,0.9380283898455051,0.6241637590340362,0.23757330968664525,0.5408602256590426,0.04081693795613961,0.9036493919076938,0.8635827867084601,0.02630459488189385,0.5801584457120945,0.6590077073672971,0.529641827616301,0.629933954038304,0.6906048254524179,0.36292893968270035,0.693829528721299,0.47141156688562547,0.42501470867465274,0.9870365610731171,0.7822249779962118,0.7796728907208006,0.00268371411650703,0.06301321209066535,0.13665971052792447,0.7948339374705007,0.0745138793151151,0.8059977232761453,0.10669084932649586,0.7074626384570679,0.34356663167942647,0.10166785370641385,0.012296327102784721,0.8448108619590274,0.9970337171276953,0.7574472816089197,0.45318923992850413,0.48131704039325995,0.8725988726821846,0.5332043482942765,0.11812947514104821,0.28294254077495806,0.9004465785548662,0.04433736075891492,0.5040714515516899,0.21329472724768572,0.22063245013102328,0.8098515594407049,0.31319258990251364,0.5085669377507889,0.7769069098560302,0.18442222560332033,0.86060316032443,0.9407231002373493,0.313177735647137,0.7705876759150159,0.9975278684655039,0.833103640697788,0.4666510137354364,0.9983699114503074,0.6754256505894652,0.16324145191227601,0.8618671662881836,0.37319395265749367,0.343887995212532,0.4155907777747522,0.17006449759492503,0.2328210763113393,0.9123639594553641,0.9064898034697749,0.9201880469546921,0.7947125940515516,0.006792642047146469,0.9407026519631705,0.3543135208291719,0.21798647235965818,0.7603369518400941,0.6181474706302188,0.28234371743809406,0.6752442515509585,0.6696963904349991,0.3063549373097454,0.9750541876369805,0.21298041512280896,0.7112113523988086,0.2592634509510412,0.6206118865403414,0.7445604897051981,0.7929710460323722,0.6731156684651773,0.35195969612792266,0.07144138499402652,0.6296895908760569,0.23995914081282588,0.4214666016508394,0.3994841614344604,0.10988709946506925,0.5801722922925235,0.23833860776689697,0.8245750893638464,0.5169274645685256,0.731030140958688,0.8912064830734306,0.6324767568606439,0.9584184997240529,0.4085003298651635,0.8544971236518129,0.3476237714655832,0.3495370954858428,0.724534352437519,0.7594262196914716,0.8303028504715759,0.7983981183651699,0.9241622360707853,0.5820810119428736,0.988999634016046,0.4510088367218045,0.598408416614749,0.25478306895073877,0.12748887249472685,0.04059624243453286,0.3964899872999065,0.5835350708273755,0.5726553964951772,0.6754344212668735,0.22830277096955054,0.8206596779955265,0.2096850804642475,0.9998402735101805,0.28826588751997384,0.12020042319469182,0.7088712531371425,0.8852838099625326,0.6408716272466642,0.4728871300307549,0.34730771125674953,0.4056573610351023,0.7686993821462904,0.9805062048150329,0.850910224020565,0.44525541507977484,0.22420874892263132,0.22351086890516814,0.5281383581109578,0.09127939880383706,0.34355616457544935,0.7852783193750891,0.9594241711665343,0.2712480993095918,0.1560731570063737,0.9274271176751516,0.305823596000225,0.5912582273540464,0.5776139734959764,0.05323449177886719,0.8179744517973374,0.7291333680472234,0.7130154483696787,0.08519754718717487,0.1342046116276765,0.5765561274048615,0.30693540959543253,0.3574162063559053,0.7759235206014885,0.49929477481661666,0.5402594357270135,0.698934404394834,0.8334668923393209,0.5252270345864283,0.5194575343953582,0.6048837112819297,0.8836171068689832,0.553240999701179,0.9256469316478547,0.3295207009422576,0.4190471202270898,0.18799599060528505,0.46338818414311655,0.22457937006339013,0.6382664937845429,0.1933542384575886,0.38444935151552373,0.9046469745068246,0.8681031143785409,0.4912068538104313,0.5266448565375074,0.5249290835265206,0.07690819711096897,0.656518746600136,0.8097135571383366,0.5357821991079287,0.026853654544496952,0.16125854260284556,0.6745390495625136,0.5204546622326868,0.21995476451759954,0.22342364156449368,0.2688666869395867,0.5948704592399509,0.5016645868016819,0.9552559263935932,0.8118270608633601,0.16041128310207753,0.28577381257769174,0.6570888403467485,0.3825011209845347,0.8938519421070269,0.2593363192729975,0.06858298037508737,0.9303964895424295,0.547557723605146,0.3164920644541537,0.7996312517904312,0.9669527096487954,0.94053313882716,0.339493993873907,0.09530481403696922,0.3048115681463467,0.20311577671079883,0.7775466148680099,0.4117152418936386,0.5836027323767041,0.6147721418974452,0.022122086867731205,0.6266056958730589,0.7073987852722983,0.9270962374471763,0.7977721748139054,0.681551263044182,0.4957708096683573,0.11883353530789442,0.42952207684511856,0.0666034426716462,0.5834841579999985,0.1468636164346161,0.5037838010097844,0.022699934258822663,0.8646738496504259,0.8078414567664584,0.609675870194621,0.530328974454664,0.6399526044250844,0.636295151636699,0.7781505218433402,0.6252827498998176,0.7256137449540061,0.4154786667487467,0.9133140238159781,0.41801214221531346,0.4184760645300668,0.5713917150257705,0.5124641933589684,0.614077423719596,0.8449659537960534,0.006695055703425878,0.38154758860444826,0.2956735574815912,0.4888448390766156,0.36519395325739545,0.7395203771309732,0.4063405711361121,0.27628710961309,0.6368747050434879,0.652076566270218,0.5716120144869924,0.6682547715661409,0.5181380792911292,0.2103926537396833,0.9826631017165978,0.16321578132294234,0.7844997713029342,0.7490390789958503,0.23675642063603075,0.7078442176750619,0.13450961806268835,0.6925265601715023,0.5184734487753363,0.6193905641817121,0.7340755787758864,0.19884474601747104,0.3160038614907652,0.455247837747622,0.5390630363629224,0.6276436911235981,0.4774510094722595,0.2690890861058356,0.9719991463980218,0.6927534171890043,0.552839802344811,0.8840896644856546,0.517097795306543,0.4703281524083174,0.017644039597766836,0.3102662320890084,0.7064591528582618,0.8517106339984784,0.6815537418196822,0.8821374830169809,0.21114900843052176,0.41661842588449627,0.19061222396371624,0.0805241217578484,0.9828370624996623,0.6911666874224005,0.515398509934179,0.27723865592712915,0.4510633460842701,0.5955016533270113,0.005074733767847506,0.21035299731558943,0.1191484875420935,0.5555507560647703,0.8694175117318329,0.050195292171102524,0.39002507059944136,0.6289345392909655,0.5144267569833694,0.8168941987239903,0.14375435307074258,0.967618727170701,0.9061955319195683,0.43551228067282854,0.9751471777908782,0.0008059807791086504,0.8215953165457499,0.14211466429152142,0.36480517435980664,0.5246243625331355,0.8208176085916364,0.6093869937929826,0.39354678384939956,0.06036423585726891,0.5294232678209648,0.29840795055524494,0.6600460253127752,0.2739575108058703,0.13989607223981249,0.9224131221518308,0.07962574315908644,0.8711641488133949,0.7222167380155324,0.3387695549161174,0.9634001139164721,0.6621578919211102,0.06725828844764714,0.8840421262450147,0.5399542585180321,0.28330674727876937,0.09306947048943648,0.01224620452591274,0.9305696020224712,0.016326367481352744,0.0573494716395746,0.7052435788248479,0.195970903636135,0.3728009182736699,0.6935543325649718,0.6705845858497103,0.1665894590764404,0.5568325674896439,0.35154972618136815,0.6960995017376901,0.2212222823769593,0.04215129301002152,0.7914606855827828,0.052982798072641724,0.22935055367293022,0.5725579733104118,0.4017035391569924,0.0005877287358089234,0.3367566283463136,0.7045750302400576,0.4152335348769072,0.2968421135342735,0.7092899023362061,0.44494684851384025,0.3378730444276852,0.9903418948967652,0.21226547818437702,0.8764630120293123,0.0669369612203542,0.18155184989187934,0.27123597070436,0.6758440006801459,0.19669261920211922,0.7174630600676665,0.6565794098721774,0.7421114431502965,0.601139328812816,0.691356208505021,0.8253815382046914,0.7412602453930297,0.026970665963113483,0.6521764717726835,0.35842245291992103,0.11704893045093856,0.30372739103390256,0.7273540723139081,0.8092785153850799,0.9504560628294999,0.3360260376167311,0.7843662050887991,0.786644365625631,0.9226174966239301,0.0308006371168299,0.05143742667145723,0.8074918453457511,0.7420624582033808,0.6859952077856254,0.882009509961081,0.7689035439823041,0.015300381349049541,0.14343936446109418,0.6425130580374606,0.4072717124447106,0.7593892316251623,0.4734817662008516,0.7342987221736662,0.8162629681971382,0.5761298535226226,0.41527794117507055,0.43093770393490416,0.3122896138280138,0.7737098606216412,0.21728513686963014,0.501047467635068,0.5986490370364947,0.1263767418776025,0.7666696005713809,0.10877982260317665],\"y\":[0.4987237437679176,0.6658147208147684,0.05752877163279069,0.32186510865140705,0.42283914563198455,0.34578520147661784,0.8800131213093741,0.3113530457093592,0.37341471911740043,0.33788278703302577,0.34297279608480147,0.8577303825709265,0.26998887805759253,0.865737193040226,0.41777232694189304,0.5829637538983695,0.22889268733342194,0.7688156598929097,0.6374678180287272,0.36378271805608053,0.17764886331551344,0.3913394124538989,0.6279877964897568,0.5305509895894398,0.7761138437790166,0.3878596989009181,0.42765467057787654,0.8469420796229211,0.18916898766764634,0.5727528897719917,0.36019003908109537,0.6356928620888919,0.08833473501819844,0.6148032161854511,0.5388562401671584,0.024788784834903765,0.3154219586102084,0.6821107149896833,0.7951256460591619,0.5438772704871794,0.4965442229760435,0.31799007138705737,0.20498564452464652,0.6436387269493612,0.6458275494604041,0.1766499836310883,0.24349039248225024,0.7721579477306233,0.8702701429326899,0.7607794136829596,0.10168138555101225,0.809722130902853,0.6668935773328376,0.7975000033548126,0.6029511662654625,0.4481919420085002,0.15041206411120334,0.1412997431608526,0.41986457410879274,0.40249615700965113,0.16996654005873335,0.3047886919229522,0.2829023765803159,0.2696359846526768,0.13661812753798408,0.45412748078085075,0.2164074916210429,0.4832181173918396,0.3032523568270965,0.5899468542517555,0.6268860586918208,0.4841982931997588,0.3961824605489008,0.6603272929197943,0.29030061581960476,0.9793509939866542,0.3319054106555449,0.21260267843699043,0.8758723523749644,0.7946277279988556,0.10968248167316952,0.08434913707115821,0.5172363235563014,0.94343521396848,0.16475562267373145,0.11050080603428714,0.9234166146644474,0.17252918117482785,0.5983423819068021,0.8225106740312433,0.38754082617091945,0.057544032540306156,0.38007229790173525,0.6965554206219831,0.3565385766294189,0.7932752978304395,0.4336508991313378,0.42607822273161966,0.25492596127533007,0.27612048675531375,0.32449994942640126,0.34851995463340746,0.8043483265705235,0.04999151474528163,0.8252792951223091,0.968912702557772,0.22332057541808747,0.6298642978291429,0.3867407690557384,0.8540399034603151,0.4832811361881404,0.7769350537566234,0.9109090786543971,0.15872771539704444,0.005273821607682416,0.9769989720931438,0.8228220741738849,0.7744386822846446,0.4383320095013227,0.8292620291347844,0.497392921941337,0.25566444692266244,0.6681736745117787,0.5471255637618923,0.0843557133641002,0.8202413291516126,0.6291205237537498,0.6160576746293853,0.4518841916159997,0.5994905197818442,0.892028097395936,0.3716664227358387,0.5066900241066227,0.5055479070745457,0.007642231364450414,0.7029903646737625,0.9855580345403683,0.6691702694735491,0.24159142725446392,0.831048509657454,0.6224053846882789,0.19838561802315802,0.6395941321529769,0.12385119213574347,0.3198541539800559,0.7990429411901699,0.8858248516190795,0.6172302170750033,0.4175625038938158,0.5099384558023994,0.6791300954448309,0.3038218051901961,0.05090146906134796,0.5211858268198095,0.8604589651730913,0.877813721492742,0.22243376631452771,0.40317858832534814,0.503261991413431,0.168882294899096,0.15528957291007783,0.8028867563921932,0.8312919377440078,0.354302611990734,0.9255710094140814,0.9471500284170634,0.928000523370845,0.023874138940293332,0.6007512872521182,0.773869406236319,0.6784375535004679,0.4115490784160655,0.9360609859051009,0.014834590989509011,0.5447863193728115,0.8357363076077021,0.5023340969275585,0.3066075182195801,0.28186754614877574,0.687313831210407,0.7576707783798156,0.7739287775982538,0.7681428688000826,0.8580902389921495,0.008353505638261427,0.31948604680626114,0.34498750638773945,0.8104975631420072,0.018586546330043086,0.45014887886807187,0.8280328164401028,0.04496480418623949,0.6522192912146033,0.3827336473985864,0.8285266251577701,0.703694331204836,0.31075975019109336,0.5842297319741223,0.8298799217059083,0.1710251138772122,0.7377982528675416,0.3563483699106962,0.834281945967659,0.5709803517166093,0.384232199965319,0.12341582606534907,0.6182316441714919,0.4174570237171443,0.5299020302381121,0.7179445611073124,0.5340232198853778,0.6958950841584016,0.8940321828133581,0.6741640391574151,0.7061575725056287,0.7675014492645809,0.8875362121320486,0.7501262663426395,0.7121140039768544,0.044805997168851364,0.16755841744208333,0.9751108300910035,0.6685321705607997,0.639530108132348,0.654571267908278,0.4047964448027924,0.18600190910789793,0.7894824810716699,0.2075875437648269,0.374247731460003,0.42092083029574745,0.6333423893733302,0.1556344364448775,0.9385944318271043,0.507022894175251,0.6753743993149217,0.9082633452574873,0.49929426030927715,0.02041815952146042,0.6194506861160585,0.5400603455556187,0.2209837621398253,0.04662604505760726,0.4934271984992856,0.5874644095444095,0.7480940935835333,0.1721200532357955,0.9301494192875674,0.1819128203897724,0.3293762918577493,0.17200967776406906,0.6212957446245702,0.08326019061712786,0.8811119288223662,0.36966351991323976,0.3796001606319377,0.10843592822698922,0.12343450503274955,0.7405828119268166,0.09287795331079196,0.010770792187402622,0.49809162516308914,0.8494683292267452,0.20167892954622213,0.9684236560683308,0.3575359146483539,0.5200003513051518,0.035150118706015476,0.7010882418226121,0.7868312391878418,0.829157619743104,0.6758507391513049,0.05774807606368837,0.10500618306395837,0.07923937770619283,0.3583408917721421,0.054285879521562164,0.46969218210201535,0.41663441547810176,0.6865095676143323,0.7754409176340121,0.4135738685666984,0.31144542380886275,0.7414595899876902,0.4251945269101056,0.8679163334002857,0.1448259500022927,0.1274488560123741,0.4286096939590043,0.781328093189892,0.9730020962099813,0.5778568227129273,0.0453747131803337,0.45432218500121335,0.6055814076941688,0.0956296107978114,0.4762131441092211,0.9497968066096828,0.5342216527517069,0.7089853235606532,0.7486662368037746,0.8655512292903524,0.43872641661342593,0.7867981110673027,0.05174401348678337,0.7636681800731706,0.9099323210685801,0.2715706884814565,0.22887269218925466,0.537830733836354,0.604277993596125,0.8048911338686302,0.9946126357727518,0.7639904941458124,0.559817061432746,0.4641748683185549,0.17401525568732612,0.9591906590584042,0.5673488155176425,0.09799368978422707,0.5502828273375101,0.17277489667509338,0.12902081379539432,0.8387808806432593,0.5658518847461034,0.32747135653779014,0.38264636771735094,0.04149076180591782,0.33763627946803987,0.2585092936526877,0.7881639976251166,0.10409830387433816,0.22476621933751895,0.24401116425794367,0.87914472825839,0.3096996164354846,0.5426151898479986,0.5899578063035616,0.03899493724279535,0.17509238705911412,0.20565864744111795,0.598349400984451,0.007261622386074529,0.8354196414692789,0.17329244047718684,0.37208425904428655,0.9635260790462803,0.12236186503494517,0.21137376273926367,0.10149896969315841,0.4612390278446413,0.920517398402371,0.09714733266075881,0.7866024426196854,0.47356599814478517,0.2661972904444765,0.02937571699610686,0.9071770855465765,0.5522956521884622,0.9669339260877153,0.5645646841213142,0.030712871316023294,0.9234538865343968,0.664149007394422,0.4921862685005485,0.600838951210491,0.07628629099981998,0.09101872077497541,0.48994086924940816,0.7057777494677195,0.9888973540343925,0.7776698266547817,0.07531343600287776,0.05128685334476002,0.7336588240688401,0.044359109091470894,0.6249009104725097,0.703389536625133,0.5276746907291645,0.869346155747062,0.43910720307065787,0.44701931907495285,0.6563447802387081,0.010833134768296282,0.8376574181007412,0.9237749997370269,0.25681984303032734,0.14165877353539968,0.946381504054518,0.8339581343349679,0.3965853225310563,0.6126348347111058,0.8294967106451026,0.5848437737947187,0.10800877762486805,0.7173690294144259,0.8992815676463662,0.8724389236812601,0.516086847282117,0.048676968543701626,0.7982162111168144,0.8951260363868744,0.3557492688222673,0.365725747025648,0.6633682918944857,0.7113025729920905,0.7659049696709498,0.7183571662427594,0.7815803879851998,0.8114659127755897,0.8381966376230281,0.285841391801382,0.3568958041871183,0.5932310003077501,0.4106152479286702,0.48383642529522786,0.5319202394934649,0.8616598739728673,0.5555216600367009,0.3708828851922291,0.33332662568376314,0.2516894288243493,0.9755932376832593,0.9564735532375507,0.1741284774783567,0.7658904355561426,0.5756288356705611,0.5841166761407057,0.9128861268613748,0.29222642783984176,0.24070592147037284,0.7162405847478789,0.23767546841608655,0.9293267759105882,0.9543567382454586,0.5823080844384069,0.38790024094256736,0.8152779668519635,0.7242022729572769,0.7224641115980643,0.17690845290241985,0.052909344543070835,0.11406432603318395,0.33825323665909324,0.0010813193267882326,0.27158650087554703,0.7498269065237422,0.8240676697050449,0.041839069227441184,0.07410891357150695,0.5734178472307785,0.8416285064221829,0.845338377359596,0.6369834601847272,0.051220091852159255,0.5621459441989864,0.7803437046850832,0.03630383439866636,0.9953395067400274,0.6622463228673101,0.8974514968221949,0.8987616840671132,0.5635594284635781,0.06421276819313704,0.6847619014236179,0.166868156079646,0.060176516941847114,0.8301422054284537,0.3736898847607458,0.4235161052932481,0.02650706756151855,0.37836834528067975,0.8434428778356974,0.856407742533072,0.8663499678159851,0.9649427066873427,0.08552981591454423,0.7036421517171543,0.6267926440028734,0.5974240275173641,0.7499468241413064,0.6283885303908081,0.8959268720062791,0.6335742127160576,0.28113366400954953,0.3518746339898764,0.4053636746778865,0.4496443299653917,0.4996263108916462,0.7301338703481084,0.9573014118738947,0.1444097164659357,0.280945651290167,0.6451960438454868,0.4690645712174305,0.06148820142818312,0.6629720447175352,0.11116891971999088,0.03435769254242971,0.937737123011339]},\"selected\":{\"id\":\"2148\",\"type\":\"Selection\"},\"selection_policy\":{\"id\":\"2157\",\"type\":\"UnionRenderers\"}},\"id\":\"2056\",\"type\":\"ColumnDataSource\"},{\"attributes\":{\"fill_alpha\":{\"value\":0.6},\"fill_color\":{\"value\":\"forestgreen\"},\"line_alpha\":{\"value\":0.6},\"line_color\":{\"value\":\"forestgreen\"},\"x\":{\"field\":\"x\"},\"y\":{\"field\":\"y\"}},\"id\":\"2115\",\"type\":\"Circle\"},{\"attributes\":{},\"id\":\"2131\",\"type\":\"BasicTicker\"},{\"attributes\":{},\"id\":\"2159\",\"type\":\"UnionRenderers\"},{\"attributes\":{},\"id\":\"2160\",\"type\":\"Selection\"},{\"attributes\":{},\"id\":\"2081\",\"type\":\"ResetTool\"},{\"attributes\":{},\"id\":\"2071\",\"type\":\"BasicTicker\"},{\"attributes\":{\"fill_alpha\":{\"value\":0.1},\"fill_color\":{\"value\":\"#1f77b4\"},\"line_alpha\":{\"value\":0.1},\"line_color\":{\"value\":\"#1f77b4\"},\"x\":{\"field\":\"x\"},\"y\":{\"field\":\"y\"}},\"id\":\"2116\",\"type\":\"Circle\"},{\"attributes\":{},\"id\":\"2174\",\"type\":\"BasicTickFormatter\"},{\"attributes\":{\"callback\":null},\"id\":\"2093\",\"type\":\"Range1d\"},{\"attributes\":{\"source\":{\"id\":\"2057\",\"type\":\"ColumnDataSource\"}},\"id\":\"2118\",\"type\":\"CDSView\"},{\"attributes\":{\"callback\":null,\"data\":{\"x\":[],\"y\":[]},\"selected\":{\"id\":\"2160\",\"type\":\"Selection\"},\"selection_policy\":{\"id\":\"2161\",\"type\":\"UnionRenderers\"}},\"id\":\"2058\",\"type\":\"ColumnDataSource\"},{\"attributes\":{},\"id\":\"2161\",\"type\":\"UnionRenderers\"},{\"attributes\":{\"text\":\"Select Here\"},\"id\":\"2060\",\"type\":\"Title\"},{\"attributes\":{},\"id\":\"2166\",\"type\":\"BasicTickFormatter\"},{\"attributes\":{\"args\":{\"s1\":{\"id\":\"2056\",\"type\":\"ColumnDataSource\"},\"s2\":{\"id\":\"2057\",\"type\":\"ColumnDataSource\"},\"s3\":{\"id\":\"2058\",\"type\":\"ColumnDataSource\"}},\"code\":\"\\n        var inds = cb_obj.indices;\\n        var d1 = s1.data;\\n        \\n        // data for 2nd graph\\n        var d2 = s2.data;     \\n        d2['x'] = []\\n        d2['y'] = []     \\n \\n        for (var i = 0; i < inds.length; i++) {\\n            d2['x'].push(d1['x'][inds[i]])\\n            d2['y'].push(d1['y'][inds[i]])\\n        }\\n        \\n        // data for 3rd graph\\n        var d3 = s3.data;\\n        d3['x'] = []\\n        d3['y'] = []\\n        d3['x'] = d1['x'].filter(x => !d2['x'].includes(x));\\n        d3['y'] = d1['y'].filter(y => !d2['y'].includes(y));\\n        \\n        s2.change.emit();\\n        s3.change.emit();\\n    \"},\"id\":\"2149\",\"type\":\"CustomJS\"},{\"attributes\":{\"toolbar\":{\"id\":\"2180\",\"type\":\"ProxyToolbar\"},\"toolbar_location\":\"above\"},\"id\":\"2181\",\"type\":\"ToolbarBox\"},{\"attributes\":{\"ticker\":{\"id\":\"2131\",\"type\":\"BasicTicker\"}},\"id\":\"2134\",\"type\":\"Grid\"},{\"attributes\":{\"fill_alpha\":{\"value\":0.4},\"fill_color\":{\"value\":\"#1f77b4\"},\"line_alpha\":{\"value\":0.4},\"line_color\":{\"value\":\"#1f77b4\"},\"x\":{\"field\":\"x\"},\"y\":{\"field\":\"y\"}},\"id\":\"2086\",\"type\":\"Circle\"},{\"attributes\":{\"formatter\":{\"id\":\"2164\",\"type\":\"BasicTickFormatter\"},\"ticker\":{\"id\":\"2107\",\"type\":\"BasicTicker\"}},\"id\":\"2106\",\"type\":\"LinearAxis\"},{\"attributes\":{},\"id\":\"2140\",\"type\":\"SaveTool\"},{\"attributes\":{\"formatter\":{\"id\":\"2153\",\"type\":\"BasicTickFormatter\"},\"ticker\":{\"id\":\"2071\",\"type\":\"BasicTicker\"}},\"id\":\"2070\",\"type\":\"LinearAxis\"},{\"attributes\":{},\"id\":\"2076\",\"type\":\"BasicTicker\"},{\"attributes\":{},\"id\":\"2099\",\"type\":\"LinearScale\"},{\"attributes\":{\"active_drag\":\"auto\",\"active_inspect\":\"auto\",\"active_multi\":null,\"active_scroll\":\"auto\",\"active_tap\":\"auto\",\"tools\":[{\"id\":\"2140\",\"type\":\"SaveTool\"}]},\"id\":\"2141\",\"type\":\"Toolbar\"},{\"attributes\":{\"callback\":null},\"id\":\"2122\",\"type\":\"Range1d\"},{\"attributes\":{},\"id\":\"2164\",\"type\":\"BasicTickFormatter\"},{\"attributes\":{},\"id\":\"2128\",\"type\":\"LinearScale\"},{\"attributes\":{\"callback\":null,\"data\":{\"x\":[],\"y\":[]},\"selected\":{\"id\":\"2158\",\"type\":\"Selection\"},\"selection_policy\":{\"id\":\"2159\",\"type\":\"UnionRenderers\"}},\"id\":\"2057\",\"type\":\"ColumnDataSource\"},{\"attributes\":{\"fill_alpha\":{\"value\":0.3},\"fill_color\":{\"value\":\"firebrick\"},\"line_alpha\":{\"value\":0.3},\"line_color\":{\"value\":\"firebrick\"},\"x\":{\"field\":\"x\"},\"y\":{\"field\":\"y\"}},\"id\":\"2144\",\"type\":\"Circle\"},{\"attributes\":{\"js_property_callbacks\":{\"change:indices\":[{\"id\":\"2149\",\"type\":\"CustomJS\"}]}},\"id\":\"2148\",\"type\":\"Selection\"},{\"attributes\":{\"children\":[[{\"id\":\"2059\",\"subtype\":\"Figure\",\"type\":\"Plot\"},0,0],[{\"id\":\"2090\",\"subtype\":\"Figure\",\"type\":\"Plot\"},0,1],[{\"id\":\"2119\",\"subtype\":\"Figure\",\"type\":\"Plot\"},1,1]]},\"id\":\"2179\",\"type\":\"GridBox\"}],\"root_ids\":[\"2182\"]},\"title\":\"Bokeh Application\",\"version\":\"1.3.4\"}};\n",
       "  var render_items = [{\"docid\":\"24eae599-ad09-41f8-8c16-ecf9bd7686b3\",\"roots\":{\"2182\":\"b6df4398-c09c-424d-aa08-43a0d140e340\"}}];\n",
       "  root.Bokeh.embed.embed_items_notebook(docs_json, render_items);\n",
       "\n",
       "  }\n",
       "  if (root.Bokeh !== undefined) {\n",
       "    embed_document(root);\n",
       "  } else {\n",
       "    var attempts = 0;\n",
       "    var timer = setInterval(function(root) {\n",
       "      if (root.Bokeh !== undefined) {\n",
       "        embed_document(root);\n",
       "        clearInterval(timer);\n",
       "      }\n",
       "      attempts++;\n",
       "      if (attempts > 100) {\n",
       "        console.log(\"Bokeh: ERROR: Unable to run BokehJS code because BokehJS library is missing\");\n",
       "        clearInterval(timer);\n",
       "      }\n",
       "    }, 10, root)\n",
       "  }\n",
       "})(window);"
      ],
      "application/vnd.bokehjs_exec.v0+json": ""
     },
     "metadata": {
      "application/vnd.bokehjs_exec.v0+json": {
       "id": "2182"
      }
     },
     "output_type": "display_data"
    }
   ],
   "source": [
    "from random import random\n",
    "\n",
    "from bokeh.layouts import row\n",
    "from bokeh.models import CustomJS, ColumnDataSource\n",
    "from bokeh.plotting import figure, output_file, show\n",
    "\n",
    "# output_file(\"callback.html\")\n",
    "\n",
    "x = [random() for x in range(500)]\n",
    "y = [random() for y in range(500)]\n",
    "\n",
    "s1 = ColumnDataSource(data=dict(x=x, y=y))\n",
    "s2 = ColumnDataSource(data=dict(x=[], y=[]))\n",
    "s3 = ColumnDataSource(data=dict(x=[], y=[]))\n",
    "\n",
    "p1 = figure(plot_width=400, plot_height=400, tools=[\"lasso_select\", \"reset\"], title=\"Select Here\")\n",
    "p1.circle('x', 'y', source=s1, alpha=0.4)\n",
    "\n",
    "p2 = figure(plot_width=400, plot_height=400, x_range=(0, 1), y_range=(0, 1),\n",
    "            tools=\"save\", title=\"Watch First Graph Here\")\n",
    "p2.circle('x', 'y', source=s2, color=\"forestgreen\", alpha=0.6)\n",
    "\n",
    "p3 = figure(plot_width=400, plot_height=400, x_range=(0, 1), y_range=(0, 1),\n",
    "            tools=\"save\", title=\"Watch Second Mirror Graph Here\")\n",
    "p3.circle('x', 'y', source=s3, color=\"firebrick\", alpha=0.3)\n",
    "\n",
    "\n",
    "s1.selected.js_on_change('indices', CustomJS(args=dict(s1=s1, s2=s2, s3=s3), code=\"\"\"\n",
    "        var inds = cb_obj.indices;\n",
    "        var d1 = s1.data;\n",
    "        \n",
    "        // data for 2nd graph\n",
    "        var d2 = s2.data;     \n",
    "        d2['x'] = []\n",
    "        d2['y'] = []     \n",
    " \n",
    "        for (var i = 0; i < inds.length; i++) {\n",
    "            d2['x'].push(d1['x'][inds[i]])\n",
    "            d2['y'].push(d1['y'][inds[i]])\n",
    "        }\n",
    "        \n",
    "        // data for 3rd graph\n",
    "        var d3 = s3.data;\n",
    "        d3['x'] = []\n",
    "        d3['y'] = []\n",
    "        d3['x'] = d1['x'].filter(x => !d2['x'].includes(x));\n",
    "        d3['y'] = d1['y'].filter(y => !d2['y'].includes(y));\n",
    "        \n",
    "        s2.change.emit();\n",
    "        s3.change.emit();\n",
    "    \"\"\")\n",
    ")\n",
    "\n",
    "# layout = column(row(p1, p2), p3)\n",
    "# show(layout)\n",
    "\n",
    "grid = gridplot([[p1, p2], [None, p3]])\n",
    "show(grid)"
   ]
  },
  {
   "cell_type": "markdown",
   "metadata": {},
   "source": [
    "# Server Based Plotting\n",
    "\n",
    "### why use a server?\n",
    "- data >> local machine or notebook<br><br>\n",
    "\n",
    "-- create deployable apps<br><br>\n",
    "\n",
    "- need to sync between python and the end user:<br>\n",
    "-- respond to browser events with computations or queries using python<br>\n",
    "-- automatically push updates the UI browser<br>\n",
    "-- streaming (periodic, timeout, and async callbacks)<br><br>\n",
    "\n",
    "- Bokeh's reactive client-server model can trigger server-side code\n",
    "- server supports automatic downsampling"
   ]
  },
  {
   "cell_type": "markdown",
   "metadata": {
    "slideshow": {
     "slide_type": "slide"
    }
   },
   "source": [
    "# [link to Example 4 - working with Streaming Data](http://localhost:8888/notebooks/notebooks/03_bokeh_with_streaming_data.ipynb)"
   ]
  },
  {
   "cell_type": "markdown",
   "metadata": {
    "slideshow": {
     "slide_type": "slide"
    }
   },
   "source": [
    "# bokeh resources\n",
    "\n",
    "[bokeh cheat sheet](https://datacamp-community-prod.s3.amazonaws.com/f9511cf4-abb9-4f52-9663-ea93b29ee4b7)"
   ]
  }
 ],
 "metadata": {
  "celltoolbar": "Slideshow",
  "kernelspec": {
   "display_name": "Python 3",
   "language": "python",
   "name": "python3"
  },
  "language_info": {
   "codemirror_mode": {
    "name": "ipython",
    "version": 3
   },
   "file_extension": ".py",
   "mimetype": "text/x-python",
   "name": "python",
   "nbconvert_exporter": "python",
   "pygments_lexer": "ipython3",
   "version": "3.7.4"
  }
 },
 "nbformat": 4,
 "nbformat_minor": 2
}
