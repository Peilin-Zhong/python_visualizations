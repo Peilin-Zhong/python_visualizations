{
 "cells": [
  {
   "cell_type": "code",
   "execution_count": 1,
   "metadata": {
    "slideshow": {
     "slide_type": "slide"
    }
   },
   "outputs": [
    {
     "data": {
      "text/html": [
       "<style>.container { width:90% !important; }</style>"
      ],
      "text/plain": [
       "<IPython.core.display.HTML object>"
      ]
     },
     "metadata": {},
     "output_type": "display_data"
    },
    {
     "name": "stderr",
     "output_type": "stream",
     "text": [
      "Enabling notebook extension splitcell/splitcell...\n",
      "      - Validating: ok\n"
     ]
    },
    {
     "data": {
      "text/html": [
       "\n",
       "    <div class=\"bk-root\">\n",
       "        <a href=\"https://bokeh.pydata.org\" target=\"_blank\" class=\"bk-logo bk-logo-small bk-logo-notebook\"></a>\n",
       "        <span id=\"1001\">Loading BokehJS ...</span>\n",
       "    </div>"
      ]
     },
     "metadata": {},
     "output_type": "display_data"
    },
    {
     "data": {
      "application/javascript": [
       "\n",
       "(function(root) {\n",
       "  function now() {\n",
       "    return new Date();\n",
       "  }\n",
       "\n",
       "  var force = true;\n",
       "\n",
       "  if (typeof root._bokeh_onload_callbacks === \"undefined\" || force === true) {\n",
       "    root._bokeh_onload_callbacks = [];\n",
       "    root._bokeh_is_loading = undefined;\n",
       "  }\n",
       "\n",
       "  var JS_MIME_TYPE = 'application/javascript';\n",
       "  var HTML_MIME_TYPE = 'text/html';\n",
       "  var EXEC_MIME_TYPE = 'application/vnd.bokehjs_exec.v0+json';\n",
       "  var CLASS_NAME = 'output_bokeh rendered_html';\n",
       "\n",
       "  /**\n",
       "   * Render data to the DOM node\n",
       "   */\n",
       "  function render(props, node) {\n",
       "    var script = document.createElement(\"script\");\n",
       "    node.appendChild(script);\n",
       "  }\n",
       "\n",
       "  /**\n",
       "   * Handle when an output is cleared or removed\n",
       "   */\n",
       "  function handleClearOutput(event, handle) {\n",
       "    var cell = handle.cell;\n",
       "\n",
       "    var id = cell.output_area._bokeh_element_id;\n",
       "    var server_id = cell.output_area._bokeh_server_id;\n",
       "    // Clean up Bokeh references\n",
       "    if (id != null && id in Bokeh.index) {\n",
       "      Bokeh.index[id].model.document.clear();\n",
       "      delete Bokeh.index[id];\n",
       "    }\n",
       "\n",
       "    if (server_id !== undefined) {\n",
       "      // Clean up Bokeh references\n",
       "      var cmd = \"from bokeh.io.state import curstate; print(curstate().uuid_to_server['\" + server_id + \"'].get_sessions()[0].document.roots[0]._id)\";\n",
       "      cell.notebook.kernel.execute(cmd, {\n",
       "        iopub: {\n",
       "          output: function(msg) {\n",
       "            var id = msg.content.text.trim();\n",
       "            if (id in Bokeh.index) {\n",
       "              Bokeh.index[id].model.document.clear();\n",
       "              delete Bokeh.index[id];\n",
       "            }\n",
       "          }\n",
       "        }\n",
       "      });\n",
       "      // Destroy server and session\n",
       "      var cmd = \"import bokeh.io.notebook as ion; ion.destroy_server('\" + server_id + \"')\";\n",
       "      cell.notebook.kernel.execute(cmd);\n",
       "    }\n",
       "  }\n",
       "\n",
       "  /**\n",
       "   * Handle when a new output is added\n",
       "   */\n",
       "  function handleAddOutput(event, handle) {\n",
       "    var output_area = handle.output_area;\n",
       "    var output = handle.output;\n",
       "\n",
       "    // limit handleAddOutput to display_data with EXEC_MIME_TYPE content only\n",
       "    if ((output.output_type != \"display_data\") || (!output.data.hasOwnProperty(EXEC_MIME_TYPE))) {\n",
       "      return\n",
       "    }\n",
       "\n",
       "    var toinsert = output_area.element.find(\".\" + CLASS_NAME.split(' ')[0]);\n",
       "\n",
       "    if (output.metadata[EXEC_MIME_TYPE][\"id\"] !== undefined) {\n",
       "      toinsert[toinsert.length - 1].firstChild.textContent = output.data[JS_MIME_TYPE];\n",
       "      // store reference to embed id on output_area\n",
       "      output_area._bokeh_element_id = output.metadata[EXEC_MIME_TYPE][\"id\"];\n",
       "    }\n",
       "    if (output.metadata[EXEC_MIME_TYPE][\"server_id\"] !== undefined) {\n",
       "      var bk_div = document.createElement(\"div\");\n",
       "      bk_div.innerHTML = output.data[HTML_MIME_TYPE];\n",
       "      var script_attrs = bk_div.children[0].attributes;\n",
       "      for (var i = 0; i < script_attrs.length; i++) {\n",
       "        toinsert[toinsert.length - 1].firstChild.setAttribute(script_attrs[i].name, script_attrs[i].value);\n",
       "      }\n",
       "      // store reference to server id on output_area\n",
       "      output_area._bokeh_server_id = output.metadata[EXEC_MIME_TYPE][\"server_id\"];\n",
       "    }\n",
       "  }\n",
       "\n",
       "  function register_renderer(events, OutputArea) {\n",
       "\n",
       "    function append_mime(data, metadata, element) {\n",
       "      // create a DOM node to render to\n",
       "      var toinsert = this.create_output_subarea(\n",
       "        metadata,\n",
       "        CLASS_NAME,\n",
       "        EXEC_MIME_TYPE\n",
       "      );\n",
       "      this.keyboard_manager.register_events(toinsert);\n",
       "      // Render to node\n",
       "      var props = {data: data, metadata: metadata[EXEC_MIME_TYPE]};\n",
       "      render(props, toinsert[toinsert.length - 1]);\n",
       "      element.append(toinsert);\n",
       "      return toinsert\n",
       "    }\n",
       "\n",
       "    /* Handle when an output is cleared or removed */\n",
       "    events.on('clear_output.CodeCell', handleClearOutput);\n",
       "    events.on('delete.Cell', handleClearOutput);\n",
       "\n",
       "    /* Handle when a new output is added */\n",
       "    events.on('output_added.OutputArea', handleAddOutput);\n",
       "\n",
       "    /**\n",
       "     * Register the mime type and append_mime function with output_area\n",
       "     */\n",
       "    OutputArea.prototype.register_mime_type(EXEC_MIME_TYPE, append_mime, {\n",
       "      /* Is output safe? */\n",
       "      safe: true,\n",
       "      /* Index of renderer in `output_area.display_order` */\n",
       "      index: 0\n",
       "    });\n",
       "  }\n",
       "\n",
       "  // register the mime type if in Jupyter Notebook environment and previously unregistered\n",
       "  if (root.Jupyter !== undefined) {\n",
       "    var events = require('base/js/events');\n",
       "    var OutputArea = require('notebook/js/outputarea').OutputArea;\n",
       "\n",
       "    if (OutputArea.prototype.mime_types().indexOf(EXEC_MIME_TYPE) == -1) {\n",
       "      register_renderer(events, OutputArea);\n",
       "    }\n",
       "  }\n",
       "\n",
       "  \n",
       "  if (typeof (root._bokeh_timeout) === \"undefined\" || force === true) {\n",
       "    root._bokeh_timeout = Date.now() + 5000;\n",
       "    root._bokeh_failed_load = false;\n",
       "  }\n",
       "\n",
       "  var NB_LOAD_WARNING = {'data': {'text/html':\n",
       "     \"<div style='background-color: #fdd'>\\n\"+\n",
       "     \"<p>\\n\"+\n",
       "     \"BokehJS does not appear to have successfully loaded. If loading BokehJS from CDN, this \\n\"+\n",
       "     \"may be due to a slow or bad network connection. Possible fixes:\\n\"+\n",
       "     \"</p>\\n\"+\n",
       "     \"<ul>\\n\"+\n",
       "     \"<li>re-rerun `output_notebook()` to attempt to load from CDN again, or</li>\\n\"+\n",
       "     \"<li>use INLINE resources instead, as so:</li>\\n\"+\n",
       "     \"</ul>\\n\"+\n",
       "     \"<code>\\n\"+\n",
       "     \"from bokeh.resources import INLINE\\n\"+\n",
       "     \"output_notebook(resources=INLINE)\\n\"+\n",
       "     \"</code>\\n\"+\n",
       "     \"</div>\"}};\n",
       "\n",
       "  function display_loaded() {\n",
       "    var el = document.getElementById(\"1001\");\n",
       "    if (el != null) {\n",
       "      el.textContent = \"BokehJS is loading...\";\n",
       "    }\n",
       "    if (root.Bokeh !== undefined) {\n",
       "      if (el != null) {\n",
       "        el.textContent = \"BokehJS \" + root.Bokeh.version + \" successfully loaded.\";\n",
       "      }\n",
       "    } else if (Date.now() < root._bokeh_timeout) {\n",
       "      setTimeout(display_loaded, 100)\n",
       "    }\n",
       "  }\n",
       "\n",
       "\n",
       "  function run_callbacks() {\n",
       "    try {\n",
       "      root._bokeh_onload_callbacks.forEach(function(callback) {\n",
       "        if (callback != null)\n",
       "          callback();\n",
       "      });\n",
       "    } finally {\n",
       "      delete root._bokeh_onload_callbacks\n",
       "    }\n",
       "    console.debug(\"Bokeh: all callbacks have finished\");\n",
       "  }\n",
       "\n",
       "  function load_libs(css_urls, js_urls, callback) {\n",
       "    if (css_urls == null) css_urls = [];\n",
       "    if (js_urls == null) js_urls = [];\n",
       "\n",
       "    root._bokeh_onload_callbacks.push(callback);\n",
       "    if (root._bokeh_is_loading > 0) {\n",
       "      console.debug(\"Bokeh: BokehJS is being loaded, scheduling callback at\", now());\n",
       "      return null;\n",
       "    }\n",
       "    if (js_urls == null || js_urls.length === 0) {\n",
       "      run_callbacks();\n",
       "      return null;\n",
       "    }\n",
       "    console.debug(\"Bokeh: BokehJS not loaded, scheduling load and callback at\", now());\n",
       "    root._bokeh_is_loading = css_urls.length + js_urls.length;\n",
       "\n",
       "    function on_load() {\n",
       "      root._bokeh_is_loading--;\n",
       "      if (root._bokeh_is_loading === 0) {\n",
       "        console.debug(\"Bokeh: all BokehJS libraries/stylesheets loaded\");\n",
       "        run_callbacks()\n",
       "      }\n",
       "    }\n",
       "\n",
       "    function on_error() {\n",
       "      console.error(\"failed to load \" + url);\n",
       "    }\n",
       "\n",
       "    for (var i = 0; i < css_urls.length; i++) {\n",
       "      var url = css_urls[i];\n",
       "      const element = document.createElement(\"link\");\n",
       "      element.onload = on_load;\n",
       "      element.onerror = on_error;\n",
       "      element.rel = \"stylesheet\";\n",
       "      element.type = \"text/css\";\n",
       "      element.href = url;\n",
       "      console.debug(\"Bokeh: injecting link tag for BokehJS stylesheet: \", url);\n",
       "      document.body.appendChild(element);\n",
       "    }\n",
       "\n",
       "    for (var i = 0; i < js_urls.length; i++) {\n",
       "      var url = js_urls[i];\n",
       "      var element = document.createElement('script');\n",
       "      element.onload = on_load;\n",
       "      element.onerror = on_error;\n",
       "      element.async = false;\n",
       "      element.src = url;\n",
       "      console.debug(\"Bokeh: injecting script tag for BokehJS library: \", url);\n",
       "      document.head.appendChild(element);\n",
       "    }\n",
       "  };var element = document.getElementById(\"1001\");\n",
       "  if (element == null) {\n",
       "    console.error(\"Bokeh: ERROR: autoload.js configured with elementid '1001' but no matching script tag was found. \")\n",
       "    return false;\n",
       "  }\n",
       "\n",
       "  function inject_raw_css(css) {\n",
       "    const element = document.createElement(\"style\");\n",
       "    element.appendChild(document.createTextNode(css));\n",
       "    document.body.appendChild(element);\n",
       "  }\n",
       "\n",
       "  var js_urls = [\"https://cdn.pydata.org/bokeh/release/bokeh-1.3.4.min.js\", \"https://cdn.pydata.org/bokeh/release/bokeh-widgets-1.3.4.min.js\", \"https://cdn.pydata.org/bokeh/release/bokeh-tables-1.3.4.min.js\", \"https://cdn.pydata.org/bokeh/release/bokeh-gl-1.3.4.min.js\"];\n",
       "  var css_urls = [];\n",
       "\n",
       "  var inline_js = [\n",
       "    function(Bokeh) {\n",
       "      Bokeh.set_log_level(\"info\");\n",
       "    },\n",
       "    \n",
       "    function(Bokeh) {\n",
       "      \n",
       "    },\n",
       "    function(Bokeh) {} // ensure no trailing comma for IE\n",
       "  ];\n",
       "\n",
       "  function run_inline_js() {\n",
       "    \n",
       "    if ((root.Bokeh !== undefined) || (force === true)) {\n",
       "      for (var i = 0; i < inline_js.length; i++) {\n",
       "        inline_js[i].call(root, root.Bokeh);\n",
       "      }if (force === true) {\n",
       "        display_loaded();\n",
       "      }} else if (Date.now() < root._bokeh_timeout) {\n",
       "      setTimeout(run_inline_js, 100);\n",
       "    } else if (!root._bokeh_failed_load) {\n",
       "      console.log(\"Bokeh: BokehJS failed to load within specified timeout.\");\n",
       "      root._bokeh_failed_load = true;\n",
       "    } else if (force !== true) {\n",
       "      var cell = $(document.getElementById(\"1001\")).parents('.cell').data().cell;\n",
       "      cell.output_area.append_execute_result(NB_LOAD_WARNING)\n",
       "    }\n",
       "\n",
       "  }\n",
       "\n",
       "  if (root._bokeh_is_loading === 0) {\n",
       "    console.debug(\"Bokeh: BokehJS loaded, going straight to plotting\");\n",
       "    run_inline_js();\n",
       "  } else {\n",
       "    load_libs(css_urls, js_urls, function() {\n",
       "      console.debug(\"Bokeh: BokehJS plotting callback run at\", now());\n",
       "      run_inline_js();\n",
       "    });\n",
       "  }\n",
       "}(window));"
      ],
      "application/vnd.bokehjs_load.v0+json": "\n(function(root) {\n  function now() {\n    return new Date();\n  }\n\n  var force = true;\n\n  if (typeof root._bokeh_onload_callbacks === \"undefined\" || force === true) {\n    root._bokeh_onload_callbacks = [];\n    root._bokeh_is_loading = undefined;\n  }\n\n  \n\n  \n  if (typeof (root._bokeh_timeout) === \"undefined\" || force === true) {\n    root._bokeh_timeout = Date.now() + 5000;\n    root._bokeh_failed_load = false;\n  }\n\n  var NB_LOAD_WARNING = {'data': {'text/html':\n     \"<div style='background-color: #fdd'>\\n\"+\n     \"<p>\\n\"+\n     \"BokehJS does not appear to have successfully loaded. If loading BokehJS from CDN, this \\n\"+\n     \"may be due to a slow or bad network connection. Possible fixes:\\n\"+\n     \"</p>\\n\"+\n     \"<ul>\\n\"+\n     \"<li>re-rerun `output_notebook()` to attempt to load from CDN again, or</li>\\n\"+\n     \"<li>use INLINE resources instead, as so:</li>\\n\"+\n     \"</ul>\\n\"+\n     \"<code>\\n\"+\n     \"from bokeh.resources import INLINE\\n\"+\n     \"output_notebook(resources=INLINE)\\n\"+\n     \"</code>\\n\"+\n     \"</div>\"}};\n\n  function display_loaded() {\n    var el = document.getElementById(\"1001\");\n    if (el != null) {\n      el.textContent = \"BokehJS is loading...\";\n    }\n    if (root.Bokeh !== undefined) {\n      if (el != null) {\n        el.textContent = \"BokehJS \" + root.Bokeh.version + \" successfully loaded.\";\n      }\n    } else if (Date.now() < root._bokeh_timeout) {\n      setTimeout(display_loaded, 100)\n    }\n  }\n\n\n  function run_callbacks() {\n    try {\n      root._bokeh_onload_callbacks.forEach(function(callback) {\n        if (callback != null)\n          callback();\n      });\n    } finally {\n      delete root._bokeh_onload_callbacks\n    }\n    console.debug(\"Bokeh: all callbacks have finished\");\n  }\n\n  function load_libs(css_urls, js_urls, callback) {\n    if (css_urls == null) css_urls = [];\n    if (js_urls == null) js_urls = [];\n\n    root._bokeh_onload_callbacks.push(callback);\n    if (root._bokeh_is_loading > 0) {\n      console.debug(\"Bokeh: BokehJS is being loaded, scheduling callback at\", now());\n      return null;\n    }\n    if (js_urls == null || js_urls.length === 0) {\n      run_callbacks();\n      return null;\n    }\n    console.debug(\"Bokeh: BokehJS not loaded, scheduling load and callback at\", now());\n    root._bokeh_is_loading = css_urls.length + js_urls.length;\n\n    function on_load() {\n      root._bokeh_is_loading--;\n      if (root._bokeh_is_loading === 0) {\n        console.debug(\"Bokeh: all BokehJS libraries/stylesheets loaded\");\n        run_callbacks()\n      }\n    }\n\n    function on_error() {\n      console.error(\"failed to load \" + url);\n    }\n\n    for (var i = 0; i < css_urls.length; i++) {\n      var url = css_urls[i];\n      const element = document.createElement(\"link\");\n      element.onload = on_load;\n      element.onerror = on_error;\n      element.rel = \"stylesheet\";\n      element.type = \"text/css\";\n      element.href = url;\n      console.debug(\"Bokeh: injecting link tag for BokehJS stylesheet: \", url);\n      document.body.appendChild(element);\n    }\n\n    for (var i = 0; i < js_urls.length; i++) {\n      var url = js_urls[i];\n      var element = document.createElement('script');\n      element.onload = on_load;\n      element.onerror = on_error;\n      element.async = false;\n      element.src = url;\n      console.debug(\"Bokeh: injecting script tag for BokehJS library: \", url);\n      document.head.appendChild(element);\n    }\n  };var element = document.getElementById(\"1001\");\n  if (element == null) {\n    console.error(\"Bokeh: ERROR: autoload.js configured with elementid '1001' but no matching script tag was found. \")\n    return false;\n  }\n\n  function inject_raw_css(css) {\n    const element = document.createElement(\"style\");\n    element.appendChild(document.createTextNode(css));\n    document.body.appendChild(element);\n  }\n\n  var js_urls = [\"https://cdn.pydata.org/bokeh/release/bokeh-1.3.4.min.js\", \"https://cdn.pydata.org/bokeh/release/bokeh-widgets-1.3.4.min.js\", \"https://cdn.pydata.org/bokeh/release/bokeh-tables-1.3.4.min.js\", \"https://cdn.pydata.org/bokeh/release/bokeh-gl-1.3.4.min.js\"];\n  var css_urls = [];\n\n  var inline_js = [\n    function(Bokeh) {\n      Bokeh.set_log_level(\"info\");\n    },\n    \n    function(Bokeh) {\n      \n    },\n    function(Bokeh) {} // ensure no trailing comma for IE\n  ];\n\n  function run_inline_js() {\n    \n    if ((root.Bokeh !== undefined) || (force === true)) {\n      for (var i = 0; i < inline_js.length; i++) {\n        inline_js[i].call(root, root.Bokeh);\n      }if (force === true) {\n        display_loaded();\n      }} else if (Date.now() < root._bokeh_timeout) {\n      setTimeout(run_inline_js, 100);\n    } else if (!root._bokeh_failed_load) {\n      console.log(\"Bokeh: BokehJS failed to load within specified timeout.\");\n      root._bokeh_failed_load = true;\n    } else if (force !== true) {\n      var cell = $(document.getElementById(\"1001\")).parents('.cell').data().cell;\n      cell.output_area.append_execute_result(NB_LOAD_WARNING)\n    }\n\n  }\n\n  if (root._bokeh_is_loading === 0) {\n    console.debug(\"Bokeh: BokehJS loaded, going straight to plotting\");\n    run_inline_js();\n  } else {\n    load_libs(css_urls, js_urls, function() {\n      console.debug(\"Bokeh: BokehJS plotting callback run at\", now());\n      run_inline_js();\n    });\n  }\n}(window));"
     },
     "metadata": {},
     "output_type": "display_data"
    }
   ],
   "source": [
    "# setup notebook\n",
    "# notebook formatting\n",
    "from IPython.core.display import display, HTML\n",
    "display(HTML(\"<style>.container { width:90% !important; }</style>\"))\n",
    "\n",
    "# enable split cells in notebook\n",
    "# if not installed:  pip install jupyter_contrib_nbextensions; then repeat this cmd\n",
    "!jupyter nbextension enable splitcell/splitcell\n",
    "\n",
    "# pretty print all cell's output and not just the last one\n",
    "from IPython.core.interactiveshell import InteractiveShell\n",
    "InteractiveShell.ast_node_interactivity = \"all\"\n",
    "\n",
    "# imports\n",
    "import os\n",
    "import numpy as np\n",
    "import random\n",
    "\n",
    "import bokeh\n",
    "from bokeh.layouts import gridplot\n",
    "from bokeh.plotting import output_notebook\n",
    "output_notebook() # set default; alternative is output_file()"
   ]
  },
  {
   "cell_type": "markdown",
   "metadata": {
    "slideshow": {
     "slide_type": "slide"
    }
   },
   "source": [
    "# Meaning of Bokeh\n",
    "- Japanese word **“bokeh”** used in photography to describe *blurring of the out-of-focus parts of an image.*<br><br>\n",
    "<img src=\"https://p2.piqsels.com/preview/926/415/630/wheat-ear-dry-harvest.jpg\" height=200 style=\"float:center\"> <br><br>\n",
    "<strong>[James Drury example - Flickr](https://www.flickr.com/photos/james_drury/15923166238/)</strong><br><br>\n",
    "- How do you pronounce this crazy word?\n",
    "  - bouquet\n",
    "  - bok-ah\n",
    "  - **both are fine**"
   ]
  },
  {
   "cell_type": "markdown",
   "metadata": {
    "ExecuteTime": {
     "end_time": "2019-10-11T21:42:23.073871Z",
     "start_time": "2019-10-11T21:42:23.069870Z"
    },
    "slideshow": {
     "slide_type": "slide"
    }
   },
   "source": [
    "# Bokeh\n",
    "- [bokeh homepage](https://bokeh.pydata.org/en/latest/index.html)<br>\n",
    "- python library \n",
    "- focused on interactive visualization\n",
    "- targets browsers for presentation <br>\n",
    "- goals: elegant, concise, designed for large/streaming data\n"
   ]
  },
  {
   "cell_type": "markdown",
   "metadata": {
    "ExecuteTime": {
     "end_time": "2019-10-11T21:42:23.077873Z",
     "start_time": "2019-10-11T21:42:22.428Z"
    },
    "slideshow": {
     "slide_type": "slide"
    }
   },
   "source": [
    "# Two modes\n",
    "- client based\n",
    "- server\n",
    "\n",
    "- Bokeh uses Python to create high level objects (plots, subplots, lines, etc).\n",
    "- ...and then renders everything in Javascript\n",
    "- ...for the browser to display\n",
    "\n",
    "<strong>workflow:</strong><br>\n",
    "data --> python --> Bokeh --> Bokeh ColumnDataSource--> BokehJS --> Javascript -->Browser --> your eyes\n"
   ]
  },
  {
   "cell_type": "markdown",
   "metadata": {
    "slideshow": {
     "slide_type": "slide"
    }
   },
   "source": [
    "# Bokeh Code"
   ]
  },
  {
   "cell_type": "markdown",
   "metadata": {
    "ExecuteTime": {
     "end_time": "2019-10-11T21:42:23.080869Z",
     "start_time": "2019-10-11T21:42:22.431Z"
    },
    "slideshow": {
     "slide_type": "subslide"
    }
   },
   "source": [
    "# five ways to interact using Bokeh\n",
    "- Configuring the toolbar\n",
    "- Selecting data points\n",
    "- Adding hover actions\n",
    "- Linking subplots and selections\n",
    "- Highlighting data using the legend<br>\n",
    "\n",
    "## also can interact with ipywidgets"
   ]
  },
  {
   "cell_type": "markdown",
   "metadata": {
    "slideshow": {
     "slide_type": "subslide"
    }
   },
   "source": [
    "# Example 1 - basic charts and interactions"
   ]
  },
  {
   "cell_type": "code",
   "execution_count": 2,
   "metadata": {
    "ExecuteTime": {
     "end_time": "2019-10-11T21:44:18.541868Z",
     "start_time": "2019-10-11T21:44:18.503873Z"
    },
    "slideshow": {
     "slide_type": "subslide"
    }
   },
   "outputs": [
    {
     "data": {
      "text/html": [
       "<div style=\"display: table;\"><div style=\"display: table-row;\"><div style=\"display: table-cell;\"><b title=\"bokeh.models.renderers.GlyphRenderer\">GlyphRenderer</b>(</div><div style=\"display: table-cell;\">id&nbsp;=&nbsp;'1039', <span id=\"1042\" style=\"cursor: pointer;\">&hellip;)</span></div></div><div class=\"1041\" style=\"display: none;\"><div style=\"display: table-cell;\"></div><div style=\"display: table-cell;\">data_source&nbsp;=&nbsp;ColumnDataSource(id='1036', ...),</div></div><div class=\"1041\" style=\"display: none;\"><div style=\"display: table-cell;\"></div><div style=\"display: table-cell;\">glyph&nbsp;=&nbsp;Line(id='1037', ...),</div></div><div class=\"1041\" style=\"display: none;\"><div style=\"display: table-cell;\"></div><div style=\"display: table-cell;\">hover_glyph&nbsp;=&nbsp;None,</div></div><div class=\"1041\" style=\"display: none;\"><div style=\"display: table-cell;\"></div><div style=\"display: table-cell;\">js_event_callbacks&nbsp;=&nbsp;{},</div></div><div class=\"1041\" style=\"display: none;\"><div style=\"display: table-cell;\"></div><div style=\"display: table-cell;\">js_property_callbacks&nbsp;=&nbsp;{},</div></div><div class=\"1041\" style=\"display: none;\"><div style=\"display: table-cell;\"></div><div style=\"display: table-cell;\">level&nbsp;=&nbsp;'glyph',</div></div><div class=\"1041\" style=\"display: none;\"><div style=\"display: table-cell;\"></div><div style=\"display: table-cell;\">muted&nbsp;=&nbsp;False,</div></div><div class=\"1041\" style=\"display: none;\"><div style=\"display: table-cell;\"></div><div style=\"display: table-cell;\">muted_glyph&nbsp;=&nbsp;None,</div></div><div class=\"1041\" style=\"display: none;\"><div style=\"display: table-cell;\"></div><div style=\"display: table-cell;\">name&nbsp;=&nbsp;None,</div></div><div class=\"1041\" style=\"display: none;\"><div style=\"display: table-cell;\"></div><div style=\"display: table-cell;\">nonselection_glyph&nbsp;=&nbsp;Line(id='1038', ...),</div></div><div class=\"1041\" style=\"display: none;\"><div style=\"display: table-cell;\"></div><div style=\"display: table-cell;\">selection_glyph&nbsp;=&nbsp;None,</div></div><div class=\"1041\" style=\"display: none;\"><div style=\"display: table-cell;\"></div><div style=\"display: table-cell;\">subscribed_events&nbsp;=&nbsp;[],</div></div><div class=\"1041\" style=\"display: none;\"><div style=\"display: table-cell;\"></div><div style=\"display: table-cell;\">tags&nbsp;=&nbsp;[],</div></div><div class=\"1041\" style=\"display: none;\"><div style=\"display: table-cell;\"></div><div style=\"display: table-cell;\">view&nbsp;=&nbsp;CDSView(id='1040', ...),</div></div><div class=\"1041\" style=\"display: none;\"><div style=\"display: table-cell;\"></div><div style=\"display: table-cell;\">visible&nbsp;=&nbsp;True,</div></div><div class=\"1041\" style=\"display: none;\"><div style=\"display: table-cell;\"></div><div style=\"display: table-cell;\">x_range_name&nbsp;=&nbsp;'default',</div></div><div class=\"1041\" style=\"display: none;\"><div style=\"display: table-cell;\"></div><div style=\"display: table-cell;\">y_range_name&nbsp;=&nbsp;'default')</div></div></div>\n",
       "<script>\n",
       "(function() {\n",
       "  var expanded = false;\n",
       "  var ellipsis = document.getElementById(\"1042\");\n",
       "  ellipsis.addEventListener(\"click\", function() {\n",
       "    var rows = document.getElementsByClassName(\"1041\");\n",
       "    for (var i = 0; i < rows.length; i++) {\n",
       "      var el = rows[i];\n",
       "      el.style.display = expanded ? \"none\" : \"table-row\";\n",
       "    }\n",
       "    ellipsis.innerHTML = expanded ? \"&hellip;)\" : \"&lsaquo;&lsaquo;&lsaquo;\";\n",
       "    expanded = !expanded;\n",
       "  });\n",
       "})();\n",
       "</script>\n"
      ],
      "text/plain": [
       "GlyphRenderer(id='1039', ...)"
      ]
     },
     "execution_count": 2,
     "metadata": {},
     "output_type": "execute_result"
    },
    {
     "data": {
      "text/html": [
       "\n",
       "\n",
       "\n",
       "\n",
       "\n",
       "\n",
       "  <div class=\"bk-root\" id=\"56d92c86-e92c-4aaf-b64d-6e6034985fe9\" data-root-id=\"1002\"></div>\n"
      ]
     },
     "metadata": {},
     "output_type": "display_data"
    },
    {
     "data": {
      "application/javascript": [
       "(function(root) {\n",
       "  function embed_document(root) {\n",
       "    \n",
       "  var docs_json = {\"f1027f32-e090-46e4-983f-164bbdbbc5b2\":{\"roots\":{\"references\":[{\"attributes\":{\"below\":[{\"id\":\"1013\",\"type\":\"LinearAxis\"}],\"center\":[{\"id\":\"1017\",\"type\":\"Grid\"},{\"id\":\"1022\",\"type\":\"Grid\"}],\"left\":[{\"id\":\"1018\",\"type\":\"LinearAxis\"}],\"renderers\":[{\"id\":\"1039\",\"type\":\"GlyphRenderer\"}],\"title\":{\"id\":\"1003\",\"type\":\"Title\"},\"toolbar\":{\"id\":\"1029\",\"type\":\"Toolbar\"},\"x_range\":{\"id\":\"1005\",\"type\":\"DataRange1d\"},\"x_scale\":{\"id\":\"1009\",\"type\":\"LinearScale\"},\"y_range\":{\"id\":\"1007\",\"type\":\"DataRange1d\"},\"y_scale\":{\"id\":\"1011\",\"type\":\"LinearScale\"}},\"id\":\"1002\",\"subtype\":\"Figure\",\"type\":\"Plot\"},{\"attributes\":{\"active_drag\":\"auto\",\"active_inspect\":\"auto\",\"active_multi\":null,\"active_scroll\":\"auto\",\"active_tap\":\"auto\",\"tools\":[{\"id\":\"1023\",\"type\":\"PanTool\"},{\"id\":\"1024\",\"type\":\"WheelZoomTool\"},{\"id\":\"1025\",\"type\":\"BoxZoomTool\"},{\"id\":\"1026\",\"type\":\"SaveTool\"},{\"id\":\"1027\",\"type\":\"ResetTool\"},{\"id\":\"1028\",\"type\":\"HelpTool\"}]},\"id\":\"1029\",\"type\":\"Toolbar\"},{\"attributes\":{},\"id\":\"1019\",\"type\":\"BasicTicker\"},{\"attributes\":{},\"id\":\"1049\",\"type\":\"Selection\"},{\"attributes\":{\"dimension\":1,\"ticker\":{\"id\":\"1019\",\"type\":\"BasicTicker\"}},\"id\":\"1022\",\"type\":\"Grid\"},{\"attributes\":{\"callback\":null,\"data\":{\"x\":[0,1,2,3,4,5,6,7,8,9,10],\"y\":[9,8,7,5,4,6,8,3,2,0,1]},\"selected\":{\"id\":\"1049\",\"type\":\"Selection\"},\"selection_policy\":{\"id\":\"1050\",\"type\":\"UnionRenderers\"}},\"id\":\"1036\",\"type\":\"ColumnDataSource\"},{\"attributes\":{\"callback\":null},\"id\":\"1007\",\"type\":\"DataRange1d\"},{\"attributes\":{\"line_alpha\":0.1,\"line_color\":\"#1f77b4\",\"line_width\":2,\"x\":{\"field\":\"x\"},\"y\":{\"field\":\"y\"}},\"id\":\"1038\",\"type\":\"Line\"},{\"attributes\":{\"data_source\":{\"id\":\"1036\",\"type\":\"ColumnDataSource\"},\"glyph\":{\"id\":\"1037\",\"type\":\"Line\"},\"hover_glyph\":null,\"muted_glyph\":null,\"nonselection_glyph\":{\"id\":\"1038\",\"type\":\"Line\"},\"selection_glyph\":null,\"view\":{\"id\":\"1040\",\"type\":\"CDSView\"}},\"id\":\"1039\",\"type\":\"GlyphRenderer\"},{\"attributes\":{},\"id\":\"1045\",\"type\":\"BasicTickFormatter\"},{\"attributes\":{},\"id\":\"1011\",\"type\":\"LinearScale\"},{\"attributes\":{\"callback\":null},\"id\":\"1005\",\"type\":\"DataRange1d\"},{\"attributes\":{},\"id\":\"1023\",\"type\":\"PanTool\"},{\"attributes\":{},\"id\":\"1050\",\"type\":\"UnionRenderers\"},{\"attributes\":{},\"id\":\"1047\",\"type\":\"BasicTickFormatter\"},{\"attributes\":{\"source\":{\"id\":\"1036\",\"type\":\"ColumnDataSource\"}},\"id\":\"1040\",\"type\":\"CDSView\"},{\"attributes\":{},\"id\":\"1009\",\"type\":\"LinearScale\"},{\"attributes\":{},\"id\":\"1024\",\"type\":\"WheelZoomTool\"},{\"attributes\":{\"overlay\":{\"id\":\"1048\",\"type\":\"BoxAnnotation\"}},\"id\":\"1025\",\"type\":\"BoxZoomTool\"},{\"attributes\":{\"text\":\"simple line chart\"},\"id\":\"1003\",\"type\":\"Title\"},{\"attributes\":{\"axis_label\":\"x axis!\",\"axis_label_text_font_size\":{\"value\":\"18pt\"},\"formatter\":{\"id\":\"1045\",\"type\":\"BasicTickFormatter\"},\"ticker\":{\"id\":\"1014\",\"type\":\"BasicTicker\"}},\"id\":\"1013\",\"type\":\"LinearAxis\"},{\"attributes\":{},\"id\":\"1026\",\"type\":\"SaveTool\"},{\"attributes\":{},\"id\":\"1027\",\"type\":\"ResetTool\"},{\"attributes\":{\"line_color\":\"#1f77b4\",\"line_width\":2,\"x\":{\"field\":\"x\"},\"y\":{\"field\":\"y\"}},\"id\":\"1037\",\"type\":\"Line\"},{\"attributes\":{\"ticker\":{\"id\":\"1014\",\"type\":\"BasicTicker\"}},\"id\":\"1017\",\"type\":\"Grid\"},{\"attributes\":{\"bottom_units\":\"screen\",\"fill_alpha\":{\"value\":0.5},\"fill_color\":{\"value\":\"lightgrey\"},\"left_units\":\"screen\",\"level\":\"overlay\",\"line_alpha\":{\"value\":1.0},\"line_color\":{\"value\":\"black\"},\"line_dash\":[4,4],\"line_width\":{\"value\":2},\"render_mode\":\"css\",\"right_units\":\"screen\",\"top_units\":\"screen\"},\"id\":\"1048\",\"type\":\"BoxAnnotation\"},{\"attributes\":{},\"id\":\"1028\",\"type\":\"HelpTool\"},{\"attributes\":{},\"id\":\"1014\",\"type\":\"BasicTicker\"},{\"attributes\":{\"axis_label\":\"y_axis\",\"axis_label_text_font_size\":{\"value\":\"18pt\"},\"formatter\":{\"id\":\"1047\",\"type\":\"BasicTickFormatter\"},\"ticker\":{\"id\":\"1019\",\"type\":\"BasicTicker\"}},\"id\":\"1018\",\"type\":\"LinearAxis\"}],\"root_ids\":[\"1002\"]},\"title\":\"Bokeh Application\",\"version\":\"1.3.4\"}};\n",
       "  var render_items = [{\"docid\":\"f1027f32-e090-46e4-983f-164bbdbbc5b2\",\"roots\":{\"1002\":\"56d92c86-e92c-4aaf-b64d-6e6034985fe9\"}}];\n",
       "  root.Bokeh.embed.embed_items_notebook(docs_json, render_items);\n",
       "\n",
       "  }\n",
       "  if (root.Bokeh !== undefined) {\n",
       "    embed_document(root);\n",
       "  } else {\n",
       "    var attempts = 0;\n",
       "    var timer = setInterval(function(root) {\n",
       "      if (root.Bokeh !== undefined) {\n",
       "        embed_document(root);\n",
       "        clearInterval(timer);\n",
       "      }\n",
       "      attempts++;\n",
       "      if (attempts > 100) {\n",
       "        console.log(\"Bokeh: ERROR: Unable to run BokehJS code because BokehJS library is missing\");\n",
       "        clearInterval(timer);\n",
       "      }\n",
       "    }, 10, root)\n",
       "  }\n",
       "})(window);"
      ],
      "application/vnd.bokehjs_exec.v0+json": ""
     },
     "metadata": {
      "application/vnd.bokehjs_exec.v0+json": {
       "id": "1002"
      }
     },
     "output_type": "display_data"
    }
   ],
   "source": [
    "from bokeh.plotting import figure, output_notebook, show\n",
    "\n",
    "x = [x for x in range(0, 11)]\n",
    "y = [9, 8, 7, 5, 4, 6, 8, 3, 2, 0, 1]\n",
    "\n",
    "chart = figure(title=\"simple line chart\", \n",
    "               x_axis_label=\"x axis!\", y_axis_label=\"y_axis\",\n",
    "               toolbar_location=\"right\")\n",
    "\n",
    "chart.xaxis.axis_label_text_font_size = \"18pt\"\n",
    "chart.yaxis.axis_label_text_font_size = \"18pt\"\n",
    "\n",
    "chart.line(x, y, line_width=2)\n",
    "\n",
    "show(chart)\n",
    "\n",
    "# review interactive tools"
   ]
  },
  {
   "cell_type": "code",
   "execution_count": 3,
   "metadata": {
    "ExecuteTime": {
     "end_time": "2019-10-11T21:44:18.566867Z",
     "start_time": "2019-10-11T21:44:18.542869Z"
    },
    "slideshow": {
     "slide_type": "subslide"
    }
   },
   "outputs": [
    {
     "data": {
      "text/html": [
       "\n",
       "\n",
       "\n",
       "\n",
       "\n",
       "\n",
       "  <div class=\"bk-root\" id=\"3f7ef960-e2d8-4713-9654-5472b6abdd7c\" data-root-id=\"1002\"></div>\n"
      ]
     },
     "metadata": {},
     "output_type": "display_data"
    },
    {
     "data": {
      "application/javascript": [
       "(function(root) {\n",
       "  function embed_document(root) {\n",
       "    \n",
       "  var docs_json = {\"52d1611b-fc87-41e0-a433-425645855a32\":{\"roots\":{\"references\":[{\"attributes\":{\"below\":[{\"id\":\"1013\",\"type\":\"LinearAxis\"}],\"center\":[{\"id\":\"1017\",\"type\":\"Grid\"},{\"id\":\"1022\",\"type\":\"Grid\"},{\"id\":\"1110\",\"type\":\"BoxAnnotation\"}],\"left\":[{\"id\":\"1018\",\"type\":\"LinearAxis\"}],\"renderers\":[{\"id\":\"1039\",\"type\":\"GlyphRenderer\"}],\"title\":{\"id\":\"1003\",\"type\":\"Title\"},\"toolbar\":{\"id\":\"1029\",\"type\":\"Toolbar\"},\"x_range\":{\"id\":\"1005\",\"type\":\"DataRange1d\"},\"x_scale\":{\"id\":\"1009\",\"type\":\"LinearScale\"},\"y_range\":{\"id\":\"1007\",\"type\":\"DataRange1d\"},\"y_scale\":{\"id\":\"1011\",\"type\":\"LinearScale\"}},\"id\":\"1002\",\"subtype\":\"Figure\",\"type\":\"Plot\"},{\"attributes\":{\"active_drag\":\"auto\",\"active_inspect\":\"auto\",\"active_multi\":null,\"active_scroll\":\"auto\",\"active_tap\":\"auto\",\"tools\":[{\"id\":\"1023\",\"type\":\"PanTool\"},{\"id\":\"1024\",\"type\":\"WheelZoomTool\"},{\"id\":\"1025\",\"type\":\"BoxZoomTool\"},{\"id\":\"1026\",\"type\":\"SaveTool\"},{\"id\":\"1027\",\"type\":\"ResetTool\"},{\"id\":\"1028\",\"type\":\"HelpTool\"},{\"id\":\"1099\",\"type\":\"LassoSelectTool\"}]},\"id\":\"1029\",\"type\":\"Toolbar\"},{\"attributes\":{},\"id\":\"1019\",\"type\":\"BasicTicker\"},{\"attributes\":{},\"id\":\"1049\",\"type\":\"Selection\"},{\"attributes\":{\"dimension\":1,\"ticker\":{\"id\":\"1019\",\"type\":\"BasicTicker\"}},\"id\":\"1022\",\"type\":\"Grid\"},{\"attributes\":{\"callback\":null,\"data\":{\"x\":[0,1,2,3,4,5,6,7,8,9,10],\"y\":[9,8,7,5,4,6,8,3,2,0,1]},\"selected\":{\"id\":\"1049\",\"type\":\"Selection\"},\"selection_policy\":{\"id\":\"1050\",\"type\":\"UnionRenderers\"}},\"id\":\"1036\",\"type\":\"ColumnDataSource\"},{\"attributes\":{\"callback\":null},\"id\":\"1007\",\"type\":\"DataRange1d\"},{\"attributes\":{\"line_alpha\":0.1,\"line_color\":\"#1f77b4\",\"line_width\":2,\"x\":{\"field\":\"x\"},\"y\":{\"field\":\"y\"}},\"id\":\"1038\",\"type\":\"Line\"},{\"attributes\":{\"bottom\":1.6,\"fill_alpha\":{\"value\":0.1},\"fill_color\":{\"value\":\"green\"},\"top\":4.2},\"id\":\"1110\",\"type\":\"BoxAnnotation\"},{\"attributes\":{\"data_source\":{\"id\":\"1036\",\"type\":\"ColumnDataSource\"},\"glyph\":{\"id\":\"1037\",\"type\":\"Line\"},\"hover_glyph\":null,\"muted_glyph\":null,\"nonselection_glyph\":{\"id\":\"1038\",\"type\":\"Line\"},\"selection_glyph\":null,\"view\":{\"id\":\"1040\",\"type\":\"CDSView\"}},\"id\":\"1039\",\"type\":\"GlyphRenderer\"},{\"attributes\":{},\"id\":\"1045\",\"type\":\"BasicTickFormatter\"},{\"attributes\":{},\"id\":\"1011\",\"type\":\"LinearScale\"},{\"attributes\":{\"callback\":null,\"overlay\":{\"id\":\"1107\",\"type\":\"PolyAnnotation\"}},\"id\":\"1099\",\"type\":\"LassoSelectTool\"},{\"attributes\":{\"callback\":null},\"id\":\"1005\",\"type\":\"DataRange1d\"},{\"attributes\":{},\"id\":\"1023\",\"type\":\"PanTool\"},{\"attributes\":{},\"id\":\"1050\",\"type\":\"UnionRenderers\"},{\"attributes\":{},\"id\":\"1047\",\"type\":\"BasicTickFormatter\"},{\"attributes\":{\"source\":{\"id\":\"1036\",\"type\":\"ColumnDataSource\"}},\"id\":\"1040\",\"type\":\"CDSView\"},{\"attributes\":{},\"id\":\"1009\",\"type\":\"LinearScale\"},{\"attributes\":{},\"id\":\"1024\",\"type\":\"WheelZoomTool\"},{\"attributes\":{\"overlay\":{\"id\":\"1048\",\"type\":\"BoxAnnotation\"}},\"id\":\"1025\",\"type\":\"BoxZoomTool\"},{\"attributes\":{\"text\":\"simple line chart\"},\"id\":\"1003\",\"type\":\"Title\"},{\"attributes\":{\"axis_label\":\"x axis!\",\"axis_label_text_font_size\":{\"value\":\"18pt\"},\"formatter\":{\"id\":\"1045\",\"type\":\"BasicTickFormatter\"},\"ticker\":{\"id\":\"1014\",\"type\":\"BasicTicker\"}},\"id\":\"1013\",\"type\":\"LinearAxis\"},{\"attributes\":{},\"id\":\"1026\",\"type\":\"SaveTool\"},{\"attributes\":{\"fill_alpha\":{\"value\":0.5},\"fill_color\":{\"value\":\"lightgrey\"},\"level\":\"overlay\",\"line_alpha\":{\"value\":1.0},\"line_color\":{\"value\":\"black\"},\"line_dash\":[4,4],\"line_width\":{\"value\":2},\"xs_units\":\"screen\",\"ys_units\":\"screen\"},\"id\":\"1107\",\"type\":\"PolyAnnotation\"},{\"attributes\":{},\"id\":\"1027\",\"type\":\"ResetTool\"},{\"attributes\":{\"line_color\":\"#1f77b4\",\"line_width\":2,\"x\":{\"field\":\"x\"},\"y\":{\"field\":\"y\"}},\"id\":\"1037\",\"type\":\"Line\"},{\"attributes\":{\"ticker\":{\"id\":\"1014\",\"type\":\"BasicTicker\"}},\"id\":\"1017\",\"type\":\"Grid\"},{\"attributes\":{\"bottom_units\":\"screen\",\"fill_alpha\":{\"value\":0.5},\"fill_color\":{\"value\":\"lightgrey\"},\"left_units\":\"screen\",\"level\":\"overlay\",\"line_alpha\":{\"value\":1.0},\"line_color\":{\"value\":\"black\"},\"line_dash\":[4,4],\"line_width\":{\"value\":2},\"render_mode\":\"css\",\"right_units\":\"screen\",\"top_units\":\"screen\"},\"id\":\"1048\",\"type\":\"BoxAnnotation\"},{\"attributes\":{},\"id\":\"1028\",\"type\":\"HelpTool\"},{\"attributes\":{},\"id\":\"1014\",\"type\":\"BasicTicker\"},{\"attributes\":{\"axis_label\":\"y_axis\",\"axis_label_text_font_size\":{\"value\":\"18pt\"},\"formatter\":{\"id\":\"1047\",\"type\":\"BasicTickFormatter\"},\"ticker\":{\"id\":\"1019\",\"type\":\"BasicTicker\"}},\"id\":\"1018\",\"type\":\"LinearAxis\"}],\"root_ids\":[\"1002\"]},\"title\":\"Bokeh Application\",\"version\":\"1.3.4\"}};\n",
       "  var render_items = [{\"docid\":\"52d1611b-fc87-41e0-a433-425645855a32\",\"roots\":{\"1002\":\"3f7ef960-e2d8-4713-9654-5472b6abdd7c\"}}];\n",
       "  root.Bokeh.embed.embed_items_notebook(docs_json, render_items);\n",
       "\n",
       "  }\n",
       "  if (root.Bokeh !== undefined) {\n",
       "    embed_document(root);\n",
       "  } else {\n",
       "    var attempts = 0;\n",
       "    var timer = setInterval(function(root) {\n",
       "      if (root.Bokeh !== undefined) {\n",
       "        embed_document(root);\n",
       "        clearInterval(timer);\n",
       "      }\n",
       "      attempts++;\n",
       "      if (attempts > 100) {\n",
       "        console.log(\"Bokeh: ERROR: Unable to run BokehJS code because BokehJS library is missing\");\n",
       "        clearInterval(timer);\n",
       "      }\n",
       "    }, 10, root)\n",
       "  }\n",
       "})(window);"
      ],
      "application/vnd.bokehjs_exec.v0+json": ""
     },
     "metadata": {
      "application/vnd.bokehjs_exec.v0+json": {
       "id": "1002"
      }
     },
     "output_type": "display_data"
    }
   ],
   "source": [
    "# adding tools and annotations\n",
    "\n",
    "from bokeh.models import LassoSelectTool\n",
    "from bokeh.models import BoxAnnotation\n",
    "\n",
    "chart.add_tools(LassoSelectTool())\n",
    "low_box = BoxAnnotation(top=4.2, bottom=1.6, fill_alpha=0.1, fill_color='green')\n",
    "chart.add_layout(low_box)\n",
    "\n",
    "show(chart)"
   ]
  },
  {
   "cell_type": "code",
   "execution_count": 4,
   "metadata": {
    "slideshow": {
     "slide_type": "slide"
    }
   },
   "outputs": [],
   "source": [
    "# Example 2 - interaction with ipywidgets"
   ]
  },
  {
   "cell_type": "code",
   "execution_count": 5,
   "metadata": {
    "ExecuteTime": {
     "end_time": "2019-10-11T21:44:18.583867Z",
     "start_time": "2019-10-11T21:44:18.567867Z"
    },
    "slideshow": {
     "slide_type": "subslide"
    }
   },
   "outputs": [
    {
     "data": {
      "text/html": [
       "\n",
       "    <div class=\"bk-root\">\n",
       "        <a href=\"https://bokeh.pydata.org\" target=\"_blank\" class=\"bk-logo bk-logo-small bk-logo-notebook\"></a>\n",
       "        <span id=\"1174\">Loading BokehJS ...</span>\n",
       "    </div>"
      ]
     },
     "metadata": {},
     "output_type": "display_data"
    },
    {
     "data": {
      "application/javascript": [
       "\n",
       "(function(root) {\n",
       "  function now() {\n",
       "    return new Date();\n",
       "  }\n",
       "\n",
       "  var force = true;\n",
       "\n",
       "  if (typeof root._bokeh_onload_callbacks === \"undefined\" || force === true) {\n",
       "    root._bokeh_onload_callbacks = [];\n",
       "    root._bokeh_is_loading = undefined;\n",
       "  }\n",
       "\n",
       "  var JS_MIME_TYPE = 'application/javascript';\n",
       "  var HTML_MIME_TYPE = 'text/html';\n",
       "  var EXEC_MIME_TYPE = 'application/vnd.bokehjs_exec.v0+json';\n",
       "  var CLASS_NAME = 'output_bokeh rendered_html';\n",
       "\n",
       "  /**\n",
       "   * Render data to the DOM node\n",
       "   */\n",
       "  function render(props, node) {\n",
       "    var script = document.createElement(\"script\");\n",
       "    node.appendChild(script);\n",
       "  }\n",
       "\n",
       "  /**\n",
       "   * Handle when an output is cleared or removed\n",
       "   */\n",
       "  function handleClearOutput(event, handle) {\n",
       "    var cell = handle.cell;\n",
       "\n",
       "    var id = cell.output_area._bokeh_element_id;\n",
       "    var server_id = cell.output_area._bokeh_server_id;\n",
       "    // Clean up Bokeh references\n",
       "    if (id != null && id in Bokeh.index) {\n",
       "      Bokeh.index[id].model.document.clear();\n",
       "      delete Bokeh.index[id];\n",
       "    }\n",
       "\n",
       "    if (server_id !== undefined) {\n",
       "      // Clean up Bokeh references\n",
       "      var cmd = \"from bokeh.io.state import curstate; print(curstate().uuid_to_server['\" + server_id + \"'].get_sessions()[0].document.roots[0]._id)\";\n",
       "      cell.notebook.kernel.execute(cmd, {\n",
       "        iopub: {\n",
       "          output: function(msg) {\n",
       "            var id = msg.content.text.trim();\n",
       "            if (id in Bokeh.index) {\n",
       "              Bokeh.index[id].model.document.clear();\n",
       "              delete Bokeh.index[id];\n",
       "            }\n",
       "          }\n",
       "        }\n",
       "      });\n",
       "      // Destroy server and session\n",
       "      var cmd = \"import bokeh.io.notebook as ion; ion.destroy_server('\" + server_id + \"')\";\n",
       "      cell.notebook.kernel.execute(cmd);\n",
       "    }\n",
       "  }\n",
       "\n",
       "  /**\n",
       "   * Handle when a new output is added\n",
       "   */\n",
       "  function handleAddOutput(event, handle) {\n",
       "    var output_area = handle.output_area;\n",
       "    var output = handle.output;\n",
       "\n",
       "    // limit handleAddOutput to display_data with EXEC_MIME_TYPE content only\n",
       "    if ((output.output_type != \"display_data\") || (!output.data.hasOwnProperty(EXEC_MIME_TYPE))) {\n",
       "      return\n",
       "    }\n",
       "\n",
       "    var toinsert = output_area.element.find(\".\" + CLASS_NAME.split(' ')[0]);\n",
       "\n",
       "    if (output.metadata[EXEC_MIME_TYPE][\"id\"] !== undefined) {\n",
       "      toinsert[toinsert.length - 1].firstChild.textContent = output.data[JS_MIME_TYPE];\n",
       "      // store reference to embed id on output_area\n",
       "      output_area._bokeh_element_id = output.metadata[EXEC_MIME_TYPE][\"id\"];\n",
       "    }\n",
       "    if (output.metadata[EXEC_MIME_TYPE][\"server_id\"] !== undefined) {\n",
       "      var bk_div = document.createElement(\"div\");\n",
       "      bk_div.innerHTML = output.data[HTML_MIME_TYPE];\n",
       "      var script_attrs = bk_div.children[0].attributes;\n",
       "      for (var i = 0; i < script_attrs.length; i++) {\n",
       "        toinsert[toinsert.length - 1].firstChild.setAttribute(script_attrs[i].name, script_attrs[i].value);\n",
       "      }\n",
       "      // store reference to server id on output_area\n",
       "      output_area._bokeh_server_id = output.metadata[EXEC_MIME_TYPE][\"server_id\"];\n",
       "    }\n",
       "  }\n",
       "\n",
       "  function register_renderer(events, OutputArea) {\n",
       "\n",
       "    function append_mime(data, metadata, element) {\n",
       "      // create a DOM node to render to\n",
       "      var toinsert = this.create_output_subarea(\n",
       "        metadata,\n",
       "        CLASS_NAME,\n",
       "        EXEC_MIME_TYPE\n",
       "      );\n",
       "      this.keyboard_manager.register_events(toinsert);\n",
       "      // Render to node\n",
       "      var props = {data: data, metadata: metadata[EXEC_MIME_TYPE]};\n",
       "      render(props, toinsert[toinsert.length - 1]);\n",
       "      element.append(toinsert);\n",
       "      return toinsert\n",
       "    }\n",
       "\n",
       "    /* Handle when an output is cleared or removed */\n",
       "    events.on('clear_output.CodeCell', handleClearOutput);\n",
       "    events.on('delete.Cell', handleClearOutput);\n",
       "\n",
       "    /* Handle when a new output is added */\n",
       "    events.on('output_added.OutputArea', handleAddOutput);\n",
       "\n",
       "    /**\n",
       "     * Register the mime type and append_mime function with output_area\n",
       "     */\n",
       "    OutputArea.prototype.register_mime_type(EXEC_MIME_TYPE, append_mime, {\n",
       "      /* Is output safe? */\n",
       "      safe: true,\n",
       "      /* Index of renderer in `output_area.display_order` */\n",
       "      index: 0\n",
       "    });\n",
       "  }\n",
       "\n",
       "  // register the mime type if in Jupyter Notebook environment and previously unregistered\n",
       "  if (root.Jupyter !== undefined) {\n",
       "    var events = require('base/js/events');\n",
       "    var OutputArea = require('notebook/js/outputarea').OutputArea;\n",
       "\n",
       "    if (OutputArea.prototype.mime_types().indexOf(EXEC_MIME_TYPE) == -1) {\n",
       "      register_renderer(events, OutputArea);\n",
       "    }\n",
       "  }\n",
       "\n",
       "  \n",
       "  if (typeof (root._bokeh_timeout) === \"undefined\" || force === true) {\n",
       "    root._bokeh_timeout = Date.now() + 5000;\n",
       "    root._bokeh_failed_load = false;\n",
       "  }\n",
       "\n",
       "  var NB_LOAD_WARNING = {'data': {'text/html':\n",
       "     \"<div style='background-color: #fdd'>\\n\"+\n",
       "     \"<p>\\n\"+\n",
       "     \"BokehJS does not appear to have successfully loaded. If loading BokehJS from CDN, this \\n\"+\n",
       "     \"may be due to a slow or bad network connection. Possible fixes:\\n\"+\n",
       "     \"</p>\\n\"+\n",
       "     \"<ul>\\n\"+\n",
       "     \"<li>re-rerun `output_notebook()` to attempt to load from CDN again, or</li>\\n\"+\n",
       "     \"<li>use INLINE resources instead, as so:</li>\\n\"+\n",
       "     \"</ul>\\n\"+\n",
       "     \"<code>\\n\"+\n",
       "     \"from bokeh.resources import INLINE\\n\"+\n",
       "     \"output_notebook(resources=INLINE)\\n\"+\n",
       "     \"</code>\\n\"+\n",
       "     \"</div>\"}};\n",
       "\n",
       "  function display_loaded() {\n",
       "    var el = document.getElementById(\"1174\");\n",
       "    if (el != null) {\n",
       "      el.textContent = \"BokehJS is loading...\";\n",
       "    }\n",
       "    if (root.Bokeh !== undefined) {\n",
       "      if (el != null) {\n",
       "        el.textContent = \"BokehJS \" + root.Bokeh.version + \" successfully loaded.\";\n",
       "      }\n",
       "    } else if (Date.now() < root._bokeh_timeout) {\n",
       "      setTimeout(display_loaded, 100)\n",
       "    }\n",
       "  }\n",
       "\n",
       "\n",
       "  function run_callbacks() {\n",
       "    try {\n",
       "      root._bokeh_onload_callbacks.forEach(function(callback) {\n",
       "        if (callback != null)\n",
       "          callback();\n",
       "      });\n",
       "    } finally {\n",
       "      delete root._bokeh_onload_callbacks\n",
       "    }\n",
       "    console.debug(\"Bokeh: all callbacks have finished\");\n",
       "  }\n",
       "\n",
       "  function load_libs(css_urls, js_urls, callback) {\n",
       "    if (css_urls == null) css_urls = [];\n",
       "    if (js_urls == null) js_urls = [];\n",
       "\n",
       "    root._bokeh_onload_callbacks.push(callback);\n",
       "    if (root._bokeh_is_loading > 0) {\n",
       "      console.debug(\"Bokeh: BokehJS is being loaded, scheduling callback at\", now());\n",
       "      return null;\n",
       "    }\n",
       "    if (js_urls == null || js_urls.length === 0) {\n",
       "      run_callbacks();\n",
       "      return null;\n",
       "    }\n",
       "    console.debug(\"Bokeh: BokehJS not loaded, scheduling load and callback at\", now());\n",
       "    root._bokeh_is_loading = css_urls.length + js_urls.length;\n",
       "\n",
       "    function on_load() {\n",
       "      root._bokeh_is_loading--;\n",
       "      if (root._bokeh_is_loading === 0) {\n",
       "        console.debug(\"Bokeh: all BokehJS libraries/stylesheets loaded\");\n",
       "        run_callbacks()\n",
       "      }\n",
       "    }\n",
       "\n",
       "    function on_error() {\n",
       "      console.error(\"failed to load \" + url);\n",
       "    }\n",
       "\n",
       "    for (var i = 0; i < css_urls.length; i++) {\n",
       "      var url = css_urls[i];\n",
       "      const element = document.createElement(\"link\");\n",
       "      element.onload = on_load;\n",
       "      element.onerror = on_error;\n",
       "      element.rel = \"stylesheet\";\n",
       "      element.type = \"text/css\";\n",
       "      element.href = url;\n",
       "      console.debug(\"Bokeh: injecting link tag for BokehJS stylesheet: \", url);\n",
       "      document.body.appendChild(element);\n",
       "    }\n",
       "\n",
       "    for (var i = 0; i < js_urls.length; i++) {\n",
       "      var url = js_urls[i];\n",
       "      var element = document.createElement('script');\n",
       "      element.onload = on_load;\n",
       "      element.onerror = on_error;\n",
       "      element.async = false;\n",
       "      element.src = url;\n",
       "      console.debug(\"Bokeh: injecting script tag for BokehJS library: \", url);\n",
       "      document.head.appendChild(element);\n",
       "    }\n",
       "  };var element = document.getElementById(\"1174\");\n",
       "  if (element == null) {\n",
       "    console.error(\"Bokeh: ERROR: autoload.js configured with elementid '1174' but no matching script tag was found. \")\n",
       "    return false;\n",
       "  }\n",
       "\n",
       "  function inject_raw_css(css) {\n",
       "    const element = document.createElement(\"style\");\n",
       "    element.appendChild(document.createTextNode(css));\n",
       "    document.body.appendChild(element);\n",
       "  }\n",
       "\n",
       "  var js_urls = [\"https://cdn.pydata.org/bokeh/release/bokeh-1.3.4.min.js\", \"https://cdn.pydata.org/bokeh/release/bokeh-widgets-1.3.4.min.js\", \"https://cdn.pydata.org/bokeh/release/bokeh-tables-1.3.4.min.js\", \"https://cdn.pydata.org/bokeh/release/bokeh-gl-1.3.4.min.js\"];\n",
       "  var css_urls = [];\n",
       "\n",
       "  var inline_js = [\n",
       "    function(Bokeh) {\n",
       "      Bokeh.set_log_level(\"info\");\n",
       "    },\n",
       "    \n",
       "    function(Bokeh) {\n",
       "      \n",
       "    },\n",
       "    function(Bokeh) {} // ensure no trailing comma for IE\n",
       "  ];\n",
       "\n",
       "  function run_inline_js() {\n",
       "    \n",
       "    if ((root.Bokeh !== undefined) || (force === true)) {\n",
       "      for (var i = 0; i < inline_js.length; i++) {\n",
       "        inline_js[i].call(root, root.Bokeh);\n",
       "      }if (force === true) {\n",
       "        display_loaded();\n",
       "      }} else if (Date.now() < root._bokeh_timeout) {\n",
       "      setTimeout(run_inline_js, 100);\n",
       "    } else if (!root._bokeh_failed_load) {\n",
       "      console.log(\"Bokeh: BokehJS failed to load within specified timeout.\");\n",
       "      root._bokeh_failed_load = true;\n",
       "    } else if (force !== true) {\n",
       "      var cell = $(document.getElementById(\"1174\")).parents('.cell').data().cell;\n",
       "      cell.output_area.append_execute_result(NB_LOAD_WARNING)\n",
       "    }\n",
       "\n",
       "  }\n",
       "\n",
       "  if (root._bokeh_is_loading === 0) {\n",
       "    console.debug(\"Bokeh: BokehJS loaded, going straight to plotting\");\n",
       "    run_inline_js();\n",
       "  } else {\n",
       "    load_libs(css_urls, js_urls, function() {\n",
       "      console.debug(\"Bokeh: BokehJS plotting callback run at\", now());\n",
       "      run_inline_js();\n",
       "    });\n",
       "  }\n",
       "}(window));"
      ],
      "application/vnd.bokehjs_load.v0+json": "\n(function(root) {\n  function now() {\n    return new Date();\n  }\n\n  var force = true;\n\n  if (typeof root._bokeh_onload_callbacks === \"undefined\" || force === true) {\n    root._bokeh_onload_callbacks = [];\n    root._bokeh_is_loading = undefined;\n  }\n\n  \n\n  \n  if (typeof (root._bokeh_timeout) === \"undefined\" || force === true) {\n    root._bokeh_timeout = Date.now() + 5000;\n    root._bokeh_failed_load = false;\n  }\n\n  var NB_LOAD_WARNING = {'data': {'text/html':\n     \"<div style='background-color: #fdd'>\\n\"+\n     \"<p>\\n\"+\n     \"BokehJS does not appear to have successfully loaded. If loading BokehJS from CDN, this \\n\"+\n     \"may be due to a slow or bad network connection. Possible fixes:\\n\"+\n     \"</p>\\n\"+\n     \"<ul>\\n\"+\n     \"<li>re-rerun `output_notebook()` to attempt to load from CDN again, or</li>\\n\"+\n     \"<li>use INLINE resources instead, as so:</li>\\n\"+\n     \"</ul>\\n\"+\n     \"<code>\\n\"+\n     \"from bokeh.resources import INLINE\\n\"+\n     \"output_notebook(resources=INLINE)\\n\"+\n     \"</code>\\n\"+\n     \"</div>\"}};\n\n  function display_loaded() {\n    var el = document.getElementById(\"1174\");\n    if (el != null) {\n      el.textContent = \"BokehJS is loading...\";\n    }\n    if (root.Bokeh !== undefined) {\n      if (el != null) {\n        el.textContent = \"BokehJS \" + root.Bokeh.version + \" successfully loaded.\";\n      }\n    } else if (Date.now() < root._bokeh_timeout) {\n      setTimeout(display_loaded, 100)\n    }\n  }\n\n\n  function run_callbacks() {\n    try {\n      root._bokeh_onload_callbacks.forEach(function(callback) {\n        if (callback != null)\n          callback();\n      });\n    } finally {\n      delete root._bokeh_onload_callbacks\n    }\n    console.debug(\"Bokeh: all callbacks have finished\");\n  }\n\n  function load_libs(css_urls, js_urls, callback) {\n    if (css_urls == null) css_urls = [];\n    if (js_urls == null) js_urls = [];\n\n    root._bokeh_onload_callbacks.push(callback);\n    if (root._bokeh_is_loading > 0) {\n      console.debug(\"Bokeh: BokehJS is being loaded, scheduling callback at\", now());\n      return null;\n    }\n    if (js_urls == null || js_urls.length === 0) {\n      run_callbacks();\n      return null;\n    }\n    console.debug(\"Bokeh: BokehJS not loaded, scheduling load and callback at\", now());\n    root._bokeh_is_loading = css_urls.length + js_urls.length;\n\n    function on_load() {\n      root._bokeh_is_loading--;\n      if (root._bokeh_is_loading === 0) {\n        console.debug(\"Bokeh: all BokehJS libraries/stylesheets loaded\");\n        run_callbacks()\n      }\n    }\n\n    function on_error() {\n      console.error(\"failed to load \" + url);\n    }\n\n    for (var i = 0; i < css_urls.length; i++) {\n      var url = css_urls[i];\n      const element = document.createElement(\"link\");\n      element.onload = on_load;\n      element.onerror = on_error;\n      element.rel = \"stylesheet\";\n      element.type = \"text/css\";\n      element.href = url;\n      console.debug(\"Bokeh: injecting link tag for BokehJS stylesheet: \", url);\n      document.body.appendChild(element);\n    }\n\n    for (var i = 0; i < js_urls.length; i++) {\n      var url = js_urls[i];\n      var element = document.createElement('script');\n      element.onload = on_load;\n      element.onerror = on_error;\n      element.async = false;\n      element.src = url;\n      console.debug(\"Bokeh: injecting script tag for BokehJS library: \", url);\n      document.head.appendChild(element);\n    }\n  };var element = document.getElementById(\"1174\");\n  if (element == null) {\n    console.error(\"Bokeh: ERROR: autoload.js configured with elementid '1174' but no matching script tag was found. \")\n    return false;\n  }\n\n  function inject_raw_css(css) {\n    const element = document.createElement(\"style\");\n    element.appendChild(document.createTextNode(css));\n    document.body.appendChild(element);\n  }\n\n  var js_urls = [\"https://cdn.pydata.org/bokeh/release/bokeh-1.3.4.min.js\", \"https://cdn.pydata.org/bokeh/release/bokeh-widgets-1.3.4.min.js\", \"https://cdn.pydata.org/bokeh/release/bokeh-tables-1.3.4.min.js\", \"https://cdn.pydata.org/bokeh/release/bokeh-gl-1.3.4.min.js\"];\n  var css_urls = [];\n\n  var inline_js = [\n    function(Bokeh) {\n      Bokeh.set_log_level(\"info\");\n    },\n    \n    function(Bokeh) {\n      \n    },\n    function(Bokeh) {} // ensure no trailing comma for IE\n  ];\n\n  function run_inline_js() {\n    \n    if ((root.Bokeh !== undefined) || (force === true)) {\n      for (var i = 0; i < inline_js.length; i++) {\n        inline_js[i].call(root, root.Bokeh);\n      }if (force === true) {\n        display_loaded();\n      }} else if (Date.now() < root._bokeh_timeout) {\n      setTimeout(run_inline_js, 100);\n    } else if (!root._bokeh_failed_load) {\n      console.log(\"Bokeh: BokehJS failed to load within specified timeout.\");\n      root._bokeh_failed_load = true;\n    } else if (force !== true) {\n      var cell = $(document.getElementById(\"1174\")).parents('.cell').data().cell;\n      cell.output_area.append_execute_result(NB_LOAD_WARNING)\n    }\n\n  }\n\n  if (root._bokeh_is_loading === 0) {\n    console.debug(\"Bokeh: BokehJS loaded, going straight to plotting\");\n    run_inline_js();\n  } else {\n    load_libs(css_urls, js_urls, function() {\n      console.debug(\"Bokeh: BokehJS plotting callback run at\", now());\n      run_inline_js();\n    });\n  }\n}(window));"
     },
     "metadata": {},
     "output_type": "display_data"
    },
    {
     "data": {
      "application/vnd.jupyter.widget-view+json": {
       "model_id": "3cb07d47ac644449a43e5b3b01678c3b",
       "version_major": 2,
       "version_minor": 0
      },
      "text/plain": [
       "interactive(children=(Dropdown(description='function', options=('sin', 'cos', 'tan'), value='sin'), IntSlider(…"
      ]
     },
     "metadata": {},
     "output_type": "display_data"
    },
    {
     "data": {
      "text/html": [
       "\n",
       "\n",
       "\n",
       "\n",
       "\n",
       "\n",
       "  <div class=\"bk-root\" id=\"6a3f629f-bd1a-4535-83d9-cc0e48c52890\" data-root-id=\"1175\"></div>\n"
      ]
     },
     "metadata": {},
     "output_type": "display_data"
    },
    {
     "data": {
      "application/javascript": [
       "(function(root) {\n",
       "  function embed_document(root) {\n",
       "    \n",
       "  var docs_json = {\"1f8bde8e-8adb-4288-ab5d-5e38270bbac2\":{\"roots\":{\"references\":[{\"attributes\":{\"background_fill_color\":{\"value\":\"#efefef\"},\"below\":[{\"id\":\"1186\",\"type\":\"LinearAxis\"}],\"center\":[{\"id\":\"1190\",\"type\":\"Grid\"},{\"id\":\"1195\",\"type\":\"Grid\"}],\"left\":[{\"id\":\"1191\",\"type\":\"LinearAxis\"}],\"plot_height\":300,\"plot_width\":900,\"renderers\":[{\"id\":\"1212\",\"type\":\"GlyphRenderer\"}],\"title\":{\"id\":\"1176\",\"type\":\"Title\"},\"toolbar\":{\"id\":\"1202\",\"type\":\"Toolbar\"},\"x_range\":{\"id\":\"1178\",\"type\":\"DataRange1d\"},\"x_scale\":{\"id\":\"1182\",\"type\":\"LinearScale\"},\"y_range\":{\"id\":\"1180\",\"type\":\"Range1d\"},\"y_scale\":{\"id\":\"1184\",\"type\":\"LinearScale\"}},\"id\":\"1175\",\"subtype\":\"Figure\",\"type\":\"Plot\"},{\"attributes\":{},\"id\":\"1196\",\"type\":\"PanTool\"},{\"attributes\":{\"bottom_units\":\"screen\",\"fill_alpha\":{\"value\":0.5},\"fill_color\":{\"value\":\"lightgrey\"},\"left_units\":\"screen\",\"level\":\"overlay\",\"line_alpha\":{\"value\":1.0},\"line_color\":{\"value\":\"black\"},\"line_dash\":[4,4],\"line_width\":{\"value\":2},\"render_mode\":\"css\",\"right_units\":\"screen\",\"top_units\":\"screen\"},\"id\":\"1228\",\"type\":\"BoxAnnotation\"},{\"attributes\":{\"formatter\":{\"id\":\"1225\",\"type\":\"BasicTickFormatter\"},\"ticker\":{\"id\":\"1187\",\"type\":\"BasicTicker\"}},\"id\":\"1186\",\"type\":\"LinearAxis\"},{\"attributes\":{\"callback\":null},\"id\":\"1178\",\"type\":\"DataRange1d\"},{\"attributes\":{\"callback\":null,\"end\":10,\"start\":-10},\"id\":\"1180\",\"type\":\"Range1d\"},{\"attributes\":{},\"id\":\"1197\",\"type\":\"WheelZoomTool\"},{\"attributes\":{},\"id\":\"1230\",\"type\":\"UnionRenderers\"},{\"attributes\":{},\"id\":\"1182\",\"type\":\"LinearScale\"},{\"attributes\":{\"overlay\":{\"id\":\"1228\",\"type\":\"BoxAnnotation\"}},\"id\":\"1198\",\"type\":\"BoxZoomTool\"},{\"attributes\":{\"callback\":null,\"data\":{\"x\":{\"__ndarray__\":\"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\",\"dtype\":\"float64\",\"shape\":[2000]},\"y\":{\"__ndarray__\":\"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\",\"dtype\":\"float64\",\"shape\":[2000]}},\"selected\":{\"id\":\"1229\",\"type\":\"Selection\"},\"selection_policy\":{\"id\":\"1230\",\"type\":\"UnionRenderers\"}},\"id\":\"1209\",\"type\":\"ColumnDataSource\"},{\"attributes\":{},\"id\":\"1184\",\"type\":\"LinearScale\"},{\"attributes\":{},\"id\":\"1199\",\"type\":\"SaveTool\"},{\"attributes\":{},\"id\":\"1200\",\"type\":\"ResetTool\"},{\"attributes\":{\"ticker\":{\"id\":\"1187\",\"type\":\"BasicTicker\"}},\"id\":\"1190\",\"type\":\"Grid\"},{\"attributes\":{\"line_alpha\":0.1,\"line_color\":\"#1f77b4\",\"line_width\":1.5,\"x\":{\"field\":\"x\"},\"y\":{\"field\":\"y\"}},\"id\":\"1211\",\"type\":\"Line\"},{\"attributes\":{},\"id\":\"1229\",\"type\":\"Selection\"},{\"attributes\":{},\"id\":\"1187\",\"type\":\"BasicTicker\"},{\"attributes\":{},\"id\":\"1201\",\"type\":\"HelpTool\"},{\"attributes\":{\"dimension\":1,\"ticker\":{\"id\":\"1192\",\"type\":\"BasicTicker\"}},\"id\":\"1195\",\"type\":\"Grid\"},{\"attributes\":{\"formatter\":{\"id\":\"1227\",\"type\":\"BasicTickFormatter\"},\"ticker\":{\"id\":\"1192\",\"type\":\"BasicTicker\"}},\"id\":\"1191\",\"type\":\"LinearAxis\"},{\"attributes\":{\"active_drag\":\"auto\",\"active_inspect\":\"auto\",\"active_multi\":null,\"active_scroll\":\"auto\",\"active_tap\":\"auto\",\"tools\":[{\"id\":\"1196\",\"type\":\"PanTool\"},{\"id\":\"1197\",\"type\":\"WheelZoomTool\"},{\"id\":\"1198\",\"type\":\"BoxZoomTool\"},{\"id\":\"1199\",\"type\":\"SaveTool\"},{\"id\":\"1200\",\"type\":\"ResetTool\"},{\"id\":\"1201\",\"type\":\"HelpTool\"}]},\"id\":\"1202\",\"type\":\"Toolbar\"},{\"attributes\":{},\"id\":\"1192\",\"type\":\"BasicTicker\"},{\"attributes\":{\"text\":\"example - simple trig plot\"},\"id\":\"1176\",\"type\":\"Title\"},{\"attributes\":{},\"id\":\"1227\",\"type\":\"BasicTickFormatter\"},{\"attributes\":{\"line_alpha\":0.8,\"line_color\":\"#8888cc\",\"line_width\":1.5,\"x\":{\"field\":\"x\"},\"y\":{\"field\":\"y\"}},\"id\":\"1210\",\"type\":\"Line\"},{\"attributes\":{\"source\":{\"id\":\"1209\",\"type\":\"ColumnDataSource\"}},\"id\":\"1213\",\"type\":\"CDSView\"},{\"attributes\":{\"data_source\":{\"id\":\"1209\",\"type\":\"ColumnDataSource\"},\"glyph\":{\"id\":\"1210\",\"type\":\"Line\"},\"hover_glyph\":null,\"muted_glyph\":null,\"nonselection_glyph\":{\"id\":\"1211\",\"type\":\"Line\"},\"selection_glyph\":null,\"view\":{\"id\":\"1213\",\"type\":\"CDSView\"}},\"id\":\"1212\",\"type\":\"GlyphRenderer\"},{\"attributes\":{},\"id\":\"1225\",\"type\":\"BasicTickFormatter\"}],\"root_ids\":[\"1175\"]},\"title\":\"Bokeh Application\",\"version\":\"1.3.4\"}};\n",
       "  var render_items = [{\"docid\":\"1f8bde8e-8adb-4288-ab5d-5e38270bbac2\",\"notebook_comms_target\":\"1231\",\"roots\":{\"1175\":\"6a3f629f-bd1a-4535-83d9-cc0e48c52890\"}}];\n",
       "  root.Bokeh.embed.embed_items_notebook(docs_json, render_items);\n",
       "\n",
       "  }\n",
       "  if (root.Bokeh !== undefined) {\n",
       "    embed_document(root);\n",
       "  } else {\n",
       "    var attempts = 0;\n",
       "    var timer = setInterval(function(root) {\n",
       "      if (root.Bokeh !== undefined) {\n",
       "        embed_document(root);\n",
       "        clearInterval(timer);\n",
       "      }\n",
       "      attempts++;\n",
       "      if (attempts > 100) {\n",
       "        console.log(\"Bokeh: ERROR: Unable to run BokehJS code because BokehJS library is missing\");\n",
       "        clearInterval(timer);\n",
       "      }\n",
       "    }, 10, root)\n",
       "  }\n",
       "})(window);"
      ],
      "application/vnd.bokehjs_exec.v0+json": ""
     },
     "metadata": {
      "application/vnd.bokehjs_exec.v0+json": {
       "id": "1175"
      }
     },
     "output_type": "display_data"
    }
   ],
   "source": [
    "# simple interactivity example - using ipywidgets\n",
    "# credit:  https://github.com/bokeh/bokeh/blob/1.3.4/examples/howto/notebook_comms/Jupyter%20Interactors.ipynb\n",
    "\n",
    "from ipywidgets import interact\n",
    "import numpy as np\n",
    "\n",
    "from bokeh.io import push_notebook, show, output_notebook\n",
    "from bokeh.plotting import figure\n",
    "output_notebook()\n",
    "\n",
    "# define evenly spaced data to plot trig functions\n",
    "x = np.linspace(0, 2*np.pi, 2000)\n",
    "y = np.sin(x)\n",
    "\n",
    "graph_function = figure(title=\"example - simple trig plot\", plot_height=300, plot_width=900, y_range=(-10,10),\n",
    "           background_fill_color='#efefef')\n",
    "r = graph_function.line(x, y, color=\"#8888cc\", line_width=1.5, alpha=0.8)\n",
    "\n",
    "def update(function, freq=10, Amplitude=2, phi=0):\n",
    "    if   function == \"sin\": func = np.sin\n",
    "    elif function == \"cos\": func = np.cos\n",
    "    elif function == \"tan\": func = np.tan\n",
    "    r.data_source.data['y'] = Amplitude * func(freq * x + phi)\n",
    "    push_notebook()\n",
    "\n",
    "interact(update, function=[\"sin\", \"cos\", \"tan\"], freq=(0,500), Amplitude=(1,20), phi=(0, 20, 0.5))\n",
    "show(graph_function, notebook_handle=True);  # handle updates existing plot, only needed in jupyter notebook (not jupyterlab)\n"
   ]
  },
  {
   "cell_type": "markdown",
   "metadata": {
    "slideshow": {
     "slide_type": "slide"
    }
   },
   "source": [
    "# Introducing Bokeh ColumnDataSource object<br>\n",
    "\n",
    "- Bokeh class\n",
    "- Bokeh can plot directly from Pandas DataFrames AND\n",
    "- ColumnDataSource helps maps names of columns to sequences or arrays <br><br>\n",
    "\n",
    "\n",
    "    from bokeh.models import ColumnDataSource\n",
    "\n",
    "    data = {\"x\": [1,2,3,4], \"y\": [11, 22, 33, 44], labels=[\"alpha\", \"bravo\", \"charlie\", \"delta\"]}\n",
    "\n",
    "    source = ColumnDataSource(data,  color=Colorblind)\n",
    "<br>\n",
    "\n",
    "### why use this?\n",
    "- easier to share data + selections between plots and subplots<br>\n",
    "- efficient graphing of streaming - bokeh only sends new data to plots<br>\n",
    "- offloads work to the browser (e.g. colormapping)<br><br>\n",
    "\n",
    "- color examples:  https://docs.bokeh.org/en/latest/docs/reference/palettes.html"
   ]
  },
  {
   "cell_type": "markdown",
   "metadata": {
    "slideshow": {
     "slide_type": "slide"
    }
   },
   "source": [
    "# Example 3 - Saving Data from A Chart\n",
    "\n",
    "*WIP*"
   ]
  },
  {
   "cell_type": "markdown",
   "metadata": {
    "slideshow": {
     "slide_type": "slide"
    }
   },
   "source": [
    "# Example 4 - Interactive, linked brushing"
   ]
  },
  {
   "cell_type": "code",
   "execution_count": 6,
   "metadata": {
    "scrolled": false,
    "slideshow": {
     "slide_type": "subslide"
    }
   },
   "outputs": [
    {
     "data": {
      "text/html": [
       "<div style=\"display: table;\"><div style=\"display: table-row;\"><div style=\"display: table-cell;\"><b title=\"bokeh.models.renderers.GlyphRenderer\">GlyphRenderer</b>(</div><div style=\"display: table-cell;\">id&nbsp;=&nbsp;'1312', <span id=\"1315\" style=\"cursor: pointer;\">&hellip;)</span></div></div><div class=\"1314\" style=\"display: none;\"><div style=\"display: table-cell;\"></div><div style=\"display: table-cell;\">data_source&nbsp;=&nbsp;ColumnDataSource(id='1280', ...),</div></div><div class=\"1314\" style=\"display: none;\"><div style=\"display: table-cell;\"></div><div style=\"display: table-cell;\">glyph&nbsp;=&nbsp;Circle(id='1310', ...),</div></div><div class=\"1314\" style=\"display: none;\"><div style=\"display: table-cell;\"></div><div style=\"display: table-cell;\">hover_glyph&nbsp;=&nbsp;None,</div></div><div class=\"1314\" style=\"display: none;\"><div style=\"display: table-cell;\"></div><div style=\"display: table-cell;\">js_event_callbacks&nbsp;=&nbsp;{},</div></div><div class=\"1314\" style=\"display: none;\"><div style=\"display: table-cell;\"></div><div style=\"display: table-cell;\">js_property_callbacks&nbsp;=&nbsp;{},</div></div><div class=\"1314\" style=\"display: none;\"><div style=\"display: table-cell;\"></div><div style=\"display: table-cell;\">level&nbsp;=&nbsp;'glyph',</div></div><div class=\"1314\" style=\"display: none;\"><div style=\"display: table-cell;\"></div><div style=\"display: table-cell;\">muted&nbsp;=&nbsp;False,</div></div><div class=\"1314\" style=\"display: none;\"><div style=\"display: table-cell;\"></div><div style=\"display: table-cell;\">muted_glyph&nbsp;=&nbsp;None,</div></div><div class=\"1314\" style=\"display: none;\"><div style=\"display: table-cell;\"></div><div style=\"display: table-cell;\">name&nbsp;=&nbsp;None,</div></div><div class=\"1314\" style=\"display: none;\"><div style=\"display: table-cell;\"></div><div style=\"display: table-cell;\">nonselection_glyph&nbsp;=&nbsp;Circle(id='1311', ...),</div></div><div class=\"1314\" style=\"display: none;\"><div style=\"display: table-cell;\"></div><div style=\"display: table-cell;\">selection_glyph&nbsp;=&nbsp;None,</div></div><div class=\"1314\" style=\"display: none;\"><div style=\"display: table-cell;\"></div><div style=\"display: table-cell;\">subscribed_events&nbsp;=&nbsp;[],</div></div><div class=\"1314\" style=\"display: none;\"><div style=\"display: table-cell;\"></div><div style=\"display: table-cell;\">tags&nbsp;=&nbsp;[],</div></div><div class=\"1314\" style=\"display: none;\"><div style=\"display: table-cell;\"></div><div style=\"display: table-cell;\">view&nbsp;=&nbsp;CDSView(id='1313', ...),</div></div><div class=\"1314\" style=\"display: none;\"><div style=\"display: table-cell;\"></div><div style=\"display: table-cell;\">visible&nbsp;=&nbsp;True,</div></div><div class=\"1314\" style=\"display: none;\"><div style=\"display: table-cell;\"></div><div style=\"display: table-cell;\">x_range_name&nbsp;=&nbsp;'default',</div></div><div class=\"1314\" style=\"display: none;\"><div style=\"display: table-cell;\"></div><div style=\"display: table-cell;\">y_range_name&nbsp;=&nbsp;'default')</div></div></div>\n",
       "<script>\n",
       "(function() {\n",
       "  var expanded = false;\n",
       "  var ellipsis = document.getElementById(\"1315\");\n",
       "  ellipsis.addEventListener(\"click\", function() {\n",
       "    var rows = document.getElementsByClassName(\"1314\");\n",
       "    for (var i = 0; i < rows.length; i++) {\n",
       "      var el = rows[i];\n",
       "      el.style.display = expanded ? \"none\" : \"table-row\";\n",
       "    }\n",
       "    ellipsis.innerHTML = expanded ? \"&hellip;)\" : \"&lsaquo;&lsaquo;&lsaquo;\";\n",
       "    expanded = !expanded;\n",
       "  });\n",
       "})();\n",
       "</script>\n"
      ],
      "text/plain": [
       "GlyphRenderer(id='1312', ...)"
      ]
     },
     "execution_count": 6,
     "metadata": {},
     "output_type": "execute_result"
    },
    {
     "data": {
      "text/html": [
       "<div style=\"display: table;\"><div style=\"display: table-row;\"><div style=\"display: table-cell;\"><b title=\"bokeh.models.renderers.GlyphRenderer\">GlyphRenderer</b>(</div><div style=\"display: table-cell;\">id&nbsp;=&nbsp;'1343', <span id=\"1346\" style=\"cursor: pointer;\">&hellip;)</span></div></div><div class=\"1345\" style=\"display: none;\"><div style=\"display: table-cell;\"></div><div style=\"display: table-cell;\">data_source&nbsp;=&nbsp;ColumnDataSource(id='1281', ...),</div></div><div class=\"1345\" style=\"display: none;\"><div style=\"display: table-cell;\"></div><div style=\"display: table-cell;\">glyph&nbsp;=&nbsp;Circle(id='1341', ...),</div></div><div class=\"1345\" style=\"display: none;\"><div style=\"display: table-cell;\"></div><div style=\"display: table-cell;\">hover_glyph&nbsp;=&nbsp;None,</div></div><div class=\"1345\" style=\"display: none;\"><div style=\"display: table-cell;\"></div><div style=\"display: table-cell;\">js_event_callbacks&nbsp;=&nbsp;{},</div></div><div class=\"1345\" style=\"display: none;\"><div style=\"display: table-cell;\"></div><div style=\"display: table-cell;\">js_property_callbacks&nbsp;=&nbsp;{},</div></div><div class=\"1345\" style=\"display: none;\"><div style=\"display: table-cell;\"></div><div style=\"display: table-cell;\">level&nbsp;=&nbsp;'glyph',</div></div><div class=\"1345\" style=\"display: none;\"><div style=\"display: table-cell;\"></div><div style=\"display: table-cell;\">muted&nbsp;=&nbsp;False,</div></div><div class=\"1345\" style=\"display: none;\"><div style=\"display: table-cell;\"></div><div style=\"display: table-cell;\">muted_glyph&nbsp;=&nbsp;None,</div></div><div class=\"1345\" style=\"display: none;\"><div style=\"display: table-cell;\"></div><div style=\"display: table-cell;\">name&nbsp;=&nbsp;None,</div></div><div class=\"1345\" style=\"display: none;\"><div style=\"display: table-cell;\"></div><div style=\"display: table-cell;\">nonselection_glyph&nbsp;=&nbsp;Circle(id='1342', ...),</div></div><div class=\"1345\" style=\"display: none;\"><div style=\"display: table-cell;\"></div><div style=\"display: table-cell;\">selection_glyph&nbsp;=&nbsp;None,</div></div><div class=\"1345\" style=\"display: none;\"><div style=\"display: table-cell;\"></div><div style=\"display: table-cell;\">subscribed_events&nbsp;=&nbsp;[],</div></div><div class=\"1345\" style=\"display: none;\"><div style=\"display: table-cell;\"></div><div style=\"display: table-cell;\">tags&nbsp;=&nbsp;[],</div></div><div class=\"1345\" style=\"display: none;\"><div style=\"display: table-cell;\"></div><div style=\"display: table-cell;\">view&nbsp;=&nbsp;CDSView(id='1344', ...),</div></div><div class=\"1345\" style=\"display: none;\"><div style=\"display: table-cell;\"></div><div style=\"display: table-cell;\">visible&nbsp;=&nbsp;True,</div></div><div class=\"1345\" style=\"display: none;\"><div style=\"display: table-cell;\"></div><div style=\"display: table-cell;\">x_range_name&nbsp;=&nbsp;'default',</div></div><div class=\"1345\" style=\"display: none;\"><div style=\"display: table-cell;\"></div><div style=\"display: table-cell;\">y_range_name&nbsp;=&nbsp;'default')</div></div></div>\n",
       "<script>\n",
       "(function() {\n",
       "  var expanded = false;\n",
       "  var ellipsis = document.getElementById(\"1346\");\n",
       "  ellipsis.addEventListener(\"click\", function() {\n",
       "    var rows = document.getElementsByClassName(\"1345\");\n",
       "    for (var i = 0; i < rows.length; i++) {\n",
       "      var el = rows[i];\n",
       "      el.style.display = expanded ? \"none\" : \"table-row\";\n",
       "    }\n",
       "    ellipsis.innerHTML = expanded ? \"&hellip;)\" : \"&lsaquo;&lsaquo;&lsaquo;\";\n",
       "    expanded = !expanded;\n",
       "  });\n",
       "})();\n",
       "</script>\n"
      ],
      "text/plain": [
       "GlyphRenderer(id='1343', ...)"
      ]
     },
     "execution_count": 6,
     "metadata": {},
     "output_type": "execute_result"
    },
    {
     "data": {
      "text/html": [
       "<div style=\"display: table;\"><div style=\"display: table-row;\"><div style=\"display: table-cell;\"><b title=\"bokeh.models.renderers.GlyphRenderer\">GlyphRenderer</b>(</div><div style=\"display: table-cell;\">id&nbsp;=&nbsp;'1374', <span id=\"1377\" style=\"cursor: pointer;\">&hellip;)</span></div></div><div class=\"1376\" style=\"display: none;\"><div style=\"display: table-cell;\"></div><div style=\"display: table-cell;\">data_source&nbsp;=&nbsp;ColumnDataSource(id='1282', ...),</div></div><div class=\"1376\" style=\"display: none;\"><div style=\"display: table-cell;\"></div><div style=\"display: table-cell;\">glyph&nbsp;=&nbsp;Circle(id='1372', ...),</div></div><div class=\"1376\" style=\"display: none;\"><div style=\"display: table-cell;\"></div><div style=\"display: table-cell;\">hover_glyph&nbsp;=&nbsp;None,</div></div><div class=\"1376\" style=\"display: none;\"><div style=\"display: table-cell;\"></div><div style=\"display: table-cell;\">js_event_callbacks&nbsp;=&nbsp;{},</div></div><div class=\"1376\" style=\"display: none;\"><div style=\"display: table-cell;\"></div><div style=\"display: table-cell;\">js_property_callbacks&nbsp;=&nbsp;{},</div></div><div class=\"1376\" style=\"display: none;\"><div style=\"display: table-cell;\"></div><div style=\"display: table-cell;\">level&nbsp;=&nbsp;'glyph',</div></div><div class=\"1376\" style=\"display: none;\"><div style=\"display: table-cell;\"></div><div style=\"display: table-cell;\">muted&nbsp;=&nbsp;False,</div></div><div class=\"1376\" style=\"display: none;\"><div style=\"display: table-cell;\"></div><div style=\"display: table-cell;\">muted_glyph&nbsp;=&nbsp;None,</div></div><div class=\"1376\" style=\"display: none;\"><div style=\"display: table-cell;\"></div><div style=\"display: table-cell;\">name&nbsp;=&nbsp;None,</div></div><div class=\"1376\" style=\"display: none;\"><div style=\"display: table-cell;\"></div><div style=\"display: table-cell;\">nonselection_glyph&nbsp;=&nbsp;Circle(id='1373', ...),</div></div><div class=\"1376\" style=\"display: none;\"><div style=\"display: table-cell;\"></div><div style=\"display: table-cell;\">selection_glyph&nbsp;=&nbsp;None,</div></div><div class=\"1376\" style=\"display: none;\"><div style=\"display: table-cell;\"></div><div style=\"display: table-cell;\">subscribed_events&nbsp;=&nbsp;[],</div></div><div class=\"1376\" style=\"display: none;\"><div style=\"display: table-cell;\"></div><div style=\"display: table-cell;\">tags&nbsp;=&nbsp;[],</div></div><div class=\"1376\" style=\"display: none;\"><div style=\"display: table-cell;\"></div><div style=\"display: table-cell;\">view&nbsp;=&nbsp;CDSView(id='1375', ...),</div></div><div class=\"1376\" style=\"display: none;\"><div style=\"display: table-cell;\"></div><div style=\"display: table-cell;\">visible&nbsp;=&nbsp;True,</div></div><div class=\"1376\" style=\"display: none;\"><div style=\"display: table-cell;\"></div><div style=\"display: table-cell;\">x_range_name&nbsp;=&nbsp;'default',</div></div><div class=\"1376\" style=\"display: none;\"><div style=\"display: table-cell;\"></div><div style=\"display: table-cell;\">y_range_name&nbsp;=&nbsp;'default')</div></div></div>\n",
       "<script>\n",
       "(function() {\n",
       "  var expanded = false;\n",
       "  var ellipsis = document.getElementById(\"1377\");\n",
       "  ellipsis.addEventListener(\"click\", function() {\n",
       "    var rows = document.getElementsByClassName(\"1376\");\n",
       "    for (var i = 0; i < rows.length; i++) {\n",
       "      var el = rows[i];\n",
       "      el.style.display = expanded ? \"none\" : \"table-row\";\n",
       "    }\n",
       "    ellipsis.innerHTML = expanded ? \"&hellip;)\" : \"&lsaquo;&lsaquo;&lsaquo;\";\n",
       "    expanded = !expanded;\n",
       "  });\n",
       "})();\n",
       "</script>\n"
      ],
      "text/plain": [
       "GlyphRenderer(id='1374', ...)"
      ]
     },
     "execution_count": 6,
     "metadata": {},
     "output_type": "execute_result"
    },
    {
     "data": {
      "text/html": [
       "\n",
       "\n",
       "\n",
       "\n",
       "\n",
       "\n",
       "  <div class=\"bk-root\" id=\"c1d000a2-981a-4f29-80d8-200aa95293f8\" data-root-id=\"1412\"></div>\n"
      ]
     },
     "metadata": {},
     "output_type": "display_data"
    },
    {
     "data": {
      "application/javascript": [
       "(function(root) {\n",
       "  function embed_document(root) {\n",
       "    \n",
       "  var docs_json = {\"35a96014-068e-49e2-9896-65cd97a9929f\":{\"roots\":{\"references\":[{\"attributes\":{\"children\":[{\"id\":\"1411\",\"type\":\"ToolbarBox\"},{\"id\":\"1409\",\"type\":\"GridBox\"}]},\"id\":\"1412\",\"type\":\"Column\"},{\"attributes\":{},\"id\":\"1323\",\"type\":\"LinearScale\"},{\"attributes\":{\"fill_alpha\":{\"value\":0.3},\"fill_color\":{\"value\":\"firebrick\"},\"line_alpha\":{\"value\":0.3},\"line_color\":{\"value\":\"firebrick\"},\"x\":{\"field\":\"x\"},\"y\":{\"field\":\"y\"}},\"id\":\"1372\",\"type\":\"Circle\"},{\"attributes\":{},\"id\":\"1325\",\"type\":\"LinearScale\"},{\"attributes\":{\"callback\":null,\"data\":{\"x\":[0.27053900765121786,0.032047464430750794,0.4532168420777104,0.8590949396249461,0.5989029495821618,0.28332707215014974,0.4895697474370059,0.8748399770983192,0.7445191059954609,0.6842466329601095,0.5089459058046779,0.31506365221644606,0.4015898427335959,0.27679327482717,0.8992672553997375,0.9895955203332877,0.8563805129875157,0.28479490161457954,0.2625931220900183,0.43174028598003145,0.6130897868563513,0.37458089648611215,0.61936086268097,0.855621202962868,0.9938985537406781,0.6932409727056563,0.7014802167817259,0.11651926871282658,0.9952772410295466,0.057153275943253035,0.3497757334408972,0.15855242752897258,0.6832806901082014,0.012881257132272061,0.2687360825201618,0.36670976389000853,0.46547100751818116,0.45704549862814947,0.6745574002874998,0.7681170508018645,0.9759792776390808,0.7453162035999612,0.7234447709245844,0.4176206956146572,0.6132924615019615,0.5095411149135679,0.946459461992585,0.2694277478622842,0.5843186710672352,0.7179347608458787,0.044601089559271556,0.7862035417027321,0.20727006770528567,0.9686628982339354,0.4875533311225566,0.12980756299969887,0.3288154910008042,0.17269110169794688,0.7661642284568975,0.6673649240257354,0.40169869692627647,0.3905186696440557,0.29265274426791354,0.05345871633260446,0.9676830896954711,0.7542910927226314,0.07226182231601819,0.6889508969338147,0.33316604459214416,0.5023509731868194,0.6068855014620884,0.32155006278479126,0.4983645570754778,0.8515729261475065,0.8531121098555884,0.5040401209108835,0.08906020432560746,0.12831675770394924,0.5267106464343322,0.760675415761074,0.8309865386249881,0.07106787698230999,0.8229800702517693,0.6836636475428307,0.47080264397360494,0.5435229250576998,0.3507742931898823,0.1870883428100849,0.3956907542596122,0.039330405208173214,0.7155923529992017,0.6400442250184273,0.2140296644529397,0.5606820805762857,0.042071158797546526,0.8303784626145829,0.8218001437209567,0.46829958201008903,0.46171243654096505,0.19089361649337555,0.33049628938558007,0.8408922808865448,0.30940523376448237,0.2245334503915707,0.320299277099965,0.3395217279115328,0.5444131889099252,0.9669106966658882,0.16672846846714817,0.9886855353077224,0.5465518593342578,0.9806696718123347,0.19112533415565824,0.8201402155089983,0.251519280730337,0.8588969762603027,0.6616640546346721,0.9277064466378069,0.6503184913116167,0.36167159279448624,0.6433903359171764,0.7684606216449786,0.06260064739680848,0.30232759122547015,0.5666585856118016,0.5444523988106984,0.5173888998411855,0.2754467277549557,0.06975308013886272,0.624411481010348,0.9210965487461259,0.9297344030699188,0.9984794052025787,0.5390918597976981,0.016773955644540317,0.8713097545778807,0.13005360438069746,0.7487237210108971,0.754154809463984,0.7527307081297334,0.8678035459849163,0.5721125249397954,0.15952593879606847,0.9224481010315541,0.08070596171643896,0.27754571185321175,0.8347971892923304,0.519823658275368,0.04244396341011858,0.6946937291039489,0.2315726098097638,0.8121149151369353,0.8730307358087832,0.3056397429655331,0.5349379075186502,0.5221040577418882,0.22289788270967936,0.694964680999399,0.9957457580535769,0.3582075020193164,0.1422944813724144,0.3513958386092898,0.840369601668434,0.8601783720965802,0.34772803311137024,0.842468814325743,0.5514903596302525,0.5111238889579477,0.39879480517400023,0.6756715615114323,0.7231900052212583,0.08141786809346618,0.5985353585977564,0.3815912336855928,0.07923863044157975,0.4196099509908495,0.9795102193306899,0.07140200858568901,0.9147630248041845,0.04814493272772846,0.24771022743633464,0.08694018392363712,0.1895257470662297,0.03865626988728732,0.32487324728568645,0.11378988722736438,0.7483987923565455,0.45289320835742475,0.4175044503783034,0.05322423225052164,0.250841470240711,0.3964650896120665,0.865243744545522,0.819737456248102,0.6765357538003417,0.7098674523345081,0.807421027509619,0.9354858744198593,0.6986442342933203,0.794154810564588,0.30994923018813036,0.8527676574280286,0.8668556389239752,0.987678768211135,0.9140697203694114,0.6460023906151101,0.9029805759566089,0.7377479755593815,0.8921191635883366,0.2824168836245914,0.4129300858544239,0.5424437421636826,0.7006881460255809,0.6435543167089577,0.3359565564711142,0.08286480576305322,0.10364243175333909,0.7353288943682994,0.16589886931137954,0.12709317639369477,0.06818329444835414,0.9440060316499697,0.00605443518527804,0.13238194886226506,0.8006158478103015,0.09844851448584357,0.6092133469398573,0.02973171798695584,0.9943113007050292,0.5614462448531353,0.5949778779689084,0.5630314997352412,0.9945219680347955,0.5610934165549734,0.9346359741876403,0.07900519682189777,0.6089350113071674,0.931773590642135,0.61107201563867,0.3925739060550746,0.10203288395650156,0.5889761119649952,0.018106813063912597,0.5281118700096935,0.7536548796395681,0.04127865901585803,0.1851369678706125,0.12294059546998637,0.17934173109047258,0.5261961193852208,0.8132407290865615,0.49640765617510063,0.045323224613645796,0.5536347327750634,0.12194083542632073,0.8705688467832087,0.3307782334977979,0.29483002991700324,0.0015461409166948048,0.7189512569309532,0.9442647587247922,0.7666350729326783,0.3563390036093981,0.07867113599308184,0.3296873552206607,0.6491137107567414,0.003385715741248463,0.47114559527031563,0.021517578251235125,0.6258025572545908,0.7246945490037223,0.8086821056622432,0.8412694995042166,0.7351583785362966,0.9292795630001939,0.11869617272692312,0.38051516658208984,0.6300032801359289,0.02020334745484531,0.14397151190151092,0.6934375604921676,0.0036205035729606205,0.0064564018330981465,0.09425716356053515,0.8882203967507502,0.494550515346198,0.07855353661379572,0.7600157706137987,0.06499267578647527,0.1272122904523756,0.10373849911302335,0.6003232344441662,0.05674724075186355,0.03192415750469613,0.3037578809507707,0.2690569682710485,0.2372191646637496,0.6766499249723134,0.07923311785346698,0.81155543390178,0.7634020421022812,0.33767118612969116,0.035641256112084796,0.4717949368767216,0.49251098774652935,0.7058623535183502,0.11392548920756529,0.5679641642812727,0.1668396360087826,0.48685250358542254,0.8242238337785207,0.26664201727483594,0.3977461868136293,0.6739264202519127,0.6221816013403023,0.56106411824993,0.941019844650453,0.27366630819557247,0.18310235648864748,0.49331645166546956,0.4843888264875351,0.5312693728317736,0.06412221493377546,0.9574961026586877,0.24982244317082447,0.11730137274493102,0.22102210184582216,0.6688718393832036,0.6664409842755804,0.696588516027232,0.23242873127908703,0.41512783806446474,0.8894962161458855,0.5274524791376779,0.16059123635363604,0.3513064100762291,0.40941241696797726,0.7986356155241389,0.2902968171367326,0.21707671299933995,0.03476333127595921,0.3784914080895262,0.9444108508429586,0.6358321069758263,0.6265892785460624,0.6684780410394968,0.19693074342740735,0.8490904168166699,0.166275087555944,0.6787730636353984,0.06587237871067642,0.7179412431503733,0.5410787858137744,0.5107420191678036,0.24834115990955719,0.07458389441664548,0.7722046800901976,0.5535595481589775,0.8017132756101988,0.3142886277034431,0.8984080047374639,0.7005142512428201,0.22863495673021939,0.6798040231261704,0.0028893305326247454,0.1609391673654631,0.17698541167454784,0.16346240294893677,0.9080900664547668,0.009975316505918874,0.3306594986771173,0.026689148609367552,0.8152902235823681,0.027904810004557135,0.37278381012188033,0.8373267580857916,0.19726793719287572,0.8853366751742133,0.09509211120929162,0.7798618948509407,0.6885339475036363,0.5096016211311745,0.8346124838011764,0.006352807793305271,0.5684401312667776,0.18922306566317526,0.9979063557305435,0.3719949012472319,0.2585011138911618,0.5984692571611913,0.04667424890445648,0.4355082220190194,0.2175732692274901,0.45809014039780127,0.06839854235572074,0.5228796951329081,0.8968627373591753,0.07586598566155822,0.05585783576334713,0.9537387236448549,0.8893186953772051,0.5098028215466214,0.6765711039823914,0.8823994702845382,0.020949937829648047,0.1003920370097241,0.538958939548427,0.9062513477949337,0.16181092289399246,0.04453631830904059,0.19027465080645445,0.8613490763876634,0.06939930168295738,0.22318177409127815,0.4153003108965464,0.558688296287487,0.4948653094893354,0.33178619863804226,0.7707457406269421,0.8443049685463242,0.6325155270042805,0.1002220897834456,0.13747457232715965,0.2511304302490919,0.5955312290072564,0.7904476950738188,0.8346356392934196,0.14768568295870943,0.8478271005013681,0.6222308472937222,0.9856786376310414,0.8976193605963027,0.7144206494425472,0.5121257946628097,0.7085658056367027,0.31672496696699726,0.34667678045681694,0.7472460592367134,0.17476245289701775,0.3118831624729488,0.7708812741951858,0.34130411403986316,0.5468234207511775,0.9880105633816273,0.7969216851390929,0.12097104673885106,0.9912610645115167,0.27059847865147646,0.2266114416170486,0.5738660141437858,0.6049948164278096,0.9012978615069086,0.800674846349703,0.9420144324515023,0.7427126570071302,0.5196135323602213,0.45142818406704854,0.03344380940018843,0.030615709833466953,0.4037070481329793,0.27340626042149174,0.13509403643293316,0.2632221343732617,0.16361067731887402,0.02759811666428824,0.7122036160839165,0.9029782262065013,0.42294223031253975,0.10755843111944963,0.6013800657272496,0.49819853121534174,0.7551504434386016,0.8227831807216939,0.7744911456497293,0.47759362157876983,0.3812059342421179,0.18634998353540377,0.6165560718733416,0.265384840641525,0.9260569763814579,0.39226105338856154,0.9175082429413864,0.17887970026897504,0.056094117590530956,0.5908896360643661,0.26778873803557146,0.7836294982316672,0.15060509597477822,0.303636387738344,0.8260435752504355,0.6736340402679618,0.7364218491498792,0.08218803735743274,0.7275171406261691,0.6833694658601998,0.4340618873047334,0.456835830643852,0.8512850368132736,0.7798675985470662,0.8512885996760773],\"y\":[0.8196372594593819,0.2670428893867596,0.6348342032276497,0.5495482134949267,0.6752507539964014,0.8861779315381041,0.676246408905886,0.5259540145743232,0.3578847405845137,0.4295056556981902,0.5817074392732536,0.889805454380274,0.9397254877717459,0.44677887769139546,0.7838516609787427,0.7811583579102102,0.02398716905726883,0.37351025121511827,0.716697924771213,0.426892905380444,0.6062171060544232,0.5657322696865774,0.20111647238003882,0.7116226885455973,0.48973432375470893,0.540817968281164,0.7008314951006865,0.8490883712495747,0.04123100612351316,0.4431323363156484,0.6507462841475405,0.6128338522792223,0.04680761426265001,0.6771804174621877,0.7039628556177587,0.005954417647892174,0.6488200175545783,0.8353307380181831,0.4293790066858706,0.05630433906550525,0.6607204774827032,0.7734092689641974,0.290030226609978,0.9417198178468,0.08230854990068326,0.6661200484015276,0.699150971747557,0.9342053399444853,0.45544350732688976,0.70477273852369,0.2832641595527562,0.4440364936029969,0.9496005026097668,0.8163398250400389,0.813069637372314,0.8459591242753293,0.8343780318383516,0.5239036054831783,0.8796419433942669,0.3169009060739806,0.24638945923542332,0.4790205708742655,0.6991707134286786,0.42150729042308566,0.00394388894723241,0.9493685945289877,0.6872441300927091,0.17525076259862093,0.29021930814418784,0.7364900396063606,0.8265565896798883,0.2658709983780514,0.13183393098506746,0.40660665347596814,0.28106958383498426,0.8740923108770603,0.07815940466218241,0.7863319279130528,0.1669387593693512,0.6738961497457643,0.436147893593143,0.4824051104037326,0.9052618420668561,0.9683422527393512,0.8929895999879658,0.5840852782328723,0.604912911153223,0.004688188992029385,0.07939450909324863,0.004328820799470612,0.7442163549832257,0.6550046882944588,0.17676830243899477,0.5174991388990547,0.37523964647033425,0.8817430125224658,0.5114418004941382,0.3757119827765185,0.06961869037671864,0.08455501809688093,0.9552051822021874,0.821666354689769,0.03866765177781184,0.5542000730367428,0.6289578322191781,0.4579585640194357,0.35027538927768376,0.5453196527925798,0.07983172700473684,0.821430832743273,0.9886615947911815,0.0499204800252433,0.3571487338005588,0.5298047935274564,0.7607173294204012,0.5695107655990237,0.3101744260051529,0.7434309632797418,0.5837818463815984,0.5003585742479749,0.435679126328295,0.9442507092360324,0.4824411542152729,0.486003159677762,0.863057681360658,0.29534132727820583,0.9674915831934549,0.6200678310323661,0.5836627693017788,0.2635110496022667,0.3085745092415606,0.3253952372379023,0.724793726042183,0.6374421295924033,0.7431952398028009,0.4881000477370627,0.38274796952727164,0.7493344728024834,0.38194985804226234,0.6869998895901552,0.7108930519406937,0.9275505185696961,0.28171003617288815,0.8117045463575647,0.020101028626446804,0.1349065458022407,0.20407500192488104,0.8827326321606324,0.6499532983929148,0.5060615303297357,0.8558298947205785,0.9112456816136055,0.010003863038303917,0.3039928467774672,0.7113940331003942,0.43697797856704923,0.11252796552139255,0.3823611961704184,0.7362262595225523,0.4336616066503227,0.9543166233641721,0.6468946463482813,0.973725507233377,0.36578630782749233,0.9704874276137418,0.503775638969469,0.550383784770854,0.36637067749967345,0.8950044532257744,0.3589739673519988,0.6055876151056012,0.3259484526643347,0.4422314822059126,0.06572120907700196,0.7628205139213414,0.11763888225854624,0.5066829995964813,0.9223317727886073,0.5422499221202007,0.22750052714249946,0.8285912725058543,0.5896297878319825,0.33934159343824777,0.9965716291812405,0.9040509515645713,0.7556924829447959,0.12630549872821595,0.952840275171735,0.8625279496634666,0.8312616500457476,0.05956627453228258,0.1114341719371118,0.702598249601248,0.2352077482298638,0.07699867276766403,0.6328463003328902,0.4949164177505946,0.11282763554264374,0.548391464371291,0.3848870414994482,0.590718881273209,0.5779121129750117,0.9051969725539825,0.39572710703073277,0.32240390505742156,0.4776834971465198,0.012535485670191249,0.720800707861121,0.2208209448157047,0.6390861631134734,0.8667984972515569,0.6995373335822596,0.5669647331047071,0.16605159743944942,0.5726967117410314,0.5499500063695467,0.7883065883246135,0.6620880556584059,0.33876765036302325,0.1628930463092123,0.8018379814799153,0.3432089612318834,0.17688585851738803,0.5032329225990229,0.530577261727747,0.4213005064880069,0.13721827209634352,0.24863533625777257,0.07022890055659126,0.5661548142624848,0.39552692271349754,0.21378963547860463,0.5999802091798516,0.15104489627977402,0.5276450595634793,0.6642926883396224,0.06984317716403732,0.5728294247630347,0.9301700703769388,0.5442806493128728,0.638666738538372,0.5438510485623376,0.9850693000086801,0.6415015730913516,0.37291583550122576,0.1671844413855642,0.9092849919343602,0.6543156103721791,0.39003645864381353,0.17344942546771935,0.43393934836562265,0.7599527158184408,0.7038550730731631,0.6852962609378292,0.2979298463461957,0.7008239654614266,0.09582718511923594,0.25033112413477043,0.1852572634461691,0.5183171475367189,0.9235178380202491,0.26059406299381793,0.681487731965582,0.5420851009722183,0.5542994946534061,0.5078213201413986,0.1472020858071037,0.48838597179617604,0.07599346879295321,0.039953711394015934,0.4963258885437971,0.40891023931302706,0.6869558966712972,0.3563869840881235,0.4026545082990365,0.920916626352059,0.23035172217139033,0.3042794360391792,0.6765858809494045,0.042888798874286316,0.4245727373126087,0.04790013511527347,0.4044898054028474,0.6863458478565516,0.41033547169228635,0.7151663873180167,0.8913456326885458,0.9705869994986347,0.5357271307315649,0.42402609512091416,0.2562888672669067,0.19312150365974234,0.02286696316844994,0.028322730712624478,0.4754534505258391,0.9107666098415461,0.9065430134103899,0.527700414695492,0.8868337280610586,0.8887778614328253,0.7505672010747515,0.03882329642600635,0.7703378766476605,0.273890934511534,0.8363982989845266,0.3642734589014016,0.9825703034136649,0.8097142352576812,0.3090234671616474,0.13429416473441935,0.4898653882772035,0.5192071194086351,0.33606597169532904,0.9410531869991167,0.09149229021269778,0.7791545801490705,0.6821899633964644,0.22115464144936903,0.23048723385322034,0.7781338649124407,0.643742932624653,0.06570253496042344,0.2966151662131754,0.21956352958864978,0.8381190263519837,0.18655918219863077,0.16748145308589513,0.07452972870013175,0.7322107772395431,0.7779938668417543,0.2608294896189858,0.16029620443049186,0.5219339160311752,0.4552970119073434,0.6620998409309553,0.3667155767857786,0.5647228504649354,0.5768915675112505,0.4689548172692737,0.9166441700975866,0.2004788910314974,0.3730272431760754,0.3196614806251057,0.5310662688682397,0.5272176443898643,0.9878697779816266,0.15767513429047642,0.86003185331415,0.529092401358253,0.05278408733212059,0.15119368642123376,0.9839528791119208,0.3965810061343513,0.0029698967237618,0.6034416179163133,0.1632186162810252,0.44862799340849135,0.2218995006682727,0.7569169331559439,0.16618252851712256,0.28870698856377575,0.9200186030822288,0.24571970485602157,0.8740736718333477,0.9421005141158435,0.783995873098483,0.9911529886517407,0.018533092992637057,0.26141365842608655,0.8541690781169355,0.7138001817115305,0.3107272185958876,0.9994886919226141,0.2601958016118888,0.03995228179550314,0.7599796006799918,0.31799470787238104,0.5680742139425204,0.7965665464324865,0.897008282409515,0.3466546832097511,0.09482958854243384,0.7147396995477016,0.5555209033023878,0.07630004161429293,0.3733327317178792,0.5261594735612412,0.8756348750841265,0.7793185323840491,0.879260645604157,0.8056468980324487,0.6566238427485716,0.8213968763944272,0.06348744934128503,0.10115564543408917,0.7360196538989154,0.06692006330246003,0.8346269877321941,0.37772950037394126,0.8351782947858133,0.16492721970212765,0.7071036036369674,0.34313236319417006,0.7691762735317377,0.5481300243856465,0.007047212385336232,0.17083723615381907,0.6396832956815903,0.140650372707936,0.15029153807461892,0.9892009476378796,0.9669404488712807,0.7038192670953443,0.3532209149407658,0.26390963560085456,0.5621005490457884,0.17897721524127286,0.5767905729450631,0.3633821324993226,0.4580668874708552,0.6996543998675235,0.7035968680910096,0.38386312330370376,0.030770466160614296,0.41479068588871715,0.9068762037747223,0.827921622870665,0.5951542839030886,0.677128500016714,0.9728426029022382,0.22157311931273205,0.709270126264194,0.024161278277346154,0.4603170863524233,0.04889285698739365,0.8474462559183477,0.526995489537227,0.49419708770538306,0.19480823391903734,0.16715418542730065,0.25277219421418096,0.05459756159786511,0.12246096436583431,0.3074943871903957,0.629101516602822,0.6452753872593512,0.9152598844387467,0.3065662475557803,0.6740175173243501,0.742174318436384,0.8155524254198779,0.6112376814704228,0.9138076983766588,0.37062709291303875,0.507035567627072,0.7022916862151528,0.9674573728001914,0.5063211631322483,0.8933610801002172,0.9092722565252844,0.9399733179704107,0.2738791605780605,0.7535134815734152,0.5321388517633622,0.737984115606576,0.7842569465387242,0.6908465434696002,0.2445839915893362,0.7155992810510832,0.33944172862170263,0.7748082698063746,0.8576132209126441,0.6728503920218815,0.6400708109583684,0.4602463831960668,0.6015666468370277,0.5765069074724237,0.14389330250770915,0.2632569225516067,0.1610169015887648,0.16613621022349345,0.6174131915229194,0.09228692283080397,0.9803515605294919,0.5325340363345611,0.07129978761467037,0.5429313395352964,0.8430314443119821,0.0006007155386568153,0.4637028055449579,0.9329070853135123,0.6160758049663727,0.5846284763480205,0.8234159689420975,0.9698132867178401,0.6070344130817564,0.6760289836988671,0.7556371299345666,0.3207867326520598,0.593174636961392]},\"selected\":{\"id\":\"1378\",\"type\":\"Selection\"},\"selection_policy\":{\"id\":\"1387\",\"type\":\"UnionRenderers\"}},\"id\":\"1280\",\"type\":\"ColumnDataSource\"},{\"attributes\":{\"active_drag\":\"auto\",\"active_inspect\":\"auto\",\"active_multi\":null,\"active_scroll\":\"auto\",\"active_tap\":\"auto\",\"tools\":[{\"id\":\"1304\",\"type\":\"LassoSelectTool\"},{\"id\":\"1305\",\"type\":\"ResetTool\"}]},\"id\":\"1306\",\"type\":\"Toolbar\"},{\"attributes\":{\"text\":\"Select Here\"},\"id\":\"1284\",\"type\":\"Title\"},{\"attributes\":{\"formatter\":{\"id\":\"1395\",\"type\":\"BasicTickFormatter\"},\"ticker\":{\"id\":\"1328\",\"type\":\"BasicTicker\"}},\"id\":\"1327\",\"type\":\"LinearAxis\"},{\"attributes\":{\"text\":\"Watch Second Mirror Graph Here\"},\"id\":\"1348\",\"type\":\"Title\"},{\"attributes\":{\"below\":[{\"id\":\"1358\",\"type\":\"LinearAxis\"}],\"center\":[{\"id\":\"1362\",\"type\":\"Grid\"},{\"id\":\"1367\",\"type\":\"Grid\"}],\"left\":[{\"id\":\"1363\",\"type\":\"LinearAxis\"}],\"plot_height\":400,\"plot_width\":400,\"renderers\":[{\"id\":\"1374\",\"type\":\"GlyphRenderer\"}],\"title\":{\"id\":\"1348\",\"type\":\"Title\"},\"toolbar\":{\"id\":\"1369\",\"type\":\"Toolbar\"},\"toolbar_location\":null,\"x_range\":{\"id\":\"1350\",\"type\":\"Range1d\"},\"x_scale\":{\"id\":\"1354\",\"type\":\"LinearScale\"},\"y_range\":{\"id\":\"1352\",\"type\":\"Range1d\"},\"y_scale\":{\"id\":\"1356\",\"type\":\"LinearScale\"}},\"id\":\"1347\",\"subtype\":\"Figure\",\"type\":\"Plot\"},{\"attributes\":{\"ticker\":{\"id\":\"1295\",\"type\":\"BasicTicker\"}},\"id\":\"1298\",\"type\":\"Grid\"},{\"attributes\":{\"formatter\":{\"id\":\"1382\",\"type\":\"BasicTickFormatter\"},\"ticker\":{\"id\":\"1295\",\"type\":\"BasicTicker\"}},\"id\":\"1294\",\"type\":\"LinearAxis\"},{\"attributes\":{},\"id\":\"1328\",\"type\":\"BasicTicker\"},{\"attributes\":{\"fill_alpha\":{\"value\":0.1},\"fill_color\":{\"value\":\"#1f77b4\"},\"line_alpha\":{\"value\":0.1},\"line_color\":{\"value\":\"#1f77b4\"},\"x\":{\"field\":\"x\"},\"y\":{\"field\":\"y\"}},\"id\":\"1373\",\"type\":\"Circle\"},{\"attributes\":{},\"id\":\"1292\",\"type\":\"LinearScale\"},{\"attributes\":{\"data_source\":{\"id\":\"1282\",\"type\":\"ColumnDataSource\"},\"glyph\":{\"id\":\"1372\",\"type\":\"Circle\"},\"hover_glyph\":null,\"muted_glyph\":null,\"nonselection_glyph\":{\"id\":\"1373\",\"type\":\"Circle\"},\"selection_glyph\":null,\"view\":{\"id\":\"1375\",\"type\":\"CDSView\"}},\"id\":\"1374\",\"type\":\"GlyphRenderer\"},{\"attributes\":{\"fill_alpha\":{\"value\":0.1},\"fill_color\":{\"value\":\"#1f77b4\"},\"line_alpha\":{\"value\":0.1},\"line_color\":{\"value\":\"#1f77b4\"},\"x\":{\"field\":\"x\"},\"y\":{\"field\":\"y\"}},\"id\":\"1311\",\"type\":\"Circle\"},{\"attributes\":{\"tools\":[{\"id\":\"1304\",\"type\":\"LassoSelectTool\"},{\"id\":\"1305\",\"type\":\"ResetTool\"},{\"id\":\"1337\",\"type\":\"SaveTool\"},{\"id\":\"1368\",\"type\":\"SaveTool\"}]},\"id\":\"1410\",\"type\":\"ProxyToolbar\"},{\"attributes\":{\"formatter\":{\"id\":\"1397\",\"type\":\"BasicTickFormatter\"},\"ticker\":{\"id\":\"1333\",\"type\":\"BasicTicker\"}},\"id\":\"1332\",\"type\":\"LinearAxis\"},{\"attributes\":{\"formatter\":{\"id\":\"1384\",\"type\":\"BasicTickFormatter\"},\"ticker\":{\"id\":\"1300\",\"type\":\"BasicTicker\"}},\"id\":\"1299\",\"type\":\"LinearAxis\"},{\"attributes\":{\"dimension\":1,\"ticker\":{\"id\":\"1333\",\"type\":\"BasicTicker\"}},\"id\":\"1336\",\"type\":\"Grid\"},{\"attributes\":{},\"id\":\"1295\",\"type\":\"BasicTicker\"},{\"attributes\":{},\"id\":\"1364\",\"type\":\"BasicTicker\"},{\"attributes\":{\"data_source\":{\"id\":\"1280\",\"type\":\"ColumnDataSource\"},\"glyph\":{\"id\":\"1310\",\"type\":\"Circle\"},\"hover_glyph\":null,\"muted_glyph\":null,\"nonselection_glyph\":{\"id\":\"1311\",\"type\":\"Circle\"},\"selection_glyph\":null,\"view\":{\"id\":\"1313\",\"type\":\"CDSView\"}},\"id\":\"1312\",\"type\":\"GlyphRenderer\"},{\"attributes\":{},\"id\":\"1389\",\"type\":\"UnionRenderers\"},{\"attributes\":{\"text\":\"Watch First Graph Here\"},\"id\":\"1317\",\"type\":\"Title\"},{\"attributes\":{},\"id\":\"1384\",\"type\":\"BasicTickFormatter\"},{\"attributes\":{\"fill_alpha\":{\"value\":0.4},\"fill_color\":{\"value\":\"#1f77b4\"},\"line_alpha\":{\"value\":0.4},\"line_color\":{\"value\":\"#1f77b4\"},\"x\":{\"field\":\"x\"},\"y\":{\"field\":\"y\"}},\"id\":\"1310\",\"type\":\"Circle\"},{\"attributes\":{},\"id\":\"1333\",\"type\":\"BasicTicker\"},{\"attributes\":{\"source\":{\"id\":\"1281\",\"type\":\"ColumnDataSource\"}},\"id\":\"1344\",\"type\":\"CDSView\"},{\"attributes\":{\"js_property_callbacks\":{\"change:indices\":[{\"id\":\"1379\",\"type\":\"CustomJS\"}]}},\"id\":\"1378\",\"type\":\"Selection\"},{\"attributes\":{},\"id\":\"1390\",\"type\":\"Selection\"},{\"attributes\":{\"callback\":null},\"id\":\"1350\",\"type\":\"Range1d\"},{\"attributes\":{\"source\":{\"id\":\"1282\",\"type\":\"ColumnDataSource\"}},\"id\":\"1375\",\"type\":\"CDSView\"},{\"attributes\":{\"active_drag\":\"auto\",\"active_inspect\":\"auto\",\"active_multi\":null,\"active_scroll\":\"auto\",\"active_tap\":\"auto\",\"tools\":[{\"id\":\"1337\",\"type\":\"SaveTool\"}]},\"id\":\"1338\",\"type\":\"Toolbar\"},{\"attributes\":{\"callback\":null,\"data\":{\"x\":[],\"y\":[]},\"selected\":{\"id\":\"1390\",\"type\":\"Selection\"},\"selection_policy\":{\"id\":\"1391\",\"type\":\"UnionRenderers\"}},\"id\":\"1282\",\"type\":\"ColumnDataSource\"},{\"attributes\":{},\"id\":\"1391\",\"type\":\"UnionRenderers\"},{\"attributes\":{},\"id\":\"1337\",\"type\":\"SaveTool\"},{\"attributes\":{\"below\":[{\"id\":\"1294\",\"type\":\"LinearAxis\"}],\"center\":[{\"id\":\"1298\",\"type\":\"Grid\"},{\"id\":\"1303\",\"type\":\"Grid\"}],\"left\":[{\"id\":\"1299\",\"type\":\"LinearAxis\"}],\"plot_height\":400,\"plot_width\":400,\"renderers\":[{\"id\":\"1312\",\"type\":\"GlyphRenderer\"}],\"title\":{\"id\":\"1284\",\"type\":\"Title\"},\"toolbar\":{\"id\":\"1306\",\"type\":\"Toolbar\"},\"toolbar_location\":null,\"x_range\":{\"id\":\"1286\",\"type\":\"DataRange1d\"},\"x_scale\":{\"id\":\"1290\",\"type\":\"LinearScale\"},\"y_range\":{\"id\":\"1288\",\"type\":\"DataRange1d\"},\"y_scale\":{\"id\":\"1292\",\"type\":\"LinearScale\"}},\"id\":\"1283\",\"subtype\":\"Figure\",\"type\":\"Plot\"},{\"attributes\":{\"toolbar\":{\"id\":\"1410\",\"type\":\"ProxyToolbar\"},\"toolbar_location\":\"above\"},\"id\":\"1411\",\"type\":\"ToolbarBox\"},{\"attributes\":{\"args\":{\"s1\":{\"id\":\"1280\",\"type\":\"ColumnDataSource\"},\"s2\":{\"id\":\"1281\",\"type\":\"ColumnDataSource\"},\"s3\":{\"id\":\"1282\",\"type\":\"ColumnDataSource\"}},\"code\":\"\\n        var inds = cb_obj.indices;\\n        var d1 = s1.data;\\n        \\n        // data for 2nd graph\\n        var d2 = s2.data;     \\n        d2['x'] = []\\n        d2['y'] = []     \\n \\n        for (var i = 0; i < inds.length; i++) {\\n            d2['x'].push(d1['x'][inds[i]])\\n            d2['y'].push(d1['y'][inds[i]])\\n        }\\n        \\n        // data for 3rd graph\\n        var d3 = s3.data;\\n        d3['x'] = []\\n        d3['y'] = []\\n        d3['x'] = d1['x'].filter(x => !d2['x'].includes(x));\\n        d3['y'] = d1['y'].filter(y => !d2['y'].includes(y));\\n        \\n        s2.change.emit();\\n        s3.change.emit();\\n    \"},\"id\":\"1379\",\"type\":\"CustomJS\"},{\"attributes\":{\"source\":{\"id\":\"1280\",\"type\":\"ColumnDataSource\"}},\"id\":\"1313\",\"type\":\"CDSView\"},{\"attributes\":{},\"id\":\"1387\",\"type\":\"UnionRenderers\"},{\"attributes\":{\"active_drag\":\"auto\",\"active_inspect\":\"auto\",\"active_multi\":null,\"active_scroll\":\"auto\",\"active_tap\":\"auto\",\"tools\":[{\"id\":\"1368\",\"type\":\"SaveTool\"}]},\"id\":\"1369\",\"type\":\"Toolbar\"},{\"attributes\":{},\"id\":\"1395\",\"type\":\"BasicTickFormatter\"},{\"attributes\":{},\"id\":\"1354\",\"type\":\"LinearScale\"},{\"attributes\":{},\"id\":\"1397\",\"type\":\"BasicTickFormatter\"},{\"attributes\":{\"fill_alpha\":{\"value\":0.1},\"fill_color\":{\"value\":\"#1f77b4\"},\"line_alpha\":{\"value\":0.1},\"line_color\":{\"value\":\"#1f77b4\"},\"x\":{\"field\":\"x\"},\"y\":{\"field\":\"y\"}},\"id\":\"1342\",\"type\":\"Circle\"},{\"attributes\":{},\"id\":\"1356\",\"type\":\"LinearScale\"},{\"attributes\":{\"ticker\":{\"id\":\"1359\",\"type\":\"BasicTicker\"}},\"id\":\"1362\",\"type\":\"Grid\"},{\"attributes\":{},\"id\":\"1382\",\"type\":\"BasicTickFormatter\"},{\"attributes\":{},\"id\":\"1403\",\"type\":\"BasicTickFormatter\"},{\"attributes\":{\"below\":[{\"id\":\"1327\",\"type\":\"LinearAxis\"}],\"center\":[{\"id\":\"1331\",\"type\":\"Grid\"},{\"id\":\"1336\",\"type\":\"Grid\"}],\"left\":[{\"id\":\"1332\",\"type\":\"LinearAxis\"}],\"plot_height\":400,\"plot_width\":400,\"renderers\":[{\"id\":\"1343\",\"type\":\"GlyphRenderer\"}],\"title\":{\"id\":\"1317\",\"type\":\"Title\"},\"toolbar\":{\"id\":\"1338\",\"type\":\"Toolbar\"},\"toolbar_location\":null,\"x_range\":{\"id\":\"1319\",\"type\":\"Range1d\"},\"x_scale\":{\"id\":\"1323\",\"type\":\"LinearScale\"},\"y_range\":{\"id\":\"1321\",\"type\":\"Range1d\"},\"y_scale\":{\"id\":\"1325\",\"type\":\"LinearScale\"}},\"id\":\"1316\",\"subtype\":\"Figure\",\"type\":\"Plot\"},{\"attributes\":{\"formatter\":{\"id\":\"1403\",\"type\":\"BasicTickFormatter\"},\"ticker\":{\"id\":\"1359\",\"type\":\"BasicTicker\"}},\"id\":\"1358\",\"type\":\"LinearAxis\"},{\"attributes\":{\"fill_alpha\":{\"value\":0.5},\"fill_color\":{\"value\":\"lightgrey\"},\"level\":\"overlay\",\"line_alpha\":{\"value\":1.0},\"line_color\":{\"value\":\"black\"},\"line_dash\":[4,4],\"line_width\":{\"value\":2},\"xs_units\":\"screen\",\"ys_units\":\"screen\"},\"id\":\"1385\",\"type\":\"PolyAnnotation\"},{\"attributes\":{},\"id\":\"1405\",\"type\":\"BasicTickFormatter\"},{\"attributes\":{\"children\":[[{\"id\":\"1283\",\"subtype\":\"Figure\",\"type\":\"Plot\"},0,0],[{\"id\":\"1316\",\"subtype\":\"Figure\",\"type\":\"Plot\"},0,1],[{\"id\":\"1347\",\"subtype\":\"Figure\",\"type\":\"Plot\"},1,1]]},\"id\":\"1409\",\"type\":\"GridBox\"},{\"attributes\":{},\"id\":\"1305\",\"type\":\"ResetTool\"},{\"attributes\":{},\"id\":\"1359\",\"type\":\"BasicTicker\"},{\"attributes\":{\"ticker\":{\"id\":\"1328\",\"type\":\"BasicTicker\"}},\"id\":\"1331\",\"type\":\"Grid\"},{\"attributes\":{\"callback\":null},\"id\":\"1352\",\"type\":\"Range1d\"},{\"attributes\":{\"fill_alpha\":{\"value\":0.6},\"fill_color\":{\"value\":\"forestgreen\"},\"line_alpha\":{\"value\":0.6},\"line_color\":{\"value\":\"forestgreen\"},\"x\":{\"field\":\"x\"},\"y\":{\"field\":\"y\"}},\"id\":\"1341\",\"type\":\"Circle\"},{\"attributes\":{\"callback\":null},\"id\":\"1288\",\"type\":\"DataRange1d\"},{\"attributes\":{\"callback\":null},\"id\":\"1321\",\"type\":\"Range1d\"},{\"attributes\":{\"data_source\":{\"id\":\"1281\",\"type\":\"ColumnDataSource\"},\"glyph\":{\"id\":\"1341\",\"type\":\"Circle\"},\"hover_glyph\":null,\"muted_glyph\":null,\"nonselection_glyph\":{\"id\":\"1342\",\"type\":\"Circle\"},\"selection_glyph\":null,\"view\":{\"id\":\"1344\",\"type\":\"CDSView\"}},\"id\":\"1343\",\"type\":\"GlyphRenderer\"},{\"attributes\":{},\"id\":\"1388\",\"type\":\"Selection\"},{\"attributes\":{\"callback\":null,\"overlay\":{\"id\":\"1385\",\"type\":\"PolyAnnotation\"}},\"id\":\"1304\",\"type\":\"LassoSelectTool\"},{\"attributes\":{\"callback\":null},\"id\":\"1319\",\"type\":\"Range1d\"},{\"attributes\":{\"formatter\":{\"id\":\"1405\",\"type\":\"BasicTickFormatter\"},\"ticker\":{\"id\":\"1364\",\"type\":\"BasicTicker\"}},\"id\":\"1363\",\"type\":\"LinearAxis\"},{\"attributes\":{},\"id\":\"1368\",\"type\":\"SaveTool\"},{\"attributes\":{},\"id\":\"1290\",\"type\":\"LinearScale\"},{\"attributes\":{\"dimension\":1,\"ticker\":{\"id\":\"1364\",\"type\":\"BasicTicker\"}},\"id\":\"1367\",\"type\":\"Grid\"},{\"attributes\":{},\"id\":\"1300\",\"type\":\"BasicTicker\"},{\"attributes\":{\"callback\":null},\"id\":\"1286\",\"type\":\"DataRange1d\"},{\"attributes\":{\"callback\":null,\"data\":{\"x\":[],\"y\":[]},\"selected\":{\"id\":\"1388\",\"type\":\"Selection\"},\"selection_policy\":{\"id\":\"1389\",\"type\":\"UnionRenderers\"}},\"id\":\"1281\",\"type\":\"ColumnDataSource\"},{\"attributes\":{\"dimension\":1,\"ticker\":{\"id\":\"1300\",\"type\":\"BasicTicker\"}},\"id\":\"1303\",\"type\":\"Grid\"}],\"root_ids\":[\"1412\"]},\"title\":\"Bokeh Application\",\"version\":\"1.3.4\"}};\n",
       "  var render_items = [{\"docid\":\"35a96014-068e-49e2-9896-65cd97a9929f\",\"roots\":{\"1412\":\"c1d000a2-981a-4f29-80d8-200aa95293f8\"}}];\n",
       "  root.Bokeh.embed.embed_items_notebook(docs_json, render_items);\n",
       "\n",
       "  }\n",
       "  if (root.Bokeh !== undefined) {\n",
       "    embed_document(root);\n",
       "  } else {\n",
       "    var attempts = 0;\n",
       "    var timer = setInterval(function(root) {\n",
       "      if (root.Bokeh !== undefined) {\n",
       "        embed_document(root);\n",
       "        clearInterval(timer);\n",
       "      }\n",
       "      attempts++;\n",
       "      if (attempts > 100) {\n",
       "        console.log(\"Bokeh: ERROR: Unable to run BokehJS code because BokehJS library is missing\");\n",
       "        clearInterval(timer);\n",
       "      }\n",
       "    }, 10, root)\n",
       "  }\n",
       "})(window);"
      ],
      "application/vnd.bokehjs_exec.v0+json": ""
     },
     "metadata": {
      "application/vnd.bokehjs_exec.v0+json": {
       "id": "1412"
      }
     },
     "output_type": "display_data"
    }
   ],
   "source": [
    "from random import random\n",
    "\n",
    "from bokeh.layouts import row\n",
    "from bokeh.models import CustomJS, ColumnDataSource\n",
    "from bokeh.plotting import figure, output_file, show\n",
    "\n",
    "# output_file(\"callback.html\")\n",
    "\n",
    "x = [random() for x in range(500)]\n",
    "y = [random() for y in range(500)]\n",
    "\n",
    "s1 = ColumnDataSource(data=dict(x=x, y=y))\n",
    "s2 = ColumnDataSource(data=dict(x=[], y=[]))\n",
    "s3 = ColumnDataSource(data=dict(x=[], y=[]))\n",
    "\n",
    "p1 = figure(plot_width=400, plot_height=400, tools=[\"lasso_select\", \"reset\"], title=\"Select Here\")\n",
    "p1.circle('x', 'y', source=s1, alpha=0.4)\n",
    "\n",
    "p2 = figure(plot_width=400, plot_height=400, x_range=(0, 1), y_range=(0, 1),\n",
    "            tools=\"save\", title=\"Watch First Graph Here\")\n",
    "p2.circle('x', 'y', source=s2, color=\"forestgreen\", alpha=0.6)\n",
    "\n",
    "p3 = figure(plot_width=400, plot_height=400, x_range=(0, 1), y_range=(0, 1),\n",
    "            tools=\"save\", title=\"Watch Second Mirror Graph Here\")\n",
    "p3.circle('x', 'y', source=s3, color=\"firebrick\", alpha=0.3)\n",
    "\n",
    "\n",
    "s1.selected.js_on_change('indices', CustomJS(args=dict(s1=s1, s2=s2, s3=s3), code=\"\"\"\n",
    "        var inds = cb_obj.indices;\n",
    "        var d1 = s1.data;\n",
    "        \n",
    "        // data for 2nd graph\n",
    "        var d2 = s2.data;     \n",
    "        d2['x'] = []\n",
    "        d2['y'] = []     \n",
    " \n",
    "        for (var i = 0; i < inds.length; i++) {\n",
    "            d2['x'].push(d1['x'][inds[i]])\n",
    "            d2['y'].push(d1['y'][inds[i]])\n",
    "        }\n",
    "        \n",
    "        // data for 3rd graph\n",
    "        var d3 = s3.data;\n",
    "        d3['x'] = []\n",
    "        d3['y'] = []\n",
    "        d3['x'] = d1['x'].filter(x => !d2['x'].includes(x));\n",
    "        d3['y'] = d1['y'].filter(y => !d2['y'].includes(y));\n",
    "        \n",
    "        s2.change.emit();\n",
    "        s3.change.emit();\n",
    "    \"\"\")\n",
    ")\n",
    "\n",
    "# layout = column(row(p1, p2), p3)\n",
    "# show(layout)\n",
    "\n",
    "grid = gridplot([[p1, p2], [None, p3]])\n",
    "show(grid)"
   ]
  },
  {
   "cell_type": "markdown",
   "metadata": {},
   "source": [
    "# Server Based Plotting\n",
    "\n",
    "### why use a server?\n",
    "- data >> local machine or notebook<br><br>\n",
    "\n",
    "-- create deployable apps<br><br>\n",
    "\n",
    "- need to sync between python and the end user:<br>\n",
    "-- respond to browser events with computations or queries using python<br>\n",
    "-- automatically push updates the UI browser<br>\n",
    "-- streaming (periodic, timeout, and async callbacks)<br><br>\n",
    "\n",
    "- Bokeh's reactive client-server model can trigger server-side code\n",
    "- server supports automatic downsampling"
   ]
  },
  {
   "cell_type": "markdown",
   "metadata": {
    "slideshow": {
     "slide_type": "slide"
    }
   },
   "source": [
    "# [link to Example 4 - working with Streaming Data](http://localhost:8888/notebooks/notebooks/03_bokeh_with_streaming_data.ipynb)"
   ]
  },
  {
   "cell_type": "markdown",
   "metadata": {
    "slideshow": {
     "slide_type": "slide"
    }
   },
   "source": [
    "# bokeh resources\n",
    "\n",
    "[bokeh cheat sheet](https://datacamp-community-prod.s3.amazonaws.com/f9511cf4-abb9-4f52-9663-ea93b29ee4b7)"
   ]
  }
 ],
 "metadata": {
  "celltoolbar": "Slideshow",
  "kernelspec": {
   "display_name": "Python 3",
   "language": "python",
   "name": "python3"
  },
  "language_info": {
   "codemirror_mode": {
    "name": "ipython",
    "version": 3
   },
   "file_extension": ".py",
   "mimetype": "text/x-python",
   "name": "python",
   "nbconvert_exporter": "python",
   "pygments_lexer": "ipython3",
   "version": "3.7.4"
  },
  "pycharm": {
   "stem_cell": {
    "cell_type": "raw",
    "metadata": {
     "collapsed": false
    },
    "source": []
   }
  }
 },
 "nbformat": 4,
 "nbformat_minor": 2
}
