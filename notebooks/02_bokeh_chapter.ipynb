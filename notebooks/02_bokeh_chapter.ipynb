{
 "cells": [
  {
   "cell_type": "code",
   "execution_count": 1,
   "metadata": {
    "slideshow": {
     "slide_type": "slide"
    }
   },
   "outputs": [
    {
     "data": {
      "text/html": [
       "\n",
       "    <div class=\"bk-root\">\n",
       "        <a href=\"https://bokeh.pydata.org\" target=\"_blank\" class=\"bk-logo bk-logo-small bk-logo-notebook\"></a>\n",
       "        <span id=\"1001\">Loading BokehJS ...</span>\n",
       "    </div>"
      ]
     },
     "metadata": {},
     "output_type": "display_data"
    },
    {
     "data": {
      "application/javascript": [
       "\n",
       "(function(root) {\n",
       "  function now() {\n",
       "    return new Date();\n",
       "  }\n",
       "\n",
       "  var force = true;\n",
       "\n",
       "  if (typeof root._bokeh_onload_callbacks === \"undefined\" || force === true) {\n",
       "    root._bokeh_onload_callbacks = [];\n",
       "    root._bokeh_is_loading = undefined;\n",
       "  }\n",
       "\n",
       "  var JS_MIME_TYPE = 'application/javascript';\n",
       "  var HTML_MIME_TYPE = 'text/html';\n",
       "  var EXEC_MIME_TYPE = 'application/vnd.bokehjs_exec.v0+json';\n",
       "  var CLASS_NAME = 'output_bokeh rendered_html';\n",
       "\n",
       "  /**\n",
       "   * Render data to the DOM node\n",
       "   */\n",
       "  function render(props, node) {\n",
       "    var script = document.createElement(\"script\");\n",
       "    node.appendChild(script);\n",
       "  }\n",
       "\n",
       "  /**\n",
       "   * Handle when an output is cleared or removed\n",
       "   */\n",
       "  function handleClearOutput(event, handle) {\n",
       "    var cell = handle.cell;\n",
       "\n",
       "    var id = cell.output_area._bokeh_element_id;\n",
       "    var server_id = cell.output_area._bokeh_server_id;\n",
       "    // Clean up Bokeh references\n",
       "    if (id != null && id in Bokeh.index) {\n",
       "      Bokeh.index[id].model.document.clear();\n",
       "      delete Bokeh.index[id];\n",
       "    }\n",
       "\n",
       "    if (server_id !== undefined) {\n",
       "      // Clean up Bokeh references\n",
       "      var cmd = \"from bokeh.io.state import curstate; print(curstate().uuid_to_server['\" + server_id + \"'].get_sessions()[0].document.roots[0]._id)\";\n",
       "      cell.notebook.kernel.execute(cmd, {\n",
       "        iopub: {\n",
       "          output: function(msg) {\n",
       "            var id = msg.content.text.trim();\n",
       "            if (id in Bokeh.index) {\n",
       "              Bokeh.index[id].model.document.clear();\n",
       "              delete Bokeh.index[id];\n",
       "            }\n",
       "          }\n",
       "        }\n",
       "      });\n",
       "      // Destroy server and session\n",
       "      var cmd = \"import bokeh.io.notebook as ion; ion.destroy_server('\" + server_id + \"')\";\n",
       "      cell.notebook.kernel.execute(cmd);\n",
       "    }\n",
       "  }\n",
       "\n",
       "  /**\n",
       "   * Handle when a new output is added\n",
       "   */\n",
       "  function handleAddOutput(event, handle) {\n",
       "    var output_area = handle.output_area;\n",
       "    var output = handle.output;\n",
       "\n",
       "    // limit handleAddOutput to display_data with EXEC_MIME_TYPE content only\n",
       "    if ((output.output_type != \"display_data\") || (!output.data.hasOwnProperty(EXEC_MIME_TYPE))) {\n",
       "      return\n",
       "    }\n",
       "\n",
       "    var toinsert = output_area.element.find(\".\" + CLASS_NAME.split(' ')[0]);\n",
       "\n",
       "    if (output.metadata[EXEC_MIME_TYPE][\"id\"] !== undefined) {\n",
       "      toinsert[toinsert.length - 1].firstChild.textContent = output.data[JS_MIME_TYPE];\n",
       "      // store reference to embed id on output_area\n",
       "      output_area._bokeh_element_id = output.metadata[EXEC_MIME_TYPE][\"id\"];\n",
       "    }\n",
       "    if (output.metadata[EXEC_MIME_TYPE][\"server_id\"] !== undefined) {\n",
       "      var bk_div = document.createElement(\"div\");\n",
       "      bk_div.innerHTML = output.data[HTML_MIME_TYPE];\n",
       "      var script_attrs = bk_div.children[0].attributes;\n",
       "      for (var i = 0; i < script_attrs.length; i++) {\n",
       "        toinsert[toinsert.length - 1].firstChild.setAttribute(script_attrs[i].name, script_attrs[i].value);\n",
       "      }\n",
       "      // store reference to server id on output_area\n",
       "      output_area._bokeh_server_id = output.metadata[EXEC_MIME_TYPE][\"server_id\"];\n",
       "    }\n",
       "  }\n",
       "\n",
       "  function register_renderer(events, OutputArea) {\n",
       "\n",
       "    function append_mime(data, metadata, element) {\n",
       "      // create a DOM node to render to\n",
       "      var toinsert = this.create_output_subarea(\n",
       "        metadata,\n",
       "        CLASS_NAME,\n",
       "        EXEC_MIME_TYPE\n",
       "      );\n",
       "      this.keyboard_manager.register_events(toinsert);\n",
       "      // Render to node\n",
       "      var props = {data: data, metadata: metadata[EXEC_MIME_TYPE]};\n",
       "      render(props, toinsert[toinsert.length - 1]);\n",
       "      element.append(toinsert);\n",
       "      return toinsert\n",
       "    }\n",
       "\n",
       "    /* Handle when an output is cleared or removed */\n",
       "    events.on('clear_output.CodeCell', handleClearOutput);\n",
       "    events.on('delete.Cell', handleClearOutput);\n",
       "\n",
       "    /* Handle when a new output is added */\n",
       "    events.on('output_added.OutputArea', handleAddOutput);\n",
       "\n",
       "    /**\n",
       "     * Register the mime type and append_mime function with output_area\n",
       "     */\n",
       "    OutputArea.prototype.register_mime_type(EXEC_MIME_TYPE, append_mime, {\n",
       "      /* Is output safe? */\n",
       "      safe: true,\n",
       "      /* Index of renderer in `output_area.display_order` */\n",
       "      index: 0\n",
       "    });\n",
       "  }\n",
       "\n",
       "  // register the mime type if in Jupyter Notebook environment and previously unregistered\n",
       "  if (root.Jupyter !== undefined) {\n",
       "    var events = require('base/js/events');\n",
       "    var OutputArea = require('notebook/js/outputarea').OutputArea;\n",
       "\n",
       "    if (OutputArea.prototype.mime_types().indexOf(EXEC_MIME_TYPE) == -1) {\n",
       "      register_renderer(events, OutputArea);\n",
       "    }\n",
       "  }\n",
       "\n",
       "  \n",
       "  if (typeof (root._bokeh_timeout) === \"undefined\" || force === true) {\n",
       "    root._bokeh_timeout = Date.now() + 5000;\n",
       "    root._bokeh_failed_load = false;\n",
       "  }\n",
       "\n",
       "  var NB_LOAD_WARNING = {'data': {'text/html':\n",
       "     \"<div style='background-color: #fdd'>\\n\"+\n",
       "     \"<p>\\n\"+\n",
       "     \"BokehJS does not appear to have successfully loaded. If loading BokehJS from CDN, this \\n\"+\n",
       "     \"may be due to a slow or bad network connection. Possible fixes:\\n\"+\n",
       "     \"</p>\\n\"+\n",
       "     \"<ul>\\n\"+\n",
       "     \"<li>re-rerun `output_notebook()` to attempt to load from CDN again, or</li>\\n\"+\n",
       "     \"<li>use INLINE resources instead, as so:</li>\\n\"+\n",
       "     \"</ul>\\n\"+\n",
       "     \"<code>\\n\"+\n",
       "     \"from bokeh.resources import INLINE\\n\"+\n",
       "     \"output_notebook(resources=INLINE)\\n\"+\n",
       "     \"</code>\\n\"+\n",
       "     \"</div>\"}};\n",
       "\n",
       "  function display_loaded() {\n",
       "    var el = document.getElementById(\"1001\");\n",
       "    if (el != null) {\n",
       "      el.textContent = \"BokehJS is loading...\";\n",
       "    }\n",
       "    if (root.Bokeh !== undefined) {\n",
       "      if (el != null) {\n",
       "        el.textContent = \"BokehJS \" + root.Bokeh.version + \" successfully loaded.\";\n",
       "      }\n",
       "    } else if (Date.now() < root._bokeh_timeout) {\n",
       "      setTimeout(display_loaded, 100)\n",
       "    }\n",
       "  }\n",
       "\n",
       "\n",
       "  function run_callbacks() {\n",
       "    try {\n",
       "      root._bokeh_onload_callbacks.forEach(function(callback) {\n",
       "        if (callback != null)\n",
       "          callback();\n",
       "      });\n",
       "    } finally {\n",
       "      delete root._bokeh_onload_callbacks\n",
       "    }\n",
       "    console.debug(\"Bokeh: all callbacks have finished\");\n",
       "  }\n",
       "\n",
       "  function load_libs(css_urls, js_urls, callback) {\n",
       "    if (css_urls == null) css_urls = [];\n",
       "    if (js_urls == null) js_urls = [];\n",
       "\n",
       "    root._bokeh_onload_callbacks.push(callback);\n",
       "    if (root._bokeh_is_loading > 0) {\n",
       "      console.debug(\"Bokeh: BokehJS is being loaded, scheduling callback at\", now());\n",
       "      return null;\n",
       "    }\n",
       "    if (js_urls == null || js_urls.length === 0) {\n",
       "      run_callbacks();\n",
       "      return null;\n",
       "    }\n",
       "    console.debug(\"Bokeh: BokehJS not loaded, scheduling load and callback at\", now());\n",
       "    root._bokeh_is_loading = css_urls.length + js_urls.length;\n",
       "\n",
       "    function on_load() {\n",
       "      root._bokeh_is_loading--;\n",
       "      if (root._bokeh_is_loading === 0) {\n",
       "        console.debug(\"Bokeh: all BokehJS libraries/stylesheets loaded\");\n",
       "        run_callbacks()\n",
       "      }\n",
       "    }\n",
       "\n",
       "    function on_error() {\n",
       "      console.error(\"failed to load \" + url);\n",
       "    }\n",
       "\n",
       "    for (var i = 0; i < css_urls.length; i++) {\n",
       "      var url = css_urls[i];\n",
       "      const element = document.createElement(\"link\");\n",
       "      element.onload = on_load;\n",
       "      element.onerror = on_error;\n",
       "      element.rel = \"stylesheet\";\n",
       "      element.type = \"text/css\";\n",
       "      element.href = url;\n",
       "      console.debug(\"Bokeh: injecting link tag for BokehJS stylesheet: \", url);\n",
       "      document.body.appendChild(element);\n",
       "    }\n",
       "\n",
       "    for (var i = 0; i < js_urls.length; i++) {\n",
       "      var url = js_urls[i];\n",
       "      var element = document.createElement('script');\n",
       "      element.onload = on_load;\n",
       "      element.onerror = on_error;\n",
       "      element.async = false;\n",
       "      element.src = url;\n",
       "      console.debug(\"Bokeh: injecting script tag for BokehJS library: \", url);\n",
       "      document.head.appendChild(element);\n",
       "    }\n",
       "  };var element = document.getElementById(\"1001\");\n",
       "  if (element == null) {\n",
       "    console.error(\"Bokeh: ERROR: autoload.js configured with elementid '1001' but no matching script tag was found. \")\n",
       "    return false;\n",
       "  }\n",
       "\n",
       "  function inject_raw_css(css) {\n",
       "    const element = document.createElement(\"style\");\n",
       "    element.appendChild(document.createTextNode(css));\n",
       "    document.body.appendChild(element);\n",
       "  }\n",
       "\n",
       "  var js_urls = [\"https://cdn.pydata.org/bokeh/release/bokeh-1.3.4.min.js\", \"https://cdn.pydata.org/bokeh/release/bokeh-widgets-1.3.4.min.js\", \"https://cdn.pydata.org/bokeh/release/bokeh-tables-1.3.4.min.js\", \"https://cdn.pydata.org/bokeh/release/bokeh-gl-1.3.4.min.js\"];\n",
       "  var css_urls = [];\n",
       "\n",
       "  var inline_js = [\n",
       "    function(Bokeh) {\n",
       "      Bokeh.set_log_level(\"info\");\n",
       "    },\n",
       "    \n",
       "    function(Bokeh) {\n",
       "      \n",
       "    },\n",
       "    function(Bokeh) {} // ensure no trailing comma for IE\n",
       "  ];\n",
       "\n",
       "  function run_inline_js() {\n",
       "    \n",
       "    if ((root.Bokeh !== undefined) || (force === true)) {\n",
       "      for (var i = 0; i < inline_js.length; i++) {\n",
       "        inline_js[i].call(root, root.Bokeh);\n",
       "      }if (force === true) {\n",
       "        display_loaded();\n",
       "      }} else if (Date.now() < root._bokeh_timeout) {\n",
       "      setTimeout(run_inline_js, 100);\n",
       "    } else if (!root._bokeh_failed_load) {\n",
       "      console.log(\"Bokeh: BokehJS failed to load within specified timeout.\");\n",
       "      root._bokeh_failed_load = true;\n",
       "    } else if (force !== true) {\n",
       "      var cell = $(document.getElementById(\"1001\")).parents('.cell').data().cell;\n",
       "      cell.output_area.append_execute_result(NB_LOAD_WARNING)\n",
       "    }\n",
       "\n",
       "  }\n",
       "\n",
       "  if (root._bokeh_is_loading === 0) {\n",
       "    console.debug(\"Bokeh: BokehJS loaded, going straight to plotting\");\n",
       "    run_inline_js();\n",
       "  } else {\n",
       "    load_libs(css_urls, js_urls, function() {\n",
       "      console.debug(\"Bokeh: BokehJS plotting callback run at\", now());\n",
       "      run_inline_js();\n",
       "    });\n",
       "  }\n",
       "}(window));"
      ],
      "application/vnd.bokehjs_load.v0+json": "\n(function(root) {\n  function now() {\n    return new Date();\n  }\n\n  var force = true;\n\n  if (typeof root._bokeh_onload_callbacks === \"undefined\" || force === true) {\n    root._bokeh_onload_callbacks = [];\n    root._bokeh_is_loading = undefined;\n  }\n\n  \n\n  \n  if (typeof (root._bokeh_timeout) === \"undefined\" || force === true) {\n    root._bokeh_timeout = Date.now() + 5000;\n    root._bokeh_failed_load = false;\n  }\n\n  var NB_LOAD_WARNING = {'data': {'text/html':\n     \"<div style='background-color: #fdd'>\\n\"+\n     \"<p>\\n\"+\n     \"BokehJS does not appear to have successfully loaded. If loading BokehJS from CDN, this \\n\"+\n     \"may be due to a slow or bad network connection. Possible fixes:\\n\"+\n     \"</p>\\n\"+\n     \"<ul>\\n\"+\n     \"<li>re-rerun `output_notebook()` to attempt to load from CDN again, or</li>\\n\"+\n     \"<li>use INLINE resources instead, as so:</li>\\n\"+\n     \"</ul>\\n\"+\n     \"<code>\\n\"+\n     \"from bokeh.resources import INLINE\\n\"+\n     \"output_notebook(resources=INLINE)\\n\"+\n     \"</code>\\n\"+\n     \"</div>\"}};\n\n  function display_loaded() {\n    var el = document.getElementById(\"1001\");\n    if (el != null) {\n      el.textContent = \"BokehJS is loading...\";\n    }\n    if (root.Bokeh !== undefined) {\n      if (el != null) {\n        el.textContent = \"BokehJS \" + root.Bokeh.version + \" successfully loaded.\";\n      }\n    } else if (Date.now() < root._bokeh_timeout) {\n      setTimeout(display_loaded, 100)\n    }\n  }\n\n\n  function run_callbacks() {\n    try {\n      root._bokeh_onload_callbacks.forEach(function(callback) {\n        if (callback != null)\n          callback();\n      });\n    } finally {\n      delete root._bokeh_onload_callbacks\n    }\n    console.debug(\"Bokeh: all callbacks have finished\");\n  }\n\n  function load_libs(css_urls, js_urls, callback) {\n    if (css_urls == null) css_urls = [];\n    if (js_urls == null) js_urls = [];\n\n    root._bokeh_onload_callbacks.push(callback);\n    if (root._bokeh_is_loading > 0) {\n      console.debug(\"Bokeh: BokehJS is being loaded, scheduling callback at\", now());\n      return null;\n    }\n    if (js_urls == null || js_urls.length === 0) {\n      run_callbacks();\n      return null;\n    }\n    console.debug(\"Bokeh: BokehJS not loaded, scheduling load and callback at\", now());\n    root._bokeh_is_loading = css_urls.length + js_urls.length;\n\n    function on_load() {\n      root._bokeh_is_loading--;\n      if (root._bokeh_is_loading === 0) {\n        console.debug(\"Bokeh: all BokehJS libraries/stylesheets loaded\");\n        run_callbacks()\n      }\n    }\n\n    function on_error() {\n      console.error(\"failed to load \" + url);\n    }\n\n    for (var i = 0; i < css_urls.length; i++) {\n      var url = css_urls[i];\n      const element = document.createElement(\"link\");\n      element.onload = on_load;\n      element.onerror = on_error;\n      element.rel = \"stylesheet\";\n      element.type = \"text/css\";\n      element.href = url;\n      console.debug(\"Bokeh: injecting link tag for BokehJS stylesheet: \", url);\n      document.body.appendChild(element);\n    }\n\n    for (var i = 0; i < js_urls.length; i++) {\n      var url = js_urls[i];\n      var element = document.createElement('script');\n      element.onload = on_load;\n      element.onerror = on_error;\n      element.async = false;\n      element.src = url;\n      console.debug(\"Bokeh: injecting script tag for BokehJS library: \", url);\n      document.head.appendChild(element);\n    }\n  };var element = document.getElementById(\"1001\");\n  if (element == null) {\n    console.error(\"Bokeh: ERROR: autoload.js configured with elementid '1001' but no matching script tag was found. \")\n    return false;\n  }\n\n  function inject_raw_css(css) {\n    const element = document.createElement(\"style\");\n    element.appendChild(document.createTextNode(css));\n    document.body.appendChild(element);\n  }\n\n  var js_urls = [\"https://cdn.pydata.org/bokeh/release/bokeh-1.3.4.min.js\", \"https://cdn.pydata.org/bokeh/release/bokeh-widgets-1.3.4.min.js\", \"https://cdn.pydata.org/bokeh/release/bokeh-tables-1.3.4.min.js\", \"https://cdn.pydata.org/bokeh/release/bokeh-gl-1.3.4.min.js\"];\n  var css_urls = [];\n\n  var inline_js = [\n    function(Bokeh) {\n      Bokeh.set_log_level(\"info\");\n    },\n    \n    function(Bokeh) {\n      \n    },\n    function(Bokeh) {} // ensure no trailing comma for IE\n  ];\n\n  function run_inline_js() {\n    \n    if ((root.Bokeh !== undefined) || (force === true)) {\n      for (var i = 0; i < inline_js.length; i++) {\n        inline_js[i].call(root, root.Bokeh);\n      }if (force === true) {\n        display_loaded();\n      }} else if (Date.now() < root._bokeh_timeout) {\n      setTimeout(run_inline_js, 100);\n    } else if (!root._bokeh_failed_load) {\n      console.log(\"Bokeh: BokehJS failed to load within specified timeout.\");\n      root._bokeh_failed_load = true;\n    } else if (force !== true) {\n      var cell = $(document.getElementById(\"1001\")).parents('.cell').data().cell;\n      cell.output_area.append_execute_result(NB_LOAD_WARNING)\n    }\n\n  }\n\n  if (root._bokeh_is_loading === 0) {\n    console.debug(\"Bokeh: BokehJS loaded, going straight to plotting\");\n    run_inline_js();\n  } else {\n    load_libs(css_urls, js_urls, function() {\n      console.debug(\"Bokeh: BokehJS plotting callback run at\", now());\n      run_inline_js();\n    });\n  }\n}(window));"
     },
     "metadata": {},
     "output_type": "display_data"
    },
    {
     "data": {
      "text/html": [
       "<style>.container { width:90% !important; }</style>"
      ],
      "text/plain": [
       "<IPython.core.display.HTML object>"
      ]
     },
     "metadata": {},
     "output_type": "display_data"
    }
   ],
   "source": [
    "# setup notebook\n",
    "# imports\n",
    "import os\n",
    "import numpy as np\n",
    "import random\n",
    "\n",
    "import bokeh\n",
    "from bokeh.layouts import gridplot\n",
    "from bokeh.plotting import output_notebook\n",
    "output_notebook() # set default; alternative is output_file()\n",
    "\n",
    "\n",
    "# notebook formatting\n",
    "from IPython.core.display import display, HTML\n",
    "display(HTML(\"<style>.container { width:90% !important; }</style>\"))\n",
    "\n",
    "# fix RISE scollbar missing\n",
    "from traitlets.config.manager import BaseJSONConfigManager\n",
    "path = \"C:\\\\Users\\\\chris\\\\.jupyter\\\\nbconfig\"\n",
    "cm = BaseJSONConfigManager(config_dir=path)\n",
    "\n",
    "cm.update(\"livereveal\", {\n",
    "              \"scroll\": True,\n",
    "});\n",
    "\n",
    "# also check jupyter Cell menu/Toggle Scrolling\n"
   ]
  },
  {
   "cell_type": "markdown",
   "metadata": {
    "slideshow": {
     "slide_type": "slide"
    }
   },
   "source": [
    "# Meaning of Bokeh\n",
    "- Japanese word **“bokeh”** used in photography to describe *blurring of the out-of-focus parts of an image.*<br><br>\n",
    "<img src=\"https://p2.piqsels.com/preview/926/415/630/wheat-ear-dry-harvest.jpg\" height=200 style=\"float:center\"> <br><br>\n",
    "<strong>[James Drury example - Flickr](https://www.flickr.com/photos/james_drury/15923166238/)</strong><br><br>\n",
    "- How do you pronounce this crazy word?\n",
    "  - bouquet\n",
    "  - bok-ah\n",
    "  - **both are fine**"
   ]
  },
  {
   "cell_type": "markdown",
   "metadata": {
    "ExecuteTime": {
     "end_time": "2019-10-11T21:42:23.073871Z",
     "start_time": "2019-10-11T21:42:23.069870Z"
    },
    "slideshow": {
     "slide_type": "slide"
    }
   },
   "source": [
    "# Bokeh\n",
    "- [bokeh homepage](https://bokeh.pydata.org/en/latest/index.html)<br>\n",
    "- python library \n",
    "- focused on interactive visualization\n",
    "- targets browsers for presentation <br>\n",
    "- goals: elegant, concise, designed for large/streaming data\n"
   ]
  },
  {
   "cell_type": "markdown",
   "metadata": {
    "ExecuteTime": {
     "end_time": "2019-10-11T21:42:23.077873Z",
     "start_time": "2019-10-11T21:42:22.428Z"
    },
    "slideshow": {
     "slide_type": "slide"
    }
   },
   "source": [
    "# Two modes\n",
    "- client based\n",
    "- server\n",
    "\n",
    "- Bokeh uses Python to create high level objects (plots, subplots, lines, etc).\n",
    "- ...and then renders everything in Javascript\n",
    "- ...for the browser to display\n",
    "\n",
    "<strong>workflow:</strong><br>\n",
    "data --> python --> Bokeh --> Bokeh ColumnDataSource--> BokehJS --> Javascript -->Browser --> your eyes\n"
   ]
  },
  {
   "cell_type": "markdown",
   "metadata": {
    "slideshow": {
     "slide_type": "slide"
    }
   },
   "source": [
    "# Bokeh Code"
   ]
  },
  {
   "cell_type": "markdown",
   "metadata": {
    "ExecuteTime": {
     "end_time": "2019-10-11T21:42:23.080869Z",
     "start_time": "2019-10-11T21:42:22.431Z"
    },
    "slideshow": {
     "slide_type": "subslide"
    }
   },
   "source": [
    "# five ways to interact using Bokeh\n",
    "- Configuring the toolbar\n",
    "- Selecting data points\n",
    "- Adding hover actions\n",
    "- Linking subplots and selections\n",
    "- Highlighting data using the legend<br>\n",
    "\n",
    "## also can interact with ipywidgets"
   ]
  },
  {
   "cell_type": "markdown",
   "metadata": {
    "slideshow": {
     "slide_type": "subslide"
    }
   },
   "source": [
    "# Example 1 - basic charts and interactions"
   ]
  },
  {
   "cell_type": "code",
   "execution_count": 2,
   "metadata": {
    "ExecuteTime": {
     "end_time": "2019-10-11T21:44:18.541868Z",
     "start_time": "2019-10-11T21:44:18.503873Z"
    },
    "slideshow": {
     "slide_type": "subslide"
    }
   },
   "outputs": [
    {
     "data": {
      "text/html": [
       "\n",
       "\n",
       "\n",
       "\n",
       "\n",
       "\n",
       "  <div class=\"bk-root\" id=\"6b879d03-f5c5-41b7-ae7f-00bf71823d55\" data-root-id=\"1002\"></div>\n"
      ]
     },
     "metadata": {},
     "output_type": "display_data"
    },
    {
     "data": {
      "application/javascript": [
       "(function(root) {\n",
       "  function embed_document(root) {\n",
       "    \n",
       "  var docs_json = {\"6a150766-4932-42c9-9c66-1bd3e6c0bdbb\":{\"roots\":{\"references\":[{\"attributes\":{\"below\":[{\"id\":\"1013\",\"type\":\"LinearAxis\"}],\"center\":[{\"id\":\"1017\",\"type\":\"Grid\"},{\"id\":\"1022\",\"type\":\"Grid\"}],\"left\":[{\"id\":\"1018\",\"type\":\"LinearAxis\"}],\"renderers\":[{\"id\":\"1039\",\"type\":\"GlyphRenderer\"}],\"title\":{\"id\":\"1003\",\"type\":\"Title\"},\"toolbar\":{\"id\":\"1029\",\"type\":\"Toolbar\"},\"x_range\":{\"id\":\"1005\",\"type\":\"DataRange1d\"},\"x_scale\":{\"id\":\"1009\",\"type\":\"LinearScale\"},\"y_range\":{\"id\":\"1007\",\"type\":\"DataRange1d\"},\"y_scale\":{\"id\":\"1011\",\"type\":\"LinearScale\"}},\"id\":\"1002\",\"subtype\":\"Figure\",\"type\":\"Plot\"},{\"attributes\":{\"axis_label\":\"x axis!\",\"axis_label_text_font_size\":{\"value\":\"18pt\"},\"formatter\":{\"id\":\"1045\",\"type\":\"BasicTickFormatter\"},\"ticker\":{\"id\":\"1014\",\"type\":\"BasicTicker\"}},\"id\":\"1013\",\"type\":\"LinearAxis\"},{\"attributes\":{\"line_alpha\":0.1,\"line_color\":\"#1f77b4\",\"line_width\":2,\"x\":{\"field\":\"x\"},\"y\":{\"field\":\"y\"}},\"id\":\"1038\",\"type\":\"Line\"},{\"attributes\":{\"callback\":null},\"id\":\"1005\",\"type\":\"DataRange1d\"},{\"attributes\":{\"callback\":null},\"id\":\"1007\",\"type\":\"DataRange1d\"},{\"attributes\":{},\"id\":\"1026\",\"type\":\"SaveTool\"},{\"attributes\":{},\"id\":\"1027\",\"type\":\"ResetTool\"},{\"attributes\":{\"data_source\":{\"id\":\"1036\",\"type\":\"ColumnDataSource\"},\"glyph\":{\"id\":\"1037\",\"type\":\"Line\"},\"hover_glyph\":null,\"muted_glyph\":null,\"nonselection_glyph\":{\"id\":\"1038\",\"type\":\"Line\"},\"selection_glyph\":null,\"view\":{\"id\":\"1040\",\"type\":\"CDSView\"}},\"id\":\"1039\",\"type\":\"GlyphRenderer\"},{\"attributes\":{},\"id\":\"1011\",\"type\":\"LinearScale\"},{\"attributes\":{\"axis_label\":\"y_axis\",\"axis_label_text_font_size\":{\"value\":\"18pt\"},\"formatter\":{\"id\":\"1043\",\"type\":\"BasicTickFormatter\"},\"ticker\":{\"id\":\"1019\",\"type\":\"BasicTicker\"}},\"id\":\"1018\",\"type\":\"LinearAxis\"},{\"attributes\":{},\"id\":\"1043\",\"type\":\"BasicTickFormatter\"},{\"attributes\":{\"source\":{\"id\":\"1036\",\"type\":\"ColumnDataSource\"}},\"id\":\"1040\",\"type\":\"CDSView\"},{\"attributes\":{},\"id\":\"1028\",\"type\":\"HelpTool\"},{\"attributes\":{},\"id\":\"1014\",\"type\":\"BasicTicker\"},{\"attributes\":{},\"id\":\"1024\",\"type\":\"WheelZoomTool\"},{\"attributes\":{\"line_color\":\"#1f77b4\",\"line_width\":2,\"x\":{\"field\":\"x\"},\"y\":{\"field\":\"y\"}},\"id\":\"1037\",\"type\":\"Line\"},{\"attributes\":{\"active_drag\":\"auto\",\"active_inspect\":\"auto\",\"active_multi\":null,\"active_scroll\":\"auto\",\"active_tap\":\"auto\",\"tools\":[{\"id\":\"1023\",\"type\":\"PanTool\"},{\"id\":\"1024\",\"type\":\"WheelZoomTool\"},{\"id\":\"1025\",\"type\":\"BoxZoomTool\"},{\"id\":\"1026\",\"type\":\"SaveTool\"},{\"id\":\"1027\",\"type\":\"ResetTool\"},{\"id\":\"1028\",\"type\":\"HelpTool\"}]},\"id\":\"1029\",\"type\":\"Toolbar\"},{\"attributes\":{},\"id\":\"1019\",\"type\":\"BasicTicker\"},{\"attributes\":{\"dimension\":1,\"ticker\":{\"id\":\"1019\",\"type\":\"BasicTicker\"}},\"id\":\"1022\",\"type\":\"Grid\"},{\"attributes\":{\"ticker\":{\"id\":\"1014\",\"type\":\"BasicTicker\"}},\"id\":\"1017\",\"type\":\"Grid\"},{\"attributes\":{},\"id\":\"1046\",\"type\":\"Selection\"},{\"attributes\":{},\"id\":\"1047\",\"type\":\"UnionRenderers\"},{\"attributes\":{},\"id\":\"1045\",\"type\":\"BasicTickFormatter\"},{\"attributes\":{\"bottom_units\":\"screen\",\"fill_alpha\":{\"value\":0.5},\"fill_color\":{\"value\":\"lightgrey\"},\"left_units\":\"screen\",\"level\":\"overlay\",\"line_alpha\":{\"value\":1.0},\"line_color\":{\"value\":\"black\"},\"line_dash\":[4,4],\"line_width\":{\"value\":2},\"render_mode\":\"css\",\"right_units\":\"screen\",\"top_units\":\"screen\"},\"id\":\"1048\",\"type\":\"BoxAnnotation\"},{\"attributes\":{},\"id\":\"1009\",\"type\":\"LinearScale\"},{\"attributes\":{\"callback\":null,\"data\":{\"x\":[0,1,2,3,4,5,6,7,8,9,10],\"y\":[9,8,7,5,4,6,8,3,2,0,1]},\"selected\":{\"id\":\"1046\",\"type\":\"Selection\"},\"selection_policy\":{\"id\":\"1047\",\"type\":\"UnionRenderers\"}},\"id\":\"1036\",\"type\":\"ColumnDataSource\"},{\"attributes\":{},\"id\":\"1023\",\"type\":\"PanTool\"},{\"attributes\":{\"overlay\":{\"id\":\"1048\",\"type\":\"BoxAnnotation\"}},\"id\":\"1025\",\"type\":\"BoxZoomTool\"},{\"attributes\":{\"text\":\"simple line chart\"},\"id\":\"1003\",\"type\":\"Title\"}],\"root_ids\":[\"1002\"]},\"title\":\"Bokeh Application\",\"version\":\"1.3.4\"}};\n",
       "  var render_items = [{\"docid\":\"6a150766-4932-42c9-9c66-1bd3e6c0bdbb\",\"roots\":{\"1002\":\"6b879d03-f5c5-41b7-ae7f-00bf71823d55\"}}];\n",
       "  root.Bokeh.embed.embed_items_notebook(docs_json, render_items);\n",
       "\n",
       "  }\n",
       "  if (root.Bokeh !== undefined) {\n",
       "    embed_document(root);\n",
       "  } else {\n",
       "    var attempts = 0;\n",
       "    var timer = setInterval(function(root) {\n",
       "      if (root.Bokeh !== undefined) {\n",
       "        embed_document(root);\n",
       "        clearInterval(timer);\n",
       "      }\n",
       "      attempts++;\n",
       "      if (attempts > 100) {\n",
       "        console.log(\"Bokeh: ERROR: Unable to run BokehJS code because BokehJS library is missing\");\n",
       "        clearInterval(timer);\n",
       "      }\n",
       "    }, 10, root)\n",
       "  }\n",
       "})(window);"
      ],
      "application/vnd.bokehjs_exec.v0+json": ""
     },
     "metadata": {
      "application/vnd.bokehjs_exec.v0+json": {
       "id": "1002"
      }
     },
     "output_type": "display_data"
    }
   ],
   "source": [
    "from bokeh.plotting import figure, output_notebook, show\n",
    "\n",
    "x = [x for x in range(0, 11)]\n",
    "y = [9, 8, 7, 5, 4, 6, 8, 3, 2, 0, 1]\n",
    "\n",
    "chart = figure(title=\"simple line chart\", \n",
    "               x_axis_label=\"x axis!\", y_axis_label=\"y_axis\",\n",
    "               toolbar_location=\"right\")\n",
    "\n",
    "chart.xaxis.axis_label_text_font_size = \"18pt\"\n",
    "chart.yaxis.axis_label_text_font_size = \"18pt\"\n",
    "\n",
    "chart.line(x, y, line_width=2)\n",
    "\n",
    "show(chart)\n",
    "\n",
    "# review interactive tools"
   ]
  },
  {
   "cell_type": "code",
   "execution_count": 3,
   "metadata": {
    "ExecuteTime": {
     "end_time": "2019-10-11T21:44:18.566867Z",
     "start_time": "2019-10-11T21:44:18.542869Z"
    },
    "slideshow": {
     "slide_type": "subslide"
    }
   },
   "outputs": [
    {
     "data": {
      "text/html": [
       "\n",
       "\n",
       "\n",
       "\n",
       "\n",
       "\n",
       "  <div class=\"bk-root\" id=\"b13ff525-bb89-46b6-bd11-ce12a0fcb5db\" data-root-id=\"1002\"></div>\n"
      ]
     },
     "metadata": {},
     "output_type": "display_data"
    },
    {
     "data": {
      "application/javascript": [
       "(function(root) {\n",
       "  function embed_document(root) {\n",
       "    \n",
       "  var docs_json = {\"b0397e88-a926-42a4-a8d4-0e8f5867642f\":{\"roots\":{\"references\":[{\"attributes\":{\"below\":[{\"id\":\"1013\",\"type\":\"LinearAxis\"}],\"center\":[{\"id\":\"1017\",\"type\":\"Grid\"},{\"id\":\"1022\",\"type\":\"Grid\"},{\"id\":\"1108\",\"type\":\"BoxAnnotation\"}],\"left\":[{\"id\":\"1018\",\"type\":\"LinearAxis\"}],\"renderers\":[{\"id\":\"1039\",\"type\":\"GlyphRenderer\"}],\"title\":{\"id\":\"1003\",\"type\":\"Title\"},\"toolbar\":{\"id\":\"1029\",\"type\":\"Toolbar\"},\"x_range\":{\"id\":\"1005\",\"type\":\"DataRange1d\"},\"x_scale\":{\"id\":\"1009\",\"type\":\"LinearScale\"},\"y_range\":{\"id\":\"1007\",\"type\":\"DataRange1d\"},\"y_scale\":{\"id\":\"1011\",\"type\":\"LinearScale\"}},\"id\":\"1002\",\"subtype\":\"Figure\",\"type\":\"Plot\"},{\"attributes\":{\"axis_label\":\"x axis!\",\"axis_label_text_font_size\":{\"value\":\"18pt\"},\"formatter\":{\"id\":\"1045\",\"type\":\"BasicTickFormatter\"},\"ticker\":{\"id\":\"1014\",\"type\":\"BasicTicker\"}},\"id\":\"1013\",\"type\":\"LinearAxis\"},{\"attributes\":{\"line_alpha\":0.1,\"line_color\":\"#1f77b4\",\"line_width\":2,\"x\":{\"field\":\"x\"},\"y\":{\"field\":\"y\"}},\"id\":\"1038\",\"type\":\"Line\"},{\"attributes\":{\"callback\":null},\"id\":\"1005\",\"type\":\"DataRange1d\"},{\"attributes\":{\"callback\":null},\"id\":\"1007\",\"type\":\"DataRange1d\"},{\"attributes\":{},\"id\":\"1026\",\"type\":\"SaveTool\"},{\"attributes\":{},\"id\":\"1027\",\"type\":\"ResetTool\"},{\"attributes\":{\"data_source\":{\"id\":\"1036\",\"type\":\"ColumnDataSource\"},\"glyph\":{\"id\":\"1037\",\"type\":\"Line\"},\"hover_glyph\":null,\"muted_glyph\":null,\"nonselection_glyph\":{\"id\":\"1038\",\"type\":\"Line\"},\"selection_glyph\":null,\"view\":{\"id\":\"1040\",\"type\":\"CDSView\"}},\"id\":\"1039\",\"type\":\"GlyphRenderer\"},{\"attributes\":{},\"id\":\"1011\",\"type\":\"LinearScale\"},{\"attributes\":{\"axis_label\":\"y_axis\",\"axis_label_text_font_size\":{\"value\":\"18pt\"},\"formatter\":{\"id\":\"1043\",\"type\":\"BasicTickFormatter\"},\"ticker\":{\"id\":\"1019\",\"type\":\"BasicTicker\"}},\"id\":\"1018\",\"type\":\"LinearAxis\"},{\"attributes\":{},\"id\":\"1043\",\"type\":\"BasicTickFormatter\"},{\"attributes\":{\"source\":{\"id\":\"1036\",\"type\":\"ColumnDataSource\"}},\"id\":\"1040\",\"type\":\"CDSView\"},{\"attributes\":{},\"id\":\"1028\",\"type\":\"HelpTool\"},{\"attributes\":{},\"id\":\"1014\",\"type\":\"BasicTicker\"},{\"attributes\":{\"callback\":null,\"overlay\":{\"id\":\"1107\",\"type\":\"PolyAnnotation\"}},\"id\":\"1097\",\"type\":\"LassoSelectTool\"},{\"attributes\":{},\"id\":\"1024\",\"type\":\"WheelZoomTool\"},{\"attributes\":{\"line_color\":\"#1f77b4\",\"line_width\":2,\"x\":{\"field\":\"x\"},\"y\":{\"field\":\"y\"}},\"id\":\"1037\",\"type\":\"Line\"},{\"attributes\":{\"active_drag\":\"auto\",\"active_inspect\":\"auto\",\"active_multi\":null,\"active_scroll\":\"auto\",\"active_tap\":\"auto\",\"tools\":[{\"id\":\"1023\",\"type\":\"PanTool\"},{\"id\":\"1024\",\"type\":\"WheelZoomTool\"},{\"id\":\"1025\",\"type\":\"BoxZoomTool\"},{\"id\":\"1026\",\"type\":\"SaveTool\"},{\"id\":\"1027\",\"type\":\"ResetTool\"},{\"id\":\"1028\",\"type\":\"HelpTool\"},{\"id\":\"1097\",\"type\":\"LassoSelectTool\"}]},\"id\":\"1029\",\"type\":\"Toolbar\"},{\"attributes\":{},\"id\":\"1019\",\"type\":\"BasicTicker\"},{\"attributes\":{\"dimension\":1,\"ticker\":{\"id\":\"1019\",\"type\":\"BasicTicker\"}},\"id\":\"1022\",\"type\":\"Grid\"},{\"attributes\":{\"ticker\":{\"id\":\"1014\",\"type\":\"BasicTicker\"}},\"id\":\"1017\",\"type\":\"Grid\"},{\"attributes\":{},\"id\":\"1046\",\"type\":\"Selection\"},{\"attributes\":{},\"id\":\"1047\",\"type\":\"UnionRenderers\"},{\"attributes\":{},\"id\":\"1045\",\"type\":\"BasicTickFormatter\"},{\"attributes\":{\"bottom_units\":\"screen\",\"fill_alpha\":{\"value\":0.5},\"fill_color\":{\"value\":\"lightgrey\"},\"left_units\":\"screen\",\"level\":\"overlay\",\"line_alpha\":{\"value\":1.0},\"line_color\":{\"value\":\"black\"},\"line_dash\":[4,4],\"line_width\":{\"value\":2},\"render_mode\":\"css\",\"right_units\":\"screen\",\"top_units\":\"screen\"},\"id\":\"1048\",\"type\":\"BoxAnnotation\"},{\"attributes\":{},\"id\":\"1009\",\"type\":\"LinearScale\"},{\"attributes\":{\"callback\":null,\"data\":{\"x\":[0,1,2,3,4,5,6,7,8,9,10],\"y\":[9,8,7,5,4,6,8,3,2,0,1]},\"selected\":{\"id\":\"1046\",\"type\":\"Selection\"},\"selection_policy\":{\"id\":\"1047\",\"type\":\"UnionRenderers\"}},\"id\":\"1036\",\"type\":\"ColumnDataSource\"},{\"attributes\":{\"fill_alpha\":{\"value\":0.5},\"fill_color\":{\"value\":\"lightgrey\"},\"level\":\"overlay\",\"line_alpha\":{\"value\":1.0},\"line_color\":{\"value\":\"black\"},\"line_dash\":[4,4],\"line_width\":{\"value\":2},\"xs_units\":\"screen\",\"ys_units\":\"screen\"},\"id\":\"1107\",\"type\":\"PolyAnnotation\"},{\"attributes\":{},\"id\":\"1023\",\"type\":\"PanTool\"},{\"attributes\":{\"bottom\":1.6,\"fill_alpha\":{\"value\":0.1},\"fill_color\":{\"value\":\"green\"},\"top\":4.2},\"id\":\"1108\",\"type\":\"BoxAnnotation\"},{\"attributes\":{\"overlay\":{\"id\":\"1048\",\"type\":\"BoxAnnotation\"}},\"id\":\"1025\",\"type\":\"BoxZoomTool\"},{\"attributes\":{\"text\":\"simple line chart\"},\"id\":\"1003\",\"type\":\"Title\"}],\"root_ids\":[\"1002\"]},\"title\":\"Bokeh Application\",\"version\":\"1.3.4\"}};\n",
       "  var render_items = [{\"docid\":\"b0397e88-a926-42a4-a8d4-0e8f5867642f\",\"roots\":{\"1002\":\"b13ff525-bb89-46b6-bd11-ce12a0fcb5db\"}}];\n",
       "  root.Bokeh.embed.embed_items_notebook(docs_json, render_items);\n",
       "\n",
       "  }\n",
       "  if (root.Bokeh !== undefined) {\n",
       "    embed_document(root);\n",
       "  } else {\n",
       "    var attempts = 0;\n",
       "    var timer = setInterval(function(root) {\n",
       "      if (root.Bokeh !== undefined) {\n",
       "        embed_document(root);\n",
       "        clearInterval(timer);\n",
       "      }\n",
       "      attempts++;\n",
       "      if (attempts > 100) {\n",
       "        console.log(\"Bokeh: ERROR: Unable to run BokehJS code because BokehJS library is missing\");\n",
       "        clearInterval(timer);\n",
       "      }\n",
       "    }, 10, root)\n",
       "  }\n",
       "})(window);"
      ],
      "application/vnd.bokehjs_exec.v0+json": ""
     },
     "metadata": {
      "application/vnd.bokehjs_exec.v0+json": {
       "id": "1002"
      }
     },
     "output_type": "display_data"
    }
   ],
   "source": [
    "# adding tools and annotations\n",
    "\n",
    "from bokeh.models import LassoSelectTool\n",
    "from bokeh.models import BoxAnnotation\n",
    "\n",
    "chart.add_tools(LassoSelectTool())\n",
    "low_box = BoxAnnotation(top=4.2, bottom=1.6, fill_alpha=0.1, fill_color='green')\n",
    "chart.add_layout(low_box)\n",
    "\n",
    "show(chart)"
   ]
  },
  {
   "cell_type": "code",
   "execution_count": 4,
   "metadata": {
    "slideshow": {
     "slide_type": "slide"
    }
   },
   "outputs": [],
   "source": [
    "# Example 2 - interaction with ipywidgets"
   ]
  },
  {
   "cell_type": "code",
   "execution_count": 5,
   "metadata": {
    "ExecuteTime": {
     "end_time": "2019-10-11T21:44:18.583867Z",
     "start_time": "2019-10-11T21:44:18.567867Z"
    },
    "slideshow": {
     "slide_type": "subslide"
    }
   },
   "outputs": [
    {
     "data": {
      "text/html": [
       "\n",
       "    <div class=\"bk-root\">\n",
       "        <a href=\"https://bokeh.pydata.org\" target=\"_blank\" class=\"bk-logo bk-logo-small bk-logo-notebook\"></a>\n",
       "        <span id=\"1172\">Loading BokehJS ...</span>\n",
       "    </div>"
      ]
     },
     "metadata": {},
     "output_type": "display_data"
    },
    {
     "data": {
      "application/javascript": [
       "\n",
       "(function(root) {\n",
       "  function now() {\n",
       "    return new Date();\n",
       "  }\n",
       "\n",
       "  var force = true;\n",
       "\n",
       "  if (typeof root._bokeh_onload_callbacks === \"undefined\" || force === true) {\n",
       "    root._bokeh_onload_callbacks = [];\n",
       "    root._bokeh_is_loading = undefined;\n",
       "  }\n",
       "\n",
       "  var JS_MIME_TYPE = 'application/javascript';\n",
       "  var HTML_MIME_TYPE = 'text/html';\n",
       "  var EXEC_MIME_TYPE = 'application/vnd.bokehjs_exec.v0+json';\n",
       "  var CLASS_NAME = 'output_bokeh rendered_html';\n",
       "\n",
       "  /**\n",
       "   * Render data to the DOM node\n",
       "   */\n",
       "  function render(props, node) {\n",
       "    var script = document.createElement(\"script\");\n",
       "    node.appendChild(script);\n",
       "  }\n",
       "\n",
       "  /**\n",
       "   * Handle when an output is cleared or removed\n",
       "   */\n",
       "  function handleClearOutput(event, handle) {\n",
       "    var cell = handle.cell;\n",
       "\n",
       "    var id = cell.output_area._bokeh_element_id;\n",
       "    var server_id = cell.output_area._bokeh_server_id;\n",
       "    // Clean up Bokeh references\n",
       "    if (id != null && id in Bokeh.index) {\n",
       "      Bokeh.index[id].model.document.clear();\n",
       "      delete Bokeh.index[id];\n",
       "    }\n",
       "\n",
       "    if (server_id !== undefined) {\n",
       "      // Clean up Bokeh references\n",
       "      var cmd = \"from bokeh.io.state import curstate; print(curstate().uuid_to_server['\" + server_id + \"'].get_sessions()[0].document.roots[0]._id)\";\n",
       "      cell.notebook.kernel.execute(cmd, {\n",
       "        iopub: {\n",
       "          output: function(msg) {\n",
       "            var id = msg.content.text.trim();\n",
       "            if (id in Bokeh.index) {\n",
       "              Bokeh.index[id].model.document.clear();\n",
       "              delete Bokeh.index[id];\n",
       "            }\n",
       "          }\n",
       "        }\n",
       "      });\n",
       "      // Destroy server and session\n",
       "      var cmd = \"import bokeh.io.notebook as ion; ion.destroy_server('\" + server_id + \"')\";\n",
       "      cell.notebook.kernel.execute(cmd);\n",
       "    }\n",
       "  }\n",
       "\n",
       "  /**\n",
       "   * Handle when a new output is added\n",
       "   */\n",
       "  function handleAddOutput(event, handle) {\n",
       "    var output_area = handle.output_area;\n",
       "    var output = handle.output;\n",
       "\n",
       "    // limit handleAddOutput to display_data with EXEC_MIME_TYPE content only\n",
       "    if ((output.output_type != \"display_data\") || (!output.data.hasOwnProperty(EXEC_MIME_TYPE))) {\n",
       "      return\n",
       "    }\n",
       "\n",
       "    var toinsert = output_area.element.find(\".\" + CLASS_NAME.split(' ')[0]);\n",
       "\n",
       "    if (output.metadata[EXEC_MIME_TYPE][\"id\"] !== undefined) {\n",
       "      toinsert[toinsert.length - 1].firstChild.textContent = output.data[JS_MIME_TYPE];\n",
       "      // store reference to embed id on output_area\n",
       "      output_area._bokeh_element_id = output.metadata[EXEC_MIME_TYPE][\"id\"];\n",
       "    }\n",
       "    if (output.metadata[EXEC_MIME_TYPE][\"server_id\"] !== undefined) {\n",
       "      var bk_div = document.createElement(\"div\");\n",
       "      bk_div.innerHTML = output.data[HTML_MIME_TYPE];\n",
       "      var script_attrs = bk_div.children[0].attributes;\n",
       "      for (var i = 0; i < script_attrs.length; i++) {\n",
       "        toinsert[toinsert.length - 1].firstChild.setAttribute(script_attrs[i].name, script_attrs[i].value);\n",
       "      }\n",
       "      // store reference to server id on output_area\n",
       "      output_area._bokeh_server_id = output.metadata[EXEC_MIME_TYPE][\"server_id\"];\n",
       "    }\n",
       "  }\n",
       "\n",
       "  function register_renderer(events, OutputArea) {\n",
       "\n",
       "    function append_mime(data, metadata, element) {\n",
       "      // create a DOM node to render to\n",
       "      var toinsert = this.create_output_subarea(\n",
       "        metadata,\n",
       "        CLASS_NAME,\n",
       "        EXEC_MIME_TYPE\n",
       "      );\n",
       "      this.keyboard_manager.register_events(toinsert);\n",
       "      // Render to node\n",
       "      var props = {data: data, metadata: metadata[EXEC_MIME_TYPE]};\n",
       "      render(props, toinsert[toinsert.length - 1]);\n",
       "      element.append(toinsert);\n",
       "      return toinsert\n",
       "    }\n",
       "\n",
       "    /* Handle when an output is cleared or removed */\n",
       "    events.on('clear_output.CodeCell', handleClearOutput);\n",
       "    events.on('delete.Cell', handleClearOutput);\n",
       "\n",
       "    /* Handle when a new output is added */\n",
       "    events.on('output_added.OutputArea', handleAddOutput);\n",
       "\n",
       "    /**\n",
       "     * Register the mime type and append_mime function with output_area\n",
       "     */\n",
       "    OutputArea.prototype.register_mime_type(EXEC_MIME_TYPE, append_mime, {\n",
       "      /* Is output safe? */\n",
       "      safe: true,\n",
       "      /* Index of renderer in `output_area.display_order` */\n",
       "      index: 0\n",
       "    });\n",
       "  }\n",
       "\n",
       "  // register the mime type if in Jupyter Notebook environment and previously unregistered\n",
       "  if (root.Jupyter !== undefined) {\n",
       "    var events = require('base/js/events');\n",
       "    var OutputArea = require('notebook/js/outputarea').OutputArea;\n",
       "\n",
       "    if (OutputArea.prototype.mime_types().indexOf(EXEC_MIME_TYPE) == -1) {\n",
       "      register_renderer(events, OutputArea);\n",
       "    }\n",
       "  }\n",
       "\n",
       "  \n",
       "  if (typeof (root._bokeh_timeout) === \"undefined\" || force === true) {\n",
       "    root._bokeh_timeout = Date.now() + 5000;\n",
       "    root._bokeh_failed_load = false;\n",
       "  }\n",
       "\n",
       "  var NB_LOAD_WARNING = {'data': {'text/html':\n",
       "     \"<div style='background-color: #fdd'>\\n\"+\n",
       "     \"<p>\\n\"+\n",
       "     \"BokehJS does not appear to have successfully loaded. If loading BokehJS from CDN, this \\n\"+\n",
       "     \"may be due to a slow or bad network connection. Possible fixes:\\n\"+\n",
       "     \"</p>\\n\"+\n",
       "     \"<ul>\\n\"+\n",
       "     \"<li>re-rerun `output_notebook()` to attempt to load from CDN again, or</li>\\n\"+\n",
       "     \"<li>use INLINE resources instead, as so:</li>\\n\"+\n",
       "     \"</ul>\\n\"+\n",
       "     \"<code>\\n\"+\n",
       "     \"from bokeh.resources import INLINE\\n\"+\n",
       "     \"output_notebook(resources=INLINE)\\n\"+\n",
       "     \"</code>\\n\"+\n",
       "     \"</div>\"}};\n",
       "\n",
       "  function display_loaded() {\n",
       "    var el = document.getElementById(\"1172\");\n",
       "    if (el != null) {\n",
       "      el.textContent = \"BokehJS is loading...\";\n",
       "    }\n",
       "    if (root.Bokeh !== undefined) {\n",
       "      if (el != null) {\n",
       "        el.textContent = \"BokehJS \" + root.Bokeh.version + \" successfully loaded.\";\n",
       "      }\n",
       "    } else if (Date.now() < root._bokeh_timeout) {\n",
       "      setTimeout(display_loaded, 100)\n",
       "    }\n",
       "  }\n",
       "\n",
       "\n",
       "  function run_callbacks() {\n",
       "    try {\n",
       "      root._bokeh_onload_callbacks.forEach(function(callback) {\n",
       "        if (callback != null)\n",
       "          callback();\n",
       "      });\n",
       "    } finally {\n",
       "      delete root._bokeh_onload_callbacks\n",
       "    }\n",
       "    console.debug(\"Bokeh: all callbacks have finished\");\n",
       "  }\n",
       "\n",
       "  function load_libs(css_urls, js_urls, callback) {\n",
       "    if (css_urls == null) css_urls = [];\n",
       "    if (js_urls == null) js_urls = [];\n",
       "\n",
       "    root._bokeh_onload_callbacks.push(callback);\n",
       "    if (root._bokeh_is_loading > 0) {\n",
       "      console.debug(\"Bokeh: BokehJS is being loaded, scheduling callback at\", now());\n",
       "      return null;\n",
       "    }\n",
       "    if (js_urls == null || js_urls.length === 0) {\n",
       "      run_callbacks();\n",
       "      return null;\n",
       "    }\n",
       "    console.debug(\"Bokeh: BokehJS not loaded, scheduling load and callback at\", now());\n",
       "    root._bokeh_is_loading = css_urls.length + js_urls.length;\n",
       "\n",
       "    function on_load() {\n",
       "      root._bokeh_is_loading--;\n",
       "      if (root._bokeh_is_loading === 0) {\n",
       "        console.debug(\"Bokeh: all BokehJS libraries/stylesheets loaded\");\n",
       "        run_callbacks()\n",
       "      }\n",
       "    }\n",
       "\n",
       "    function on_error() {\n",
       "      console.error(\"failed to load \" + url);\n",
       "    }\n",
       "\n",
       "    for (var i = 0; i < css_urls.length; i++) {\n",
       "      var url = css_urls[i];\n",
       "      const element = document.createElement(\"link\");\n",
       "      element.onload = on_load;\n",
       "      element.onerror = on_error;\n",
       "      element.rel = \"stylesheet\";\n",
       "      element.type = \"text/css\";\n",
       "      element.href = url;\n",
       "      console.debug(\"Bokeh: injecting link tag for BokehJS stylesheet: \", url);\n",
       "      document.body.appendChild(element);\n",
       "    }\n",
       "\n",
       "    for (var i = 0; i < js_urls.length; i++) {\n",
       "      var url = js_urls[i];\n",
       "      var element = document.createElement('script');\n",
       "      element.onload = on_load;\n",
       "      element.onerror = on_error;\n",
       "      element.async = false;\n",
       "      element.src = url;\n",
       "      console.debug(\"Bokeh: injecting script tag for BokehJS library: \", url);\n",
       "      document.head.appendChild(element);\n",
       "    }\n",
       "  };var element = document.getElementById(\"1172\");\n",
       "  if (element == null) {\n",
       "    console.error(\"Bokeh: ERROR: autoload.js configured with elementid '1172' but no matching script tag was found. \")\n",
       "    return false;\n",
       "  }\n",
       "\n",
       "  function inject_raw_css(css) {\n",
       "    const element = document.createElement(\"style\");\n",
       "    element.appendChild(document.createTextNode(css));\n",
       "    document.body.appendChild(element);\n",
       "  }\n",
       "\n",
       "  var js_urls = [\"https://cdn.pydata.org/bokeh/release/bokeh-1.3.4.min.js\", \"https://cdn.pydata.org/bokeh/release/bokeh-widgets-1.3.4.min.js\", \"https://cdn.pydata.org/bokeh/release/bokeh-tables-1.3.4.min.js\", \"https://cdn.pydata.org/bokeh/release/bokeh-gl-1.3.4.min.js\"];\n",
       "  var css_urls = [];\n",
       "\n",
       "  var inline_js = [\n",
       "    function(Bokeh) {\n",
       "      Bokeh.set_log_level(\"info\");\n",
       "    },\n",
       "    \n",
       "    function(Bokeh) {\n",
       "      \n",
       "    },\n",
       "    function(Bokeh) {} // ensure no trailing comma for IE\n",
       "  ];\n",
       "\n",
       "  function run_inline_js() {\n",
       "    \n",
       "    if ((root.Bokeh !== undefined) || (force === true)) {\n",
       "      for (var i = 0; i < inline_js.length; i++) {\n",
       "        inline_js[i].call(root, root.Bokeh);\n",
       "      }if (force === true) {\n",
       "        display_loaded();\n",
       "      }} else if (Date.now() < root._bokeh_timeout) {\n",
       "      setTimeout(run_inline_js, 100);\n",
       "    } else if (!root._bokeh_failed_load) {\n",
       "      console.log(\"Bokeh: BokehJS failed to load within specified timeout.\");\n",
       "      root._bokeh_failed_load = true;\n",
       "    } else if (force !== true) {\n",
       "      var cell = $(document.getElementById(\"1172\")).parents('.cell').data().cell;\n",
       "      cell.output_area.append_execute_result(NB_LOAD_WARNING)\n",
       "    }\n",
       "\n",
       "  }\n",
       "\n",
       "  if (root._bokeh_is_loading === 0) {\n",
       "    console.debug(\"Bokeh: BokehJS loaded, going straight to plotting\");\n",
       "    run_inline_js();\n",
       "  } else {\n",
       "    load_libs(css_urls, js_urls, function() {\n",
       "      console.debug(\"Bokeh: BokehJS plotting callback run at\", now());\n",
       "      run_inline_js();\n",
       "    });\n",
       "  }\n",
       "}(window));"
      ],
      "application/vnd.bokehjs_load.v0+json": "\n(function(root) {\n  function now() {\n    return new Date();\n  }\n\n  var force = true;\n\n  if (typeof root._bokeh_onload_callbacks === \"undefined\" || force === true) {\n    root._bokeh_onload_callbacks = [];\n    root._bokeh_is_loading = undefined;\n  }\n\n  \n\n  \n  if (typeof (root._bokeh_timeout) === \"undefined\" || force === true) {\n    root._bokeh_timeout = Date.now() + 5000;\n    root._bokeh_failed_load = false;\n  }\n\n  var NB_LOAD_WARNING = {'data': {'text/html':\n     \"<div style='background-color: #fdd'>\\n\"+\n     \"<p>\\n\"+\n     \"BokehJS does not appear to have successfully loaded. If loading BokehJS from CDN, this \\n\"+\n     \"may be due to a slow or bad network connection. Possible fixes:\\n\"+\n     \"</p>\\n\"+\n     \"<ul>\\n\"+\n     \"<li>re-rerun `output_notebook()` to attempt to load from CDN again, or</li>\\n\"+\n     \"<li>use INLINE resources instead, as so:</li>\\n\"+\n     \"</ul>\\n\"+\n     \"<code>\\n\"+\n     \"from bokeh.resources import INLINE\\n\"+\n     \"output_notebook(resources=INLINE)\\n\"+\n     \"</code>\\n\"+\n     \"</div>\"}};\n\n  function display_loaded() {\n    var el = document.getElementById(\"1172\");\n    if (el != null) {\n      el.textContent = \"BokehJS is loading...\";\n    }\n    if (root.Bokeh !== undefined) {\n      if (el != null) {\n        el.textContent = \"BokehJS \" + root.Bokeh.version + \" successfully loaded.\";\n      }\n    } else if (Date.now() < root._bokeh_timeout) {\n      setTimeout(display_loaded, 100)\n    }\n  }\n\n\n  function run_callbacks() {\n    try {\n      root._bokeh_onload_callbacks.forEach(function(callback) {\n        if (callback != null)\n          callback();\n      });\n    } finally {\n      delete root._bokeh_onload_callbacks\n    }\n    console.debug(\"Bokeh: all callbacks have finished\");\n  }\n\n  function load_libs(css_urls, js_urls, callback) {\n    if (css_urls == null) css_urls = [];\n    if (js_urls == null) js_urls = [];\n\n    root._bokeh_onload_callbacks.push(callback);\n    if (root._bokeh_is_loading > 0) {\n      console.debug(\"Bokeh: BokehJS is being loaded, scheduling callback at\", now());\n      return null;\n    }\n    if (js_urls == null || js_urls.length === 0) {\n      run_callbacks();\n      return null;\n    }\n    console.debug(\"Bokeh: BokehJS not loaded, scheduling load and callback at\", now());\n    root._bokeh_is_loading = css_urls.length + js_urls.length;\n\n    function on_load() {\n      root._bokeh_is_loading--;\n      if (root._bokeh_is_loading === 0) {\n        console.debug(\"Bokeh: all BokehJS libraries/stylesheets loaded\");\n        run_callbacks()\n      }\n    }\n\n    function on_error() {\n      console.error(\"failed to load \" + url);\n    }\n\n    for (var i = 0; i < css_urls.length; i++) {\n      var url = css_urls[i];\n      const element = document.createElement(\"link\");\n      element.onload = on_load;\n      element.onerror = on_error;\n      element.rel = \"stylesheet\";\n      element.type = \"text/css\";\n      element.href = url;\n      console.debug(\"Bokeh: injecting link tag for BokehJS stylesheet: \", url);\n      document.body.appendChild(element);\n    }\n\n    for (var i = 0; i < js_urls.length; i++) {\n      var url = js_urls[i];\n      var element = document.createElement('script');\n      element.onload = on_load;\n      element.onerror = on_error;\n      element.async = false;\n      element.src = url;\n      console.debug(\"Bokeh: injecting script tag for BokehJS library: \", url);\n      document.head.appendChild(element);\n    }\n  };var element = document.getElementById(\"1172\");\n  if (element == null) {\n    console.error(\"Bokeh: ERROR: autoload.js configured with elementid '1172' but no matching script tag was found. \")\n    return false;\n  }\n\n  function inject_raw_css(css) {\n    const element = document.createElement(\"style\");\n    element.appendChild(document.createTextNode(css));\n    document.body.appendChild(element);\n  }\n\n  var js_urls = [\"https://cdn.pydata.org/bokeh/release/bokeh-1.3.4.min.js\", \"https://cdn.pydata.org/bokeh/release/bokeh-widgets-1.3.4.min.js\", \"https://cdn.pydata.org/bokeh/release/bokeh-tables-1.3.4.min.js\", \"https://cdn.pydata.org/bokeh/release/bokeh-gl-1.3.4.min.js\"];\n  var css_urls = [];\n\n  var inline_js = [\n    function(Bokeh) {\n      Bokeh.set_log_level(\"info\");\n    },\n    \n    function(Bokeh) {\n      \n    },\n    function(Bokeh) {} // ensure no trailing comma for IE\n  ];\n\n  function run_inline_js() {\n    \n    if ((root.Bokeh !== undefined) || (force === true)) {\n      for (var i = 0; i < inline_js.length; i++) {\n        inline_js[i].call(root, root.Bokeh);\n      }if (force === true) {\n        display_loaded();\n      }} else if (Date.now() < root._bokeh_timeout) {\n      setTimeout(run_inline_js, 100);\n    } else if (!root._bokeh_failed_load) {\n      console.log(\"Bokeh: BokehJS failed to load within specified timeout.\");\n      root._bokeh_failed_load = true;\n    } else if (force !== true) {\n      var cell = $(document.getElementById(\"1172\")).parents('.cell').data().cell;\n      cell.output_area.append_execute_result(NB_LOAD_WARNING)\n    }\n\n  }\n\n  if (root._bokeh_is_loading === 0) {\n    console.debug(\"Bokeh: BokehJS loaded, going straight to plotting\");\n    run_inline_js();\n  } else {\n    load_libs(css_urls, js_urls, function() {\n      console.debug(\"Bokeh: BokehJS plotting callback run at\", now());\n      run_inline_js();\n    });\n  }\n}(window));"
     },
     "metadata": {},
     "output_type": "display_data"
    },
    {
     "data": {
      "application/vnd.jupyter.widget-view+json": {
       "model_id": "1813c62d63844df9b6893484a7985ad9",
       "version_major": 2,
       "version_minor": 0
      },
      "text/plain": [
       "interactive(children=(Dropdown(description='function', options=('sin', 'cos', 'tan'), value='sin'), IntSlider(…"
      ]
     },
     "metadata": {},
     "output_type": "display_data"
    },
    {
     "data": {
      "text/html": [
       "\n",
       "\n",
       "\n",
       "\n",
       "\n",
       "\n",
       "  <div class=\"bk-root\" id=\"f37bbd25-72d6-4a18-a8d9-7306b7d21a45\" data-root-id=\"1173\"></div>\n"
      ]
     },
     "metadata": {},
     "output_type": "display_data"
    },
    {
     "data": {
      "application/javascript": [
       "(function(root) {\n",
       "  function embed_document(root) {\n",
       "    \n",
       "  var docs_json = {\"a790089a-1f14-4e26-b0e9-e9397dd6e8ee\":{\"roots\":{\"references\":[{\"attributes\":{\"background_fill_color\":{\"value\":\"#efefef\"},\"below\":[{\"id\":\"1184\",\"type\":\"LinearAxis\"}],\"center\":[{\"id\":\"1188\",\"type\":\"Grid\"},{\"id\":\"1193\",\"type\":\"Grid\"}],\"left\":[{\"id\":\"1189\",\"type\":\"LinearAxis\"}],\"plot_height\":300,\"plot_width\":900,\"renderers\":[{\"id\":\"1210\",\"type\":\"GlyphRenderer\"}],\"title\":{\"id\":\"1174\",\"type\":\"Title\"},\"toolbar\":{\"id\":\"1200\",\"type\":\"Toolbar\"},\"x_range\":{\"id\":\"1176\",\"type\":\"DataRange1d\"},\"x_scale\":{\"id\":\"1180\",\"type\":\"LinearScale\"},\"y_range\":{\"id\":\"1178\",\"type\":\"Range1d\"},\"y_scale\":{\"id\":\"1182\",\"type\":\"LinearScale\"}},\"id\":\"1173\",\"subtype\":\"Figure\",\"type\":\"Plot\"},{\"attributes\":{\"active_drag\":\"auto\",\"active_inspect\":\"auto\",\"active_multi\":null,\"active_scroll\":\"auto\",\"active_tap\":\"auto\",\"tools\":[{\"id\":\"1194\",\"type\":\"PanTool\"},{\"id\":\"1195\",\"type\":\"WheelZoomTool\"},{\"id\":\"1196\",\"type\":\"BoxZoomTool\"},{\"id\":\"1197\",\"type\":\"SaveTool\"},{\"id\":\"1198\",\"type\":\"ResetTool\"},{\"id\":\"1199\",\"type\":\"HelpTool\"}]},\"id\":\"1200\",\"type\":\"Toolbar\"},{\"attributes\":{\"callback\":null,\"end\":10,\"start\":-10},\"id\":\"1178\",\"type\":\"Range1d\"},{\"attributes\":{},\"id\":\"1225\",\"type\":\"BasicTickFormatter\"},{\"attributes\":{\"dimension\":1,\"ticker\":{\"id\":\"1190\",\"type\":\"BasicTicker\"}},\"id\":\"1193\",\"type\":\"Grid\"},{\"attributes\":{\"text\":\"example - simple trig plot\"},\"id\":\"1174\",\"type\":\"Title\"},{\"attributes\":{\"line_alpha\":0.1,\"line_color\":\"#1f77b4\",\"line_width\":1.5,\"x\":{\"field\":\"x\"},\"y\":{\"field\":\"y\"}},\"id\":\"1209\",\"type\":\"Line\"},{\"attributes\":{},\"id\":\"1226\",\"type\":\"Selection\"},{\"attributes\":{\"line_alpha\":0.8,\"line_color\":\"#8888cc\",\"line_width\":1.5,\"x\":{\"field\":\"x\"},\"y\":{\"field\":\"y\"}},\"id\":\"1208\",\"type\":\"Line\"},{\"attributes\":{\"callback\":null},\"id\":\"1176\",\"type\":\"DataRange1d\"},{\"attributes\":{\"data_source\":{\"id\":\"1207\",\"type\":\"ColumnDataSource\"},\"glyph\":{\"id\":\"1208\",\"type\":\"Line\"},\"hover_glyph\":null,\"muted_glyph\":null,\"nonselection_glyph\":{\"id\":\"1209\",\"type\":\"Line\"},\"selection_glyph\":null,\"view\":{\"id\":\"1211\",\"type\":\"CDSView\"}},\"id\":\"1210\",\"type\":\"GlyphRenderer\"},{\"attributes\":{},\"id\":\"1194\",\"type\":\"PanTool\"},{\"attributes\":{\"source\":{\"id\":\"1207\",\"type\":\"ColumnDataSource\"}},\"id\":\"1211\",\"type\":\"CDSView\"},{\"attributes\":{\"formatter\":{\"id\":\"1225\",\"type\":\"BasicTickFormatter\"},\"ticker\":{\"id\":\"1185\",\"type\":\"BasicTicker\"}},\"id\":\"1184\",\"type\":\"LinearAxis\"},{\"attributes\":{},\"id\":\"1195\",\"type\":\"WheelZoomTool\"},{\"attributes\":{\"bottom_units\":\"screen\",\"fill_alpha\":{\"value\":0.5},\"fill_color\":{\"value\":\"lightgrey\"},\"left_units\":\"screen\",\"level\":\"overlay\",\"line_alpha\":{\"value\":1.0},\"line_color\":{\"value\":\"black\"},\"line_dash\":[4,4],\"line_width\":{\"value\":2},\"render_mode\":\"css\",\"right_units\":\"screen\",\"top_units\":\"screen\"},\"id\":\"1228\",\"type\":\"BoxAnnotation\"},{\"attributes\":{\"overlay\":{\"id\":\"1228\",\"type\":\"BoxAnnotation\"}},\"id\":\"1196\",\"type\":\"BoxZoomTool\"},{\"attributes\":{},\"id\":\"1180\",\"type\":\"LinearScale\"},{\"attributes\":{},\"id\":\"1197\",\"type\":\"SaveTool\"},{\"attributes\":{},\"id\":\"1182\",\"type\":\"LinearScale\"},{\"attributes\":{},\"id\":\"1198\",\"type\":\"ResetTool\"},{\"attributes\":{\"ticker\":{\"id\":\"1185\",\"type\":\"BasicTicker\"}},\"id\":\"1188\",\"type\":\"Grid\"},{\"attributes\":{},\"id\":\"1199\",\"type\":\"HelpTool\"},{\"attributes\":{},\"id\":\"1185\",\"type\":\"BasicTicker\"},{\"attributes\":{},\"id\":\"1223\",\"type\":\"BasicTickFormatter\"},{\"attributes\":{},\"id\":\"1190\",\"type\":\"BasicTicker\"},{\"attributes\":{},\"id\":\"1227\",\"type\":\"UnionRenderers\"},{\"attributes\":{\"formatter\":{\"id\":\"1223\",\"type\":\"BasicTickFormatter\"},\"ticker\":{\"id\":\"1190\",\"type\":\"BasicTicker\"}},\"id\":\"1189\",\"type\":\"LinearAxis\"},{\"attributes\":{\"callback\":null,\"data\":{\"x\":{\"__ndarray__\":\"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\",\"dtype\":\"float64\",\"shape\":[2000]},\"y\":{\"__ndarray__\":\"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\",\"dtype\":\"float64\",\"shape\":[2000]}},\"selected\":{\"id\":\"1226\",\"type\":\"Selection\"},\"selection_policy\":{\"id\":\"1227\",\"type\":\"UnionRenderers\"}},\"id\":\"1207\",\"type\":\"ColumnDataSource\"}],\"root_ids\":[\"1173\"]},\"title\":\"Bokeh Application\",\"version\":\"1.3.4\"}};\n",
       "  var render_items = [{\"docid\":\"a790089a-1f14-4e26-b0e9-e9397dd6e8ee\",\"notebook_comms_target\":\"1229\",\"roots\":{\"1173\":\"f37bbd25-72d6-4a18-a8d9-7306b7d21a45\"}}];\n",
       "  root.Bokeh.embed.embed_items_notebook(docs_json, render_items);\n",
       "\n",
       "  }\n",
       "  if (root.Bokeh !== undefined) {\n",
       "    embed_document(root);\n",
       "  } else {\n",
       "    var attempts = 0;\n",
       "    var timer = setInterval(function(root) {\n",
       "      if (root.Bokeh !== undefined) {\n",
       "        embed_document(root);\n",
       "        clearInterval(timer);\n",
       "      }\n",
       "      attempts++;\n",
       "      if (attempts > 100) {\n",
       "        console.log(\"Bokeh: ERROR: Unable to run BokehJS code because BokehJS library is missing\");\n",
       "        clearInterval(timer);\n",
       "      }\n",
       "    }, 10, root)\n",
       "  }\n",
       "})(window);"
      ],
      "application/vnd.bokehjs_exec.v0+json": ""
     },
     "metadata": {
      "application/vnd.bokehjs_exec.v0+json": {
       "id": "1173"
      }
     },
     "output_type": "display_data"
    }
   ],
   "source": [
    "# simple interactivity example - using ipywidgets\n",
    "# credit:  https://github.com/bokeh/bokeh/blob/1.3.4/examples/howto/notebook_comms/Jupyter%20Interactors.ipynb\n",
    "\n",
    "from ipywidgets import interact\n",
    "import numpy as np\n",
    "\n",
    "from bokeh.io import push_notebook, show, output_notebook\n",
    "from bokeh.plotting import figure\n",
    "output_notebook()\n",
    "\n",
    "# define evenly spaced data to plot trig functions\n",
    "x = np.linspace(0, 2*np.pi, 2000)\n",
    "y = np.sin(x)\n",
    "\n",
    "graph_function = figure(title=\"example - simple trig plot\", plot_height=300, plot_width=900, y_range=(-10,10),\n",
    "           background_fill_color='#efefef')\n",
    "r = graph_function.line(x, y, color=\"#8888cc\", line_width=1.5, alpha=0.8)\n",
    "\n",
    "def update(function, freq=10, Amplitude=2, phi=0):\n",
    "    if   function == \"sin\": func = np.sin\n",
    "    elif function == \"cos\": func = np.cos\n",
    "    elif function == \"tan\": func = np.tan\n",
    "    r.data_source.data['y'] = Amplitude * func(freq * x + phi)\n",
    "    push_notebook()\n",
    "\n",
    "interact(update, function=[\"sin\", \"cos\", \"tan\"], freq=(0,500), Amplitude=(1,20), phi=(0, 20, 0.5))\n",
    "show(graph_function, notebook_handle=True);  # handle updates existing plot, only needed in jupyter notebook (not jupyterlab)\n"
   ]
  },
  {
   "cell_type": "markdown",
   "metadata": {
    "slideshow": {
     "slide_type": "slide"
    }
   },
   "source": [
    "# Introducing Bokeh ColumnDataSource object<br>\n",
    "\n",
    "- Bokeh class\n",
    "- Bokeh can plot directly from Pandas DataFrames AND\n",
    "- ColumnDataSource helps maps names of columns to sequences or arrays <br><br>\n",
    "\n",
    "\n",
    "    from bokeh.models import ColumnDataSource\n",
    "\n",
    "    data = {\"x\": [1,2,3,4], \"y\": [11, 22, 33, 44], labels=[\"alpha\", \"bravo\", \"charlie\", \"delta\"]}\n",
    "\n",
    "    source = ColumnDataSource(data,  color=Colorblind)\n",
    "<br>\n",
    "\n",
    "### why use this?\n",
    "- easier to share data + selections between plots and subplots<br>\n",
    "- efficient graphing of streaming - bokeh only sends new data to plots<br>\n",
    "- offloads work to the browser (e.g. colormapping)<br><br>\n",
    "\n",
    "- color examples:  https://docs.bokeh.org/en/latest/docs/reference/palettes.html"
   ]
  },
  {
   "cell_type": "markdown",
   "metadata": {
    "slideshow": {
     "slide_type": "slide"
    }
   },
   "source": [
    "# Example 3 - Saving Data from A Chart\n",
    "\n",
    "*WIP*"
   ]
  },
  {
   "cell_type": "markdown",
   "metadata": {
    "slideshow": {
     "slide_type": "slide"
    }
   },
   "source": [
    "# Example 4 - Interactive, linked brushing"
   ]
  },
  {
   "cell_type": "code",
   "execution_count": 6,
   "metadata": {
    "scrolled": false,
    "slideshow": {
     "slide_type": "subslide"
    }
   },
   "outputs": [
    {
     "data": {
      "text/html": [
       "\n",
       "\n",
       "\n",
       "\n",
       "\n",
       "\n",
       "  <div class=\"bk-root\" id=\"3ff8ad54-041c-49e3-8ae6-43af24e4fa98\" data-root-id=\"1404\"></div>\n"
      ]
     },
     "metadata": {},
     "output_type": "display_data"
    },
    {
     "data": {
      "application/javascript": [
       "(function(root) {\n",
       "  function embed_document(root) {\n",
       "    \n",
       "  var docs_json = {\"f25c769a-c764-4f09-ad26-ab6a6a6ceeca\":{\"roots\":{\"references\":[{\"attributes\":{\"children\":[{\"id\":\"1403\",\"type\":\"ToolbarBox\"},{\"id\":\"1401\",\"type\":\"GridBox\"}]},\"id\":\"1404\",\"type\":\"Column\"},{\"attributes\":{\"text\":\"Select Here\"},\"id\":\"1282\",\"type\":\"Title\"},{\"attributes\":{\"callback\":null},\"id\":\"1315\",\"type\":\"Range1d\"},{\"attributes\":{\"fill_alpha\":{\"value\":0.1},\"fill_color\":{\"value\":\"#1f77b4\"},\"line_alpha\":{\"value\":0.1},\"line_color\":{\"value\":\"#1f77b4\"},\"x\":{\"field\":\"x\"},\"y\":{\"field\":\"y\"}},\"id\":\"1338\",\"type\":\"Circle\"},{\"attributes\":{},\"id\":\"1358\",\"type\":\"BasicTicker\"},{\"attributes\":{\"callback\":null},\"id\":\"1286\",\"type\":\"DataRange1d\"},{\"attributes\":{\"ticker\":{\"id\":\"1324\",\"type\":\"BasicTicker\"}},\"id\":\"1327\",\"type\":\"Grid\"},{\"attributes\":{\"data_source\":{\"id\":\"1279\",\"type\":\"ColumnDataSource\"},\"glyph\":{\"id\":\"1337\",\"type\":\"Circle\"},\"hover_glyph\":null,\"muted_glyph\":null,\"nonselection_glyph\":{\"id\":\"1338\",\"type\":\"Circle\"},\"selection_glyph\":null,\"view\":{\"id\":\"1340\",\"type\":\"CDSView\"}},\"id\":\"1339\",\"type\":\"GlyphRenderer\"},{\"attributes\":{},\"id\":\"1380\",\"type\":\"Selection\"},{\"attributes\":{\"callback\":null,\"overlay\":{\"id\":\"1379\",\"type\":\"PolyAnnotation\"}},\"id\":\"1302\",\"type\":\"LassoSelectTool\"},{\"attributes\":{\"callback\":null},\"id\":\"1317\",\"type\":\"Range1d\"},{\"attributes\":{\"active_drag\":\"auto\",\"active_inspect\":\"auto\",\"active_multi\":null,\"active_scroll\":\"auto\",\"active_tap\":\"auto\",\"tools\":[{\"id\":\"1362\",\"type\":\"SaveTool\"}]},\"id\":\"1363\",\"type\":\"Toolbar\"},{\"attributes\":{},\"id\":\"1362\",\"type\":\"SaveTool\"},{\"attributes\":{\"text\":\"Watch Second Mirror Graph Here\"},\"id\":\"1342\",\"type\":\"Title\"},{\"attributes\":{},\"id\":\"1319\",\"type\":\"LinearScale\"},{\"attributes\":{},\"id\":\"1383\",\"type\":\"UnionRenderers\"},{\"attributes\":{},\"id\":\"1288\",\"type\":\"LinearScale\"},{\"attributes\":{\"below\":[{\"id\":\"1323\",\"type\":\"LinearAxis\"}],\"center\":[{\"id\":\"1327\",\"type\":\"Grid\"},{\"id\":\"1332\",\"type\":\"Grid\"}],\"left\":[{\"id\":\"1328\",\"type\":\"LinearAxis\"}],\"plot_height\":400,\"plot_width\":400,\"renderers\":[{\"id\":\"1339\",\"type\":\"GlyphRenderer\"}],\"title\":{\"id\":\"1313\",\"type\":\"Title\"},\"toolbar\":{\"id\":\"1334\",\"type\":\"Toolbar\"},\"toolbar_location\":null,\"x_range\":{\"id\":\"1315\",\"type\":\"Range1d\"},\"x_scale\":{\"id\":\"1319\",\"type\":\"LinearScale\"},\"y_range\":{\"id\":\"1317\",\"type\":\"Range1d\"},\"y_scale\":{\"id\":\"1321\",\"type\":\"LinearScale\"}},\"id\":\"1312\",\"subtype\":\"Figure\",\"type\":\"Plot\"},{\"attributes\":{},\"id\":\"1387\",\"type\":\"BasicTickFormatter\"},{\"attributes\":{},\"id\":\"1321\",\"type\":\"LinearScale\"},{\"attributes\":{\"fill_alpha\":{\"value\":0.1},\"fill_color\":{\"value\":\"#1f77b4\"},\"line_alpha\":{\"value\":0.1},\"line_color\":{\"value\":\"#1f77b4\"},\"x\":{\"field\":\"x\"},\"y\":{\"field\":\"y\"}},\"id\":\"1309\",\"type\":\"Circle\"},{\"attributes\":{\"callback\":null,\"data\":{\"x\":[0.051624082358044276,0.6952521287962674,0.7229079977244598,0.83032199303782,0.09157507111447394,0.17430719926973937,0.9277983405886289,0.4221467038405443,0.8018311043512767,0.6770570364724231,0.6406680239389116,0.10794109213547887,0.8086328350587044,0.13043538695274026,0.4144683589590451,0.7906522772209111,0.8066828439431201,0.37437803211157006,0.39057859726119537,0.6486546708050139,0.08354819949365067,0.32476196747196084,0.013136019600438087,0.28825754005327875,0.794659033833431,0.6335230234691897,0.7513410347914908,0.3618027777138152,0.38520064287662736,0.8964090570697505,0.41908095264595824,0.833562972379744,0.3929135731870088,0.5682072864288299,0.5281811164676392,0.4768564060821904,0.9595938099875373,0.5305938714940766,0.4685945987921062,0.6251347559725524,0.8717738738082176,0.10835959287731689,0.38930586645807796,0.4703791319753955,0.7625209077315764,0.771509969428053,0.7172004993876769,0.325564962605044,0.010702419157350374,0.31604630459472904,0.08405909246910648,0.21723079688836155,0.018149948648739755,0.7296222447201921,0.07191524117123493,0.45861816924688403,0.9583766938296854,0.14258495411595573,0.060183040283637856,0.6085919176096648,0.6909011823051653,0.7145436511901079,0.5165151402984077,0.014119369834029838,0.12869716806391895,0.19124057727682175,0.9211664362700253,0.5473387474768088,0.13133462624338532,0.373345187865467,0.46933476783533745,0.03298794474774691,0.06942796925506889,0.20162324336470872,0.36983993316114916,0.07853877931379782,0.1418951757584458,0.3413456901754055,0.9761851782002487,0.00030317340937624504,0.9133942950871646,0.4322351917349,0.2807159652732917,0.45820694877471957,0.1792824509280646,0.5323838379416604,0.6550557408945652,0.9835018678727436,0.6389525227298424,0.0670738288469338,0.06025725744939325,0.5461085978163349,0.8411306642658242,0.8123924705499546,0.6517758939982503,0.6017196050965964,0.4919125675133985,0.4417017658461192,0.45682945111084994,0.7424407779727048,0.22413989268085022,0.5729644949588137,0.17429921304274087,0.9904609816608673,0.3704517861018646,0.7062951948047476,0.3824658584064957,0.9267166205287951,0.42207877043999875,0.8835359729095963,0.1546337649223114,0.7974471403572175,0.5851933912518069,0.817557582155995,0.6573218798201661,0.8852587671095081,0.9870065680135902,0.5374101134393856,0.9029038750128898,0.6673771211708842,0.6161755109531746,0.5355721115241954,0.9543600747393417,0.8980552936274051,0.7864121386856068,0.941134401260571,0.9382447202262931,0.14206249079228395,0.5723022081871164,0.349244975619428,0.06710706608377282,0.4405168445856339,0.6225262337952738,0.39594182032806624,0.36506309717342966,0.3581171262754621,0.017254624530002927,0.5155127668764832,0.5122493824398139,0.09686416769681727,0.999634625729417,0.3730606458116802,0.4440776207158429,0.05262014952596805,0.9794496975910382,0.3409938855143403,0.3598669351897197,0.8525922800102457,0.44861460142405407,0.7806063842033413,0.19374091963182083,0.4246369536685245,0.38657710406460943,0.5533996012887553,0.1252962348508493,0.1607853842343141,0.239048423144533,0.5289656702521838,0.7148094425752457,0.3653898787981391,0.02281733992985502,0.46109796478716436,0.2677720144390965,0.8675162703910301,0.02903451854779726,0.4081602887700939,0.9634640670243103,0.05879195627868583,0.6099273558704139,0.38431936164266967,0.9866566787605531,0.5286305306819843,0.3135497961796737,0.2685113820297441,0.06361509310509605,0.13492190740884746,0.5763136661473772,0.3167603074380746,0.8477661391371384,0.9140998520703107,0.6215671212870113,0.6944298410188944,0.9870994690553966,0.8001381735982352,0.7796824256987845,0.09419361005558913,0.3111258890416012,0.41772214569076394,0.47493955845359903,0.25638320950715476,0.9849786316205227,0.4903760467878052,0.18757024522020704,0.7642657018750358,0.8733339450278573,0.2836537116122758,0.34431719985538967,0.33004235437026264,0.29223995337532416,0.8791898606855012,0.9886842659156371,0.8035395179205503,0.9237327981268931,0.18891346274708976,0.819960180087581,0.10760981236235079,0.20851179821716515,0.18935478788593363,0.4929871197441432,0.9297378242637728,0.53384142179233,0.9471330236251991,0.6713359503039623,0.16964953722661935,0.7271099098039278,0.4493745427134983,0.2204079516237074,0.7955420025149194,0.6437838749193524,0.07805305943405827,0.16401597718089123,0.9615249724425036,0.006963200062612862,0.648091890958881,0.4453203443578003,0.08002942215891173,0.3495942475494366,0.477705096382249,0.06762281711808504,0.8547531755360559,0.27702069773841953,0.6479008496155488,0.27820158507733217,0.2657172962579176,0.46102135094225205,0.5593766830047757,0.15540950056694403,0.10452672348928305,0.6338259927211535,0.5885682651775375,0.747453725353863,0.44409828638301585,0.01004406983287498,0.9531009473636063,0.09659623556127472,0.5739989679933674,0.058441123585579846,0.5458800658613469,0.6080228559811954,0.1712989577885765,0.1102678962340432,0.701454051770555,0.5816768613914621,0.42251774537258757,0.7125121521913151,0.20202920438358296,0.748788763707652,0.06807742522252203,0.4622190142239734,0.73652088378905,0.9534281147701842,0.11039111117322498,0.5615997670161611,0.9051423901843423,0.7982162992550407,0.5818554070558318,0.9338563672190853,0.5502858409444913,0.4065330275844884,0.5374526769933108,0.9648168304285867,0.3353403564671942,0.9363583480432777,0.5228226926178607,0.3447301609371637,0.06100925537455082,0.5349082931981893,0.5352982303308877,0.7171198900835121,0.7873534230548276,0.08962069155887176,0.5968475080520587,0.2892378641804314,0.27388640667655906,0.4470056908306149,0.11663795193420123,0.008754826720444364,0.5104319050788991,0.9616375560964744,0.42118116626121127,0.43579128492150954,0.9633127186240148,0.3074055162170739,0.5112820685598909,0.15444127746357894,0.11907180675130569,0.05508951217881031,0.884543075009675,0.8174366583549456,0.10053570808715273,0.9035694071336231,0.2204442130915959,0.08900248492215201,0.9299810108286299,0.691006298657531,0.16710618337542105,0.7331461338351877,0.942195691209622,0.6152820941444018,0.37346605098055885,0.850247517544087,0.8418878570334716,0.28019040235701476,0.4178656995538955,0.564568259051024,0.07782840564323568,0.1872765017673036,0.9345158624912729,0.6068581205976334,0.12248562081637304,0.23936067465364597,0.934735245441862,0.5694114556809954,0.6290494365856175,0.6956618494485045,0.5085752984335247,0.7290726375323119,0.8454910088320163,0.8592647750350096,0.378464500901433,0.48561466928182717,0.37804946077564017,0.7865146254941857,0.6197731604612512,0.4291647907239713,0.2751747742280729,0.20856742388591587,0.09310512775637358,0.08312284985544338,0.2998515588241517,0.22233865435405953,0.28897906269666895,0.41488269078826556,0.9822699971394715,0.26025802039395296,0.0868044568076316,0.5566674053707847,0.09625245537810656,0.7634393856837037,0.9751555213737917,0.683439370615835,0.7219746461114971,0.4191181020723994,0.6500640342168288,0.5758738498836735,0.04932940168326605,0.8218537470910853,0.3616734975067415,0.5009329035110617,0.862973588518259,0.4028167068120625,0.744791179306037,0.8376039167630619,0.6906388034697186,0.6113656154806906,0.8226785542459804,0.8437100002006139,0.14913496437481089,0.13693604945190185,0.33219364938403817,0.51900459702323,0.4458892129556966,0.4961079321438634,0.5456507910081954,0.3997983177058224,0.9766107042223748,0.2985966379724445,0.40851109702633914,0.1945224100617332,0.26642091630560405,0.4105567021070139,0.4327172944221632,0.20857684690111677,0.9118082496815091,0.9915729016189752,0.8470220068258245,0.6188118557477778,0.7315997111872039,0.04001656640536222,0.6082299631351916,0.793182227153617,0.0837339905033887,0.28098266059128885,0.1900639780840948,0.8007233683912514,0.16048612292448972,0.9603206859832636,0.219538109997509,0.6996671940478579,0.8990830765491142,0.7313707030702368,0.364777087981489,0.19961876059291717,0.5358627462321318,0.15241909709722246,0.6299474445905804,0.8502825126614615,0.6565776256775651,0.843070493888878,0.5872427197047337,0.9993036394506484,0.9167048741841608,0.7194908466520853,0.0965919032462138,0.43119335887510135,0.0037835374349567408,0.8006632048277363,0.6011495049637832,0.8368320498899036,0.6036425561424797,0.616373349075124,0.7933311590444835,0.7233760295535275,0.3450727363054634,0.9304761648063066,0.2556728188799581,0.06998393941837777,0.8464633920406109,0.9950756257944926,0.8655920292799308,0.579884625924684,0.10820599048976631,0.6223174775919074,0.9308392537965229,0.4617687036565673,0.650967216190697,0.1882087509042225,0.7625183603372997,0.039557097765844484,0.4586670122940597,0.09756393657245555,0.7361342296329364,0.9539660342888987,0.9127475941624053,0.7778403952973866,0.5305685381829232,0.7557123201908936,0.8545003875974136,0.26601648939892897,0.6578824436222708,0.3059859468826329,0.6744982305252627,0.207843468490022,0.21297112066956247,0.5476485322175455,0.6744507186980152,0.34191008198102846,0.8991266532213605,0.7593782939163162,0.29592452889639775,0.19817212385349348,0.38816358335112344,0.23977176790521182,0.6478320723366655,0.0662850816034748,0.22550252713547103,0.1405621333530589,0.6197391400195718,0.6048985370625779,0.24348435903863574,0.04235188248106181,0.10047345797701646,0.5401680997804047,0.5419395449678162,0.17226744698057994,0.5595820199672272,0.31496196084431427,0.3670810295634276,0.7862730463479397,0.34173998316077336,0.2738438964497546,0.689629368117104,0.2501534432930429,0.1633616035809229,0.9120113956423189,0.17410490935329892,0.12380147717881185,0.6019848545510862,0.01326601274292638,0.6620542433260023,0.8534575771442359,0.09181298731760423,0.9983300423430759,0.39379903580666686,0.9950396715343054,0.12535356379094387,0.9751945897604608,0.6070535276544163,0.8138037746060238,0.9094834630949389],\"y\":[0.007041673781370328,0.8572059426236054,0.9567853045015252,0.2859652339407478,0.3215568542676456,0.5185976359990297,0.21731184316516305,0.24103223479238756,0.7677803578255308,0.030596697622326863,0.11745952853434038,0.17926473616584038,0.0770125869239886,0.4573562142638513,0.9427985429732655,0.6728577722639177,0.2389825165988685,0.4089542976507081,0.7678540914719376,0.36291511628528483,0.2714008929798072,0.5444865126951842,0.38852619670951194,0.13780520381805728,0.3344505251829841,0.5351189348696493,0.5293351686680784,0.20280661501813968,0.673023112232083,0.36396160345180384,0.6161204526835968,0.9515543276778075,0.3186059270463619,0.6942149322185206,0.20844140316368687,0.13861061899192495,0.5728692306935648,0.17745971939680127,0.310666217204112,0.8724542195933793,0.23052513661520246,0.7296059853112371,0.7978345379789936,0.002880649839542282,0.6197958712184325,0.2458931996752458,0.04190732824472165,0.12518971184006566,0.6878447395477335,0.10490374820175208,0.3730399388564306,0.19793916996554473,0.8424249215469044,0.7698720678927493,0.17664176161436596,0.3828849533932813,0.131293015552981,0.3475778368897957,0.85389270243234,0.704662949951311,0.7318481058604406,0.1584232627917217,0.24858426313131732,0.7068409703356284,0.49104353161887315,0.2581767477582596,0.7845928094270769,0.9587096010962564,0.5481271329851666,0.721140894388558,0.9727491019363549,0.8366123872429537,0.13573845090867576,0.3884920254427623,0.4808899754701548,0.11789676107952884,0.2929783217424956,0.33694666334866363,0.23798865615229414,0.3093419122048321,0.7730883468692992,0.46667880538316364,0.8355001096838811,0.028217341362020143,0.5268657152672953,0.8465078029223182,0.10234300201765512,0.4174775929104908,0.6280235546657575,0.17424952150850648,0.5410968152242355,0.3757872157494272,0.6620749042711419,0.3202476774373577,0.6150357047555326,0.4378742666787978,0.8820644226945599,0.4208356001576081,0.24818190215946223,0.6614335299096593,0.7666334543821912,0.3922624372347715,0.9970165950680279,0.9420232376182308,0.036405834871041653,0.3940338800561577,0.8377215953114153,0.4913286141596144,0.3462321591582155,0.7146296309869956,0.9515621400156462,0.07703488470081366,0.19758879837885213,0.1972179076725442,0.22142498698893875,0.16241286036772062,0.5295545043873527,0.5278747725584927,0.7557419083557402,0.988405019270477,0.22383624590207052,0.8032814640804951,0.3086162690756723,0.49723682296282157,0.7296385675189742,0.11698204946555868,0.5880048066395241,0.37750186163625843,0.9484555217099077,0.3995502836776519,0.4425142720734304,0.5073850721133114,0.481031931937953,0.9528732048303228,0.4010554853194709,0.569668435454265,0.37609765811649354,0.4366303126832304,0.023771150621412995,0.3394513869234075,0.9039706048901853,0.7545721300761943,0.2153458630542664,0.29032083719769364,0.3212152040857805,0.8658295430086054,0.017463468283998584,0.5188413201900289,0.7167688521434837,0.0194892093112623,0.3446077850707967,0.9028031954160407,0.7249982926895673,0.09735138452215975,0.666001617899052,0.4495822113781849,0.8001390381747999,0.21328803597124435,0.3831849168533308,0.23114269105398488,0.8954476961304751,0.06710118104373863,0.5377222981131486,0.9015414795943312,0.647856686967797,0.07533743610344468,0.2969096157148189,0.5699419791514312,0.42897805438092385,0.41729999950298324,0.010734132953705067,0.061511229203612294,0.14829901852269434,0.1725620202265543,0.22446011446452507,0.34768590056371684,0.6214298028985086,0.4261973236948289,0.7820042455122346,0.143103974000782,0.8032634152226727,0.09547870179572593,0.8076471683159527,0.4416814249705453,0.37109538009558884,0.06797680199838452,0.7151806214161167,0.7549556664749204,0.8326767756666738,0.7328515093248218,0.19217905365202925,0.14265233645428177,0.22485622524644933,0.3286197546022047,0.3527627866047871,0.3612026296275257,0.055717639248416106,0.3588749543985418,0.040290489396677565,0.898962829975547,0.4566366150860648,0.17550966347124464,0.26104821243965803,0.8697383852828622,0.039580507637466567,0.39256732805963035,0.607390461492874,0.8799561215515656,0.7130559894492017,0.8054134621280377,0.849245014213635,0.6281854640019898,0.09959583552922113,0.2415999299320667,0.37191307861769396,0.5487902869716255,0.18141546614416637,0.15724445159339462,0.5051103443017967,0.4520508926167961,0.47356574332746204,0.6011507750863234,0.1833654932832094,0.9217846174047575,0.8648716979573783,0.5644768686522574,0.6192717134883472,0.8650690222994577,0.9820504668420243,0.6879422897926807,0.41268649837633953,0.670348623251513,0.07512943150776186,0.5818606060997472,0.5384898295969883,0.6668293141254317,0.5004358390396239,0.4122897181897418,0.6839788206524607,0.4624942906694157,0.9291997569071114,0.06745761182006094,0.6683231909742184,0.43973328370894815,0.6411253147213799,0.11550551079655924,0.12448449786570892,0.49121562020642584,0.9803073580904469,0.3272638214727541,0.50241978592685,0.9180626340104822,0.9128457270763038,0.44107498755196695,0.4746603896692383,0.898888797897465,0.9557449435725943,0.12650026065806208,0.03431774633462836,0.5789553705981412,0.7343824082542011,0.6186709237509921,0.6977168790180531,0.6724137736249265,0.29842238630830775,0.8883191575822466,0.7909481702305864,0.17116436881968178,0.7533932686096455,0.48192005362342394,0.10704082164052253,0.43751285710799115,0.4823249784326743,0.6419998119926503,0.996594556059915,0.9130271632924778,0.10330971037420189,0.20194420817896197,0.46335154604922224,0.7310125131911365,0.7679070868072021,0.1612402142798679,0.6393095666074604,0.7522593590505736,0.7999665807684062,0.4482645419946497,0.8090466366561452,0.35284367274398865,0.6726855264868942,0.7003133672771379,0.3073237895638906,0.26431789487075397,0.6484919215627475,0.24967713759414056,0.8103250989207267,0.21536779710312182,0.7524480317700587,0.6937424543178986,0.881602065304986,0.4235246832514038,0.8334018719445179,0.2934343760393563,0.8539365528537408,0.29401700306694967,0.2878366303316324,0.23077268667424344,0.6711812276278839,0.7691964952465179,0.6182135548759812,0.879496529190819,0.8171124457506763,0.24042106229236793,0.38820345667191436,0.6883923978683638,0.6502226873195168,0.45393268366977446,0.5123228310633398,0.9878688386761769,0.4462048450113414,0.3705528927473749,0.05030000525692757,0.2919585212642991,0.6215413368141416,0.3880898444821742,0.04288508080006692,0.3616511308256689,0.76050231004726,0.5346213812671883,0.8104240718613569,0.765890289879858,0.27623324761678536,0.1013129554721115,0.273558671281688,0.9864389775419677,0.5776602011262815,0.9324137640837775,0.8071011381915324,0.606295486072805,0.7673262937049744,0.1392186693624694,0.6981215090726378,0.047333847123760875,0.4570414039160756,0.42517378968465813,0.7877539615436036,0.9293186059025172,0.016731196069164955,0.7328548298887991,0.937091538879058,0.5543456696043548,0.7820468260948702,0.5596074992358854,0.332142471515934,0.3203922440227367,0.8979400272276172,0.1353007581588599,0.012770327213383337,0.5119732964524157,0.7982209115407497,0.8312715381923759,0.9375260977778838,0.19997863617419076,0.9321981861402896,0.44082893460533,0.717825325110751,0.9782048365379954,0.9858960205316951,0.021088756143739507,0.04669560303102804,0.07682205539231679,0.1057297212781253,0.8793878458012908,0.21911516930778796,0.005163066576653996,0.1567150823706056,0.9171618555150165,0.979905840595304,0.14635745945615353,0.21117353211529788,0.23165358860770946,0.3604267078926311,0.2890678644379413,0.8326355184209143,0.09476344391289082,0.4987631185997401,0.08676783355254158,0.6008499688143837,0.7146054589175762,0.36077279249760397,0.9148787243319493,0.3927217659099129,0.17380825691805657,0.3947419404628768,0.034963251609515744,0.3503756631803313,0.1370902097755401,0.9954716126591546,0.8841137237648276,0.8015346308681099,0.03143070763547828,0.44413784262915224,0.3295041035825669,0.9357022599116613,0.10492575314304109,0.3770431807058082,0.712031098966861,0.6190622774108876,0.31596639867947374,0.518765460643619,0.3431315224580832,0.9042360251440388,0.8626761763823988,0.5305768272948614,0.44439243446928467,0.6236028203949393,0.005003754413141381,0.9081455960502771,0.6005408416024873,0.6092639604354047,0.07095177082607373,0.9572987080866776,0.36442292275699206,0.3258781289625886,0.9358551794545673,0.15272764392957527,0.9867743325465669,0.9884895088104981,0.4622277951687107,0.8559232388336881,0.5025507099434472,0.8877690431255283,0.6074296459052366,0.569190359712347,0.9261749762123477,0.9483597442151246,0.32863347447176683,0.5776571205511208,0.14188061163282717,0.13668524677360505,0.690295882233868,0.101282208480445,0.7372869540285774,0.3957282467160057,0.07895077887465651,0.344555113212502,0.9813741543876343,0.26586266612383525,0.8584442184089897,0.8920423940345392,0.09381043638768805,0.1367632941529514,0.02078154183282921,0.4007779788949527,0.7560441869264996,0.48981335669959547,0.8711541862798217,0.007179811853318618,0.8223343721191013,0.8346176268048473,0.37106021836151426,0.816749238140424,0.6427927394823496,0.9174702965844033,0.6835224026875047,0.0858597843949983,0.47272800522420466,0.4613997294112865,0.80960997219593,0.19161681758193827,0.39555278624075196,0.36387264226545457,0.196496103221509,0.06884662463350977,0.48205990433132007,0.10524787417567161,0.7985369050746386,0.036821563992317397,0.5081107915027328,0.2753519832923538,0.49552010114514644,0.41929134370593457,0.5131478655355747,0.827437043353378,0.6883366237870184,0.0769957107653838,0.0622191750234925,0.2082022899899073,0.6733724480569894,0.5917962525825151,0.32799021486554336,0.32812674134438913,0.1678534539405384,0.7449608794130665,0.14363072199950988,0.9505070683123142,0.3164203868310076,0.3965489493426324,0.22164558923973443,0.19415784273438474,0.13925715185985454]},\"selected\":{\"id\":\"1370\",\"type\":\"Selection\"},\"selection_policy\":{\"id\":\"1378\",\"type\":\"UnionRenderers\"}},\"id\":\"1278\",\"type\":\"ColumnDataSource\"},{\"attributes\":{\"callback\":null,\"data\":{\"x\":[],\"y\":[]},\"selected\":{\"id\":\"1380\",\"type\":\"Selection\"},\"selection_policy\":{\"id\":\"1381\",\"type\":\"UnionRenderers\"}},\"id\":\"1279\",\"type\":\"ColumnDataSource\"},{\"attributes\":{},\"id\":\"1290\",\"type\":\"LinearScale\"},{\"attributes\":{\"source\":{\"id\":\"1279\",\"type\":\"ColumnDataSource\"}},\"id\":\"1340\",\"type\":\"CDSView\"},{\"attributes\":{},\"id\":\"1395\",\"type\":\"BasicTickFormatter\"},{\"attributes\":{},\"id\":\"1381\",\"type\":\"UnionRenderers\"},{\"attributes\":{\"formatter\":{\"id\":\"1389\",\"type\":\"BasicTickFormatter\"},\"ticker\":{\"id\":\"1324\",\"type\":\"BasicTicker\"}},\"id\":\"1323\",\"type\":\"LinearAxis\"},{\"attributes\":{\"fill_alpha\":{\"value\":0.1},\"fill_color\":{\"value\":\"#1f77b4\"},\"line_alpha\":{\"value\":0.1},\"line_color\":{\"value\":\"#1f77b4\"},\"x\":{\"field\":\"x\"},\"y\":{\"field\":\"y\"}},\"id\":\"1367\",\"type\":\"Circle\"},{\"attributes\":{\"active_drag\":\"auto\",\"active_inspect\":\"auto\",\"active_multi\":null,\"active_scroll\":\"auto\",\"active_tap\":\"auto\",\"tools\":[{\"id\":\"1302\",\"type\":\"LassoSelectTool\"},{\"id\":\"1303\",\"type\":\"ResetTool\"}]},\"id\":\"1304\",\"type\":\"Toolbar\"},{\"attributes\":{},\"id\":\"1389\",\"type\":\"BasicTickFormatter\"},{\"attributes\":{\"toolbar\":{\"id\":\"1402\",\"type\":\"ProxyToolbar\"},\"toolbar_location\":\"above\"},\"id\":\"1403\",\"type\":\"ToolbarBox\"},{\"attributes\":{},\"id\":\"1303\",\"type\":\"ResetTool\"},{\"attributes\":{},\"id\":\"1324\",\"type\":\"BasicTicker\"},{\"attributes\":{\"js_property_callbacks\":{\"change:indices\":[{\"id\":\"1371\",\"type\":\"CustomJS\"}]}},\"id\":\"1370\",\"type\":\"Selection\"},{\"attributes\":{\"data_source\":{\"id\":\"1278\",\"type\":\"ColumnDataSource\"},\"glyph\":{\"id\":\"1308\",\"type\":\"Circle\"},\"hover_glyph\":null,\"muted_glyph\":null,\"nonselection_glyph\":{\"id\":\"1309\",\"type\":\"Circle\"},\"selection_glyph\":null,\"view\":{\"id\":\"1311\",\"type\":\"CDSView\"}},\"id\":\"1310\",\"type\":\"GlyphRenderer\"},{\"attributes\":{},\"id\":\"1397\",\"type\":\"BasicTickFormatter\"},{\"attributes\":{\"formatter\":{\"id\":\"1387\",\"type\":\"BasicTickFormatter\"},\"ticker\":{\"id\":\"1329\",\"type\":\"BasicTicker\"}},\"id\":\"1328\",\"type\":\"LinearAxis\"},{\"attributes\":{},\"id\":\"1382\",\"type\":\"Selection\"},{\"attributes\":{\"dimension\":1,\"ticker\":{\"id\":\"1329\",\"type\":\"BasicTicker\"}},\"id\":\"1332\",\"type\":\"Grid\"},{\"attributes\":{\"callback\":null},\"id\":\"1344\",\"type\":\"Range1d\"},{\"attributes\":{},\"id\":\"1298\",\"type\":\"BasicTicker\"},{\"attributes\":{\"fill_alpha\":{\"value\":0.3},\"fill_color\":{\"value\":\"firebrick\"},\"line_alpha\":{\"value\":0.3},\"line_color\":{\"value\":\"firebrick\"},\"x\":{\"field\":\"x\"},\"y\":{\"field\":\"y\"}},\"id\":\"1366\",\"type\":\"Circle\"},{\"attributes\":{\"ticker\":{\"id\":\"1353\",\"type\":\"BasicTicker\"}},\"id\":\"1356\",\"type\":\"Grid\"},{\"attributes\":{\"data_source\":{\"id\":\"1280\",\"type\":\"ColumnDataSource\"},\"glyph\":{\"id\":\"1366\",\"type\":\"Circle\"},\"hover_glyph\":null,\"muted_glyph\":null,\"nonselection_glyph\":{\"id\":\"1367\",\"type\":\"Circle\"},\"selection_glyph\":null,\"view\":{\"id\":\"1369\",\"type\":\"CDSView\"}},\"id\":\"1368\",\"type\":\"GlyphRenderer\"},{\"attributes\":{\"tools\":[{\"id\":\"1302\",\"type\":\"LassoSelectTool\"},{\"id\":\"1303\",\"type\":\"ResetTool\"},{\"id\":\"1333\",\"type\":\"SaveTool\"},{\"id\":\"1362\",\"type\":\"SaveTool\"}]},\"id\":\"1402\",\"type\":\"ProxyToolbar\"},{\"attributes\":{\"callback\":null},\"id\":\"1346\",\"type\":\"Range1d\"},{\"attributes\":{},\"id\":\"1329\",\"type\":\"BasicTicker\"},{\"attributes\":{\"ticker\":{\"id\":\"1293\",\"type\":\"BasicTicker\"}},\"id\":\"1296\",\"type\":\"Grid\"},{\"attributes\":{\"active_drag\":\"auto\",\"active_inspect\":\"auto\",\"active_multi\":null,\"active_scroll\":\"auto\",\"active_tap\":\"auto\",\"tools\":[{\"id\":\"1333\",\"type\":\"SaveTool\"}]},\"id\":\"1334\",\"type\":\"Toolbar\"},{\"attributes\":{},\"id\":\"1348\",\"type\":\"LinearScale\"},{\"attributes\":{},\"id\":\"1333\",\"type\":\"SaveTool\"},{\"attributes\":{\"children\":[[{\"id\":\"1281\",\"subtype\":\"Figure\",\"type\":\"Plot\"},0,0],[{\"id\":\"1312\",\"subtype\":\"Figure\",\"type\":\"Plot\"},0,1],[{\"id\":\"1341\",\"subtype\":\"Figure\",\"type\":\"Plot\"},1,1]]},\"id\":\"1401\",\"type\":\"GridBox\"},{\"attributes\":{\"text\":\"Watch First Graph Here\"},\"id\":\"1313\",\"type\":\"Title\"},{\"attributes\":{\"callback\":null,\"data\":{\"x\":[],\"y\":[]},\"selected\":{\"id\":\"1382\",\"type\":\"Selection\"},\"selection_policy\":{\"id\":\"1383\",\"type\":\"UnionRenderers\"}},\"id\":\"1280\",\"type\":\"ColumnDataSource\"},{\"attributes\":{\"below\":[{\"id\":\"1292\",\"type\":\"LinearAxis\"}],\"center\":[{\"id\":\"1296\",\"type\":\"Grid\"},{\"id\":\"1301\",\"type\":\"Grid\"}],\"left\":[{\"id\":\"1297\",\"type\":\"LinearAxis\"}],\"plot_height\":400,\"plot_width\":400,\"renderers\":[{\"id\":\"1310\",\"type\":\"GlyphRenderer\"}],\"title\":{\"id\":\"1282\",\"type\":\"Title\"},\"toolbar\":{\"id\":\"1304\",\"type\":\"Toolbar\"},\"toolbar_location\":null,\"x_range\":{\"id\":\"1284\",\"type\":\"DataRange1d\"},\"x_scale\":{\"id\":\"1288\",\"type\":\"LinearScale\"},\"y_range\":{\"id\":\"1286\",\"type\":\"DataRange1d\"},\"y_scale\":{\"id\":\"1290\",\"type\":\"LinearScale\"}},\"id\":\"1281\",\"subtype\":\"Figure\",\"type\":\"Plot\"},{\"attributes\":{},\"id\":\"1350\",\"type\":\"LinearScale\"},{\"attributes\":{\"source\":{\"id\":\"1280\",\"type\":\"ColumnDataSource\"}},\"id\":\"1369\",\"type\":\"CDSView\"},{\"attributes\":{\"callback\":null},\"id\":\"1284\",\"type\":\"DataRange1d\"},{\"attributes\":{\"fill_alpha\":{\"value\":0.6},\"fill_color\":{\"value\":\"forestgreen\"},\"line_alpha\":{\"value\":0.6},\"line_color\":{\"value\":\"forestgreen\"},\"x\":{\"field\":\"x\"},\"y\":{\"field\":\"y\"}},\"id\":\"1337\",\"type\":\"Circle\"},{\"attributes\":{},\"id\":\"1378\",\"type\":\"UnionRenderers\"},{\"attributes\":{\"formatter\":{\"id\":\"1374\",\"type\":\"BasicTickFormatter\"},\"ticker\":{\"id\":\"1298\",\"type\":\"BasicTicker\"}},\"id\":\"1297\",\"type\":\"LinearAxis\"},{\"attributes\":{\"formatter\":{\"id\":\"1397\",\"type\":\"BasicTickFormatter\"},\"ticker\":{\"id\":\"1353\",\"type\":\"BasicTicker\"}},\"id\":\"1352\",\"type\":\"LinearAxis\"},{\"attributes\":{\"args\":{\"s1\":{\"id\":\"1278\",\"type\":\"ColumnDataSource\"},\"s2\":{\"id\":\"1279\",\"type\":\"ColumnDataSource\"},\"s3\":{\"id\":\"1280\",\"type\":\"ColumnDataSource\"}},\"code\":\"\\n        var inds = cb_obj.indices;\\n        var d1 = s1.data;\\n        \\n        // data for 2nd graph\\n        var d2 = s2.data;     \\n        d2['x'] = []\\n        d2['y'] = []     \\n \\n        for (var i = 0; i < inds.length; i++) {\\n            d2['x'].push(d1['x'][inds[i]])\\n            d2['y'].push(d1['y'][inds[i]])\\n        }\\n        \\n        // data for 3rd graph\\n        var d3 = s3.data;\\n        d3['x'] = []\\n        d3['y'] = []\\n        d3['x'] = d1['x'].filter(x => !d2['x'].includes(x));\\n        d3['y'] = d1['y'].filter(y => !d2['y'].includes(y));\\n        \\n        s2.change.emit();\\n        s3.change.emit();\\n    \"},\"id\":\"1371\",\"type\":\"CustomJS\"},{\"attributes\":{\"dimension\":1,\"ticker\":{\"id\":\"1298\",\"type\":\"BasicTicker\"}},\"id\":\"1301\",\"type\":\"Grid\"},{\"attributes\":{\"source\":{\"id\":\"1278\",\"type\":\"ColumnDataSource\"}},\"id\":\"1311\",\"type\":\"CDSView\"},{\"attributes\":{},\"id\":\"1376\",\"type\":\"BasicTickFormatter\"},{\"attributes\":{},\"id\":\"1293\",\"type\":\"BasicTicker\"},{\"attributes\":{\"fill_alpha\":{\"value\":0.4},\"fill_color\":{\"value\":\"#1f77b4\"},\"line_alpha\":{\"value\":0.4},\"line_color\":{\"value\":\"#1f77b4\"},\"x\":{\"field\":\"x\"},\"y\":{\"field\":\"y\"}},\"id\":\"1308\",\"type\":\"Circle\"},{\"attributes\":{},\"id\":\"1353\",\"type\":\"BasicTicker\"},{\"attributes\":{\"fill_alpha\":{\"value\":0.5},\"fill_color\":{\"value\":\"lightgrey\"},\"level\":\"overlay\",\"line_alpha\":{\"value\":1.0},\"line_color\":{\"value\":\"black\"},\"line_dash\":[4,4],\"line_width\":{\"value\":2},\"xs_units\":\"screen\",\"ys_units\":\"screen\"},\"id\":\"1379\",\"type\":\"PolyAnnotation\"},{\"attributes\":{\"below\":[{\"id\":\"1352\",\"type\":\"LinearAxis\"}],\"center\":[{\"id\":\"1356\",\"type\":\"Grid\"},{\"id\":\"1361\",\"type\":\"Grid\"}],\"left\":[{\"id\":\"1357\",\"type\":\"LinearAxis\"}],\"plot_height\":400,\"plot_width\":400,\"renderers\":[{\"id\":\"1368\",\"type\":\"GlyphRenderer\"}],\"title\":{\"id\":\"1342\",\"type\":\"Title\"},\"toolbar\":{\"id\":\"1363\",\"type\":\"Toolbar\"},\"toolbar_location\":null,\"x_range\":{\"id\":\"1344\",\"type\":\"Range1d\"},\"x_scale\":{\"id\":\"1348\",\"type\":\"LinearScale\"},\"y_range\":{\"id\":\"1346\",\"type\":\"Range1d\"},\"y_scale\":{\"id\":\"1350\",\"type\":\"LinearScale\"}},\"id\":\"1341\",\"subtype\":\"Figure\",\"type\":\"Plot\"},{\"attributes\":{\"formatter\":{\"id\":\"1376\",\"type\":\"BasicTickFormatter\"},\"ticker\":{\"id\":\"1293\",\"type\":\"BasicTicker\"}},\"id\":\"1292\",\"type\":\"LinearAxis\"},{\"attributes\":{},\"id\":\"1374\",\"type\":\"BasicTickFormatter\"},{\"attributes\":{\"formatter\":{\"id\":\"1395\",\"type\":\"BasicTickFormatter\"},\"ticker\":{\"id\":\"1358\",\"type\":\"BasicTicker\"}},\"id\":\"1357\",\"type\":\"LinearAxis\"},{\"attributes\":{\"dimension\":1,\"ticker\":{\"id\":\"1358\",\"type\":\"BasicTicker\"}},\"id\":\"1361\",\"type\":\"Grid\"}],\"root_ids\":[\"1404\"]},\"title\":\"Bokeh Application\",\"version\":\"1.3.4\"}};\n",
       "  var render_items = [{\"docid\":\"f25c769a-c764-4f09-ad26-ab6a6a6ceeca\",\"roots\":{\"1404\":\"3ff8ad54-041c-49e3-8ae6-43af24e4fa98\"}}];\n",
       "  root.Bokeh.embed.embed_items_notebook(docs_json, render_items);\n",
       "\n",
       "  }\n",
       "  if (root.Bokeh !== undefined) {\n",
       "    embed_document(root);\n",
       "  } else {\n",
       "    var attempts = 0;\n",
       "    var timer = setInterval(function(root) {\n",
       "      if (root.Bokeh !== undefined) {\n",
       "        embed_document(root);\n",
       "        clearInterval(timer);\n",
       "      }\n",
       "      attempts++;\n",
       "      if (attempts > 100) {\n",
       "        console.log(\"Bokeh: ERROR: Unable to run BokehJS code because BokehJS library is missing\");\n",
       "        clearInterval(timer);\n",
       "      }\n",
       "    }, 10, root)\n",
       "  }\n",
       "})(window);"
      ],
      "application/vnd.bokehjs_exec.v0+json": ""
     },
     "metadata": {
      "application/vnd.bokehjs_exec.v0+json": {
       "id": "1404"
      }
     },
     "output_type": "display_data"
    }
   ],
   "source": [
    "from random import random\n",
    "\n",
    "from bokeh.layouts import row\n",
    "from bokeh.models import CustomJS, ColumnDataSource\n",
    "from bokeh.plotting import figure, output_file, show\n",
    "\n",
    "# output_file(\"callback.html\")\n",
    "\n",
    "x = [random() for x in range(500)]\n",
    "y = [random() for y in range(500)]\n",
    "\n",
    "s1 = ColumnDataSource(data=dict(x=x, y=y))\n",
    "s2 = ColumnDataSource(data=dict(x=[], y=[]))\n",
    "s3 = ColumnDataSource(data=dict(x=[], y=[]))\n",
    "\n",
    "p1 = figure(plot_width=400, plot_height=400, tools=[\"lasso_select\", \"reset\"], title=\"Select Here\")\n",
    "p1.circle('x', 'y', source=s1, alpha=0.4)\n",
    "\n",
    "p2 = figure(plot_width=400, plot_height=400, x_range=(0, 1), y_range=(0, 1),\n",
    "            tools=\"save\", title=\"Watch First Graph Here\")\n",
    "p2.circle('x', 'y', source=s2, color=\"forestgreen\", alpha=0.6)\n",
    "\n",
    "p3 = figure(plot_width=400, plot_height=400, x_range=(0, 1), y_range=(0, 1),\n",
    "            tools=\"save\", title=\"Watch Second Mirror Graph Here\")\n",
    "p3.circle('x', 'y', source=s3, color=\"firebrick\", alpha=0.3)\n",
    "\n",
    "\n",
    "s1.selected.js_on_change('indices', CustomJS(args=dict(s1=s1, s2=s2, s3=s3), code=\"\"\"\n",
    "        var inds = cb_obj.indices;\n",
    "        var d1 = s1.data;\n",
    "        \n",
    "        // data for 2nd graph\n",
    "        var d2 = s2.data;     \n",
    "        d2['x'] = []\n",
    "        d2['y'] = []     \n",
    " \n",
    "        for (var i = 0; i < inds.length; i++) {\n",
    "            d2['x'].push(d1['x'][inds[i]])\n",
    "            d2['y'].push(d1['y'][inds[i]])\n",
    "        }\n",
    "        \n",
    "        // data for 3rd graph\n",
    "        var d3 = s3.data;\n",
    "        d3['x'] = []\n",
    "        d3['y'] = []\n",
    "        d3['x'] = d1['x'].filter(x => !d2['x'].includes(x));\n",
    "        d3['y'] = d1['y'].filter(y => !d2['y'].includes(y));\n",
    "        \n",
    "        s2.change.emit();\n",
    "        s3.change.emit();\n",
    "    \"\"\")\n",
    ")\n",
    "\n",
    "# layout = column(row(p1, p2), p3)\n",
    "# show(layout)\n",
    "\n",
    "grid = gridplot([[p1, p2], [None, p3]])\n",
    "show(grid)"
   ]
  },
  {
   "cell_type": "markdown",
   "metadata": {},
   "source": [
    "# Server Based Plotting\n",
    "\n",
    "### why use a server?\n",
    "- data >> local machine or notebook<br><br>\n",
    "\n",
    "-- create deployable apps<br><br>\n",
    "\n",
    "- need to sync between python and the end user:<br>\n",
    "-- respond to browser events with computations or queries using python<br>\n",
    "-- automatically push updates the UI browser<br>\n",
    "-- streaming (periodic, timeout, and async callbacks)<br><br>\n",
    "\n",
    "- Bokeh's reactive client-server model can trigger server-side code\n",
    "- server supports automatic downsampling"
   ]
  },
  {
   "cell_type": "markdown",
   "metadata": {
    "slideshow": {
     "slide_type": "slide"
    }
   },
   "source": [
    "# [link to Example 4 - working with Streaming Data](http://localhost:8888/notebooks/notebooks/03_bokeh_with_streaming_data.ipynb)"
   ]
  },
  {
   "cell_type": "markdown",
   "metadata": {
    "slideshow": {
     "slide_type": "slide"
    }
   },
   "source": [
    "# bokeh resources\n",
    "\n",
    "[bokeh cheat sheet](https://datacamp-community-prod.s3.amazonaws.com/f9511cf4-abb9-4f52-9663-ea93b29ee4b7)"
   ]
  }
 ],
 "metadata": {
  "celltoolbar": "Slideshow",
  "kernelspec": {
   "display_name": "Python 3",
   "language": "python",
   "name": "python3"
  },
  "language_info": {
   "codemirror_mode": {
    "name": "ipython",
    "version": 3
   },
   "file_extension": ".py",
   "mimetype": "text/x-python",
   "name": "python",
   "nbconvert_exporter": "python",
   "pygments_lexer": "ipython3",
   "version": "3.7.4"
  }
 },
 "nbformat": 4,
 "nbformat_minor": 2
}
